{
 "cells": [
  {
   "cell_type": "markdown",
   "metadata": {
    "id": "nOV-w6fg1NQR"
   },
   "source": [
    "# Balaton Szupermaraton egyéni eredmény kiértékelés\n",
    "### Csizmazia Máté - XI32IS"
   ]
  },
  {
   "cell_type": "markdown",
   "metadata": {
    "id": "Ux5u4P3I1NQb"
   },
   "source": [
    "A Notebook témája a BSZM egyéni eredményeinek a kiértékelése lesz, amelyekből kimutatást tudunk készíteni, hogy egy adott személynek mekkora esélyei lehetnek saját tempóban befejezni a versenyt. Kimutatást tudunk készíteni, hogy egy adott korosztályba eső csoport mekkora részben fejezte be a versenyt, vagy adta fel. Mivel ez egy konkrét személynek készülő kimutatás lesz, tudjuk hogy a személy sebessége körülbelül 7:00 perc kilóméterenként, tudjuk az életkorát, és ezáltal azt is hogy melyik korcsoportba tartozik (F4), ami oszlopként már megtalálható a felhasználandó adathalmazban."
   ]
  },
  {
   "cell_type": "markdown",
   "metadata": {
    "id": "mvjqSB-n1NQc"
   },
   "source": [
    "Továbbá érdekes lehet több grafikon is mint:\n",
    "* Milyen eloszlású a jelentkezők kora\n",
    "* Milyen eloszlású a futók sebessége"
   ]
  },
  {
   "cell_type": "markdown",
   "metadata": {
    "id": "EZ_Ym9Ak1NQc"
   },
   "source": [
    "Az [adathalmazt](http://www.futanet.hu/cikk/bsi-balaton-szupermaraton-eredmenyek), már az igénylő személytől kaptam meg összesített xlsx formában, amiből éves bontásokra 2015-2020 között külön csv fájlokba exportáltam az adatokat, ezért a továbbiakban ezekkel tervezek dolgozni."
   ]
  },
  {
   "cell_type": "markdown",
   "metadata": {
    "id": "mSX-qnJR1NQc"
   },
   "source": [
    "## Adatmigráció"
   ]
  },
  {
   "cell_type": "markdown",
   "metadata": {
    "id": "8RBaHYEn1NQd"
   },
   "source": [
    "Először is be kell olvasnunk az adathalmazainkat."
   ]
  },
  {
   "cell_type": "code",
   "execution_count": 55,
   "metadata": {
    "colab": {
     "base_uri": "https://localhost:8080/"
    },
    "id": "OOIOAvXr1NQd",
    "outputId": "a66a805c-8c59-4f0b-9936-84af8bedee44"
   },
   "outputs": [],
   "source": [
    "import pandas as pd\n",
    "import numpy as np\n",
    "from datetime import timedelta\n",
    "local_path = '/Users/csizi/Development/marathon_statistics/dataset/csv/'\n",
    "\n",
    "bszm_2020 = pd.read_csv(local_path + 'BSZM_2020.csv', encoding = \"ISO-8859-1\", \n",
    "                    sep=';', header=0)\n",
    "bszm_2019 = pd.read_csv(local_path + 'BSZM_2019.csv', encoding = \"ISO-8859-1\", \n",
    "                    sep=';', header=0)\n",
    "bszm_2018 = pd.read_csv(local_path + 'BSZM_2018.csv', encoding = \"ISO-8859-1\", \n",
    "                    sep=';', header=0)\n",
    "bszm_2017 = pd.read_csv(local_path + 'BSZM_2017.csv', encoding = \"ISO-8859-1\", \n",
    "                    sep=';', header=0)\n",
    "bszm_2016 = pd.read_csv(local_path + 'BSZM_2016.csv', encoding = \"ISO-8859-1\", \n",
    "                    sep=';', header=0)\n",
    "bszm_2015 = pd.read_csv(local_path + 'BSZM_2015.csv', encoding = \"ISO-8859-1\", \n",
    "                    sep=';', header=0)"
   ]
  },
  {
   "cell_type": "code",
   "execution_count": 56,
   "metadata": {
    "id": "y20jLnVWvmXy"
   },
   "outputs": [],
   "source": [
    "bszm_osszes = pd.concat([bszm_2020, bszm_2019, bszm_2018, bszm_2017, bszm_2016, bszm_2015], ignore_index=True)"
   ]
  },
  {
   "cell_type": "markdown",
   "metadata": {
    "id": "pQGesA4n1NQd"
   },
   "source": [
    "Miutána a szükséges könyvtárjainkat és az adathalmazt is importáltuk, bele tudunk nézni, hogy milyen adatokat tartalmaz."
   ]
  },
  {
   "cell_type": "code",
   "execution_count": 57,
   "metadata": {
    "colab": {
     "base_uri": "https://localhost:8080/",
     "height": 377
    },
    "id": "L6zqbAQX1NQd",
    "outputId": "ed37f396-eb66-4891-badf-629184529282",
    "scrolled": true
   },
   "outputs": [
    {
     "data": {
      "text/html": [
       "<div>\n",
       "<style scoped>\n",
       "    .dataframe tbody tr th:only-of-type {\n",
       "        vertical-align: middle;\n",
       "    }\n",
       "\n",
       "    .dataframe tbody tr th {\n",
       "        vertical-align: top;\n",
       "    }\n",
       "\n",
       "    .dataframe thead th {\n",
       "        text-align: right;\n",
       "    }\n",
       "</style>\n",
       "<table border=\"1\" class=\"dataframe\">\n",
       "  <thead>\n",
       "    <tr style=\"text-align: right;\">\n",
       "      <th></th>\n",
       "      <th>Hely.</th>\n",
       "      <th>Név/Csapatnév</th>\n",
       "      <th>sz.év.</th>\n",
       "      <th>Kategória</th>\n",
       "      <th>Ország</th>\n",
       "      <th>Csapat</th>\n",
       "      <th>Város</th>\n",
       "      <th>nem</th>\n",
       "      <th>rajtszám</th>\n",
       "      <th>kat.h.</th>\n",
       "      <th>...</th>\n",
       "      <th>3.nap /1.idõ</th>\n",
       "      <th>3.nap/2.idõ</th>\n",
       "      <th>3.nap/3.idõ</th>\n",
       "      <th>3.nap összidõ</th>\n",
       "      <th>4.nap/1.idõ</th>\n",
       "      <th>4.nap/2.idõ</th>\n",
       "      <th>4.nap/3.idõ</th>\n",
       "      <th>4.nap összidõ</th>\n",
       "      <th>eredmény</th>\n",
       "      <th>Megtett táv (km)</th>\n",
       "    </tr>\n",
       "  </thead>\n",
       "  <tbody>\n",
       "    <tr>\n",
       "      <th>0</th>\n",
       "      <td>1.0</td>\n",
       "      <td>Beda Szabolcs</td>\n",
       "      <td>1977.0</td>\n",
       "      <td>F3</td>\n",
       "      <td>HUN</td>\n",
       "      <td>ELTE SE Sashegyi gepárdok</td>\n",
       "      <td>Budapest</td>\n",
       "      <td>F</td>\n",
       "      <td>484.0</td>\n",
       "      <td>F3 / 1</td>\n",
       "      <td>...</td>\n",
       "      <td>0:52:42</td>\n",
       "      <td>1:09:42</td>\n",
       "      <td>0:51:30</td>\n",
       "      <td>2:53:54</td>\n",
       "      <td>1:04:01</td>\n",
       "      <td>1:22:26</td>\n",
       "      <td>1:02:24</td>\n",
       "      <td>3:28:51</td>\n",
       "      <td>13:02:08</td>\n",
       "      <td>196.0</td>\n",
       "    </tr>\n",
       "    <tr>\n",
       "      <th>1</th>\n",
       "      <td>2.0</td>\n",
       "      <td>Bódis Tamás</td>\n",
       "      <td>1988.0</td>\n",
       "      <td>F1</td>\n",
       "      <td>HUN</td>\n",
       "      <td>ELTE SE Sashegyi gepárdok</td>\n",
       "      <td>Budapest</td>\n",
       "      <td>F</td>\n",
       "      <td>479.0</td>\n",
       "      <td>F1 / 1</td>\n",
       "      <td>...</td>\n",
       "      <td>0:49:17</td>\n",
       "      <td>1:07:40</td>\n",
       "      <td>0:51:25</td>\n",
       "      <td>2:48:22</td>\n",
       "      <td>1:01:41</td>\n",
       "      <td>1:20:17</td>\n",
       "      <td>1:02:09</td>\n",
       "      <td>3:24:07</td>\n",
       "      <td>13:06:48</td>\n",
       "      <td>196.0</td>\n",
       "    </tr>\n",
       "    <tr>\n",
       "      <th>2</th>\n",
       "      <td>3.0</td>\n",
       "      <td>Theisinger, Wolfgang</td>\n",
       "      <td>1982.0</td>\n",
       "      <td>F2</td>\n",
       "      <td>GER</td>\n",
       "      <td>RC Abschnitt Mitte</td>\n",
       "      <td>Regenstauf</td>\n",
       "      <td>F</td>\n",
       "      <td>511.0</td>\n",
       "      <td>F2 / 1</td>\n",
       "      <td>...</td>\n",
       "      <td>0:56:10</td>\n",
       "      <td>1:14:10</td>\n",
       "      <td>0:54:18</td>\n",
       "      <td>3:04:38</td>\n",
       "      <td>1:09:23</td>\n",
       "      <td>1:28:44</td>\n",
       "      <td>1:05:47</td>\n",
       "      <td>3:43:54</td>\n",
       "      <td>14:05:35</td>\n",
       "      <td>196.0</td>\n",
       "    </tr>\n",
       "    <tr>\n",
       "      <th>3</th>\n",
       "      <td>4.0</td>\n",
       "      <td>Strifler Attila</td>\n",
       "      <td>1986.0</td>\n",
       "      <td>F1</td>\n",
       "      <td>HUN</td>\n",
       "      <td>NaN</td>\n",
       "      <td>Gyula</td>\n",
       "      <td>F</td>\n",
       "      <td>407.0</td>\n",
       "      <td>F1 / 2</td>\n",
       "      <td>...</td>\n",
       "      <td>0:56:07</td>\n",
       "      <td>1:14:13</td>\n",
       "      <td>0:55:24</td>\n",
       "      <td>3:05:44</td>\n",
       "      <td>1:09:40</td>\n",
       "      <td>1:28:46</td>\n",
       "      <td>1:07:32</td>\n",
       "      <td>3:45:58</td>\n",
       "      <td>14:22:47</td>\n",
       "      <td>196.0</td>\n",
       "    </tr>\n",
       "    <tr>\n",
       "      <th>4</th>\n",
       "      <td>5.0</td>\n",
       "      <td>Szedlák Csaba</td>\n",
       "      <td>1978.0</td>\n",
       "      <td>F3</td>\n",
       "      <td>HUN</td>\n",
       "      <td>Vitalitás SE</td>\n",
       "      <td>Budapest</td>\n",
       "      <td>F</td>\n",
       "      <td>449.0</td>\n",
       "      <td>F3 / 2</td>\n",
       "      <td>...</td>\n",
       "      <td>0:59:34</td>\n",
       "      <td>1:17:00</td>\n",
       "      <td>1:00:59</td>\n",
       "      <td>3:17:03</td>\n",
       "      <td>1:11:29</td>\n",
       "      <td>1:31:19</td>\n",
       "      <td>1:10:47</td>\n",
       "      <td>3:53:35</td>\n",
       "      <td>14:42:39</td>\n",
       "      <td>196.0</td>\n",
       "    </tr>\n",
       "  </tbody>\n",
       "</table>\n",
       "<p>5 rows × 28 columns</p>\n",
       "</div>"
      ],
      "text/plain": [
       "   Hely.         Név/Csapatnév  sz.év. Kategória Ország  \\\n",
       "0    1.0         Beda Szabolcs  1977.0        F3    HUN   \n",
       "1    2.0           Bódis Tamás  1988.0        F1    HUN   \n",
       "2    3.0  Theisinger, Wolfgang  1982.0        F2    GER   \n",
       "3    4.0       Strifler Attila  1986.0        F1    HUN   \n",
       "4    5.0         Szedlák Csaba  1978.0        F3    HUN   \n",
       "\n",
       "                      Csapat       Város nem  rajtszám  kat.h.  ...  \\\n",
       "0  ELTE SE Sashegyi gepárdok    Budapest   F     484.0  F3 / 1  ...   \n",
       "1  ELTE SE Sashegyi gepárdok    Budapest   F     479.0  F1 / 1  ...   \n",
       "2         RC Abschnitt Mitte  Regenstauf   F     511.0  F2 / 1  ...   \n",
       "3                        NaN       Gyula   F     407.0  F1 / 2  ...   \n",
       "4               Vitalitás SE    Budapest   F     449.0  F3 / 2  ...   \n",
       "\n",
       "  3.nap /1.idõ 3.nap/2.idõ 3.nap/3.idõ 3.nap összidõ 4.nap/1.idõ 4.nap/2.idõ  \\\n",
       "0      0:52:42     1:09:42     0:51:30       2:53:54     1:04:01     1:22:26   \n",
       "1      0:49:17     1:07:40     0:51:25       2:48:22     1:01:41     1:20:17   \n",
       "2      0:56:10     1:14:10     0:54:18       3:04:38     1:09:23     1:28:44   \n",
       "3      0:56:07     1:14:13     0:55:24       3:05:44     1:09:40     1:28:46   \n",
       "4      0:59:34     1:17:00     1:00:59       3:17:03     1:11:29     1:31:19   \n",
       "\n",
       "  4.nap/3.idõ 4.nap összidõ  eredmény Megtett táv (km)  \n",
       "0     1:02:24       3:28:51  13:02:08            196.0  \n",
       "1     1:02:09       3:24:07  13:06:48            196.0  \n",
       "2     1:05:47       3:43:54  14:05:35            196.0  \n",
       "3     1:07:32       3:45:58  14:22:47            196.0  \n",
       "4     1:10:47       3:53:35  14:42:39            196.0  \n",
       "\n",
       "[5 rows x 28 columns]"
      ]
     },
     "execution_count": 57,
     "metadata": {},
     "output_type": "execute_result"
    }
   ],
   "source": [
    "bszm_osszes.head(5)"
   ]
  },
  {
   "cell_type": "code",
   "execution_count": 58,
   "metadata": {
    "colab": {
     "base_uri": "https://localhost:8080/",
     "height": 592
    },
    "id": "UX9Cm8OMFOQ9",
    "outputId": "b6271a56-e1ea-4ad9-e16b-8e241c49af7b"
   },
   "outputs": [
    {
     "data": {
      "text/html": [
       "<div>\n",
       "<style scoped>\n",
       "    .dataframe tbody tr th:only-of-type {\n",
       "        vertical-align: middle;\n",
       "    }\n",
       "\n",
       "    .dataframe tbody tr th {\n",
       "        vertical-align: top;\n",
       "    }\n",
       "\n",
       "    .dataframe thead th {\n",
       "        text-align: right;\n",
       "    }\n",
       "</style>\n",
       "<table border=\"1\" class=\"dataframe\">\n",
       "  <thead>\n",
       "    <tr style=\"text-align: right;\">\n",
       "      <th></th>\n",
       "      <th>Hely.</th>\n",
       "      <th>Név/Csapatnév</th>\n",
       "      <th>sz.év.</th>\n",
       "      <th>Kategória</th>\n",
       "      <th>Ország</th>\n",
       "      <th>Csapat</th>\n",
       "      <th>Város</th>\n",
       "      <th>nem</th>\n",
       "      <th>rajtszám</th>\n",
       "      <th>kat.h.</th>\n",
       "      <th>...</th>\n",
       "      <th>3.nap /1.idõ</th>\n",
       "      <th>3.nap/2.idõ</th>\n",
       "      <th>3.nap/3.idõ</th>\n",
       "      <th>3.nap összidõ</th>\n",
       "      <th>4.nap/1.idõ</th>\n",
       "      <th>4.nap/2.idõ</th>\n",
       "      <th>4.nap/3.idõ</th>\n",
       "      <th>4.nap összidõ</th>\n",
       "      <th>eredmény</th>\n",
       "      <th>Megtett táv (km)</th>\n",
       "    </tr>\n",
       "  </thead>\n",
       "  <tbody>\n",
       "    <tr>\n",
       "      <th>0</th>\n",
       "      <td>1.0</td>\n",
       "      <td>Beda Szabolcs</td>\n",
       "      <td>1977.0</td>\n",
       "      <td>F3</td>\n",
       "      <td>HUN</td>\n",
       "      <td>ELTE SE Sashegyi gepárdok</td>\n",
       "      <td>Budapest</td>\n",
       "      <td>F</td>\n",
       "      <td>484.0</td>\n",
       "      <td>F3 / 1</td>\n",
       "      <td>...</td>\n",
       "      <td>0:52:42</td>\n",
       "      <td>1:09:42</td>\n",
       "      <td>0:51:30</td>\n",
       "      <td>2:53:54</td>\n",
       "      <td>1:04:01</td>\n",
       "      <td>1:22:26</td>\n",
       "      <td>1:02:24</td>\n",
       "      <td>3:28:51</td>\n",
       "      <td>13:02:08</td>\n",
       "      <td>196.0</td>\n",
       "    </tr>\n",
       "    <tr>\n",
       "      <th>1</th>\n",
       "      <td>2.0</td>\n",
       "      <td>Bódis Tamás</td>\n",
       "      <td>1988.0</td>\n",
       "      <td>F1</td>\n",
       "      <td>HUN</td>\n",
       "      <td>ELTE SE Sashegyi gepárdok</td>\n",
       "      <td>Budapest</td>\n",
       "      <td>F</td>\n",
       "      <td>479.0</td>\n",
       "      <td>F1 / 1</td>\n",
       "      <td>...</td>\n",
       "      <td>0:49:17</td>\n",
       "      <td>1:07:40</td>\n",
       "      <td>0:51:25</td>\n",
       "      <td>2:48:22</td>\n",
       "      <td>1:01:41</td>\n",
       "      <td>1:20:17</td>\n",
       "      <td>1:02:09</td>\n",
       "      <td>3:24:07</td>\n",
       "      <td>13:06:48</td>\n",
       "      <td>196.0</td>\n",
       "    </tr>\n",
       "    <tr>\n",
       "      <th>2</th>\n",
       "      <td>3.0</td>\n",
       "      <td>Theisinger, Wolfgang</td>\n",
       "      <td>1982.0</td>\n",
       "      <td>F2</td>\n",
       "      <td>GER</td>\n",
       "      <td>RC Abschnitt Mitte</td>\n",
       "      <td>Regenstauf</td>\n",
       "      <td>F</td>\n",
       "      <td>511.0</td>\n",
       "      <td>F2 / 1</td>\n",
       "      <td>...</td>\n",
       "      <td>0:56:10</td>\n",
       "      <td>1:14:10</td>\n",
       "      <td>0:54:18</td>\n",
       "      <td>3:04:38</td>\n",
       "      <td>1:09:23</td>\n",
       "      <td>1:28:44</td>\n",
       "      <td>1:05:47</td>\n",
       "      <td>3:43:54</td>\n",
       "      <td>14:05:35</td>\n",
       "      <td>196.0</td>\n",
       "    </tr>\n",
       "    <tr>\n",
       "      <th>3</th>\n",
       "      <td>4.0</td>\n",
       "      <td>Strifler Attila</td>\n",
       "      <td>1986.0</td>\n",
       "      <td>F1</td>\n",
       "      <td>HUN</td>\n",
       "      <td>NaN</td>\n",
       "      <td>Gyula</td>\n",
       "      <td>F</td>\n",
       "      <td>407.0</td>\n",
       "      <td>F1 / 2</td>\n",
       "      <td>...</td>\n",
       "      <td>0:56:07</td>\n",
       "      <td>1:14:13</td>\n",
       "      <td>0:55:24</td>\n",
       "      <td>3:05:44</td>\n",
       "      <td>1:09:40</td>\n",
       "      <td>1:28:46</td>\n",
       "      <td>1:07:32</td>\n",
       "      <td>3:45:58</td>\n",
       "      <td>14:22:47</td>\n",
       "      <td>196.0</td>\n",
       "    </tr>\n",
       "    <tr>\n",
       "      <th>4</th>\n",
       "      <td>5.0</td>\n",
       "      <td>Szedlák Csaba</td>\n",
       "      <td>1978.0</td>\n",
       "      <td>F3</td>\n",
       "      <td>HUN</td>\n",
       "      <td>Vitalitás SE</td>\n",
       "      <td>Budapest</td>\n",
       "      <td>F</td>\n",
       "      <td>449.0</td>\n",
       "      <td>F3 / 2</td>\n",
       "      <td>...</td>\n",
       "      <td>0:59:34</td>\n",
       "      <td>1:17:00</td>\n",
       "      <td>1:00:59</td>\n",
       "      <td>3:17:03</td>\n",
       "      <td>1:11:29</td>\n",
       "      <td>1:31:19</td>\n",
       "      <td>1:10:47</td>\n",
       "      <td>3:53:35</td>\n",
       "      <td>14:42:39</td>\n",
       "      <td>196.0</td>\n",
       "    </tr>\n",
       "    <tr>\n",
       "      <th>...</th>\n",
       "      <td>...</td>\n",
       "      <td>...</td>\n",
       "      <td>...</td>\n",
       "      <td>...</td>\n",
       "      <td>...</td>\n",
       "      <td>...</td>\n",
       "      <td>...</td>\n",
       "      <td>...</td>\n",
       "      <td>...</td>\n",
       "      <td>...</td>\n",
       "      <td>...</td>\n",
       "      <td>...</td>\n",
       "      <td>...</td>\n",
       "      <td>...</td>\n",
       "      <td>...</td>\n",
       "      <td>...</td>\n",
       "      <td>...</td>\n",
       "      <td>...</td>\n",
       "      <td>...</td>\n",
       "      <td>...</td>\n",
       "      <td>...</td>\n",
       "    </tr>\n",
       "    <tr>\n",
       "      <th>1813</th>\n",
       "      <td>NaN</td>\n",
       "      <td>NaN</td>\n",
       "      <td>NaN</td>\n",
       "      <td>NaN</td>\n",
       "      <td>NaN</td>\n",
       "      <td>NaN</td>\n",
       "      <td>NaN</td>\n",
       "      <td>NaN</td>\n",
       "      <td>NaN</td>\n",
       "      <td>NaN</td>\n",
       "      <td>...</td>\n",
       "      <td>NaN</td>\n",
       "      <td>NaN</td>\n",
       "      <td>NaN</td>\n",
       "      <td>NaN</td>\n",
       "      <td>NaN</td>\n",
       "      <td>NaN</td>\n",
       "      <td>NaN</td>\n",
       "      <td>NaN</td>\n",
       "      <td>NaN</td>\n",
       "      <td>NaN</td>\n",
       "    </tr>\n",
       "    <tr>\n",
       "      <th>1814</th>\n",
       "      <td>NaN</td>\n",
       "      <td>NaN</td>\n",
       "      <td>NaN</td>\n",
       "      <td>NaN</td>\n",
       "      <td>NaN</td>\n",
       "      <td>NaN</td>\n",
       "      <td>NaN</td>\n",
       "      <td>NaN</td>\n",
       "      <td>NaN</td>\n",
       "      <td>NaN</td>\n",
       "      <td>...</td>\n",
       "      <td>NaN</td>\n",
       "      <td>NaN</td>\n",
       "      <td>NaN</td>\n",
       "      <td>NaN</td>\n",
       "      <td>NaN</td>\n",
       "      <td>NaN</td>\n",
       "      <td>NaN</td>\n",
       "      <td>NaN</td>\n",
       "      <td>NaN</td>\n",
       "      <td>NaN</td>\n",
       "    </tr>\n",
       "    <tr>\n",
       "      <th>1815</th>\n",
       "      <td>NaN</td>\n",
       "      <td>NaN</td>\n",
       "      <td>NaN</td>\n",
       "      <td>NaN</td>\n",
       "      <td>NaN</td>\n",
       "      <td>NaN</td>\n",
       "      <td>NaN</td>\n",
       "      <td>NaN</td>\n",
       "      <td>NaN</td>\n",
       "      <td>NaN</td>\n",
       "      <td>...</td>\n",
       "      <td>NaN</td>\n",
       "      <td>NaN</td>\n",
       "      <td>NaN</td>\n",
       "      <td>NaN</td>\n",
       "      <td>NaN</td>\n",
       "      <td>NaN</td>\n",
       "      <td>NaN</td>\n",
       "      <td>NaN</td>\n",
       "      <td>NaN</td>\n",
       "      <td>NaN</td>\n",
       "    </tr>\n",
       "    <tr>\n",
       "      <th>1816</th>\n",
       "      <td>NaN</td>\n",
       "      <td>NaN</td>\n",
       "      <td>NaN</td>\n",
       "      <td>NaN</td>\n",
       "      <td>NaN</td>\n",
       "      <td>NaN</td>\n",
       "      <td>NaN</td>\n",
       "      <td>NaN</td>\n",
       "      <td>NaN</td>\n",
       "      <td>NaN</td>\n",
       "      <td>...</td>\n",
       "      <td>NaN</td>\n",
       "      <td>NaN</td>\n",
       "      <td>NaN</td>\n",
       "      <td>NaN</td>\n",
       "      <td>NaN</td>\n",
       "      <td>NaN</td>\n",
       "      <td>NaN</td>\n",
       "      <td>NaN</td>\n",
       "      <td>NaN</td>\n",
       "      <td>NaN</td>\n",
       "    </tr>\n",
       "    <tr>\n",
       "      <th>1817</th>\n",
       "      <td>NaN</td>\n",
       "      <td>NaN</td>\n",
       "      <td>NaN</td>\n",
       "      <td>NaN</td>\n",
       "      <td>NaN</td>\n",
       "      <td>NaN</td>\n",
       "      <td>NaN</td>\n",
       "      <td>NaN</td>\n",
       "      <td>NaN</td>\n",
       "      <td>NaN</td>\n",
       "      <td>...</td>\n",
       "      <td>NaN</td>\n",
       "      <td>NaN</td>\n",
       "      <td>NaN</td>\n",
       "      <td>NaN</td>\n",
       "      <td>NaN</td>\n",
       "      <td>NaN</td>\n",
       "      <td>NaN</td>\n",
       "      <td>NaN</td>\n",
       "      <td>NaN</td>\n",
       "      <td>NaN</td>\n",
       "    </tr>\n",
       "  </tbody>\n",
       "</table>\n",
       "<p>1818 rows × 28 columns</p>\n",
       "</div>"
      ],
      "text/plain": [
       "      Hely.         Név/Csapatnév  sz.év. Kategória Ország  \\\n",
       "0       1.0         Beda Szabolcs  1977.0        F3    HUN   \n",
       "1       2.0           Bódis Tamás  1988.0        F1    HUN   \n",
       "2       3.0  Theisinger, Wolfgang  1982.0        F2    GER   \n",
       "3       4.0       Strifler Attila  1986.0        F1    HUN   \n",
       "4       5.0         Szedlák Csaba  1978.0        F3    HUN   \n",
       "...     ...                   ...     ...       ...    ...   \n",
       "1813    NaN                   NaN     NaN       NaN    NaN   \n",
       "1814    NaN                   NaN     NaN       NaN    NaN   \n",
       "1815    NaN                   NaN     NaN       NaN    NaN   \n",
       "1816    NaN                   NaN     NaN       NaN    NaN   \n",
       "1817    NaN                   NaN     NaN       NaN    NaN   \n",
       "\n",
       "                         Csapat       Város  nem  rajtszám  kat.h.  ...  \\\n",
       "0     ELTE SE Sashegyi gepárdok    Budapest    F     484.0  F3 / 1  ...   \n",
       "1     ELTE SE Sashegyi gepárdok    Budapest    F     479.0  F1 / 1  ...   \n",
       "2            RC Abschnitt Mitte  Regenstauf    F     511.0  F2 / 1  ...   \n",
       "3                           NaN       Gyula    F     407.0  F1 / 2  ...   \n",
       "4                  Vitalitás SE    Budapest    F     449.0  F3 / 2  ...   \n",
       "...                         ...         ...  ...       ...     ...  ...   \n",
       "1813                        NaN         NaN  NaN       NaN     NaN  ...   \n",
       "1814                        NaN         NaN  NaN       NaN     NaN  ...   \n",
       "1815                        NaN         NaN  NaN       NaN     NaN  ...   \n",
       "1816                        NaN         NaN  NaN       NaN     NaN  ...   \n",
       "1817                        NaN         NaN  NaN       NaN     NaN  ...   \n",
       "\n",
       "     3.nap /1.idõ 3.nap/2.idõ 3.nap/3.idõ 3.nap összidõ 4.nap/1.idõ  \\\n",
       "0         0:52:42     1:09:42     0:51:30       2:53:54     1:04:01   \n",
       "1         0:49:17     1:07:40     0:51:25       2:48:22     1:01:41   \n",
       "2         0:56:10     1:14:10     0:54:18       3:04:38     1:09:23   \n",
       "3         0:56:07     1:14:13     0:55:24       3:05:44     1:09:40   \n",
       "4         0:59:34     1:17:00     1:00:59       3:17:03     1:11:29   \n",
       "...           ...         ...         ...           ...         ...   \n",
       "1813          NaN         NaN         NaN           NaN         NaN   \n",
       "1814          NaN         NaN         NaN           NaN         NaN   \n",
       "1815          NaN         NaN         NaN           NaN         NaN   \n",
       "1816          NaN         NaN         NaN           NaN         NaN   \n",
       "1817          NaN         NaN         NaN           NaN         NaN   \n",
       "\n",
       "     4.nap/2.idõ 4.nap/3.idõ 4.nap összidõ  eredmény Megtett táv (km)  \n",
       "0        1:22:26     1:02:24       3:28:51  13:02:08            196.0  \n",
       "1        1:20:17     1:02:09       3:24:07  13:06:48            196.0  \n",
       "2        1:28:44     1:05:47       3:43:54  14:05:35            196.0  \n",
       "3        1:28:46     1:07:32       3:45:58  14:22:47            196.0  \n",
       "4        1:31:19     1:10:47       3:53:35  14:42:39            196.0  \n",
       "...          ...         ...           ...       ...              ...  \n",
       "1813         NaN         NaN           NaN       NaN              NaN  \n",
       "1814         NaN         NaN           NaN       NaN              NaN  \n",
       "1815         NaN         NaN           NaN       NaN              NaN  \n",
       "1816         NaN         NaN           NaN       NaN              NaN  \n",
       "1817         NaN         NaN           NaN       NaN              NaN  \n",
       "\n",
       "[1818 rows x 28 columns]"
      ]
     },
     "execution_count": 58,
     "metadata": {},
     "output_type": "execute_result"
    }
   ],
   "source": [
    "bszm_osszes"
   ]
  },
  {
   "cell_type": "markdown",
   "metadata": {
    "id": "NZtFlas5vmX0"
   },
   "source": [
    "## Adattisztítás és Transzformáció"
   ]
  },
  {
   "cell_type": "markdown",
   "metadata": {
    "id": "uVt2X9Op1NQe"
   },
   "source": [
    "Jól látható hogy számos oszlopot tartalmaz, amik közül sokra nem lesz szükségünk a feladat elvégzéséhez. <br/>Ilyen oszlopok példuál: {*Név, Ország, Csapat, Város, Rajtszám*}<br/><br/>Ezeket töröljük is ki."
   ]
  },
  {
   "cell_type": "code",
   "execution_count": 59,
   "metadata": {
    "id": "5Sqf099b1NQe"
   },
   "outputs": [],
   "source": [
    "bszm_osszes.drop(['Név/Csapatnév', 'Ország', 'Csapat', 'Város', 'rajtszám', 'Hely.', 'kat.h.'], axis = 1, inplace=True)"
   ]
  },
  {
   "cell_type": "markdown",
   "metadata": {
    "id": "qSWoSbUrvmX1"
   },
   "source": [
    "**FYI:**<br/>\n",
    "*Amennyiben több adathalmazt migrálunk egybe, más oszlopok elhagyására is szükség lehet, mint például: {Helyezés}*"
   ]
  },
  {
   "cell_type": "markdown",
   "metadata": {
    "id": "samuiS8sjlYR"
   },
   "source": [
    "\n",
    "\n",
    "További oszlopokat is törölhetünk, mivel napi bontásban minden időeredményre nem lesz szükségünk. Ezen adatok nagyrésze hiányos, vagy egyszerűen hibás. Ezeket is dobjuk el.\n"
   ]
  },
  {
   "cell_type": "code",
   "execution_count": 60,
   "metadata": {
    "id": "OVG27D9Nj41P"
   },
   "outputs": [],
   "source": [
    "bszm_osszes.drop(['1.nap/1.idõ', '1.nap/2.idõ', '1.nap/3.idõ', '2.nap/1.idõ', '2.nap/2.idõ', '2.nap/3.idõ', '3.nap /1.idõ', '3.nap/2.idõ', '3.nap/3.idõ', '4.nap/1.idõ', '4.nap/2.idõ', '4.nap/3.idõ'], axis = 1, inplace=True)"
   ]
  },
  {
   "cell_type": "markdown",
   "metadata": {
    "id": "D3og0fyVvmX1"
   },
   "source": [
    "Így már egy tisztább adathalmaz áll rendelkezésünkre, amikben ténylegesen olyan információk szerepelnek, amikre szükségünk lehet a kiértékelésnél."
   ]
  },
  {
   "cell_type": "code",
   "execution_count": 61,
   "metadata": {
    "colab": {
     "base_uri": "https://localhost:8080/",
     "height": 204
    },
    "id": "AE8v4A7jgz9K",
    "outputId": "23abff78-332d-4b7f-9bcd-fe9fcd06e22e"
   },
   "outputs": [
    {
     "data": {
      "text/html": [
       "<div>\n",
       "<style scoped>\n",
       "    .dataframe tbody tr th:only-of-type {\n",
       "        vertical-align: middle;\n",
       "    }\n",
       "\n",
       "    .dataframe tbody tr th {\n",
       "        vertical-align: top;\n",
       "    }\n",
       "\n",
       "    .dataframe thead th {\n",
       "        text-align: right;\n",
       "    }\n",
       "</style>\n",
       "<table border=\"1\" class=\"dataframe\">\n",
       "  <thead>\n",
       "    <tr style=\"text-align: right;\">\n",
       "      <th></th>\n",
       "      <th>sz.év.</th>\n",
       "      <th>Kategória</th>\n",
       "      <th>nem</th>\n",
       "      <th>1.nap összidõ</th>\n",
       "      <th>2.nap összidõ</th>\n",
       "      <th>3.nap összidõ</th>\n",
       "      <th>4.nap összidõ</th>\n",
       "      <th>eredmény</th>\n",
       "      <th>Megtett táv (km)</th>\n",
       "    </tr>\n",
       "  </thead>\n",
       "  <tbody>\n",
       "    <tr>\n",
       "      <th>0</th>\n",
       "      <td>1977.0</td>\n",
       "      <td>F3</td>\n",
       "      <td>F</td>\n",
       "      <td>3:08:51</td>\n",
       "      <td>3:30:32</td>\n",
       "      <td>2:53:54</td>\n",
       "      <td>3:28:51</td>\n",
       "      <td>13:02:08</td>\n",
       "      <td>196.0</td>\n",
       "    </tr>\n",
       "    <tr>\n",
       "      <th>1</th>\n",
       "      <td>1988.0</td>\n",
       "      <td>F1</td>\n",
       "      <td>F</td>\n",
       "      <td>3:13:57</td>\n",
       "      <td>3:40:22</td>\n",
       "      <td>2:48:22</td>\n",
       "      <td>3:24:07</td>\n",
       "      <td>13:06:48</td>\n",
       "      <td>196.0</td>\n",
       "    </tr>\n",
       "    <tr>\n",
       "      <th>2</th>\n",
       "      <td>1982.0</td>\n",
       "      <td>F2</td>\n",
       "      <td>F</td>\n",
       "      <td>3:23:21</td>\n",
       "      <td>3:53:42</td>\n",
       "      <td>3:04:38</td>\n",
       "      <td>3:43:54</td>\n",
       "      <td>14:05:35</td>\n",
       "      <td>196.0</td>\n",
       "    </tr>\n",
       "    <tr>\n",
       "      <th>3</th>\n",
       "      <td>1986.0</td>\n",
       "      <td>F1</td>\n",
       "      <td>F</td>\n",
       "      <td>3:31:41</td>\n",
       "      <td>3:59:24</td>\n",
       "      <td>3:05:44</td>\n",
       "      <td>3:45:58</td>\n",
       "      <td>14:22:47</td>\n",
       "      <td>196.0</td>\n",
       "    </tr>\n",
       "    <tr>\n",
       "      <th>4</th>\n",
       "      <td>1978.0</td>\n",
       "      <td>F3</td>\n",
       "      <td>F</td>\n",
       "      <td>3:31:31</td>\n",
       "      <td>4:00:30</td>\n",
       "      <td>3:17:03</td>\n",
       "      <td>3:53:35</td>\n",
       "      <td>14:42:39</td>\n",
       "      <td>196.0</td>\n",
       "    </tr>\n",
       "  </tbody>\n",
       "</table>\n",
       "</div>"
      ],
      "text/plain": [
       "   sz.év. Kategória nem 1.nap összidõ 2.nap összidõ 3.nap összidõ  \\\n",
       "0  1977.0        F3   F       3:08:51       3:30:32       2:53:54   \n",
       "1  1988.0        F1   F       3:13:57       3:40:22       2:48:22   \n",
       "2  1982.0        F2   F       3:23:21       3:53:42       3:04:38   \n",
       "3  1986.0        F1   F       3:31:41       3:59:24       3:05:44   \n",
       "4  1978.0        F3   F       3:31:31       4:00:30       3:17:03   \n",
       "\n",
       "  4.nap összidõ  eredmény  Megtett táv (km)  \n",
       "0       3:28:51  13:02:08             196.0  \n",
       "1       3:24:07  13:06:48             196.0  \n",
       "2       3:43:54  14:05:35             196.0  \n",
       "3       3:45:58  14:22:47             196.0  \n",
       "4       3:53:35  14:42:39             196.0  "
      ]
     },
     "execution_count": 61,
     "metadata": {},
     "output_type": "execute_result"
    }
   ],
   "source": [
    "bszm_osszes.head(5)"
   ]
  },
  {
   "cell_type": "markdown",
   "metadata": {
    "id": "gET5FPIEj4Jw"
   },
   "source": [
    "Azt is tudjuk hogy a verseny teljesítéséhez 196 kilóméter lefutására van szükség, ezért ehhez tudunk készíteni egy új attribútumot ami két értéket vehet fel, teljesítette-e vagy nem."
   ]
  },
  {
   "cell_type": "code",
   "execution_count": 62,
   "metadata": {
    "colab": {
     "base_uri": "https://localhost:8080/",
     "height": 419
    },
    "id": "m0IPcrtClR9k",
    "outputId": "07107da5-911f-478f-e9a2-91f557d9ca9a"
   },
   "outputs": [
    {
     "data": {
      "text/html": [
       "<div>\n",
       "<style scoped>\n",
       "    .dataframe tbody tr th:only-of-type {\n",
       "        vertical-align: middle;\n",
       "    }\n",
       "\n",
       "    .dataframe tbody tr th {\n",
       "        vertical-align: top;\n",
       "    }\n",
       "\n",
       "    .dataframe thead th {\n",
       "        text-align: right;\n",
       "    }\n",
       "</style>\n",
       "<table border=\"1\" class=\"dataframe\">\n",
       "  <thead>\n",
       "    <tr style=\"text-align: right;\">\n",
       "      <th></th>\n",
       "      <th>sz.év.</th>\n",
       "      <th>Kategória</th>\n",
       "      <th>nem</th>\n",
       "      <th>1.nap összidõ</th>\n",
       "      <th>2.nap összidõ</th>\n",
       "      <th>3.nap összidõ</th>\n",
       "      <th>4.nap összidõ</th>\n",
       "      <th>eredmény</th>\n",
       "      <th>Megtett táv (km)</th>\n",
       "      <th>befejezte</th>\n",
       "    </tr>\n",
       "  </thead>\n",
       "  <tbody>\n",
       "    <tr>\n",
       "      <th>0</th>\n",
       "      <td>1977.0</td>\n",
       "      <td>F3</td>\n",
       "      <td>F</td>\n",
       "      <td>3:08:51</td>\n",
       "      <td>3:30:32</td>\n",
       "      <td>2:53:54</td>\n",
       "      <td>3:28:51</td>\n",
       "      <td>13:02:08</td>\n",
       "      <td>196.0</td>\n",
       "      <td>True</td>\n",
       "    </tr>\n",
       "    <tr>\n",
       "      <th>1</th>\n",
       "      <td>1988.0</td>\n",
       "      <td>F1</td>\n",
       "      <td>F</td>\n",
       "      <td>3:13:57</td>\n",
       "      <td>3:40:22</td>\n",
       "      <td>2:48:22</td>\n",
       "      <td>3:24:07</td>\n",
       "      <td>13:06:48</td>\n",
       "      <td>196.0</td>\n",
       "      <td>True</td>\n",
       "    </tr>\n",
       "    <tr>\n",
       "      <th>2</th>\n",
       "      <td>1982.0</td>\n",
       "      <td>F2</td>\n",
       "      <td>F</td>\n",
       "      <td>3:23:21</td>\n",
       "      <td>3:53:42</td>\n",
       "      <td>3:04:38</td>\n",
       "      <td>3:43:54</td>\n",
       "      <td>14:05:35</td>\n",
       "      <td>196.0</td>\n",
       "      <td>True</td>\n",
       "    </tr>\n",
       "    <tr>\n",
       "      <th>3</th>\n",
       "      <td>1986.0</td>\n",
       "      <td>F1</td>\n",
       "      <td>F</td>\n",
       "      <td>3:31:41</td>\n",
       "      <td>3:59:24</td>\n",
       "      <td>3:05:44</td>\n",
       "      <td>3:45:58</td>\n",
       "      <td>14:22:47</td>\n",
       "      <td>196.0</td>\n",
       "      <td>True</td>\n",
       "    </tr>\n",
       "    <tr>\n",
       "      <th>4</th>\n",
       "      <td>1978.0</td>\n",
       "      <td>F3</td>\n",
       "      <td>F</td>\n",
       "      <td>3:31:31</td>\n",
       "      <td>4:00:30</td>\n",
       "      <td>3:17:03</td>\n",
       "      <td>3:53:35</td>\n",
       "      <td>14:42:39</td>\n",
       "      <td>196.0</td>\n",
       "      <td>True</td>\n",
       "    </tr>\n",
       "    <tr>\n",
       "      <th>...</th>\n",
       "      <td>...</td>\n",
       "      <td>...</td>\n",
       "      <td>...</td>\n",
       "      <td>...</td>\n",
       "      <td>...</td>\n",
       "      <td>...</td>\n",
       "      <td>...</td>\n",
       "      <td>...</td>\n",
       "      <td>...</td>\n",
       "      <td>...</td>\n",
       "    </tr>\n",
       "    <tr>\n",
       "      <th>1813</th>\n",
       "      <td>NaN</td>\n",
       "      <td>NaN</td>\n",
       "      <td>NaN</td>\n",
       "      <td>NaN</td>\n",
       "      <td>NaN</td>\n",
       "      <td>NaN</td>\n",
       "      <td>NaN</td>\n",
       "      <td>NaN</td>\n",
       "      <td>NaN</td>\n",
       "      <td>True</td>\n",
       "    </tr>\n",
       "    <tr>\n",
       "      <th>1814</th>\n",
       "      <td>NaN</td>\n",
       "      <td>NaN</td>\n",
       "      <td>NaN</td>\n",
       "      <td>NaN</td>\n",
       "      <td>NaN</td>\n",
       "      <td>NaN</td>\n",
       "      <td>NaN</td>\n",
       "      <td>NaN</td>\n",
       "      <td>NaN</td>\n",
       "      <td>True</td>\n",
       "    </tr>\n",
       "    <tr>\n",
       "      <th>1815</th>\n",
       "      <td>NaN</td>\n",
       "      <td>NaN</td>\n",
       "      <td>NaN</td>\n",
       "      <td>NaN</td>\n",
       "      <td>NaN</td>\n",
       "      <td>NaN</td>\n",
       "      <td>NaN</td>\n",
       "      <td>NaN</td>\n",
       "      <td>NaN</td>\n",
       "      <td>True</td>\n",
       "    </tr>\n",
       "    <tr>\n",
       "      <th>1816</th>\n",
       "      <td>NaN</td>\n",
       "      <td>NaN</td>\n",
       "      <td>NaN</td>\n",
       "      <td>NaN</td>\n",
       "      <td>NaN</td>\n",
       "      <td>NaN</td>\n",
       "      <td>NaN</td>\n",
       "      <td>NaN</td>\n",
       "      <td>NaN</td>\n",
       "      <td>True</td>\n",
       "    </tr>\n",
       "    <tr>\n",
       "      <th>1817</th>\n",
       "      <td>NaN</td>\n",
       "      <td>NaN</td>\n",
       "      <td>NaN</td>\n",
       "      <td>NaN</td>\n",
       "      <td>NaN</td>\n",
       "      <td>NaN</td>\n",
       "      <td>NaN</td>\n",
       "      <td>NaN</td>\n",
       "      <td>NaN</td>\n",
       "      <td>True</td>\n",
       "    </tr>\n",
       "  </tbody>\n",
       "</table>\n",
       "<p>1818 rows × 10 columns</p>\n",
       "</div>"
      ],
      "text/plain": [
       "      sz.év. Kategória  nem 1.nap összidõ 2.nap összidõ 3.nap összidõ  \\\n",
       "0     1977.0        F3    F       3:08:51       3:30:32       2:53:54   \n",
       "1     1988.0        F1    F       3:13:57       3:40:22       2:48:22   \n",
       "2     1982.0        F2    F       3:23:21       3:53:42       3:04:38   \n",
       "3     1986.0        F1    F       3:31:41       3:59:24       3:05:44   \n",
       "4     1978.0        F3    F       3:31:31       4:00:30       3:17:03   \n",
       "...      ...       ...  ...           ...           ...           ...   \n",
       "1813     NaN       NaN  NaN           NaN           NaN           NaN   \n",
       "1814     NaN       NaN  NaN           NaN           NaN           NaN   \n",
       "1815     NaN       NaN  NaN           NaN           NaN           NaN   \n",
       "1816     NaN       NaN  NaN           NaN           NaN           NaN   \n",
       "1817     NaN       NaN  NaN           NaN           NaN           NaN   \n",
       "\n",
       "     4.nap összidõ  eredmény  Megtett táv (km)  befejezte  \n",
       "0          3:28:51  13:02:08             196.0       True  \n",
       "1          3:24:07  13:06:48             196.0       True  \n",
       "2          3:43:54  14:05:35             196.0       True  \n",
       "3          3:45:58  14:22:47             196.0       True  \n",
       "4          3:53:35  14:42:39             196.0       True  \n",
       "...            ...       ...               ...        ...  \n",
       "1813           NaN       NaN               NaN       True  \n",
       "1814           NaN       NaN               NaN       True  \n",
       "1815           NaN       NaN               NaN       True  \n",
       "1816           NaN       NaN               NaN       True  \n",
       "1817           NaN       NaN               NaN       True  \n",
       "\n",
       "[1818 rows x 10 columns]"
      ]
     },
     "execution_count": 62,
     "metadata": {},
     "output_type": "execute_result"
    }
   ],
   "source": [
    "bszm_osszes[\"befejezte\"] = np.where(bszm_osszes['Megtett táv (km)'] < 196, False, True)\n",
    "bszm_osszes"
   ]
  },
  {
   "cell_type": "markdown",
   "metadata": {
    "id": "5OSHpaHqkvmt"
   },
   "source": [
    "Azok a személyek akik nem fejezték be a versenyt, nekik az időataik eltérőek, és az *eredmény* oszlopban 99:59:59 értéket vesznek fel. Ezt sajnos tisztítani kell vagy törölni, de ha ezeket töröljük elveszik minden adatunk azokról a versenyzőkről akik nem fejezték be a versenyt. Ezért csak az értelmetlen eredményt tartalmazó cellák értékeit cseréljük ki **NaN** értékre."
   ]
  },
  {
   "cell_type": "code",
   "execution_count": 63,
   "metadata": {
    "colab": {
     "base_uri": "https://localhost:8080/",
     "height": 419
    },
    "id": "Kt7VKFEunbUN",
    "outputId": "d83104eb-daec-4423-8e5a-7ee047dd49f4",
    "scrolled": true
   },
   "outputs": [
    {
     "data": {
      "text/html": [
       "<div>\n",
       "<style scoped>\n",
       "    .dataframe tbody tr th:only-of-type {\n",
       "        vertical-align: middle;\n",
       "    }\n",
       "\n",
       "    .dataframe tbody tr th {\n",
       "        vertical-align: top;\n",
       "    }\n",
       "\n",
       "    .dataframe thead th {\n",
       "        text-align: right;\n",
       "    }\n",
       "</style>\n",
       "<table border=\"1\" class=\"dataframe\">\n",
       "  <thead>\n",
       "    <tr style=\"text-align: right;\">\n",
       "      <th></th>\n",
       "      <th>sz.év.</th>\n",
       "      <th>Kategória</th>\n",
       "      <th>nem</th>\n",
       "      <th>1.nap összidõ</th>\n",
       "      <th>2.nap összidõ</th>\n",
       "      <th>3.nap összidõ</th>\n",
       "      <th>4.nap összidõ</th>\n",
       "      <th>eredmény</th>\n",
       "      <th>Megtett táv (km)</th>\n",
       "      <th>befejezte</th>\n",
       "    </tr>\n",
       "  </thead>\n",
       "  <tbody>\n",
       "    <tr>\n",
       "      <th>0</th>\n",
       "      <td>1977.0</td>\n",
       "      <td>F3</td>\n",
       "      <td>F</td>\n",
       "      <td>3:08:51</td>\n",
       "      <td>3:30:32</td>\n",
       "      <td>2:53:54</td>\n",
       "      <td>3:28:51</td>\n",
       "      <td>13:02:08</td>\n",
       "      <td>196.0</td>\n",
       "      <td>True</td>\n",
       "    </tr>\n",
       "    <tr>\n",
       "      <th>1</th>\n",
       "      <td>1988.0</td>\n",
       "      <td>F1</td>\n",
       "      <td>F</td>\n",
       "      <td>3:13:57</td>\n",
       "      <td>3:40:22</td>\n",
       "      <td>2:48:22</td>\n",
       "      <td>3:24:07</td>\n",
       "      <td>13:06:48</td>\n",
       "      <td>196.0</td>\n",
       "      <td>True</td>\n",
       "    </tr>\n",
       "    <tr>\n",
       "      <th>2</th>\n",
       "      <td>1982.0</td>\n",
       "      <td>F2</td>\n",
       "      <td>F</td>\n",
       "      <td>3:23:21</td>\n",
       "      <td>3:53:42</td>\n",
       "      <td>3:04:38</td>\n",
       "      <td>3:43:54</td>\n",
       "      <td>14:05:35</td>\n",
       "      <td>196.0</td>\n",
       "      <td>True</td>\n",
       "    </tr>\n",
       "    <tr>\n",
       "      <th>3</th>\n",
       "      <td>1986.0</td>\n",
       "      <td>F1</td>\n",
       "      <td>F</td>\n",
       "      <td>3:31:41</td>\n",
       "      <td>3:59:24</td>\n",
       "      <td>3:05:44</td>\n",
       "      <td>3:45:58</td>\n",
       "      <td>14:22:47</td>\n",
       "      <td>196.0</td>\n",
       "      <td>True</td>\n",
       "    </tr>\n",
       "    <tr>\n",
       "      <th>4</th>\n",
       "      <td>1978.0</td>\n",
       "      <td>F3</td>\n",
       "      <td>F</td>\n",
       "      <td>3:31:31</td>\n",
       "      <td>4:00:30</td>\n",
       "      <td>3:17:03</td>\n",
       "      <td>3:53:35</td>\n",
       "      <td>14:42:39</td>\n",
       "      <td>196.0</td>\n",
       "      <td>True</td>\n",
       "    </tr>\n",
       "    <tr>\n",
       "      <th>...</th>\n",
       "      <td>...</td>\n",
       "      <td>...</td>\n",
       "      <td>...</td>\n",
       "      <td>...</td>\n",
       "      <td>...</td>\n",
       "      <td>...</td>\n",
       "      <td>...</td>\n",
       "      <td>...</td>\n",
       "      <td>...</td>\n",
       "      <td>...</td>\n",
       "    </tr>\n",
       "    <tr>\n",
       "      <th>1813</th>\n",
       "      <td>NaN</td>\n",
       "      <td>NaN</td>\n",
       "      <td>NaN</td>\n",
       "      <td>NaN</td>\n",
       "      <td>NaN</td>\n",
       "      <td>NaN</td>\n",
       "      <td>NaN</td>\n",
       "      <td>NaN</td>\n",
       "      <td>NaN</td>\n",
       "      <td>True</td>\n",
       "    </tr>\n",
       "    <tr>\n",
       "      <th>1814</th>\n",
       "      <td>NaN</td>\n",
       "      <td>NaN</td>\n",
       "      <td>NaN</td>\n",
       "      <td>NaN</td>\n",
       "      <td>NaN</td>\n",
       "      <td>NaN</td>\n",
       "      <td>NaN</td>\n",
       "      <td>NaN</td>\n",
       "      <td>NaN</td>\n",
       "      <td>True</td>\n",
       "    </tr>\n",
       "    <tr>\n",
       "      <th>1815</th>\n",
       "      <td>NaN</td>\n",
       "      <td>NaN</td>\n",
       "      <td>NaN</td>\n",
       "      <td>NaN</td>\n",
       "      <td>NaN</td>\n",
       "      <td>NaN</td>\n",
       "      <td>NaN</td>\n",
       "      <td>NaN</td>\n",
       "      <td>NaN</td>\n",
       "      <td>True</td>\n",
       "    </tr>\n",
       "    <tr>\n",
       "      <th>1816</th>\n",
       "      <td>NaN</td>\n",
       "      <td>NaN</td>\n",
       "      <td>NaN</td>\n",
       "      <td>NaN</td>\n",
       "      <td>NaN</td>\n",
       "      <td>NaN</td>\n",
       "      <td>NaN</td>\n",
       "      <td>NaN</td>\n",
       "      <td>NaN</td>\n",
       "      <td>True</td>\n",
       "    </tr>\n",
       "    <tr>\n",
       "      <th>1817</th>\n",
       "      <td>NaN</td>\n",
       "      <td>NaN</td>\n",
       "      <td>NaN</td>\n",
       "      <td>NaN</td>\n",
       "      <td>NaN</td>\n",
       "      <td>NaN</td>\n",
       "      <td>NaN</td>\n",
       "      <td>NaN</td>\n",
       "      <td>NaN</td>\n",
       "      <td>True</td>\n",
       "    </tr>\n",
       "  </tbody>\n",
       "</table>\n",
       "<p>1818 rows × 10 columns</p>\n",
       "</div>"
      ],
      "text/plain": [
       "      sz.év. Kategória  nem 1.nap összidõ 2.nap összidõ 3.nap összidõ  \\\n",
       "0     1977.0        F3    F       3:08:51       3:30:32       2:53:54   \n",
       "1     1988.0        F1    F       3:13:57       3:40:22       2:48:22   \n",
       "2     1982.0        F2    F       3:23:21       3:53:42       3:04:38   \n",
       "3     1986.0        F1    F       3:31:41       3:59:24       3:05:44   \n",
       "4     1978.0        F3    F       3:31:31       4:00:30       3:17:03   \n",
       "...      ...       ...  ...           ...           ...           ...   \n",
       "1813     NaN       NaN  NaN           NaN           NaN           NaN   \n",
       "1814     NaN       NaN  NaN           NaN           NaN           NaN   \n",
       "1815     NaN       NaN  NaN           NaN           NaN           NaN   \n",
       "1816     NaN       NaN  NaN           NaN           NaN           NaN   \n",
       "1817     NaN       NaN  NaN           NaN           NaN           NaN   \n",
       "\n",
       "     4.nap összidõ  eredmény  Megtett táv (km)  befejezte  \n",
       "0          3:28:51  13:02:08             196.0       True  \n",
       "1          3:24:07  13:06:48             196.0       True  \n",
       "2          3:43:54  14:05:35             196.0       True  \n",
       "3          3:45:58  14:22:47             196.0       True  \n",
       "4          3:53:35  14:42:39             196.0       True  \n",
       "...            ...       ...               ...        ...  \n",
       "1813           NaN       NaN               NaN       True  \n",
       "1814           NaN       NaN               NaN       True  \n",
       "1815           NaN       NaN               NaN       True  \n",
       "1816           NaN       NaN               NaN       True  \n",
       "1817           NaN       NaN               NaN       True  \n",
       "\n",
       "[1818 rows x 10 columns]"
      ]
     },
     "execution_count": 63,
     "metadata": {},
     "output_type": "execute_result"
    }
   ],
   "source": [
    "bszm_osszes = bszm_osszes.replace('99:59:59', np.nan)\n",
    "bszm_osszes"
   ]
  },
  {
   "cell_type": "markdown",
   "metadata": {
    "id": "Zn5t3BoMvmX3"
   },
   "source": [
    "Látható hogy az adathalmazunk még mindig sok hibás értéket tartalmaz, ezeket a hibás értékeket később fogjuk kivenni a halmazunkból. "
   ]
  },
  {
   "cell_type": "markdown",
   "metadata": {
    "id": "-Oww0E7vvmX3"
   },
   "source": [
    "Azoknak a versenyzőknek akik feladták a versenyt '99:59:59' értéket kaptak eredménynek, ami természetesen nem elfogadható, mivel ezek a versenyzők egy-két napot lefuthattak.\n",
    "Ezért az eredmények mezőket újra tudjuk számolni úgy, hogy átalakítjuk **timedelta** típúsúra ezeket a mezőket, és összeadjuk a napok idejét."
   ]
  },
  {
   "cell_type": "code",
   "execution_count": 64,
   "metadata": {
    "colab": {
     "base_uri": "https://localhost:8080/"
    },
    "id": "rpOgKjOpvmX4",
    "outputId": "3ffaca2c-75f5-48b7-ece3-881e6931e4bb"
   },
   "outputs": [
    {
     "data": {
      "text/plain": [
       "sz.év.                      float64\n",
       "Kategória                    object\n",
       "nem                          object\n",
       "1.nap összidõ       timedelta64[ns]\n",
       "2.nap összidõ       timedelta64[ns]\n",
       "3.nap összidõ       timedelta64[ns]\n",
       "4.nap összidõ       timedelta64[ns]\n",
       "eredmény            timedelta64[ns]\n",
       "Megtett táv (km)            float64\n",
       "befejezte                      bool\n",
       "dtype: object"
      ]
     },
     "execution_count": 64,
     "metadata": {},
     "output_type": "execute_result"
    }
   ],
   "source": [
    "bszm_osszes['eredmény'] = pd.to_timedelta(bszm_osszes['eredmény'])\n",
    "bszm_osszes['1.nap összidõ'] = pd.to_timedelta(bszm_osszes['1.nap összidõ'])\n",
    "bszm_osszes['2.nap összidõ'] = pd.to_timedelta(bszm_osszes['2.nap összidõ'])\n",
    "bszm_osszes['3.nap összidõ'] = pd.to_timedelta(bszm_osszes['3.nap összidõ'])\n",
    "bszm_osszes['4.nap összidõ'] = pd.to_timedelta(bszm_osszes['4.nap összidõ'])\n",
    "bszm_osszes.dtypes"
   ]
  },
  {
   "cell_type": "markdown",
   "metadata": {
    "id": "BQutQIFkvmX5"
   },
   "source": [
    "Miután ez megvan, csak össze kell adni a megfelelő cellák értékeit."
   ]
  },
  {
   "cell_type": "code",
   "execution_count": 65,
   "metadata": {
    "colab": {
     "base_uri": "https://localhost:8080/",
     "height": 419
    },
    "id": "cWrip5p6vmX5",
    "outputId": "1f64edb6-47a6-41c8-a478-09d0d33a5e03"
   },
   "outputs": [
    {
     "data": {
      "text/html": [
       "<div>\n",
       "<style scoped>\n",
       "    .dataframe tbody tr th:only-of-type {\n",
       "        vertical-align: middle;\n",
       "    }\n",
       "\n",
       "    .dataframe tbody tr th {\n",
       "        vertical-align: top;\n",
       "    }\n",
       "\n",
       "    .dataframe thead th {\n",
       "        text-align: right;\n",
       "    }\n",
       "</style>\n",
       "<table border=\"1\" class=\"dataframe\">\n",
       "  <thead>\n",
       "    <tr style=\"text-align: right;\">\n",
       "      <th></th>\n",
       "      <th>sz.év.</th>\n",
       "      <th>Kategória</th>\n",
       "      <th>nem</th>\n",
       "      <th>1.nap összidõ</th>\n",
       "      <th>2.nap összidõ</th>\n",
       "      <th>3.nap összidõ</th>\n",
       "      <th>4.nap összidõ</th>\n",
       "      <th>eredmény</th>\n",
       "      <th>Megtett táv (km)</th>\n",
       "      <th>befejezte</th>\n",
       "    </tr>\n",
       "  </thead>\n",
       "  <tbody>\n",
       "    <tr>\n",
       "      <th>0</th>\n",
       "      <td>1977.0</td>\n",
       "      <td>F3</td>\n",
       "      <td>F</td>\n",
       "      <td>0 days 03:08:51</td>\n",
       "      <td>0 days 03:30:32</td>\n",
       "      <td>0 days 02:53:54</td>\n",
       "      <td>0 days 03:28:51</td>\n",
       "      <td>0 days 13:02:08</td>\n",
       "      <td>196.0</td>\n",
       "      <td>True</td>\n",
       "    </tr>\n",
       "    <tr>\n",
       "      <th>1</th>\n",
       "      <td>1988.0</td>\n",
       "      <td>F1</td>\n",
       "      <td>F</td>\n",
       "      <td>0 days 03:13:57</td>\n",
       "      <td>0 days 03:40:22</td>\n",
       "      <td>0 days 02:48:22</td>\n",
       "      <td>0 days 03:24:07</td>\n",
       "      <td>0 days 13:06:48</td>\n",
       "      <td>196.0</td>\n",
       "      <td>True</td>\n",
       "    </tr>\n",
       "    <tr>\n",
       "      <th>2</th>\n",
       "      <td>1982.0</td>\n",
       "      <td>F2</td>\n",
       "      <td>F</td>\n",
       "      <td>0 days 03:23:21</td>\n",
       "      <td>0 days 03:53:42</td>\n",
       "      <td>0 days 03:04:38</td>\n",
       "      <td>0 days 03:43:54</td>\n",
       "      <td>0 days 14:05:35</td>\n",
       "      <td>196.0</td>\n",
       "      <td>True</td>\n",
       "    </tr>\n",
       "    <tr>\n",
       "      <th>3</th>\n",
       "      <td>1986.0</td>\n",
       "      <td>F1</td>\n",
       "      <td>F</td>\n",
       "      <td>0 days 03:31:41</td>\n",
       "      <td>0 days 03:59:24</td>\n",
       "      <td>0 days 03:05:44</td>\n",
       "      <td>0 days 03:45:58</td>\n",
       "      <td>0 days 14:22:47</td>\n",
       "      <td>196.0</td>\n",
       "      <td>True</td>\n",
       "    </tr>\n",
       "    <tr>\n",
       "      <th>4</th>\n",
       "      <td>1978.0</td>\n",
       "      <td>F3</td>\n",
       "      <td>F</td>\n",
       "      <td>0 days 03:31:31</td>\n",
       "      <td>0 days 04:00:30</td>\n",
       "      <td>0 days 03:17:03</td>\n",
       "      <td>0 days 03:53:35</td>\n",
       "      <td>0 days 14:42:39</td>\n",
       "      <td>196.0</td>\n",
       "      <td>True</td>\n",
       "    </tr>\n",
       "    <tr>\n",
       "      <th>...</th>\n",
       "      <td>...</td>\n",
       "      <td>...</td>\n",
       "      <td>...</td>\n",
       "      <td>...</td>\n",
       "      <td>...</td>\n",
       "      <td>...</td>\n",
       "      <td>...</td>\n",
       "      <td>...</td>\n",
       "      <td>...</td>\n",
       "      <td>...</td>\n",
       "    </tr>\n",
       "    <tr>\n",
       "      <th>1813</th>\n",
       "      <td>NaN</td>\n",
       "      <td>NaN</td>\n",
       "      <td>NaN</td>\n",
       "      <td>NaT</td>\n",
       "      <td>NaT</td>\n",
       "      <td>NaT</td>\n",
       "      <td>NaT</td>\n",
       "      <td>0 days 00:00:00</td>\n",
       "      <td>NaN</td>\n",
       "      <td>True</td>\n",
       "    </tr>\n",
       "    <tr>\n",
       "      <th>1814</th>\n",
       "      <td>NaN</td>\n",
       "      <td>NaN</td>\n",
       "      <td>NaN</td>\n",
       "      <td>NaT</td>\n",
       "      <td>NaT</td>\n",
       "      <td>NaT</td>\n",
       "      <td>NaT</td>\n",
       "      <td>0 days 00:00:00</td>\n",
       "      <td>NaN</td>\n",
       "      <td>True</td>\n",
       "    </tr>\n",
       "    <tr>\n",
       "      <th>1815</th>\n",
       "      <td>NaN</td>\n",
       "      <td>NaN</td>\n",
       "      <td>NaN</td>\n",
       "      <td>NaT</td>\n",
       "      <td>NaT</td>\n",
       "      <td>NaT</td>\n",
       "      <td>NaT</td>\n",
       "      <td>0 days 00:00:00</td>\n",
       "      <td>NaN</td>\n",
       "      <td>True</td>\n",
       "    </tr>\n",
       "    <tr>\n",
       "      <th>1816</th>\n",
       "      <td>NaN</td>\n",
       "      <td>NaN</td>\n",
       "      <td>NaN</td>\n",
       "      <td>NaT</td>\n",
       "      <td>NaT</td>\n",
       "      <td>NaT</td>\n",
       "      <td>NaT</td>\n",
       "      <td>0 days 00:00:00</td>\n",
       "      <td>NaN</td>\n",
       "      <td>True</td>\n",
       "    </tr>\n",
       "    <tr>\n",
       "      <th>1817</th>\n",
       "      <td>NaN</td>\n",
       "      <td>NaN</td>\n",
       "      <td>NaN</td>\n",
       "      <td>NaT</td>\n",
       "      <td>NaT</td>\n",
       "      <td>NaT</td>\n",
       "      <td>NaT</td>\n",
       "      <td>0 days 00:00:00</td>\n",
       "      <td>NaN</td>\n",
       "      <td>True</td>\n",
       "    </tr>\n",
       "  </tbody>\n",
       "</table>\n",
       "<p>1818 rows × 10 columns</p>\n",
       "</div>"
      ],
      "text/plain": [
       "      sz.év. Kategória  nem   1.nap összidõ   2.nap összidõ   3.nap összidõ  \\\n",
       "0     1977.0        F3    F 0 days 03:08:51 0 days 03:30:32 0 days 02:53:54   \n",
       "1     1988.0        F1    F 0 days 03:13:57 0 days 03:40:22 0 days 02:48:22   \n",
       "2     1982.0        F2    F 0 days 03:23:21 0 days 03:53:42 0 days 03:04:38   \n",
       "3     1986.0        F1    F 0 days 03:31:41 0 days 03:59:24 0 days 03:05:44   \n",
       "4     1978.0        F3    F 0 days 03:31:31 0 days 04:00:30 0 days 03:17:03   \n",
       "...      ...       ...  ...             ...             ...             ...   \n",
       "1813     NaN       NaN  NaN             NaT             NaT             NaT   \n",
       "1814     NaN       NaN  NaN             NaT             NaT             NaT   \n",
       "1815     NaN       NaN  NaN             NaT             NaT             NaT   \n",
       "1816     NaN       NaN  NaN             NaT             NaT             NaT   \n",
       "1817     NaN       NaN  NaN             NaT             NaT             NaT   \n",
       "\n",
       "       4.nap összidõ        eredmény  Megtett táv (km)  befejezte  \n",
       "0    0 days 03:28:51 0 days 13:02:08             196.0       True  \n",
       "1    0 days 03:24:07 0 days 13:06:48             196.0       True  \n",
       "2    0 days 03:43:54 0 days 14:05:35             196.0       True  \n",
       "3    0 days 03:45:58 0 days 14:22:47             196.0       True  \n",
       "4    0 days 03:53:35 0 days 14:42:39             196.0       True  \n",
       "...              ...             ...               ...        ...  \n",
       "1813             NaT 0 days 00:00:00               NaN       True  \n",
       "1814             NaT 0 days 00:00:00               NaN       True  \n",
       "1815             NaT 0 days 00:00:00               NaN       True  \n",
       "1816             NaT 0 days 00:00:00               NaN       True  \n",
       "1817             NaT 0 days 00:00:00               NaN       True  \n",
       "\n",
       "[1818 rows x 10 columns]"
      ]
     },
     "execution_count": 65,
     "metadata": {},
     "output_type": "execute_result"
    }
   ],
   "source": [
    "eredmény = ['1.nap összidõ', '2.nap összidõ', '3.nap összidõ', '4.nap összidõ']\n",
    "bszm_osszes['eredmény'] = bszm_osszes[eredmény].sum(axis=1, skipna=True)\n",
    "bszm_osszes['eredmény'] = bszm_osszes['eredmény'] - pd.to_timedelta(bszm_osszes['eredmény'].dt.days, unit='h')\n",
    "bszm_osszes"
   ]
  },
  {
   "cell_type": "markdown",
   "metadata": {
    "id": "GrxSaIeZvmX6"
   },
   "source": [
    "Mivel szeretnénk majd kiszámolni a versenyzők sebességét is, ezért az eredmény adatot átalakíthatjuk perc értékre, így könnyebb dolgunk lesz vele."
   ]
  },
  {
   "cell_type": "code",
   "execution_count": 66,
   "metadata": {
    "colab": {
     "base_uri": "https://localhost:8080/",
     "height": 419
    },
    "id": "YWjLUZv1MAyB",
    "outputId": "79d82830-f57c-4c73-f034-f680ed0e6140"
   },
   "outputs": [
    {
     "data": {
      "text/html": [
       "<div>\n",
       "<style scoped>\n",
       "    .dataframe tbody tr th:only-of-type {\n",
       "        vertical-align: middle;\n",
       "    }\n",
       "\n",
       "    .dataframe tbody tr th {\n",
       "        vertical-align: top;\n",
       "    }\n",
       "\n",
       "    .dataframe thead th {\n",
       "        text-align: right;\n",
       "    }\n",
       "</style>\n",
       "<table border=\"1\" class=\"dataframe\">\n",
       "  <thead>\n",
       "    <tr style=\"text-align: right;\">\n",
       "      <th></th>\n",
       "      <th>sz.év.</th>\n",
       "      <th>Kategória</th>\n",
       "      <th>nem</th>\n",
       "      <th>1.nap összidõ</th>\n",
       "      <th>2.nap összidõ</th>\n",
       "      <th>3.nap összidõ</th>\n",
       "      <th>4.nap összidõ</th>\n",
       "      <th>eredmény</th>\n",
       "      <th>Megtett táv (km)</th>\n",
       "      <th>befejezte</th>\n",
       "      <th>eredmény(perc)</th>\n",
       "    </tr>\n",
       "  </thead>\n",
       "  <tbody>\n",
       "    <tr>\n",
       "      <th>0</th>\n",
       "      <td>1977.0</td>\n",
       "      <td>F3</td>\n",
       "      <td>F</td>\n",
       "      <td>0 days 03:08:51</td>\n",
       "      <td>0 days 03:30:32</td>\n",
       "      <td>0 days 02:53:54</td>\n",
       "      <td>0 days 03:28:51</td>\n",
       "      <td>0 days 13:02:08</td>\n",
       "      <td>196.0</td>\n",
       "      <td>True</td>\n",
       "      <td>782.0</td>\n",
       "    </tr>\n",
       "    <tr>\n",
       "      <th>1</th>\n",
       "      <td>1988.0</td>\n",
       "      <td>F1</td>\n",
       "      <td>F</td>\n",
       "      <td>0 days 03:13:57</td>\n",
       "      <td>0 days 03:40:22</td>\n",
       "      <td>0 days 02:48:22</td>\n",
       "      <td>0 days 03:24:07</td>\n",
       "      <td>0 days 13:06:48</td>\n",
       "      <td>196.0</td>\n",
       "      <td>True</td>\n",
       "      <td>786.0</td>\n",
       "    </tr>\n",
       "    <tr>\n",
       "      <th>2</th>\n",
       "      <td>1982.0</td>\n",
       "      <td>F2</td>\n",
       "      <td>F</td>\n",
       "      <td>0 days 03:23:21</td>\n",
       "      <td>0 days 03:53:42</td>\n",
       "      <td>0 days 03:04:38</td>\n",
       "      <td>0 days 03:43:54</td>\n",
       "      <td>0 days 14:05:35</td>\n",
       "      <td>196.0</td>\n",
       "      <td>True</td>\n",
       "      <td>845.0</td>\n",
       "    </tr>\n",
       "    <tr>\n",
       "      <th>3</th>\n",
       "      <td>1986.0</td>\n",
       "      <td>F1</td>\n",
       "      <td>F</td>\n",
       "      <td>0 days 03:31:41</td>\n",
       "      <td>0 days 03:59:24</td>\n",
       "      <td>0 days 03:05:44</td>\n",
       "      <td>0 days 03:45:58</td>\n",
       "      <td>0 days 14:22:47</td>\n",
       "      <td>196.0</td>\n",
       "      <td>True</td>\n",
       "      <td>862.0</td>\n",
       "    </tr>\n",
       "    <tr>\n",
       "      <th>4</th>\n",
       "      <td>1978.0</td>\n",
       "      <td>F3</td>\n",
       "      <td>F</td>\n",
       "      <td>0 days 03:31:31</td>\n",
       "      <td>0 days 04:00:30</td>\n",
       "      <td>0 days 03:17:03</td>\n",
       "      <td>0 days 03:53:35</td>\n",
       "      <td>0 days 14:42:39</td>\n",
       "      <td>196.0</td>\n",
       "      <td>True</td>\n",
       "      <td>882.0</td>\n",
       "    </tr>\n",
       "    <tr>\n",
       "      <th>...</th>\n",
       "      <td>...</td>\n",
       "      <td>...</td>\n",
       "      <td>...</td>\n",
       "      <td>...</td>\n",
       "      <td>...</td>\n",
       "      <td>...</td>\n",
       "      <td>...</td>\n",
       "      <td>...</td>\n",
       "      <td>...</td>\n",
       "      <td>...</td>\n",
       "      <td>...</td>\n",
       "    </tr>\n",
       "    <tr>\n",
       "      <th>1813</th>\n",
       "      <td>NaN</td>\n",
       "      <td>NaN</td>\n",
       "      <td>NaN</td>\n",
       "      <td>NaT</td>\n",
       "      <td>NaT</td>\n",
       "      <td>NaT</td>\n",
       "      <td>NaT</td>\n",
       "      <td>0 days 00:00:00</td>\n",
       "      <td>NaN</td>\n",
       "      <td>True</td>\n",
       "      <td>0.0</td>\n",
       "    </tr>\n",
       "    <tr>\n",
       "      <th>1814</th>\n",
       "      <td>NaN</td>\n",
       "      <td>NaN</td>\n",
       "      <td>NaN</td>\n",
       "      <td>NaT</td>\n",
       "      <td>NaT</td>\n",
       "      <td>NaT</td>\n",
       "      <td>NaT</td>\n",
       "      <td>0 days 00:00:00</td>\n",
       "      <td>NaN</td>\n",
       "      <td>True</td>\n",
       "      <td>0.0</td>\n",
       "    </tr>\n",
       "    <tr>\n",
       "      <th>1815</th>\n",
       "      <td>NaN</td>\n",
       "      <td>NaN</td>\n",
       "      <td>NaN</td>\n",
       "      <td>NaT</td>\n",
       "      <td>NaT</td>\n",
       "      <td>NaT</td>\n",
       "      <td>NaT</td>\n",
       "      <td>0 days 00:00:00</td>\n",
       "      <td>NaN</td>\n",
       "      <td>True</td>\n",
       "      <td>0.0</td>\n",
       "    </tr>\n",
       "    <tr>\n",
       "      <th>1816</th>\n",
       "      <td>NaN</td>\n",
       "      <td>NaN</td>\n",
       "      <td>NaN</td>\n",
       "      <td>NaT</td>\n",
       "      <td>NaT</td>\n",
       "      <td>NaT</td>\n",
       "      <td>NaT</td>\n",
       "      <td>0 days 00:00:00</td>\n",
       "      <td>NaN</td>\n",
       "      <td>True</td>\n",
       "      <td>0.0</td>\n",
       "    </tr>\n",
       "    <tr>\n",
       "      <th>1817</th>\n",
       "      <td>NaN</td>\n",
       "      <td>NaN</td>\n",
       "      <td>NaN</td>\n",
       "      <td>NaT</td>\n",
       "      <td>NaT</td>\n",
       "      <td>NaT</td>\n",
       "      <td>NaT</td>\n",
       "      <td>0 days 00:00:00</td>\n",
       "      <td>NaN</td>\n",
       "      <td>True</td>\n",
       "      <td>0.0</td>\n",
       "    </tr>\n",
       "  </tbody>\n",
       "</table>\n",
       "<p>1818 rows × 11 columns</p>\n",
       "</div>"
      ],
      "text/plain": [
       "      sz.év. Kategória  nem   1.nap összidõ   2.nap összidõ   3.nap összidõ  \\\n",
       "0     1977.0        F3    F 0 days 03:08:51 0 days 03:30:32 0 days 02:53:54   \n",
       "1     1988.0        F1    F 0 days 03:13:57 0 days 03:40:22 0 days 02:48:22   \n",
       "2     1982.0        F2    F 0 days 03:23:21 0 days 03:53:42 0 days 03:04:38   \n",
       "3     1986.0        F1    F 0 days 03:31:41 0 days 03:59:24 0 days 03:05:44   \n",
       "4     1978.0        F3    F 0 days 03:31:31 0 days 04:00:30 0 days 03:17:03   \n",
       "...      ...       ...  ...             ...             ...             ...   \n",
       "1813     NaN       NaN  NaN             NaT             NaT             NaT   \n",
       "1814     NaN       NaN  NaN             NaT             NaT             NaT   \n",
       "1815     NaN       NaN  NaN             NaT             NaT             NaT   \n",
       "1816     NaN       NaN  NaN             NaT             NaT             NaT   \n",
       "1817     NaN       NaN  NaN             NaT             NaT             NaT   \n",
       "\n",
       "       4.nap összidõ        eredmény  Megtett táv (km)  befejezte  \\\n",
       "0    0 days 03:28:51 0 days 13:02:08             196.0       True   \n",
       "1    0 days 03:24:07 0 days 13:06:48             196.0       True   \n",
       "2    0 days 03:43:54 0 days 14:05:35             196.0       True   \n",
       "3    0 days 03:45:58 0 days 14:22:47             196.0       True   \n",
       "4    0 days 03:53:35 0 days 14:42:39             196.0       True   \n",
       "...              ...             ...               ...        ...   \n",
       "1813             NaT 0 days 00:00:00               NaN       True   \n",
       "1814             NaT 0 days 00:00:00               NaN       True   \n",
       "1815             NaT 0 days 00:00:00               NaN       True   \n",
       "1816             NaT 0 days 00:00:00               NaN       True   \n",
       "1817             NaT 0 days 00:00:00               NaN       True   \n",
       "\n",
       "      eredmény(perc)  \n",
       "0              782.0  \n",
       "1              786.0  \n",
       "2              845.0  \n",
       "3              862.0  \n",
       "4              882.0  \n",
       "...              ...  \n",
       "1813             0.0  \n",
       "1814             0.0  \n",
       "1815             0.0  \n",
       "1816             0.0  \n",
       "1817             0.0  \n",
       "\n",
       "[1818 rows x 11 columns]"
      ]
     },
     "execution_count": 66,
     "metadata": {},
     "output_type": "execute_result"
    }
   ],
   "source": [
    "bszm_osszes[\"eredmény(perc)\"] = bszm_osszes['eredmény'].astype('timedelta64[m]')\n",
    "bszm_osszes"
   ]
  },
  {
   "cell_type": "markdown",
   "metadata": {
    "id": "7mU5WllmvmX6"
   },
   "source": [
    "Így már hozzáadható egy új oszlop az adattáblához, ami mutatja minden személy saját átlag tempóját (perc/km)"
   ]
  },
  {
   "cell_type": "code",
   "execution_count": 67,
   "metadata": {
    "colab": {
     "base_uri": "https://localhost:8080/",
     "height": 419
    },
    "id": "6oG54QD2CU-z",
    "outputId": "a65ab317-c7ad-47df-a084-4b8dae5fb69f"
   },
   "outputs": [
    {
     "data": {
      "text/html": [
       "<div>\n",
       "<style scoped>\n",
       "    .dataframe tbody tr th:only-of-type {\n",
       "        vertical-align: middle;\n",
       "    }\n",
       "\n",
       "    .dataframe tbody tr th {\n",
       "        vertical-align: top;\n",
       "    }\n",
       "\n",
       "    .dataframe thead th {\n",
       "        text-align: right;\n",
       "    }\n",
       "</style>\n",
       "<table border=\"1\" class=\"dataframe\">\n",
       "  <thead>\n",
       "    <tr style=\"text-align: right;\">\n",
       "      <th></th>\n",
       "      <th>sz.év.</th>\n",
       "      <th>Kategória</th>\n",
       "      <th>nem</th>\n",
       "      <th>1.nap összidõ</th>\n",
       "      <th>2.nap összidõ</th>\n",
       "      <th>3.nap összidõ</th>\n",
       "      <th>4.nap összidõ</th>\n",
       "      <th>eredmény</th>\n",
       "      <th>Megtett táv (km)</th>\n",
       "      <th>befejezte</th>\n",
       "      <th>eredmény(perc)</th>\n",
       "      <th>átlagos tempó (perc/km)</th>\n",
       "    </tr>\n",
       "  </thead>\n",
       "  <tbody>\n",
       "    <tr>\n",
       "      <th>0</th>\n",
       "      <td>1977.0</td>\n",
       "      <td>F3</td>\n",
       "      <td>F</td>\n",
       "      <td>0 days 03:08:51</td>\n",
       "      <td>0 days 03:30:32</td>\n",
       "      <td>0 days 02:53:54</td>\n",
       "      <td>0 days 03:28:51</td>\n",
       "      <td>0 days 13:02:08</td>\n",
       "      <td>196.0</td>\n",
       "      <td>True</td>\n",
       "      <td>782.0</td>\n",
       "      <td>3.989796</td>\n",
       "    </tr>\n",
       "    <tr>\n",
       "      <th>1</th>\n",
       "      <td>1988.0</td>\n",
       "      <td>F1</td>\n",
       "      <td>F</td>\n",
       "      <td>0 days 03:13:57</td>\n",
       "      <td>0 days 03:40:22</td>\n",
       "      <td>0 days 02:48:22</td>\n",
       "      <td>0 days 03:24:07</td>\n",
       "      <td>0 days 13:06:48</td>\n",
       "      <td>196.0</td>\n",
       "      <td>True</td>\n",
       "      <td>786.0</td>\n",
       "      <td>4.010204</td>\n",
       "    </tr>\n",
       "    <tr>\n",
       "      <th>2</th>\n",
       "      <td>1982.0</td>\n",
       "      <td>F2</td>\n",
       "      <td>F</td>\n",
       "      <td>0 days 03:23:21</td>\n",
       "      <td>0 days 03:53:42</td>\n",
       "      <td>0 days 03:04:38</td>\n",
       "      <td>0 days 03:43:54</td>\n",
       "      <td>0 days 14:05:35</td>\n",
       "      <td>196.0</td>\n",
       "      <td>True</td>\n",
       "      <td>845.0</td>\n",
       "      <td>4.311224</td>\n",
       "    </tr>\n",
       "    <tr>\n",
       "      <th>3</th>\n",
       "      <td>1986.0</td>\n",
       "      <td>F1</td>\n",
       "      <td>F</td>\n",
       "      <td>0 days 03:31:41</td>\n",
       "      <td>0 days 03:59:24</td>\n",
       "      <td>0 days 03:05:44</td>\n",
       "      <td>0 days 03:45:58</td>\n",
       "      <td>0 days 14:22:47</td>\n",
       "      <td>196.0</td>\n",
       "      <td>True</td>\n",
       "      <td>862.0</td>\n",
       "      <td>4.397959</td>\n",
       "    </tr>\n",
       "    <tr>\n",
       "      <th>4</th>\n",
       "      <td>1978.0</td>\n",
       "      <td>F3</td>\n",
       "      <td>F</td>\n",
       "      <td>0 days 03:31:31</td>\n",
       "      <td>0 days 04:00:30</td>\n",
       "      <td>0 days 03:17:03</td>\n",
       "      <td>0 days 03:53:35</td>\n",
       "      <td>0 days 14:42:39</td>\n",
       "      <td>196.0</td>\n",
       "      <td>True</td>\n",
       "      <td>882.0</td>\n",
       "      <td>4.500000</td>\n",
       "    </tr>\n",
       "    <tr>\n",
       "      <th>...</th>\n",
       "      <td>...</td>\n",
       "      <td>...</td>\n",
       "      <td>...</td>\n",
       "      <td>...</td>\n",
       "      <td>...</td>\n",
       "      <td>...</td>\n",
       "      <td>...</td>\n",
       "      <td>...</td>\n",
       "      <td>...</td>\n",
       "      <td>...</td>\n",
       "      <td>...</td>\n",
       "      <td>...</td>\n",
       "    </tr>\n",
       "    <tr>\n",
       "      <th>1813</th>\n",
       "      <td>NaN</td>\n",
       "      <td>NaN</td>\n",
       "      <td>NaN</td>\n",
       "      <td>NaT</td>\n",
       "      <td>NaT</td>\n",
       "      <td>NaT</td>\n",
       "      <td>NaT</td>\n",
       "      <td>0 days 00:00:00</td>\n",
       "      <td>NaN</td>\n",
       "      <td>True</td>\n",
       "      <td>0.0</td>\n",
       "      <td>NaN</td>\n",
       "    </tr>\n",
       "    <tr>\n",
       "      <th>1814</th>\n",
       "      <td>NaN</td>\n",
       "      <td>NaN</td>\n",
       "      <td>NaN</td>\n",
       "      <td>NaT</td>\n",
       "      <td>NaT</td>\n",
       "      <td>NaT</td>\n",
       "      <td>NaT</td>\n",
       "      <td>0 days 00:00:00</td>\n",
       "      <td>NaN</td>\n",
       "      <td>True</td>\n",
       "      <td>0.0</td>\n",
       "      <td>NaN</td>\n",
       "    </tr>\n",
       "    <tr>\n",
       "      <th>1815</th>\n",
       "      <td>NaN</td>\n",
       "      <td>NaN</td>\n",
       "      <td>NaN</td>\n",
       "      <td>NaT</td>\n",
       "      <td>NaT</td>\n",
       "      <td>NaT</td>\n",
       "      <td>NaT</td>\n",
       "      <td>0 days 00:00:00</td>\n",
       "      <td>NaN</td>\n",
       "      <td>True</td>\n",
       "      <td>0.0</td>\n",
       "      <td>NaN</td>\n",
       "    </tr>\n",
       "    <tr>\n",
       "      <th>1816</th>\n",
       "      <td>NaN</td>\n",
       "      <td>NaN</td>\n",
       "      <td>NaN</td>\n",
       "      <td>NaT</td>\n",
       "      <td>NaT</td>\n",
       "      <td>NaT</td>\n",
       "      <td>NaT</td>\n",
       "      <td>0 days 00:00:00</td>\n",
       "      <td>NaN</td>\n",
       "      <td>True</td>\n",
       "      <td>0.0</td>\n",
       "      <td>NaN</td>\n",
       "    </tr>\n",
       "    <tr>\n",
       "      <th>1817</th>\n",
       "      <td>NaN</td>\n",
       "      <td>NaN</td>\n",
       "      <td>NaN</td>\n",
       "      <td>NaT</td>\n",
       "      <td>NaT</td>\n",
       "      <td>NaT</td>\n",
       "      <td>NaT</td>\n",
       "      <td>0 days 00:00:00</td>\n",
       "      <td>NaN</td>\n",
       "      <td>True</td>\n",
       "      <td>0.0</td>\n",
       "      <td>NaN</td>\n",
       "    </tr>\n",
       "  </tbody>\n",
       "</table>\n",
       "<p>1818 rows × 12 columns</p>\n",
       "</div>"
      ],
      "text/plain": [
       "      sz.év. Kategória  nem   1.nap összidõ   2.nap összidõ   3.nap összidõ  \\\n",
       "0     1977.0        F3    F 0 days 03:08:51 0 days 03:30:32 0 days 02:53:54   \n",
       "1     1988.0        F1    F 0 days 03:13:57 0 days 03:40:22 0 days 02:48:22   \n",
       "2     1982.0        F2    F 0 days 03:23:21 0 days 03:53:42 0 days 03:04:38   \n",
       "3     1986.0        F1    F 0 days 03:31:41 0 days 03:59:24 0 days 03:05:44   \n",
       "4     1978.0        F3    F 0 days 03:31:31 0 days 04:00:30 0 days 03:17:03   \n",
       "...      ...       ...  ...             ...             ...             ...   \n",
       "1813     NaN       NaN  NaN             NaT             NaT             NaT   \n",
       "1814     NaN       NaN  NaN             NaT             NaT             NaT   \n",
       "1815     NaN       NaN  NaN             NaT             NaT             NaT   \n",
       "1816     NaN       NaN  NaN             NaT             NaT             NaT   \n",
       "1817     NaN       NaN  NaN             NaT             NaT             NaT   \n",
       "\n",
       "       4.nap összidõ        eredmény  Megtett táv (km)  befejezte  \\\n",
       "0    0 days 03:28:51 0 days 13:02:08             196.0       True   \n",
       "1    0 days 03:24:07 0 days 13:06:48             196.0       True   \n",
       "2    0 days 03:43:54 0 days 14:05:35             196.0       True   \n",
       "3    0 days 03:45:58 0 days 14:22:47             196.0       True   \n",
       "4    0 days 03:53:35 0 days 14:42:39             196.0       True   \n",
       "...              ...             ...               ...        ...   \n",
       "1813             NaT 0 days 00:00:00               NaN       True   \n",
       "1814             NaT 0 days 00:00:00               NaN       True   \n",
       "1815             NaT 0 days 00:00:00               NaN       True   \n",
       "1816             NaT 0 days 00:00:00               NaN       True   \n",
       "1817             NaT 0 days 00:00:00               NaN       True   \n",
       "\n",
       "      eredmény(perc)  átlagos tempó (perc/km)  \n",
       "0              782.0                 3.989796  \n",
       "1              786.0                 4.010204  \n",
       "2              845.0                 4.311224  \n",
       "3              862.0                 4.397959  \n",
       "4              882.0                 4.500000  \n",
       "...              ...                      ...  \n",
       "1813             0.0                      NaN  \n",
       "1814             0.0                      NaN  \n",
       "1815             0.0                      NaN  \n",
       "1816             0.0                      NaN  \n",
       "1817             0.0                      NaN  \n",
       "\n",
       "[1818 rows x 12 columns]"
      ]
     },
     "execution_count": 67,
     "metadata": {},
     "output_type": "execute_result"
    }
   ],
   "source": [
    "bszm_osszes[\"átlagos tempó (perc/km)\"] = bszm_osszes['eredmény'].astype('timedelta64[m]')/bszm_osszes['Megtett táv (km)']\n",
    "bszm_osszes"
   ]
  },
  {
   "cell_type": "markdown",
   "metadata": {
    "id": "EU3lAQqOvmX7"
   },
   "source": [
    "### Adatdiszkretizáció"
   ]
  },
  {
   "cell_type": "markdown",
   "metadata": {
    "id": "ARkTO0IzvmX7"
   },
   "source": [
    "### Vödrözés"
   ]
  },
  {
   "cell_type": "markdown",
   "metadata": {
    "id": "A1Ao6ipNvmX7"
   },
   "source": [
    "Vödrözési technika alkalmazásával besorolhatjuk a versenyzőket sebességük alapján, egyenlő mélységű vödrökbe. Ez azért lesz jó nekünk, mivel az osztályozás feladat elvégzésénél könnyebben tudunk majd kategórikus adatokkal dolgozni."
   ]
  },
  {
   "cell_type": "code",
   "execution_count": 68,
   "metadata": {
    "colab": {
     "base_uri": "https://localhost:8080/",
     "height": 419
    },
    "id": "1iaNU-GivmX7",
    "outputId": "1a8839d1-44fe-4a67-c104-4777f9c8e97e"
   },
   "outputs": [
    {
     "data": {
      "text/html": [
       "<div>\n",
       "<style scoped>\n",
       "    .dataframe tbody tr th:only-of-type {\n",
       "        vertical-align: middle;\n",
       "    }\n",
       "\n",
       "    .dataframe tbody tr th {\n",
       "        vertical-align: top;\n",
       "    }\n",
       "\n",
       "    .dataframe thead th {\n",
       "        text-align: right;\n",
       "    }\n",
       "</style>\n",
       "<table border=\"1\" class=\"dataframe\">\n",
       "  <thead>\n",
       "    <tr style=\"text-align: right;\">\n",
       "      <th></th>\n",
       "      <th>sz.év.</th>\n",
       "      <th>Kategória</th>\n",
       "      <th>nem</th>\n",
       "      <th>1.nap összidõ</th>\n",
       "      <th>2.nap összidõ</th>\n",
       "      <th>3.nap összidõ</th>\n",
       "      <th>4.nap összidõ</th>\n",
       "      <th>eredmény</th>\n",
       "      <th>Megtett táv (km)</th>\n",
       "      <th>befejezte</th>\n",
       "      <th>eredmény(perc)</th>\n",
       "      <th>átlagos tempó (perc/km)</th>\n",
       "      <th>sebesség kategória</th>\n",
       "    </tr>\n",
       "  </thead>\n",
       "  <tbody>\n",
       "    <tr>\n",
       "      <th>1718</th>\n",
       "      <td>1982.0</td>\n",
       "      <td>F2</td>\n",
       "      <td>F</td>\n",
       "      <td>0 days 05:16:38</td>\n",
       "      <td>NaT</td>\n",
       "      <td>NaT</td>\n",
       "      <td>NaT</td>\n",
       "      <td>0 days 05:16:38</td>\n",
       "      <td>48.0</td>\n",
       "      <td>False</td>\n",
       "      <td>316.0</td>\n",
       "      <td>6.583333</td>\n",
       "      <td>közepesen lassú</td>\n",
       "    </tr>\n",
       "    <tr>\n",
       "      <th>1719</th>\n",
       "      <td>1954.0</td>\n",
       "      <td>F4</td>\n",
       "      <td>F</td>\n",
       "      <td>0 days 04:22:14</td>\n",
       "      <td>NaT</td>\n",
       "      <td>NaT</td>\n",
       "      <td>NaT</td>\n",
       "      <td>0 days 04:22:14</td>\n",
       "      <td>48.0</td>\n",
       "      <td>False</td>\n",
       "      <td>262.0</td>\n",
       "      <td>5.458333</td>\n",
       "      <td>gyors</td>\n",
       "    </tr>\n",
       "    <tr>\n",
       "      <th>1720</th>\n",
       "      <td>1935.0</td>\n",
       "      <td>F4</td>\n",
       "      <td>F</td>\n",
       "      <td>NaT</td>\n",
       "      <td>0 days 07:14:02</td>\n",
       "      <td>0 days 06:10:10</td>\n",
       "      <td>0 days 07:22:34</td>\n",
       "      <td>0 days 20:46:46</td>\n",
       "      <td>141.0</td>\n",
       "      <td>False</td>\n",
       "      <td>1246.0</td>\n",
       "      <td>8.836879</td>\n",
       "      <td>lassú</td>\n",
       "    </tr>\n",
       "    <tr>\n",
       "      <th>1721</th>\n",
       "      <td>1970.0</td>\n",
       "      <td>N3</td>\n",
       "      <td>N</td>\n",
       "      <td>0 days 05:09:33</td>\n",
       "      <td>0 days 06:16:38</td>\n",
       "      <td>NaT</td>\n",
       "      <td>NaT</td>\n",
       "      <td>0 days 11:26:11</td>\n",
       "      <td>101.0</td>\n",
       "      <td>False</td>\n",
       "      <td>686.0</td>\n",
       "      <td>6.792079</td>\n",
       "      <td>közepesen lassú</td>\n",
       "    </tr>\n",
       "    <tr>\n",
       "      <th>1722</th>\n",
       "      <td>1973.0</td>\n",
       "      <td>F3</td>\n",
       "      <td>F</td>\n",
       "      <td>0 days 04:57:12</td>\n",
       "      <td>0 days 05:58:11</td>\n",
       "      <td>NaT</td>\n",
       "      <td>NaT</td>\n",
       "      <td>0 days 10:55:23</td>\n",
       "      <td>101.0</td>\n",
       "      <td>False</td>\n",
       "      <td>655.0</td>\n",
       "      <td>6.485149</td>\n",
       "      <td>közepes</td>\n",
       "    </tr>\n",
       "    <tr>\n",
       "      <th>...</th>\n",
       "      <td>...</td>\n",
       "      <td>...</td>\n",
       "      <td>...</td>\n",
       "      <td>...</td>\n",
       "      <td>...</td>\n",
       "      <td>...</td>\n",
       "      <td>...</td>\n",
       "      <td>...</td>\n",
       "      <td>...</td>\n",
       "      <td>...</td>\n",
       "      <td>...</td>\n",
       "      <td>...</td>\n",
       "      <td>...</td>\n",
       "    </tr>\n",
       "    <tr>\n",
       "      <th>1813</th>\n",
       "      <td>NaN</td>\n",
       "      <td>NaN</td>\n",
       "      <td>NaN</td>\n",
       "      <td>NaT</td>\n",
       "      <td>NaT</td>\n",
       "      <td>NaT</td>\n",
       "      <td>NaT</td>\n",
       "      <td>0 days 00:00:00</td>\n",
       "      <td>NaN</td>\n",
       "      <td>True</td>\n",
       "      <td>0.0</td>\n",
       "      <td>NaN</td>\n",
       "      <td>NaN</td>\n",
       "    </tr>\n",
       "    <tr>\n",
       "      <th>1814</th>\n",
       "      <td>NaN</td>\n",
       "      <td>NaN</td>\n",
       "      <td>NaN</td>\n",
       "      <td>NaT</td>\n",
       "      <td>NaT</td>\n",
       "      <td>NaT</td>\n",
       "      <td>NaT</td>\n",
       "      <td>0 days 00:00:00</td>\n",
       "      <td>NaN</td>\n",
       "      <td>True</td>\n",
       "      <td>0.0</td>\n",
       "      <td>NaN</td>\n",
       "      <td>NaN</td>\n",
       "    </tr>\n",
       "    <tr>\n",
       "      <th>1815</th>\n",
       "      <td>NaN</td>\n",
       "      <td>NaN</td>\n",
       "      <td>NaN</td>\n",
       "      <td>NaT</td>\n",
       "      <td>NaT</td>\n",
       "      <td>NaT</td>\n",
       "      <td>NaT</td>\n",
       "      <td>0 days 00:00:00</td>\n",
       "      <td>NaN</td>\n",
       "      <td>True</td>\n",
       "      <td>0.0</td>\n",
       "      <td>NaN</td>\n",
       "      <td>NaN</td>\n",
       "    </tr>\n",
       "    <tr>\n",
       "      <th>1816</th>\n",
       "      <td>NaN</td>\n",
       "      <td>NaN</td>\n",
       "      <td>NaN</td>\n",
       "      <td>NaT</td>\n",
       "      <td>NaT</td>\n",
       "      <td>NaT</td>\n",
       "      <td>NaT</td>\n",
       "      <td>0 days 00:00:00</td>\n",
       "      <td>NaN</td>\n",
       "      <td>True</td>\n",
       "      <td>0.0</td>\n",
       "      <td>NaN</td>\n",
       "      <td>NaN</td>\n",
       "    </tr>\n",
       "    <tr>\n",
       "      <th>1817</th>\n",
       "      <td>NaN</td>\n",
       "      <td>NaN</td>\n",
       "      <td>NaN</td>\n",
       "      <td>NaT</td>\n",
       "      <td>NaT</td>\n",
       "      <td>NaT</td>\n",
       "      <td>NaT</td>\n",
       "      <td>0 days 00:00:00</td>\n",
       "      <td>NaN</td>\n",
       "      <td>True</td>\n",
       "      <td>0.0</td>\n",
       "      <td>NaN</td>\n",
       "      <td>NaN</td>\n",
       "    </tr>\n",
       "  </tbody>\n",
       "</table>\n",
       "<p>100 rows × 13 columns</p>\n",
       "</div>"
      ],
      "text/plain": [
       "      sz.év. Kategória  nem   1.nap összidõ   2.nap összidõ   3.nap összidõ  \\\n",
       "1718  1982.0        F2    F 0 days 05:16:38             NaT             NaT   \n",
       "1719  1954.0        F4    F 0 days 04:22:14             NaT             NaT   \n",
       "1720  1935.0        F4    F             NaT 0 days 07:14:02 0 days 06:10:10   \n",
       "1721  1970.0        N3    N 0 days 05:09:33 0 days 06:16:38             NaT   \n",
       "1722  1973.0        F3    F 0 days 04:57:12 0 days 05:58:11             NaT   \n",
       "...      ...       ...  ...             ...             ...             ...   \n",
       "1813     NaN       NaN  NaN             NaT             NaT             NaT   \n",
       "1814     NaN       NaN  NaN             NaT             NaT             NaT   \n",
       "1815     NaN       NaN  NaN             NaT             NaT             NaT   \n",
       "1816     NaN       NaN  NaN             NaT             NaT             NaT   \n",
       "1817     NaN       NaN  NaN             NaT             NaT             NaT   \n",
       "\n",
       "       4.nap összidõ        eredmény  Megtett táv (km)  befejezte  \\\n",
       "1718             NaT 0 days 05:16:38              48.0      False   \n",
       "1719             NaT 0 days 04:22:14              48.0      False   \n",
       "1720 0 days 07:22:34 0 days 20:46:46             141.0      False   \n",
       "1721             NaT 0 days 11:26:11             101.0      False   \n",
       "1722             NaT 0 days 10:55:23             101.0      False   \n",
       "...              ...             ...               ...        ...   \n",
       "1813             NaT 0 days 00:00:00               NaN       True   \n",
       "1814             NaT 0 days 00:00:00               NaN       True   \n",
       "1815             NaT 0 days 00:00:00               NaN       True   \n",
       "1816             NaT 0 days 00:00:00               NaN       True   \n",
       "1817             NaT 0 days 00:00:00               NaN       True   \n",
       "\n",
       "      eredmény(perc)  átlagos tempó (perc/km) sebesség kategória  \n",
       "1718           316.0                 6.583333    közepesen lassú  \n",
       "1719           262.0                 5.458333              gyors  \n",
       "1720          1246.0                 8.836879              lassú  \n",
       "1721           686.0                 6.792079    közepesen lassú  \n",
       "1722           655.0                 6.485149            közepes  \n",
       "...              ...                      ...                ...  \n",
       "1813             0.0                      NaN                NaN  \n",
       "1814             0.0                      NaN                NaN  \n",
       "1815             0.0                      NaN                NaN  \n",
       "1816             0.0                      NaN                NaN  \n",
       "1817             0.0                      NaN                NaN  \n",
       "\n",
       "[100 rows x 13 columns]"
      ]
     },
     "execution_count": 68,
     "metadata": {},
     "output_type": "execute_result"
    }
   ],
   "source": [
    "bszm_osszes['sebesség kategória'] = pd.qcut(bszm_osszes['átlagos tempó (perc/km)'], 5, labels=['gyors', 'közepesen gyors', 'közepes', 'közepesen lassú', 'lassú'])\n",
    "bszm_osszes.tail(100)"
   ]
  },
  {
   "cell_type": "markdown",
   "metadata": {
    "id": "8f4xdlgnvmX8"
   },
   "source": [
    "### Duplikált sorok törlése"
   ]
  },
  {
   "cell_type": "code",
   "execution_count": 69,
   "metadata": {
    "colab": {
     "base_uri": "https://localhost:8080/"
    },
    "id": "1mQz1C1mvmX8",
    "outputId": "b783e64a-4290-4f76-9642-bc5e79efbc34"
   },
   "outputs": [
    {
     "data": {
      "text/plain": [
       "(1818, 13)"
      ]
     },
     "execution_count": 69,
     "metadata": {},
     "output_type": "execute_result"
    }
   ],
   "source": [
    "bszm_osszes.shape"
   ]
  },
  {
   "cell_type": "markdown",
   "metadata": {
    "id": "oXt7fGZ8vmX8"
   },
   "source": [
    "Amint már feljebb említettem az adathalmazunk még mindig sok értelmetlen adattal rendelkezik, de szerencsénkre ezeket egyszerűen kitudjuk javítani a duplikátumok törlésével.<br/> <br/> *(Valószínüleg adatmigráció során egy adattáblából nem sikerült rendesen összefűzni az adatokat)*"
   ]
  },
  {
   "cell_type": "code",
   "execution_count": 70,
   "metadata": {
    "colab": {
     "base_uri": "https://localhost:8080/"
    },
    "id": "TYBK1WcNvmX8",
    "outputId": "b4743285-3bb9-4a81-f351-cc52fde47aa2"
   },
   "outputs": [
    {
     "data": {
      "text/plain": [
       "(1571, 13)"
      ]
     },
     "execution_count": 70,
     "metadata": {},
     "output_type": "execute_result"
    }
   ],
   "source": [
    "bszm_osszes.drop_duplicates(inplace=True)\n",
    "bszm_osszes.shape"
   ]
  },
  {
   "cell_type": "markdown",
   "metadata": {
    "id": "RPWu-zkCvmX8"
   },
   "source": [
    "Körülbelül 250 sortól szabadultunk így meg. Így már látható hogy az adathalmaz legalján nem csak értelmetlen adatok jelennek meg."
   ]
  },
  {
   "cell_type": "code",
   "execution_count": 71,
   "metadata": {
    "colab": {
     "base_uri": "https://localhost:8080/",
     "height": 204
    },
    "id": "uN6-4IM4vmX9",
    "outputId": "ab59d64f-b901-45f3-da6c-c986ffa0d24c"
   },
   "outputs": [
    {
     "data": {
      "text/html": [
       "<div>\n",
       "<style scoped>\n",
       "    .dataframe tbody tr th:only-of-type {\n",
       "        vertical-align: middle;\n",
       "    }\n",
       "\n",
       "    .dataframe tbody tr th {\n",
       "        vertical-align: top;\n",
       "    }\n",
       "\n",
       "    .dataframe thead th {\n",
       "        text-align: right;\n",
       "    }\n",
       "</style>\n",
       "<table border=\"1\" class=\"dataframe\">\n",
       "  <thead>\n",
       "    <tr style=\"text-align: right;\">\n",
       "      <th></th>\n",
       "      <th>sz.év.</th>\n",
       "      <th>Kategória</th>\n",
       "      <th>nem</th>\n",
       "      <th>1.nap összidõ</th>\n",
       "      <th>2.nap összidõ</th>\n",
       "      <th>3.nap összidõ</th>\n",
       "      <th>4.nap összidõ</th>\n",
       "      <th>eredmény</th>\n",
       "      <th>Megtett táv (km)</th>\n",
       "      <th>befejezte</th>\n",
       "      <th>eredmény(perc)</th>\n",
       "      <th>átlagos tempó (perc/km)</th>\n",
       "      <th>sebesség kategória</th>\n",
       "    </tr>\n",
       "  </thead>\n",
       "  <tbody>\n",
       "    <tr>\n",
       "      <th>1726</th>\n",
       "      <td>1980.0</td>\n",
       "      <td>F2</td>\n",
       "      <td>F</td>\n",
       "      <td>0 days 04:17:34</td>\n",
       "      <td>0 days 05:37:34</td>\n",
       "      <td>0 days 04:48:01</td>\n",
       "      <td>NaT</td>\n",
       "      <td>0 days 14:43:09</td>\n",
       "      <td>145.0</td>\n",
       "      <td>False</td>\n",
       "      <td>883.0</td>\n",
       "      <td>6.089655</td>\n",
       "      <td>közepes</td>\n",
       "    </tr>\n",
       "    <tr>\n",
       "      <th>1727</th>\n",
       "      <td>1977.0</td>\n",
       "      <td>F2</td>\n",
       "      <td>F</td>\n",
       "      <td>0 days 03:31:53</td>\n",
       "      <td>0 days 04:11:03</td>\n",
       "      <td>NaT</td>\n",
       "      <td>NaT</td>\n",
       "      <td>0 days 07:42:56</td>\n",
       "      <td>101.0</td>\n",
       "      <td>False</td>\n",
       "      <td>462.0</td>\n",
       "      <td>4.574257</td>\n",
       "      <td>gyors</td>\n",
       "    </tr>\n",
       "    <tr>\n",
       "      <th>1728</th>\n",
       "      <td>1976.0</td>\n",
       "      <td>F2</td>\n",
       "      <td>F</td>\n",
       "      <td>0 days 04:48:24</td>\n",
       "      <td>NaT</td>\n",
       "      <td>NaT</td>\n",
       "      <td>NaT</td>\n",
       "      <td>0 days 04:48:24</td>\n",
       "      <td>48.0</td>\n",
       "      <td>False</td>\n",
       "      <td>288.0</td>\n",
       "      <td>6.000000</td>\n",
       "      <td>közepesen gyors</td>\n",
       "    </tr>\n",
       "    <tr>\n",
       "      <th>1729</th>\n",
       "      <td>1959.0</td>\n",
       "      <td>F4</td>\n",
       "      <td>F</td>\n",
       "      <td>0 days 05:17:14</td>\n",
       "      <td>0 days 06:10:19</td>\n",
       "      <td>0 days 05:10:41</td>\n",
       "      <td>NaT</td>\n",
       "      <td>0 days 16:38:14</td>\n",
       "      <td>145.0</td>\n",
       "      <td>False</td>\n",
       "      <td>998.0</td>\n",
       "      <td>6.882759</td>\n",
       "      <td>közepesen lassú</td>\n",
       "    </tr>\n",
       "    <tr>\n",
       "      <th>1730</th>\n",
       "      <td>1997.0</td>\n",
       "      <td>F1</td>\n",
       "      <td>F</td>\n",
       "      <td>0 days 04:46:55</td>\n",
       "      <td>NaT</td>\n",
       "      <td>NaT</td>\n",
       "      <td>NaT</td>\n",
       "      <td>0 days 04:46:55</td>\n",
       "      <td>48.0</td>\n",
       "      <td>False</td>\n",
       "      <td>286.0</td>\n",
       "      <td>5.958333</td>\n",
       "      <td>közepesen gyors</td>\n",
       "    </tr>\n",
       "  </tbody>\n",
       "</table>\n",
       "</div>"
      ],
      "text/plain": [
       "      sz.év. Kategória nem   1.nap összidõ   2.nap összidõ   3.nap összidõ  \\\n",
       "1726  1980.0        F2   F 0 days 04:17:34 0 days 05:37:34 0 days 04:48:01   \n",
       "1727  1977.0        F2   F 0 days 03:31:53 0 days 04:11:03             NaT   \n",
       "1728  1976.0        F2   F 0 days 04:48:24             NaT             NaT   \n",
       "1729  1959.0        F4   F 0 days 05:17:14 0 days 06:10:19 0 days 05:10:41   \n",
       "1730  1997.0        F1   F 0 days 04:46:55             NaT             NaT   \n",
       "\n",
       "     4.nap összidõ        eredmény  Megtett táv (km)  befejezte  \\\n",
       "1726           NaT 0 days 14:43:09             145.0      False   \n",
       "1727           NaT 0 days 07:42:56             101.0      False   \n",
       "1728           NaT 0 days 04:48:24              48.0      False   \n",
       "1729           NaT 0 days 16:38:14             145.0      False   \n",
       "1730           NaT 0 days 04:46:55              48.0      False   \n",
       "\n",
       "      eredmény(perc)  átlagos tempó (perc/km) sebesség kategória  \n",
       "1726           883.0                 6.089655            közepes  \n",
       "1727           462.0                 4.574257              gyors  \n",
       "1728           288.0                 6.000000    közepesen gyors  \n",
       "1729           998.0                 6.882759    közepesen lassú  \n",
       "1730           286.0                 5.958333    közepesen gyors  "
      ]
     },
     "execution_count": 71,
     "metadata": {},
     "output_type": "execute_result"
    }
   ],
   "source": [
    "bszm_osszes.tail()"
   ]
  },
  {
   "cell_type": "markdown",
   "metadata": {
    "id": "l4xXTB1NvmX9"
   },
   "source": [
    "### Értelmetlen adatok törlése"
   ]
  },
  {
   "cell_type": "markdown",
   "metadata": {
    "id": "a9hJ9mm1vmX9"
   },
   "source": [
    "Azokat a személyeket is törölhetjük, akik már az első nap befejezése előtt feladták, vagy csak nem jelentek meg. Nekik az eredményük percben 0."
   ]
  },
  {
   "cell_type": "code",
   "execution_count": 72,
   "metadata": {
    "colab": {
     "base_uri": "https://localhost:8080/"
    },
    "id": "se2ds_9bvmX9",
    "outputId": "eb4dd43d-a6a0-4f2d-fd37-00ea52c22aaf"
   },
   "outputs": [
    {
     "data": {
      "text/plain": [
       "(1554, 13)"
      ]
     },
     "execution_count": 72,
     "metadata": {},
     "output_type": "execute_result"
    }
   ],
   "source": [
    "bszm_osszes.loc[bszm_osszes['eredmény(perc)'] == 0.0] = np.nan\n",
    "bszm_osszes.dropna(axis=0, how='all', inplace=True)\n",
    "bszm_osszes.shape"
   ]
  },
  {
   "cell_type": "markdown",
   "metadata": {
    "id": "H5vgjtpmvmX9"
   },
   "source": [
    "### Tisztított adatok mentése"
   ]
  },
  {
   "cell_type": "markdown",
   "metadata": {
    "id": "FXjbU__qjdz0"
   },
   "source": [
    "Miután befejeztük az adataink tisztogatását, kiexportálhatjuk magunkak az adathalmazt, hogy a későbbiekben ne kelljen a tisztítás és transzportációs műveleteket elvégezni újra."
   ]
  },
  {
   "cell_type": "code",
   "execution_count": 73,
   "metadata": {
    "id": "Tp3Z3fIKjSc-"
   },
   "outputs": [],
   "source": [
    "bszm_osszes.to_csv('/Users/csizi/Development/marathon_statistics/dataset/csv/cleaned/bszm_osszes_cleaned.csv', sep=';', header=True, index=False)"
   ]
  },
  {
   "cell_type": "markdown",
   "metadata": {
    "id": "G5rhqxCMvmX-"
   },
   "source": [
    "## EDA vizualizáció\n"
   ]
  },
  {
   "cell_type": "markdown",
   "metadata": {
    "id": "zzRzBRyHvmX-"
   },
   "source": [
    "Miután már megtisztítottuk az adathalmazunkat, tudunk játszani vele különböző gráfok segítségével. "
   ]
  },
  {
   "cell_type": "code",
   "execution_count": 74,
   "metadata": {
    "colab": {
     "base_uri": "https://localhost:8080/"
    },
    "id": "2BDMeXhsvmX_",
    "outputId": "e0a27903-d588-410a-e0f0-b8a5e6a3f7d1"
   },
   "outputs": [
    {
     "data": {
      "text/plain": [
       "(1554, 13)"
      ]
     },
     "execution_count": 74,
     "metadata": {},
     "output_type": "execute_result"
    }
   ],
   "source": [
    "import pandas as pd\n",
    "import seaborn as sns\n",
    "\n",
    "import matplotlib.pyplot as plt\n",
    "%matplotlib inline\n",
    "\n",
    "bszm = pd.read_csv('/Users/csizi/Development/marathon_statistics/dataset/csv/cleaned/bszm_osszes_cleaned.csv',  \n",
    "                    sep=';', header=0)\n",
    "\n",
    "bszm.shape"
   ]
  },
  {
   "cell_type": "markdown",
   "metadata": {
    "id": "4xtF1FNwvmX_"
   },
   "source": [
    "A kezdő adathalmazunk itt már egyből a tisztított csv fájl."
   ]
  },
  {
   "cell_type": "code",
   "execution_count": 75,
   "metadata": {
    "colab": {
     "base_uri": "https://localhost:8080/",
     "height": 419
    },
    "id": "8qax_8_yvmX_",
    "outputId": "b6d45d15-d6c4-418d-d7db-23fd75af38ed",
    "scrolled": true
   },
   "outputs": [
    {
     "data": {
      "text/html": [
       "<div>\n",
       "<style scoped>\n",
       "    .dataframe tbody tr th:only-of-type {\n",
       "        vertical-align: middle;\n",
       "    }\n",
       "\n",
       "    .dataframe tbody tr th {\n",
       "        vertical-align: top;\n",
       "    }\n",
       "\n",
       "    .dataframe thead th {\n",
       "        text-align: right;\n",
       "    }\n",
       "</style>\n",
       "<table border=\"1\" class=\"dataframe\">\n",
       "  <thead>\n",
       "    <tr style=\"text-align: right;\">\n",
       "      <th></th>\n",
       "      <th>sz.év.</th>\n",
       "      <th>Kategória</th>\n",
       "      <th>nem</th>\n",
       "      <th>1.nap összidõ</th>\n",
       "      <th>2.nap összidõ</th>\n",
       "      <th>3.nap összidõ</th>\n",
       "      <th>4.nap összidõ</th>\n",
       "      <th>eredmény</th>\n",
       "      <th>Megtett táv (km)</th>\n",
       "      <th>befejezte</th>\n",
       "      <th>eredmény(perc)</th>\n",
       "      <th>átlagos tempó (perc/km)</th>\n",
       "      <th>sebesség kategória</th>\n",
       "    </tr>\n",
       "  </thead>\n",
       "  <tbody>\n",
       "    <tr>\n",
       "      <th>0</th>\n",
       "      <td>1977.0</td>\n",
       "      <td>F3</td>\n",
       "      <td>F</td>\n",
       "      <td>0 days 03:08:51</td>\n",
       "      <td>0 days 03:30:32</td>\n",
       "      <td>0 days 02:53:54</td>\n",
       "      <td>0 days 03:28:51</td>\n",
       "      <td>0 days 13:02:08</td>\n",
       "      <td>196.0</td>\n",
       "      <td>1.0</td>\n",
       "      <td>782.0</td>\n",
       "      <td>3.989796</td>\n",
       "      <td>gyors</td>\n",
       "    </tr>\n",
       "    <tr>\n",
       "      <th>1</th>\n",
       "      <td>1988.0</td>\n",
       "      <td>F1</td>\n",
       "      <td>F</td>\n",
       "      <td>0 days 03:13:57</td>\n",
       "      <td>0 days 03:40:22</td>\n",
       "      <td>0 days 02:48:22</td>\n",
       "      <td>0 days 03:24:07</td>\n",
       "      <td>0 days 13:06:48</td>\n",
       "      <td>196.0</td>\n",
       "      <td>1.0</td>\n",
       "      <td>786.0</td>\n",
       "      <td>4.010204</td>\n",
       "      <td>gyors</td>\n",
       "    </tr>\n",
       "    <tr>\n",
       "      <th>2</th>\n",
       "      <td>1982.0</td>\n",
       "      <td>F2</td>\n",
       "      <td>F</td>\n",
       "      <td>0 days 03:23:21</td>\n",
       "      <td>0 days 03:53:42</td>\n",
       "      <td>0 days 03:04:38</td>\n",
       "      <td>0 days 03:43:54</td>\n",
       "      <td>0 days 14:05:35</td>\n",
       "      <td>196.0</td>\n",
       "      <td>1.0</td>\n",
       "      <td>845.0</td>\n",
       "      <td>4.311224</td>\n",
       "      <td>gyors</td>\n",
       "    </tr>\n",
       "    <tr>\n",
       "      <th>3</th>\n",
       "      <td>1986.0</td>\n",
       "      <td>F1</td>\n",
       "      <td>F</td>\n",
       "      <td>0 days 03:31:41</td>\n",
       "      <td>0 days 03:59:24</td>\n",
       "      <td>0 days 03:05:44</td>\n",
       "      <td>0 days 03:45:58</td>\n",
       "      <td>0 days 14:22:47</td>\n",
       "      <td>196.0</td>\n",
       "      <td>1.0</td>\n",
       "      <td>862.0</td>\n",
       "      <td>4.397959</td>\n",
       "      <td>gyors</td>\n",
       "    </tr>\n",
       "    <tr>\n",
       "      <th>4</th>\n",
       "      <td>1978.0</td>\n",
       "      <td>F3</td>\n",
       "      <td>F</td>\n",
       "      <td>0 days 03:31:31</td>\n",
       "      <td>0 days 04:00:30</td>\n",
       "      <td>0 days 03:17:03</td>\n",
       "      <td>0 days 03:53:35</td>\n",
       "      <td>0 days 14:42:39</td>\n",
       "      <td>196.0</td>\n",
       "      <td>1.0</td>\n",
       "      <td>882.0</td>\n",
       "      <td>4.500000</td>\n",
       "      <td>gyors</td>\n",
       "    </tr>\n",
       "    <tr>\n",
       "      <th>...</th>\n",
       "      <td>...</td>\n",
       "      <td>...</td>\n",
       "      <td>...</td>\n",
       "      <td>...</td>\n",
       "      <td>...</td>\n",
       "      <td>...</td>\n",
       "      <td>...</td>\n",
       "      <td>...</td>\n",
       "      <td>...</td>\n",
       "      <td>...</td>\n",
       "      <td>...</td>\n",
       "      <td>...</td>\n",
       "      <td>...</td>\n",
       "    </tr>\n",
       "    <tr>\n",
       "      <th>1549</th>\n",
       "      <td>1980.0</td>\n",
       "      <td>F2</td>\n",
       "      <td>F</td>\n",
       "      <td>0 days 04:17:34</td>\n",
       "      <td>0 days 05:37:34</td>\n",
       "      <td>0 days 04:48:01</td>\n",
       "      <td>NaN</td>\n",
       "      <td>0 days 14:43:09</td>\n",
       "      <td>145.0</td>\n",
       "      <td>0.0</td>\n",
       "      <td>883.0</td>\n",
       "      <td>6.089655</td>\n",
       "      <td>közepes</td>\n",
       "    </tr>\n",
       "    <tr>\n",
       "      <th>1550</th>\n",
       "      <td>1977.0</td>\n",
       "      <td>F2</td>\n",
       "      <td>F</td>\n",
       "      <td>0 days 03:31:53</td>\n",
       "      <td>0 days 04:11:03</td>\n",
       "      <td>NaN</td>\n",
       "      <td>NaN</td>\n",
       "      <td>0 days 07:42:56</td>\n",
       "      <td>101.0</td>\n",
       "      <td>0.0</td>\n",
       "      <td>462.0</td>\n",
       "      <td>4.574257</td>\n",
       "      <td>gyors</td>\n",
       "    </tr>\n",
       "    <tr>\n",
       "      <th>1551</th>\n",
       "      <td>1976.0</td>\n",
       "      <td>F2</td>\n",
       "      <td>F</td>\n",
       "      <td>0 days 04:48:24</td>\n",
       "      <td>NaN</td>\n",
       "      <td>NaN</td>\n",
       "      <td>NaN</td>\n",
       "      <td>0 days 04:48:24</td>\n",
       "      <td>48.0</td>\n",
       "      <td>0.0</td>\n",
       "      <td>288.0</td>\n",
       "      <td>6.000000</td>\n",
       "      <td>közepesen gyors</td>\n",
       "    </tr>\n",
       "    <tr>\n",
       "      <th>1552</th>\n",
       "      <td>1959.0</td>\n",
       "      <td>F4</td>\n",
       "      <td>F</td>\n",
       "      <td>0 days 05:17:14</td>\n",
       "      <td>0 days 06:10:19</td>\n",
       "      <td>0 days 05:10:41</td>\n",
       "      <td>NaN</td>\n",
       "      <td>0 days 16:38:14</td>\n",
       "      <td>145.0</td>\n",
       "      <td>0.0</td>\n",
       "      <td>998.0</td>\n",
       "      <td>6.882759</td>\n",
       "      <td>közepesen lassú</td>\n",
       "    </tr>\n",
       "    <tr>\n",
       "      <th>1553</th>\n",
       "      <td>1997.0</td>\n",
       "      <td>F1</td>\n",
       "      <td>F</td>\n",
       "      <td>0 days 04:46:55</td>\n",
       "      <td>NaN</td>\n",
       "      <td>NaN</td>\n",
       "      <td>NaN</td>\n",
       "      <td>0 days 04:46:55</td>\n",
       "      <td>48.0</td>\n",
       "      <td>0.0</td>\n",
       "      <td>286.0</td>\n",
       "      <td>5.958333</td>\n",
       "      <td>közepesen gyors</td>\n",
       "    </tr>\n",
       "  </tbody>\n",
       "</table>\n",
       "<p>1554 rows × 13 columns</p>\n",
       "</div>"
      ],
      "text/plain": [
       "      sz.év. Kategória nem    1.nap összidõ    2.nap összidõ    3.nap összidõ  \\\n",
       "0     1977.0        F3   F  0 days 03:08:51  0 days 03:30:32  0 days 02:53:54   \n",
       "1     1988.0        F1   F  0 days 03:13:57  0 days 03:40:22  0 days 02:48:22   \n",
       "2     1982.0        F2   F  0 days 03:23:21  0 days 03:53:42  0 days 03:04:38   \n",
       "3     1986.0        F1   F  0 days 03:31:41  0 days 03:59:24  0 days 03:05:44   \n",
       "4     1978.0        F3   F  0 days 03:31:31  0 days 04:00:30  0 days 03:17:03   \n",
       "...      ...       ...  ..              ...              ...              ...   \n",
       "1549  1980.0        F2   F  0 days 04:17:34  0 days 05:37:34  0 days 04:48:01   \n",
       "1550  1977.0        F2   F  0 days 03:31:53  0 days 04:11:03              NaN   \n",
       "1551  1976.0        F2   F  0 days 04:48:24              NaN              NaN   \n",
       "1552  1959.0        F4   F  0 days 05:17:14  0 days 06:10:19  0 days 05:10:41   \n",
       "1553  1997.0        F1   F  0 days 04:46:55              NaN              NaN   \n",
       "\n",
       "        4.nap összidõ         eredmény  Megtett táv (km)  befejezte  \\\n",
       "0     0 days 03:28:51  0 days 13:02:08             196.0        1.0   \n",
       "1     0 days 03:24:07  0 days 13:06:48             196.0        1.0   \n",
       "2     0 days 03:43:54  0 days 14:05:35             196.0        1.0   \n",
       "3     0 days 03:45:58  0 days 14:22:47             196.0        1.0   \n",
       "4     0 days 03:53:35  0 days 14:42:39             196.0        1.0   \n",
       "...               ...              ...               ...        ...   \n",
       "1549              NaN  0 days 14:43:09             145.0        0.0   \n",
       "1550              NaN  0 days 07:42:56             101.0        0.0   \n",
       "1551              NaN  0 days 04:48:24              48.0        0.0   \n",
       "1552              NaN  0 days 16:38:14             145.0        0.0   \n",
       "1553              NaN  0 days 04:46:55              48.0        0.0   \n",
       "\n",
       "      eredmény(perc)  átlagos tempó (perc/km) sebesség kategória  \n",
       "0              782.0                 3.989796              gyors  \n",
       "1              786.0                 4.010204              gyors  \n",
       "2              845.0                 4.311224              gyors  \n",
       "3              862.0                 4.397959              gyors  \n",
       "4              882.0                 4.500000              gyors  \n",
       "...              ...                      ...                ...  \n",
       "1549           883.0                 6.089655            közepes  \n",
       "1550           462.0                 4.574257              gyors  \n",
       "1551           288.0                 6.000000    közepesen gyors  \n",
       "1552           998.0                 6.882759    közepesen lassú  \n",
       "1553           286.0                 5.958333    közepesen gyors  \n",
       "\n",
       "[1554 rows x 13 columns]"
      ]
     },
     "execution_count": 75,
     "metadata": {},
     "output_type": "execute_result"
    }
   ],
   "source": [
    "bszm"
   ]
  },
  {
   "cell_type": "markdown",
   "metadata": {
    "id": "xdLzWvwavmX_"
   },
   "source": [
    "Az egyik gráf vizualizálása közben találtam outlier-eket, ezért ezeket is érdemes kiszedni az adathalmazból. Az ő esetükben szürreális értékeket lehetett kapni. Két esetről van csak itt szó, ahol az egyik versenyző adatai alapján csak az első nap versenyzett, és ezalatt 150 kilómétert tett meg nagyon rövid idő alatt. Így produkált egy 2.6 átlagos tempót.\n",
    "\n",
    "Ezért ezeket töröljük."
   ]
  },
  {
   "cell_type": "code",
   "execution_count": 76,
   "metadata": {
    "colab": {
     "base_uri": "https://localhost:8080/",
     "height": 419
    },
    "id": "p6ji2x0svmYA",
    "outputId": "12d12168-4fbf-413f-b497-e5c72bdca4c2"
   },
   "outputs": [
    {
     "data": {
      "text/html": [
       "<div>\n",
       "<style scoped>\n",
       "    .dataframe tbody tr th:only-of-type {\n",
       "        vertical-align: middle;\n",
       "    }\n",
       "\n",
       "    .dataframe tbody tr th {\n",
       "        vertical-align: top;\n",
       "    }\n",
       "\n",
       "    .dataframe thead th {\n",
       "        text-align: right;\n",
       "    }\n",
       "</style>\n",
       "<table border=\"1\" class=\"dataframe\">\n",
       "  <thead>\n",
       "    <tr style=\"text-align: right;\">\n",
       "      <th></th>\n",
       "      <th>sz.év.</th>\n",
       "      <th>Kategória</th>\n",
       "      <th>nem</th>\n",
       "      <th>1.nap összidõ</th>\n",
       "      <th>2.nap összidõ</th>\n",
       "      <th>3.nap összidõ</th>\n",
       "      <th>4.nap összidõ</th>\n",
       "      <th>eredmény</th>\n",
       "      <th>Megtett táv (km)</th>\n",
       "      <th>befejezte</th>\n",
       "      <th>eredmény(perc)</th>\n",
       "      <th>átlagos tempó (perc/km)</th>\n",
       "      <th>sebesség kategória</th>\n",
       "    </tr>\n",
       "  </thead>\n",
       "  <tbody>\n",
       "    <tr>\n",
       "      <th>269</th>\n",
       "      <td>1968.0</td>\n",
       "      <td>F4</td>\n",
       "      <td>F</td>\n",
       "      <td>0 days 05:11:04</td>\n",
       "      <td>NaN</td>\n",
       "      <td>NaN</td>\n",
       "      <td>NaN</td>\n",
       "      <td>0 days 05:11:04</td>\n",
       "      <td>80.0</td>\n",
       "      <td>0.0</td>\n",
       "      <td>311.0</td>\n",
       "      <td>3.887500</td>\n",
       "      <td>gyors</td>\n",
       "    </tr>\n",
       "    <tr>\n",
       "      <th>273</th>\n",
       "      <td>1976.0</td>\n",
       "      <td>F3</td>\n",
       "      <td>F</td>\n",
       "      <td>0 days 03:20:17</td>\n",
       "      <td>0 days 03:30:29</td>\n",
       "      <td>0 days 02:46:29</td>\n",
       "      <td>NaN</td>\n",
       "      <td>0 days 09:37:15</td>\n",
       "      <td>145.0</td>\n",
       "      <td>0.0</td>\n",
       "      <td>577.0</td>\n",
       "      <td>3.979310</td>\n",
       "      <td>gyors</td>\n",
       "    </tr>\n",
       "    <tr>\n",
       "      <th>1114</th>\n",
       "      <td>1990.0</td>\n",
       "      <td>F1</td>\n",
       "      <td>F</td>\n",
       "      <td>0 days 03:31:11</td>\n",
       "      <td>0 days 04:07:02</td>\n",
       "      <td>NaN</td>\n",
       "      <td>NaN</td>\n",
       "      <td>0 days 07:38:13</td>\n",
       "      <td>115.0</td>\n",
       "      <td>0.0</td>\n",
       "      <td>458.0</td>\n",
       "      <td>3.982609</td>\n",
       "      <td>gyors</td>\n",
       "    </tr>\n",
       "    <tr>\n",
       "      <th>0</th>\n",
       "      <td>1977.0</td>\n",
       "      <td>F3</td>\n",
       "      <td>F</td>\n",
       "      <td>0 days 03:08:51</td>\n",
       "      <td>0 days 03:30:32</td>\n",
       "      <td>0 days 02:53:54</td>\n",
       "      <td>0 days 03:28:51</td>\n",
       "      <td>0 days 13:02:08</td>\n",
       "      <td>196.0</td>\n",
       "      <td>1.0</td>\n",
       "      <td>782.0</td>\n",
       "      <td>3.989796</td>\n",
       "      <td>gyors</td>\n",
       "    </tr>\n",
       "    <tr>\n",
       "      <th>1</th>\n",
       "      <td>1988.0</td>\n",
       "      <td>F1</td>\n",
       "      <td>F</td>\n",
       "      <td>0 days 03:13:57</td>\n",
       "      <td>0 days 03:40:22</td>\n",
       "      <td>0 days 02:48:22</td>\n",
       "      <td>0 days 03:24:07</td>\n",
       "      <td>0 days 13:06:48</td>\n",
       "      <td>196.0</td>\n",
       "      <td>1.0</td>\n",
       "      <td>786.0</td>\n",
       "      <td>4.010204</td>\n",
       "      <td>gyors</td>\n",
       "    </tr>\n",
       "    <tr>\n",
       "      <th>...</th>\n",
       "      <td>...</td>\n",
       "      <td>...</td>\n",
       "      <td>...</td>\n",
       "      <td>...</td>\n",
       "      <td>...</td>\n",
       "      <td>...</td>\n",
       "      <td>...</td>\n",
       "      <td>...</td>\n",
       "      <td>...</td>\n",
       "      <td>...</td>\n",
       "      <td>...</td>\n",
       "      <td>...</td>\n",
       "      <td>...</td>\n",
       "    </tr>\n",
       "    <tr>\n",
       "      <th>1124</th>\n",
       "      <td>1978.0</td>\n",
       "      <td>F1</td>\n",
       "      <td>F</td>\n",
       "      <td>0 days 03:51:11</td>\n",
       "      <td>NaN</td>\n",
       "      <td>NaN</td>\n",
       "      <td>NaN</td>\n",
       "      <td>0 days 03:51:11</td>\n",
       "      <td>0.0</td>\n",
       "      <td>0.0</td>\n",
       "      <td>231.0</td>\n",
       "      <td>inf</td>\n",
       "      <td>lassú</td>\n",
       "    </tr>\n",
       "    <tr>\n",
       "      <th>860</th>\n",
       "      <td>1972.0</td>\n",
       "      <td>F3</td>\n",
       "      <td>F</td>\n",
       "      <td>0 days 05:45:14</td>\n",
       "      <td>NaN</td>\n",
       "      <td>NaN</td>\n",
       "      <td>NaN</td>\n",
       "      <td>0 days 05:45:14</td>\n",
       "      <td>0.0</td>\n",
       "      <td>0.0</td>\n",
       "      <td>345.0</td>\n",
       "      <td>inf</td>\n",
       "      <td>lassú</td>\n",
       "    </tr>\n",
       "    <tr>\n",
       "      <th>859</th>\n",
       "      <td>1986.0</td>\n",
       "      <td>F1</td>\n",
       "      <td>F</td>\n",
       "      <td>0 days 05:30:08</td>\n",
       "      <td>NaN</td>\n",
       "      <td>NaN</td>\n",
       "      <td>NaN</td>\n",
       "      <td>0 days 05:30:08</td>\n",
       "      <td>0.0</td>\n",
       "      <td>0.0</td>\n",
       "      <td>330.0</td>\n",
       "      <td>inf</td>\n",
       "      <td>lassú</td>\n",
       "    </tr>\n",
       "    <tr>\n",
       "      <th>856</th>\n",
       "      <td>1974.0</td>\n",
       "      <td>F3</td>\n",
       "      <td>F</td>\n",
       "      <td>NaN</td>\n",
       "      <td>NaN</td>\n",
       "      <td>NaN</td>\n",
       "      <td>0 days 06:52:01</td>\n",
       "      <td>0 days 06:52:01</td>\n",
       "      <td>0.0</td>\n",
       "      <td>0.0</td>\n",
       "      <td>412.0</td>\n",
       "      <td>inf</td>\n",
       "      <td>lassú</td>\n",
       "    </tr>\n",
       "    <tr>\n",
       "      <th>846</th>\n",
       "      <td>1985.0</td>\n",
       "      <td>F1</td>\n",
       "      <td>F</td>\n",
       "      <td>NaN</td>\n",
       "      <td>0 days 06:33:49</td>\n",
       "      <td>NaN</td>\n",
       "      <td>NaN</td>\n",
       "      <td>0 days 06:33:49</td>\n",
       "      <td>0.0</td>\n",
       "      <td>0.0</td>\n",
       "      <td>393.0</td>\n",
       "      <td>inf</td>\n",
       "      <td>lassú</td>\n",
       "    </tr>\n",
       "  </tbody>\n",
       "</table>\n",
       "<p>1552 rows × 13 columns</p>\n",
       "</div>"
      ],
      "text/plain": [
       "      sz.év. Kategória nem    1.nap összidõ    2.nap összidõ    3.nap összidõ  \\\n",
       "269   1968.0        F4   F  0 days 05:11:04              NaN              NaN   \n",
       "273   1976.0        F3   F  0 days 03:20:17  0 days 03:30:29  0 days 02:46:29   \n",
       "1114  1990.0        F1   F  0 days 03:31:11  0 days 04:07:02              NaN   \n",
       "0     1977.0        F3   F  0 days 03:08:51  0 days 03:30:32  0 days 02:53:54   \n",
       "1     1988.0        F1   F  0 days 03:13:57  0 days 03:40:22  0 days 02:48:22   \n",
       "...      ...       ...  ..              ...              ...              ...   \n",
       "1124  1978.0        F1   F  0 days 03:51:11              NaN              NaN   \n",
       "860   1972.0        F3   F  0 days 05:45:14              NaN              NaN   \n",
       "859   1986.0        F1   F  0 days 05:30:08              NaN              NaN   \n",
       "856   1974.0        F3   F              NaN              NaN              NaN   \n",
       "846   1985.0        F1   F              NaN  0 days 06:33:49              NaN   \n",
       "\n",
       "        4.nap összidõ         eredmény  Megtett táv (km)  befejezte  \\\n",
       "269               NaN  0 days 05:11:04              80.0        0.0   \n",
       "273               NaN  0 days 09:37:15             145.0        0.0   \n",
       "1114              NaN  0 days 07:38:13             115.0        0.0   \n",
       "0     0 days 03:28:51  0 days 13:02:08             196.0        1.0   \n",
       "1     0 days 03:24:07  0 days 13:06:48             196.0        1.0   \n",
       "...               ...              ...               ...        ...   \n",
       "1124              NaN  0 days 03:51:11               0.0        0.0   \n",
       "860               NaN  0 days 05:45:14               0.0        0.0   \n",
       "859               NaN  0 days 05:30:08               0.0        0.0   \n",
       "856   0 days 06:52:01  0 days 06:52:01               0.0        0.0   \n",
       "846               NaN  0 days 06:33:49               0.0        0.0   \n",
       "\n",
       "      eredmény(perc)  átlagos tempó (perc/km) sebesség kategória  \n",
       "269            311.0                 3.887500              gyors  \n",
       "273            577.0                 3.979310              gyors  \n",
       "1114           458.0                 3.982609              gyors  \n",
       "0              782.0                 3.989796              gyors  \n",
       "1              786.0                 4.010204              gyors  \n",
       "...              ...                      ...                ...  \n",
       "1124           231.0                      inf              lassú  \n",
       "860            345.0                      inf              lassú  \n",
       "859            330.0                      inf              lassú  \n",
       "856            412.0                      inf              lassú  \n",
       "846            393.0                      inf              lassú  \n",
       "\n",
       "[1552 rows x 13 columns]"
      ]
     },
     "execution_count": 76,
     "metadata": {},
     "output_type": "execute_result"
    }
   ],
   "source": [
    "bszm.loc[bszm['átlagos tempó (perc/km)'] < 3] = np.nan\n",
    "bszm.dropna(axis=0, how='all', inplace=True)\n",
    "bszm.sort_values(by=['átlagos tempó (perc/km)'])"
   ]
  },
  {
   "cell_type": "markdown",
   "metadata": {
    "id": "-feTb6IuvmYA"
   },
   "source": [
    "Mivel már van egy összesített eredményünk, ezért eldobhatjuk azokat az oszlopkat amik **NaN** értéket tartalmaznak. Ezek jelenleg csak a napi idő bontások."
   ]
  },
  {
   "cell_type": "code",
   "execution_count": 77,
   "metadata": {
    "colab": {
     "base_uri": "https://localhost:8080/",
     "height": 419
    },
    "id": "YDmBcswRvmYA",
    "outputId": "ca1345dd-43af-4ce8-a5ae-1c9264e60e3d"
   },
   "outputs": [
    {
     "data": {
      "text/html": [
       "<div>\n",
       "<style scoped>\n",
       "    .dataframe tbody tr th:only-of-type {\n",
       "        vertical-align: middle;\n",
       "    }\n",
       "\n",
       "    .dataframe tbody tr th {\n",
       "        vertical-align: top;\n",
       "    }\n",
       "\n",
       "    .dataframe thead th {\n",
       "        text-align: right;\n",
       "    }\n",
       "</style>\n",
       "<table border=\"1\" class=\"dataframe\">\n",
       "  <thead>\n",
       "    <tr style=\"text-align: right;\">\n",
       "      <th></th>\n",
       "      <th>sz.év.</th>\n",
       "      <th>Kategória</th>\n",
       "      <th>nem</th>\n",
       "      <th>eredmény</th>\n",
       "      <th>Megtett táv (km)</th>\n",
       "      <th>befejezte</th>\n",
       "      <th>eredmény(perc)</th>\n",
       "      <th>átlagos tempó (perc/km)</th>\n",
       "      <th>sebesség kategória</th>\n",
       "    </tr>\n",
       "  </thead>\n",
       "  <tbody>\n",
       "    <tr>\n",
       "      <th>0</th>\n",
       "      <td>1977.0</td>\n",
       "      <td>F3</td>\n",
       "      <td>F</td>\n",
       "      <td>0 days 13:02:08</td>\n",
       "      <td>196.0</td>\n",
       "      <td>1.0</td>\n",
       "      <td>782.0</td>\n",
       "      <td>3.989796</td>\n",
       "      <td>gyors</td>\n",
       "    </tr>\n",
       "    <tr>\n",
       "      <th>1</th>\n",
       "      <td>1988.0</td>\n",
       "      <td>F1</td>\n",
       "      <td>F</td>\n",
       "      <td>0 days 13:06:48</td>\n",
       "      <td>196.0</td>\n",
       "      <td>1.0</td>\n",
       "      <td>786.0</td>\n",
       "      <td>4.010204</td>\n",
       "      <td>gyors</td>\n",
       "    </tr>\n",
       "    <tr>\n",
       "      <th>2</th>\n",
       "      <td>1982.0</td>\n",
       "      <td>F2</td>\n",
       "      <td>F</td>\n",
       "      <td>0 days 14:05:35</td>\n",
       "      <td>196.0</td>\n",
       "      <td>1.0</td>\n",
       "      <td>845.0</td>\n",
       "      <td>4.311224</td>\n",
       "      <td>gyors</td>\n",
       "    </tr>\n",
       "    <tr>\n",
       "      <th>3</th>\n",
       "      <td>1986.0</td>\n",
       "      <td>F1</td>\n",
       "      <td>F</td>\n",
       "      <td>0 days 14:22:47</td>\n",
       "      <td>196.0</td>\n",
       "      <td>1.0</td>\n",
       "      <td>862.0</td>\n",
       "      <td>4.397959</td>\n",
       "      <td>gyors</td>\n",
       "    </tr>\n",
       "    <tr>\n",
       "      <th>4</th>\n",
       "      <td>1978.0</td>\n",
       "      <td>F3</td>\n",
       "      <td>F</td>\n",
       "      <td>0 days 14:42:39</td>\n",
       "      <td>196.0</td>\n",
       "      <td>1.0</td>\n",
       "      <td>882.0</td>\n",
       "      <td>4.500000</td>\n",
       "      <td>gyors</td>\n",
       "    </tr>\n",
       "    <tr>\n",
       "      <th>...</th>\n",
       "      <td>...</td>\n",
       "      <td>...</td>\n",
       "      <td>...</td>\n",
       "      <td>...</td>\n",
       "      <td>...</td>\n",
       "      <td>...</td>\n",
       "      <td>...</td>\n",
       "      <td>...</td>\n",
       "      <td>...</td>\n",
       "    </tr>\n",
       "    <tr>\n",
       "      <th>1549</th>\n",
       "      <td>1980.0</td>\n",
       "      <td>F2</td>\n",
       "      <td>F</td>\n",
       "      <td>0 days 14:43:09</td>\n",
       "      <td>145.0</td>\n",
       "      <td>0.0</td>\n",
       "      <td>883.0</td>\n",
       "      <td>6.089655</td>\n",
       "      <td>közepes</td>\n",
       "    </tr>\n",
       "    <tr>\n",
       "      <th>1550</th>\n",
       "      <td>1977.0</td>\n",
       "      <td>F2</td>\n",
       "      <td>F</td>\n",
       "      <td>0 days 07:42:56</td>\n",
       "      <td>101.0</td>\n",
       "      <td>0.0</td>\n",
       "      <td>462.0</td>\n",
       "      <td>4.574257</td>\n",
       "      <td>gyors</td>\n",
       "    </tr>\n",
       "    <tr>\n",
       "      <th>1551</th>\n",
       "      <td>1976.0</td>\n",
       "      <td>F2</td>\n",
       "      <td>F</td>\n",
       "      <td>0 days 04:48:24</td>\n",
       "      <td>48.0</td>\n",
       "      <td>0.0</td>\n",
       "      <td>288.0</td>\n",
       "      <td>6.000000</td>\n",
       "      <td>közepesen gyors</td>\n",
       "    </tr>\n",
       "    <tr>\n",
       "      <th>1552</th>\n",
       "      <td>1959.0</td>\n",
       "      <td>F4</td>\n",
       "      <td>F</td>\n",
       "      <td>0 days 16:38:14</td>\n",
       "      <td>145.0</td>\n",
       "      <td>0.0</td>\n",
       "      <td>998.0</td>\n",
       "      <td>6.882759</td>\n",
       "      <td>közepesen lassú</td>\n",
       "    </tr>\n",
       "    <tr>\n",
       "      <th>1553</th>\n",
       "      <td>1997.0</td>\n",
       "      <td>F1</td>\n",
       "      <td>F</td>\n",
       "      <td>0 days 04:46:55</td>\n",
       "      <td>48.0</td>\n",
       "      <td>0.0</td>\n",
       "      <td>286.0</td>\n",
       "      <td>5.958333</td>\n",
       "      <td>közepesen gyors</td>\n",
       "    </tr>\n",
       "  </tbody>\n",
       "</table>\n",
       "<p>1552 rows × 9 columns</p>\n",
       "</div>"
      ],
      "text/plain": [
       "      sz.év. Kategória nem         eredmény  Megtett táv (km)  befejezte  \\\n",
       "0     1977.0        F3   F  0 days 13:02:08             196.0        1.0   \n",
       "1     1988.0        F1   F  0 days 13:06:48             196.0        1.0   \n",
       "2     1982.0        F2   F  0 days 14:05:35             196.0        1.0   \n",
       "3     1986.0        F1   F  0 days 14:22:47             196.0        1.0   \n",
       "4     1978.0        F3   F  0 days 14:42:39             196.0        1.0   \n",
       "...      ...       ...  ..              ...               ...        ...   \n",
       "1549  1980.0        F2   F  0 days 14:43:09             145.0        0.0   \n",
       "1550  1977.0        F2   F  0 days 07:42:56             101.0        0.0   \n",
       "1551  1976.0        F2   F  0 days 04:48:24              48.0        0.0   \n",
       "1552  1959.0        F4   F  0 days 16:38:14             145.0        0.0   \n",
       "1553  1997.0        F1   F  0 days 04:46:55              48.0        0.0   \n",
       "\n",
       "      eredmény(perc)  átlagos tempó (perc/km) sebesség kategória  \n",
       "0              782.0                 3.989796              gyors  \n",
       "1              786.0                 4.010204              gyors  \n",
       "2              845.0                 4.311224              gyors  \n",
       "3              862.0                 4.397959              gyors  \n",
       "4              882.0                 4.500000              gyors  \n",
       "...              ...                      ...                ...  \n",
       "1549           883.0                 6.089655            közepes  \n",
       "1550           462.0                 4.574257              gyors  \n",
       "1551           288.0                 6.000000    közepesen gyors  \n",
       "1552           998.0                 6.882759    közepesen lassú  \n",
       "1553           286.0                 5.958333    közepesen gyors  \n",
       "\n",
       "[1552 rows x 9 columns]"
      ]
     },
     "execution_count": 77,
     "metadata": {},
     "output_type": "execute_result"
    }
   ],
   "source": [
    "#plt.plot(bszm_osszes['eredmény'], bszm_osszes['átlagos tempó (perc/km)'], marker='o')\n",
    "bszm.dropna(axis=1, how='any', inplace=True)\n",
    "bszm"
   ]
  },
  {
   "cell_type": "markdown",
   "metadata": {
    "id": "E--q0vMTvmYA"
   },
   "source": [
    "Mivel valahogyan visszakerültek az értelmetlen adatok az adathalmazunkba, kénytelenek vagyunk ismét törölni ezeket. \n",
    "Ezek azok a cellák ahol az átlagos tempó végtelen, ami azért van mert nullával lettek osztva. \n",
    "\n",
    "Dobjuk el őket."
   ]
  },
  {
   "cell_type": "code",
   "execution_count": 78,
   "metadata": {
    "colab": {
     "base_uri": "https://localhost:8080/"
    },
    "id": "66swgE8xvmYA",
    "outputId": "de714f64-5644-4346-88b8-19669c52379b"
   },
   "outputs": [
    {
     "data": {
      "text/plain": [
       "(1536, 9)"
      ]
     },
     "execution_count": 78,
     "metadata": {},
     "output_type": "execute_result"
    }
   ],
   "source": [
    "bszm.loc[bszm['átlagos tempó (perc/km)'] == np.inf] = np.nan\n",
    "bszm.dropna(axis=0, how='all', inplace=True)\n",
    "bszm.shape"
   ]
  },
  {
   "cell_type": "markdown",
   "metadata": {
    "id": "v-XsMz6evmYB"
   },
   "source": [
    "Most, hogy ismét tisztogattunk az adathalmazainkon, neki is láthatunk a gráfok készítésének."
   ]
  },
  {
   "cell_type": "markdown",
   "metadata": {
    "id": "a39PHbIuvmYB"
   },
   "source": [
    "### Férfiak és nők részvétele a versenyen"
   ]
  },
  {
   "cell_type": "code",
   "execution_count": 79,
   "metadata": {
    "colab": {
     "base_uri": "https://localhost:8080/",
     "height": 265
    },
    "id": "g-qkFCx_vmYB",
    "outputId": "a67123c5-0367-4885-f8b7-5021e74cf840"
   },
   "outputs": [
    {
     "data": {
      "text/plain": [
       "<AxesSubplot:ylabel='nem'>"
      ]
     },
     "execution_count": 79,
     "metadata": {},
     "output_type": "execute_result"
    },
    {
     "data": {
      "image/png": "[encoded data removed]",
      "text/plain": [
       "<Figure size 432x288 with 1 Axes>"
      ]
     },
     "metadata": {},
     "output_type": "display_data"
    }
   ],
   "source": [
    "bszm.nem.value_counts().plot(kind='pie')"
   ]
  },
  {
   "cell_type": "markdown",
   "metadata": {
    "id": "iVvyifkOvmYB"
   },
   "source": [
    "### Versenyzők akik befejezték vagy feladták a versenyt"
   ]
  },
  {
   "cell_type": "code",
   "execution_count": 80,
   "metadata": {
    "colab": {
     "base_uri": "https://localhost:8080/",
     "height": 265
    },
    "id": "to7z3cRtvmYB",
    "outputId": "a24da967-9e3e-4abd-864e-d2a808309059"
   },
   "outputs": [
    {
     "data": {
      "text/plain": [
       "<AxesSubplot:ylabel='befejezte'>"
      ]
     },
     "execution_count": 80,
     "metadata": {},
     "output_type": "execute_result"
    },
    {
     "data": {
      "image/png": "[encoded data removed]",
      "text/plain": [
       "<Figure size 432x288 with 1 Axes>"
      ]
     },
     "metadata": {},
     "output_type": "display_data"
    }
   ],
   "source": [
    "bszm.befejezte.value_counts().plot(kind='pie')"
   ]
  },
  {
   "cell_type": "markdown",
   "metadata": {
    "id": "uxFjgatYvmYC"
   },
   "source": [
    "### Pont-pont diagram ami születési évszám alapján mutatja a megtett kilómétert"
   ]
  },
  {
   "cell_type": "markdown",
   "metadata": {
    "id": "ustRc197vmYC"
   },
   "source": [
    "Érdekességként megemlíthető, hogy itt már kezd kialakulni egy mintázat, ami alapján láthatjuk hogy ténylegesen egy 4 napos versenyről van szó, mivel sok versenyző, egy bizonyos kilóméter megtétele után adta fel a versenyt. "
   ]
  },
  {
   "cell_type": "code",
   "execution_count": 81,
   "metadata": {
    "colab": {
     "base_uri": "https://localhost:8080/",
     "height": 296
    },
    "id": "_zKDc1MBvmYC",
    "outputId": "dd7b3137-1baf-462d-8664-27087e361bce"
   },
   "outputs": [
    {
     "data": {
      "text/plain": [
       "<AxesSubplot:xlabel='sz.év.', ylabel='Megtett táv (km)'>"
      ]
     },
     "execution_count": 81,
     "metadata": {},
     "output_type": "execute_result"
    },
    {
     "data": {
      "image/png": "[encoded data removed]",
      "text/plain": [
       "<Figure size 432x288 with 1 Axes>"
      ]
     },
     "metadata": {
      "needs_background": "light"
     },
     "output_type": "display_data"
    }
   ],
   "source": [
    "sns.scatterplot(x='sz.év.', y='Megtett táv (km)', hue='nem', data=bszm)"
   ]
  },
  {
   "cell_type": "markdown",
   "metadata": {
    "id": "1ywTWQefvmYC"
   },
   "source": [
    "### Pont-pont diagram ami átlagos tempó alapján mutatja a megtett kilómétert"
   ]
  },
  {
   "cell_type": "markdown",
   "metadata": {
    "id": "WlD17hpfvmYC"
   },
   "source": [
    "Mivel a két diagram meglehetősen hasonlít egymásra, észrevehető itt is az előző minta."
   ]
  },
  {
   "cell_type": "code",
   "execution_count": 82,
   "metadata": {
    "colab": {
     "base_uri": "https://localhost:8080/",
     "height": 297
    },
    "id": "WHN8vllIvmYD",
    "outputId": "43105ae6-dbec-4c9b-e521-188d9756ad2e"
   },
   "outputs": [
    {
     "data": {
      "text/plain": [
       "<AxesSubplot:xlabel='Megtett táv (km)', ylabel='átlagos tempó (perc/km)'>"
      ]
     },
     "execution_count": 82,
     "metadata": {},
     "output_type": "execute_result"
    },
    {
     "data": {
      "image/png": "[encoded data removed]",
      "text/plain": [
       "<Figure size 432x288 with 1 Axes>"
      ]
     },
     "metadata": {
      "needs_background": "light"
     },
     "output_type": "display_data"
    }
   ],
   "source": [
    "sns.scatterplot(x='Megtett táv (km)', y='átlagos tempó (perc/km)', hue='nem', data=bszm)"
   ]
  },
  {
   "cell_type": "markdown",
   "metadata": {
    "id": "vsjfeTaevmYD"
   },
   "source": [
    "### Versenyzők átlag tempójának az eloszlása"
   ]
  },
  {
   "cell_type": "code",
   "execution_count": 83,
   "metadata": {
    "colab": {
     "base_uri": "https://localhost:8080/",
     "height": 351
    },
    "id": "HPiWG-lRvmYD",
    "outputId": "61ae8ca7-8b70-481f-882f-fc928507b470"
   },
   "outputs": [
    {
     "data": {
      "text/plain": [
       "<AxesSubplot:xlabel='átlagos tempó (perc/km)', ylabel='Density'>"
      ]
     },
     "execution_count": 83,
     "metadata": {},
     "output_type": "execute_result"
    },
    {
     "data": {
      "image/png": "[encoded data removed]",
      "text/plain": [
       "<Figure size 432x288 with 1 Axes>"
      ]
     },
     "metadata": {
      "needs_background": "light"
     },
     "output_type": "display_data"
    }
   ],
   "source": [
    "sns.distplot(bszm['átlagos tempó (perc/km)'])"
   ]
  },
  {
   "cell_type": "markdown",
   "metadata": {
    "id": "0kKQZ9umvmYD"
   },
   "source": [
    "### Versenyzők születési éveinek eloszlása"
   ]
  },
  {
   "cell_type": "code",
   "execution_count": 84,
   "metadata": {
    "colab": {
     "base_uri": "https://localhost:8080/",
     "height": 350
    },
    "id": "Hza7oNjDvmYE",
    "outputId": "e79321ec-8e39-4490-f9d1-eb1b45103cf5"
   },
   "outputs": [
    {
     "data": {
      "text/plain": [
       "<AxesSubplot:xlabel='sz.év.', ylabel='Density'>"
      ]
     },
     "execution_count": 84,
     "metadata": {},
     "output_type": "execute_result"
    },
    {
     "data": {
      "image/png": "[encoded data removed]",
      "text/plain": [
       "<Figure size 432x288 with 1 Axes>"
      ]
     },
     "metadata": {
      "needs_background": "light"
     },
     "output_type": "display_data"
    }
   ],
   "source": [
    "sns.distplot(bszm['sz.év.'])"
   ]
  },
  {
   "cell_type": "markdown",
   "metadata": {
    "id": "RGD0Z5zNvmYE"
   },
   "source": [
    "### Célba ért személyek száma kategóriákként"
   ]
  },
  {
   "cell_type": "code",
   "execution_count": 85,
   "metadata": {
    "id": "NpdF1NxWvmYE"
   },
   "outputs": [],
   "source": [
    "topKorcsoport = bszm.groupby('Kategória').agg({\n",
    "    'befejezte' : 'sum'\n",
    "}).sort_values('befejezte', ascending=False)[:10]"
   ]
  },
  {
   "cell_type": "code",
   "execution_count": 86,
   "metadata": {
    "colab": {
     "base_uri": "https://localhost:8080/",
     "height": 622
    },
    "id": "FIGAH5KavmYE",
    "outputId": "5b692fdc-1388-42f9-f316-f0fe02d0453b"
   },
   "outputs": [
    {
     "data": {
      "text/html": [
       "<div>\n",
       "<style scoped>\n",
       "    .dataframe tbody tr th:only-of-type {\n",
       "        vertical-align: middle;\n",
       "    }\n",
       "\n",
       "    .dataframe tbody tr th {\n",
       "        vertical-align: top;\n",
       "    }\n",
       "\n",
       "    .dataframe thead th {\n",
       "        text-align: right;\n",
       "    }\n",
       "</style>\n",
       "<table border=\"1\" class=\"dataframe\">\n",
       "  <thead>\n",
       "    <tr style=\"text-align: right;\">\n",
       "      <th></th>\n",
       "      <th>befejezte</th>\n",
       "    </tr>\n",
       "    <tr>\n",
       "      <th>Kategória</th>\n",
       "      <th></th>\n",
       "    </tr>\n",
       "  </thead>\n",
       "  <tbody>\n",
       "    <tr>\n",
       "      <th>F3</th>\n",
       "      <td>284.0</td>\n",
       "    </tr>\n",
       "    <tr>\n",
       "      <th>F4</th>\n",
       "      <td>128.0</td>\n",
       "    </tr>\n",
       "    <tr>\n",
       "      <th>N2</th>\n",
       "      <td>110.0</td>\n",
       "    </tr>\n",
       "    <tr>\n",
       "      <th>F2</th>\n",
       "      <td>99.0</td>\n",
       "    </tr>\n",
       "    <tr>\n",
       "      <th>F1</th>\n",
       "      <td>74.0</td>\n",
       "    </tr>\n",
       "    <tr>\n",
       "      <th>N1</th>\n",
       "      <td>29.0</td>\n",
       "    </tr>\n",
       "    <tr>\n",
       "      <th>F5</th>\n",
       "      <td>26.0</td>\n",
       "    </tr>\n",
       "    <tr>\n",
       "      <th>N3</th>\n",
       "      <td>24.0</td>\n",
       "    </tr>\n",
       "    <tr>\n",
       "      <th>N4</th>\n",
       "      <td>4.0</td>\n",
       "    </tr>\n",
       "  </tbody>\n",
       "</table>\n",
       "</div>"
      ],
      "text/plain": [
       "           befejezte\n",
       "Kategória           \n",
       "F3             284.0\n",
       "F4             128.0\n",
       "N2             110.0\n",
       "F2              99.0\n",
       "F1              74.0\n",
       "N1              29.0\n",
       "F5              26.0\n",
       "N3              24.0\n",
       "N4               4.0"
      ]
     },
     "execution_count": 86,
     "metadata": {},
     "output_type": "execute_result"
    },
    {
     "data": {
      "image/png": "[encoded data removed]",
      "text/plain": [
       "<Figure size 432x288 with 1 Axes>"
      ]
     },
     "metadata": {
      "needs_background": "light"
     },
     "output_type": "display_data"
    }
   ],
   "source": [
    "sns.barplot(y='befejezte', x='Kategória', data=topKorcsoport.reset_index())\n",
    "topKorcsoport"
   ]
  },
  {
   "cell_type": "markdown",
   "metadata": {
    "id": "b5QgRxftvmYF"
   },
   "source": [
    "### Célba ért személyek száma sebesség kategória szerint"
   ]
  },
  {
   "cell_type": "code",
   "execution_count": 87,
   "metadata": {
    "id": "rO_B-gS4vmYF"
   },
   "outputs": [],
   "source": [
    "sebessegKitartas = bszm_osszes.groupby('sebesség kategória').agg({\n",
    "    'befejezte' : 'sum'\n",
    "}).sort_values('befejezte', ascending=False)[:10]"
   ]
  },
  {
   "cell_type": "code",
   "execution_count": 88,
   "metadata": {
    "colab": {
     "base_uri": "https://localhost:8080/",
     "height": 498
    },
    "id": "XbC8eERcvmYF",
    "outputId": "0c930507-1c51-4a1d-a22a-63534e271da6"
   },
   "outputs": [
    {
     "data": {
      "text/html": [
       "<div>\n",
       "<style scoped>\n",
       "    .dataframe tbody tr th:only-of-type {\n",
       "        vertical-align: middle;\n",
       "    }\n",
       "\n",
       "    .dataframe tbody tr th {\n",
       "        vertical-align: top;\n",
       "    }\n",
       "\n",
       "    .dataframe thead th {\n",
       "        text-align: right;\n",
       "    }\n",
       "</style>\n",
       "<table border=\"1\" class=\"dataframe\">\n",
       "  <thead>\n",
       "    <tr style=\"text-align: right;\">\n",
       "      <th></th>\n",
       "      <th>befejezte</th>\n",
       "    </tr>\n",
       "    <tr>\n",
       "      <th>sebesség kategória</th>\n",
       "      <th></th>\n",
       "    </tr>\n",
       "  </thead>\n",
       "  <tbody>\n",
       "    <tr>\n",
       "      <th>közepesen lassú</th>\n",
       "      <td>167.0</td>\n",
       "    </tr>\n",
       "    <tr>\n",
       "      <th>közepes</th>\n",
       "      <td>166.0</td>\n",
       "    </tr>\n",
       "    <tr>\n",
       "      <th>közepesen gyors</th>\n",
       "      <td>156.0</td>\n",
       "    </tr>\n",
       "    <tr>\n",
       "      <th>gyors</th>\n",
       "      <td>145.0</td>\n",
       "    </tr>\n",
       "    <tr>\n",
       "      <th>lassú</th>\n",
       "      <td>144.0</td>\n",
       "    </tr>\n",
       "  </tbody>\n",
       "</table>\n",
       "</div>"
      ],
      "text/plain": [
       "                    befejezte\n",
       "sebesség kategória           \n",
       "közepesen lassú         167.0\n",
       "közepes                 166.0\n",
       "közepesen gyors         156.0\n",
       "gyors                   145.0\n",
       "lassú                   144.0"
      ]
     },
     "execution_count": 88,
     "metadata": {},
     "output_type": "execute_result"
    },
    {
     "data": {
      "image/png": "[encoded data removed]",
      "text/plain": [
       "<Figure size 432x288 with 1 Axes>"
      ]
     },
     "metadata": {
      "needs_background": "light"
     },
     "output_type": "display_data"
    }
   ],
   "source": [
    "sns.barplot(y='befejezte', x='sebesség kategória', data=sebessegKitartas.reset_index())\n",
    "sebessegKitartas"
   ]
  },
  {
   "cell_type": "markdown",
   "metadata": {
    "id": "iWEQcXDZvmYF"
   },
   "source": [
    "Jól látható hogy az adathalmaz adatait rengeteg féle módon tudjuk vizualizálni. "
   ]
  },
  {
   "cell_type": "markdown",
   "metadata": {
    "id": "3BU5XwZPvmYF"
   },
   "source": [
    "# Osztályozás"
   ]
  },
  {
   "cell_type": "markdown",
   "metadata": {
    "id": "66mgRlVOvmYF"
   },
   "source": [
    "Miután már vizualizáltunk, itt az ideje hogy osztályozzunk is. A kérdés egyszerű, a megadott személyünk képes-e lefutni a Balatoni szupermaratont vagy nem.\n",
    "\n",
    "Ehhez importáljuk a szükséges könyvtárakat."
   ]
  },
  {
   "cell_type": "code",
   "execution_count": 89,
   "metadata": {
    "id": "RMEWJlZrvmYG"
   },
   "outputs": [],
   "source": [
    "import pandas as pd\n",
    "import numpy as np\n",
    "\n",
    "from sklearn.model_selection import train_test_split\n",
    "\n",
    "from sklearn.tree import DecisionTreeClassifier\n",
    "from sklearn.naive_bayes import GaussianNB\n",
    "from sklearn.neighbors import KNeighborsClassifier\n",
    "from sklearn.svm import SVC\n",
    "from sklearn.ensemble import RandomForestClassifier\n",
    "from sklearn.neural_network import MLPClassifier\n",
    "\n",
    "\n",
    "from sklearn.metrics import plot_confusion_matrix\n",
    "from sklearn.metrics import classification_report\n",
    "from sklearn.metrics import roc_auc_score\n",
    "from sklearn.metrics import f1_score\n",
    "from sklearn.metrics import accuracy_score\n",
    "\n",
    "\n",
    "from sklearn.tree import export_graphviz\n",
    "#from sklearn.externals.six import StringIO  \n",
    "from IPython.display import Image  \n",
    "import graphviz\n",
    "\n",
    "import matplotlib.pyplot as plt\n",
    "import seaborn as sns\n",
    "\n",
    "%matplotlib inline\n",
    "\n",
    "import warnings\n",
    "warnings.filterwarnings(\"ignore\", category=FutureWarning)"
   ]
  },
  {
   "cell_type": "markdown",
   "metadata": {
    "id": "VdBr2IN4vmYG"
   },
   "source": [
    "### Előkészületek"
   ]
  },
  {
   "cell_type": "markdown",
   "metadata": {
    "id": "0JTWr-DKvmYG"
   },
   "source": [
    "Először is szükségünk lesz átdolgozni az adathalmazunkat.\n",
    "\n",
    "Kelleni fog a dummy változók alkalmazása, ahhoz, hogy eltudjuk készíteni a modellünket."
   ]
  },
  {
   "cell_type": "code",
   "execution_count": 90,
   "metadata": {
    "id": "PysfDuD0vmYG"
   },
   "outputs": [],
   "source": [
    "bszm['nem'] = pd.get_dummies(bszm['nem'], drop_first=True)\n",
    "bszm['befejezte'] = pd.get_dummies(bszm['befejezte'], drop_first=True)"
   ]
  },
  {
   "cell_type": "code",
   "execution_count": 91,
   "metadata": {
    "colab": {
     "base_uri": "https://localhost:8080/",
     "height": 204
    },
    "id": "khnJJpg5vmYG",
    "outputId": "a409c9a1-abcd-443a-85dc-61679ffb309a"
   },
   "outputs": [
    {
     "data": {
      "text/html": [
       "<div>\n",
       "<style scoped>\n",
       "    .dataframe tbody tr th:only-of-type {\n",
       "        vertical-align: middle;\n",
       "    }\n",
       "\n",
       "    .dataframe tbody tr th {\n",
       "        vertical-align: top;\n",
       "    }\n",
       "\n",
       "    .dataframe thead th {\n",
       "        text-align: right;\n",
       "    }\n",
       "</style>\n",
       "<table border=\"1\" class=\"dataframe\">\n",
       "  <thead>\n",
       "    <tr style=\"text-align: right;\">\n",
       "      <th></th>\n",
       "      <th>sz.év.</th>\n",
       "      <th>Kategória</th>\n",
       "      <th>nem</th>\n",
       "      <th>eredmény</th>\n",
       "      <th>Megtett táv (km)</th>\n",
       "      <th>befejezte</th>\n",
       "      <th>eredmény(perc)</th>\n",
       "      <th>átlagos tempó (perc/km)</th>\n",
       "      <th>sebesség kategória</th>\n",
       "    </tr>\n",
       "  </thead>\n",
       "  <tbody>\n",
       "    <tr>\n",
       "      <th>0</th>\n",
       "      <td>1977.0</td>\n",
       "      <td>F3</td>\n",
       "      <td>0</td>\n",
       "      <td>0 days 13:02:08</td>\n",
       "      <td>196.0</td>\n",
       "      <td>1</td>\n",
       "      <td>782.0</td>\n",
       "      <td>3.989796</td>\n",
       "      <td>gyors</td>\n",
       "    </tr>\n",
       "    <tr>\n",
       "      <th>1</th>\n",
       "      <td>1988.0</td>\n",
       "      <td>F1</td>\n",
       "      <td>0</td>\n",
       "      <td>0 days 13:06:48</td>\n",
       "      <td>196.0</td>\n",
       "      <td>1</td>\n",
       "      <td>786.0</td>\n",
       "      <td>4.010204</td>\n",
       "      <td>gyors</td>\n",
       "    </tr>\n",
       "    <tr>\n",
       "      <th>2</th>\n",
       "      <td>1982.0</td>\n",
       "      <td>F2</td>\n",
       "      <td>0</td>\n",
       "      <td>0 days 14:05:35</td>\n",
       "      <td>196.0</td>\n",
       "      <td>1</td>\n",
       "      <td>845.0</td>\n",
       "      <td>4.311224</td>\n",
       "      <td>gyors</td>\n",
       "    </tr>\n",
       "    <tr>\n",
       "      <th>3</th>\n",
       "      <td>1986.0</td>\n",
       "      <td>F1</td>\n",
       "      <td>0</td>\n",
       "      <td>0 days 14:22:47</td>\n",
       "      <td>196.0</td>\n",
       "      <td>1</td>\n",
       "      <td>862.0</td>\n",
       "      <td>4.397959</td>\n",
       "      <td>gyors</td>\n",
       "    </tr>\n",
       "    <tr>\n",
       "      <th>4</th>\n",
       "      <td>1978.0</td>\n",
       "      <td>F3</td>\n",
       "      <td>0</td>\n",
       "      <td>0 days 14:42:39</td>\n",
       "      <td>196.0</td>\n",
       "      <td>1</td>\n",
       "      <td>882.0</td>\n",
       "      <td>4.500000</td>\n",
       "      <td>gyors</td>\n",
       "    </tr>\n",
       "  </tbody>\n",
       "</table>\n",
       "</div>"
      ],
      "text/plain": [
       "   sz.év. Kategória  nem         eredmény  Megtett táv (km)  befejezte  \\\n",
       "0  1977.0        F3    0  0 days 13:02:08             196.0          1   \n",
       "1  1988.0        F1    0  0 days 13:06:48             196.0          1   \n",
       "2  1982.0        F2    0  0 days 14:05:35             196.0          1   \n",
       "3  1986.0        F1    0  0 days 14:22:47             196.0          1   \n",
       "4  1978.0        F3    0  0 days 14:42:39             196.0          1   \n",
       "\n",
       "   eredmény(perc)  átlagos tempó (perc/km) sebesség kategória  \n",
       "0           782.0                 3.989796              gyors  \n",
       "1           786.0                 4.010204              gyors  \n",
       "2           845.0                 4.311224              gyors  \n",
       "3           862.0                 4.397959              gyors  \n",
       "4           882.0                 4.500000              gyors  "
      ]
     },
     "execution_count": 91,
     "metadata": {},
     "output_type": "execute_result"
    }
   ],
   "source": [
    "bszm.head()"
   ]
  },
  {
   "cell_type": "markdown",
   "metadata": {
    "id": "CJhQH9tVvmYG"
   },
   "source": [
    "Átmásoljuk egy új adathalmazba az előző adathalmazunk néhány oszlopát, amikkel a továbbikban szeretnénk dolgozni.<br/>\n",
    "Miután ez megvan, a maradék attribútumhoz is létre hozunk dummy változókat, amiket hozzá fűzünk az új adathalmazhoz, úgy, hogy a az oszlopokat amikből dummy változót készítettünk, kidobáljuk. \n",
    "\n",
    "Ezután az adathalmazunk az alábbiként néz ki:"
   ]
  },
  {
   "cell_type": "code",
   "execution_count": 92,
   "metadata": {
    "colab": {
     "base_uri": "https://localhost:8080/",
     "height": 419
    },
    "id": "RWC862yDvmYH",
    "outputId": "7514cad3-0cc6-4350-b518-136d9eacacc2"
   },
   "outputs": [
    {
     "data": {
      "text/html": [
       "<div>\n",
       "<style scoped>\n",
       "    .dataframe tbody tr th:only-of-type {\n",
       "        vertical-align: middle;\n",
       "    }\n",
       "\n",
       "    .dataframe tbody tr th {\n",
       "        vertical-align: top;\n",
       "    }\n",
       "\n",
       "    .dataframe thead th {\n",
       "        text-align: right;\n",
       "    }\n",
       "</style>\n",
       "<table border=\"1\" class=\"dataframe\">\n",
       "  <thead>\n",
       "    <tr style=\"text-align: right;\">\n",
       "      <th></th>\n",
       "      <th>befejezte</th>\n",
       "      <th>nem</th>\n",
       "      <th>F1</th>\n",
       "      <th>F2</th>\n",
       "      <th>F3</th>\n",
       "      <th>F4</th>\n",
       "      <th>F5</th>\n",
       "      <th>N1</th>\n",
       "      <th>N2</th>\n",
       "      <th>N3</th>\n",
       "      <th>N4</th>\n",
       "      <th>gyors</th>\n",
       "      <th>közepes</th>\n",
       "      <th>közepesen gyors</th>\n",
       "      <th>közepesen lassú</th>\n",
       "      <th>lassú</th>\n",
       "    </tr>\n",
       "  </thead>\n",
       "  <tbody>\n",
       "    <tr>\n",
       "      <th>0</th>\n",
       "      <td>1</td>\n",
       "      <td>0</td>\n",
       "      <td>0</td>\n",
       "      <td>0</td>\n",
       "      <td>1</td>\n",
       "      <td>0</td>\n",
       "      <td>0</td>\n",
       "      <td>0</td>\n",
       "      <td>0</td>\n",
       "      <td>0</td>\n",
       "      <td>0</td>\n",
       "      <td>1</td>\n",
       "      <td>0</td>\n",
       "      <td>0</td>\n",
       "      <td>0</td>\n",
       "      <td>0</td>\n",
       "    </tr>\n",
       "    <tr>\n",
       "      <th>1</th>\n",
       "      <td>1</td>\n",
       "      <td>0</td>\n",
       "      <td>1</td>\n",
       "      <td>0</td>\n",
       "      <td>0</td>\n",
       "      <td>0</td>\n",
       "      <td>0</td>\n",
       "      <td>0</td>\n",
       "      <td>0</td>\n",
       "      <td>0</td>\n",
       "      <td>0</td>\n",
       "      <td>1</td>\n",
       "      <td>0</td>\n",
       "      <td>0</td>\n",
       "      <td>0</td>\n",
       "      <td>0</td>\n",
       "    </tr>\n",
       "    <tr>\n",
       "      <th>2</th>\n",
       "      <td>1</td>\n",
       "      <td>0</td>\n",
       "      <td>0</td>\n",
       "      <td>1</td>\n",
       "      <td>0</td>\n",
       "      <td>0</td>\n",
       "      <td>0</td>\n",
       "      <td>0</td>\n",
       "      <td>0</td>\n",
       "      <td>0</td>\n",
       "      <td>0</td>\n",
       "      <td>1</td>\n",
       "      <td>0</td>\n",
       "      <td>0</td>\n",
       "      <td>0</td>\n",
       "      <td>0</td>\n",
       "    </tr>\n",
       "    <tr>\n",
       "      <th>3</th>\n",
       "      <td>1</td>\n",
       "      <td>0</td>\n",
       "      <td>1</td>\n",
       "      <td>0</td>\n",
       "      <td>0</td>\n",
       "      <td>0</td>\n",
       "      <td>0</td>\n",
       "      <td>0</td>\n",
       "      <td>0</td>\n",
       "      <td>0</td>\n",
       "      <td>0</td>\n",
       "      <td>1</td>\n",
       "      <td>0</td>\n",
       "      <td>0</td>\n",
       "      <td>0</td>\n",
       "      <td>0</td>\n",
       "    </tr>\n",
       "    <tr>\n",
       "      <th>4</th>\n",
       "      <td>1</td>\n",
       "      <td>0</td>\n",
       "      <td>0</td>\n",
       "      <td>0</td>\n",
       "      <td>1</td>\n",
       "      <td>0</td>\n",
       "      <td>0</td>\n",
       "      <td>0</td>\n",
       "      <td>0</td>\n",
       "      <td>0</td>\n",
       "      <td>0</td>\n",
       "      <td>1</td>\n",
       "      <td>0</td>\n",
       "      <td>0</td>\n",
       "      <td>0</td>\n",
       "      <td>0</td>\n",
       "    </tr>\n",
       "    <tr>\n",
       "      <th>...</th>\n",
       "      <td>...</td>\n",
       "      <td>...</td>\n",
       "      <td>...</td>\n",
       "      <td>...</td>\n",
       "      <td>...</td>\n",
       "      <td>...</td>\n",
       "      <td>...</td>\n",
       "      <td>...</td>\n",
       "      <td>...</td>\n",
       "      <td>...</td>\n",
       "      <td>...</td>\n",
       "      <td>...</td>\n",
       "      <td>...</td>\n",
       "      <td>...</td>\n",
       "      <td>...</td>\n",
       "      <td>...</td>\n",
       "    </tr>\n",
       "    <tr>\n",
       "      <th>1549</th>\n",
       "      <td>0</td>\n",
       "      <td>0</td>\n",
       "      <td>0</td>\n",
       "      <td>1</td>\n",
       "      <td>0</td>\n",
       "      <td>0</td>\n",
       "      <td>0</td>\n",
       "      <td>0</td>\n",
       "      <td>0</td>\n",
       "      <td>0</td>\n",
       "      <td>0</td>\n",
       "      <td>0</td>\n",
       "      <td>1</td>\n",
       "      <td>0</td>\n",
       "      <td>0</td>\n",
       "      <td>0</td>\n",
       "    </tr>\n",
       "    <tr>\n",
       "      <th>1550</th>\n",
       "      <td>0</td>\n",
       "      <td>0</td>\n",
       "      <td>0</td>\n",
       "      <td>1</td>\n",
       "      <td>0</td>\n",
       "      <td>0</td>\n",
       "      <td>0</td>\n",
       "      <td>0</td>\n",
       "      <td>0</td>\n",
       "      <td>0</td>\n",
       "      <td>0</td>\n",
       "      <td>1</td>\n",
       "      <td>0</td>\n",
       "      <td>0</td>\n",
       "      <td>0</td>\n",
       "      <td>0</td>\n",
       "    </tr>\n",
       "    <tr>\n",
       "      <th>1551</th>\n",
       "      <td>0</td>\n",
       "      <td>0</td>\n",
       "      <td>0</td>\n",
       "      <td>1</td>\n",
       "      <td>0</td>\n",
       "      <td>0</td>\n",
       "      <td>0</td>\n",
       "      <td>0</td>\n",
       "      <td>0</td>\n",
       "      <td>0</td>\n",
       "      <td>0</td>\n",
       "      <td>0</td>\n",
       "      <td>0</td>\n",
       "      <td>1</td>\n",
       "      <td>0</td>\n",
       "      <td>0</td>\n",
       "    </tr>\n",
       "    <tr>\n",
       "      <th>1552</th>\n",
       "      <td>0</td>\n",
       "      <td>0</td>\n",
       "      <td>0</td>\n",
       "      <td>0</td>\n",
       "      <td>0</td>\n",
       "      <td>1</td>\n",
       "      <td>0</td>\n",
       "      <td>0</td>\n",
       "      <td>0</td>\n",
       "      <td>0</td>\n",
       "      <td>0</td>\n",
       "      <td>0</td>\n",
       "      <td>0</td>\n",
       "      <td>0</td>\n",
       "      <td>1</td>\n",
       "      <td>0</td>\n",
       "    </tr>\n",
       "    <tr>\n",
       "      <th>1553</th>\n",
       "      <td>0</td>\n",
       "      <td>0</td>\n",
       "      <td>1</td>\n",
       "      <td>0</td>\n",
       "      <td>0</td>\n",
       "      <td>0</td>\n",
       "      <td>0</td>\n",
       "      <td>0</td>\n",
       "      <td>0</td>\n",
       "      <td>0</td>\n",
       "      <td>0</td>\n",
       "      <td>0</td>\n",
       "      <td>0</td>\n",
       "      <td>1</td>\n",
       "      <td>0</td>\n",
       "      <td>0</td>\n",
       "    </tr>\n",
       "  </tbody>\n",
       "</table>\n",
       "<p>1536 rows × 16 columns</p>\n",
       "</div>"
      ],
      "text/plain": [
       "      befejezte  nem  F1  F2  F3  F4  F5  N1  N2  N3  N4  gyors  közepes  \\\n",
       "0             1    0   0   0   1   0   0   0   0   0   0      1        0   \n",
       "1             1    0   1   0   0   0   0   0   0   0   0      1        0   \n",
       "2             1    0   0   1   0   0   0   0   0   0   0      1        0   \n",
       "3             1    0   1   0   0   0   0   0   0   0   0      1        0   \n",
       "4             1    0   0   0   1   0   0   0   0   0   0      1        0   \n",
       "...         ...  ...  ..  ..  ..  ..  ..  ..  ..  ..  ..    ...      ...   \n",
       "1549          0    0   0   1   0   0   0   0   0   0   0      0        1   \n",
       "1550          0    0   0   1   0   0   0   0   0   0   0      1        0   \n",
       "1551          0    0   0   1   0   0   0   0   0   0   0      0        0   \n",
       "1552          0    0   0   0   0   1   0   0   0   0   0      0        0   \n",
       "1553          0    0   1   0   0   0   0   0   0   0   0      0        0   \n",
       "\n",
       "      közepesen gyors  közepesen lassú  lassú  \n",
       "0                   0                0      0  \n",
       "1                   0                0      0  \n",
       "2                   0                0      0  \n",
       "3                   0                0      0  \n",
       "4                   0                0      0  \n",
       "...               ...              ...    ...  \n",
       "1549                0                0      0  \n",
       "1550                0                0      0  \n",
       "1551                1                0      0  \n",
       "1552                0                1      0  \n",
       "1553                1                0      0  \n",
       "\n",
       "[1536 rows x 16 columns]"
      ]
     },
     "execution_count": 92,
     "metadata": {},
     "output_type": "execute_result"
    }
   ],
   "source": [
    "bszmC = bszm[['befejezte', 'Kategória', 'nem', 'sebesség kategória']]\n",
    "#bszmC['Kategória'] = pd.get_dummies(bszmC['Kategória'], drop_first=True)\n",
    "\n",
    "one_hot_kategoria = pd.get_dummies(bszmC['Kategória'])\n",
    "one_hot_sebesseg = pd.get_dummies(bszmC['sebesség kategória'])\n",
    "\n",
    "one_hot_kategoria\n",
    "one_hot_sebesseg\n",
    "\n",
    "bszmC = bszmC.drop('Kategória', axis=1)\n",
    "bszmC = bszmC.drop('sebesség kategória', axis=1)\n",
    "\n",
    "bszmC = bszmC.join(one_hot_kategoria)\n",
    "bszmC = bszmC.join(one_hot_sebesseg)\n",
    "\n",
    "bszmC"
   ]
  },
  {
   "cell_type": "markdown",
   "metadata": {
    "id": "g-CYp4sVvmYH"
   },
   "source": [
    "Ezután be kell állítani az **osztálycímkét**, és a **leíró változókat**"
   ]
  },
  {
   "cell_type": "code",
   "execution_count": 93,
   "metadata": {
    "colab": {
     "base_uri": "https://localhost:8080/"
    },
    "id": "DdITeSp3vmYH",
    "outputId": "2ed828c0-a692-4498-b84d-c500ff8e6375"
   },
   "outputs": [
    {
     "name": "stdout",
     "output_type": "stream",
     "text": [
      "Osztálycímke: ['befejezte']\n",
      "leíró változók: ['nem', 'F1', 'F2', 'F3', 'F4', 'F5', 'N1', 'N2', 'N3', 'N4', 'gyors', 'közepes', 'közepesen gyors', 'közepesen lassú', 'lassú']\n"
     ]
    }
   ],
   "source": [
    "classlabel = list(bszmC.columns[:1])\n",
    "features = list(bszmC.columns[1:])\n",
    "print('Osztálycímke:', classlabel)\n",
    "print('leíró változók:', features)"
   ]
  },
  {
   "cell_type": "markdown",
   "metadata": {
    "id": "ubtxH4eFvmYH"
   },
   "source": [
    "Miután ezzel is megvagyunk, létrehozhatjuk a test, és a training halmazunkat is."
   ]
  },
  {
   "cell_type": "code",
   "execution_count": 94,
   "metadata": {
    "id": "TipTg8n-vmYH"
   },
   "outputs": [],
   "source": [
    "# DataFrame-et TULAJDONSÁGOK(features, X) és CÉL(target, y) tömbökre bontjuk \n",
    "X = bszmC.iloc[:, 1:].values\n",
    "y = bszmC.iloc[:, 0].values.reshape(-1,1)"
   ]
  },
  {
   "cell_type": "code",
   "execution_count": 95,
   "metadata": {
    "id": "aH3ieEk1vmYH"
   },
   "outputs": [],
   "source": [
    "# Tréning és teszt adatok létrehozása 2/3 és 1/3 vágással\n",
    "X_train, X_test, y_train, y_test = train_test_split(X, y, test_size=0.33)"
   ]
  },
  {
   "cell_type": "markdown",
   "metadata": {
    "id": "ARDwoBE0vmYI"
   },
   "source": [
    "Ha ez is megvan, már lehet ezt használni a továbbiakban."
   ]
  },
  {
   "cell_type": "markdown",
   "metadata": {
    "id": "y1iUkAKKvmYI"
   },
   "source": [
    "### Döntési fa"
   ]
  },
  {
   "cell_type": "markdown",
   "metadata": {
    "id": "b-6EjkuhvmYI"
   },
   "source": [
    "#### Először is hozzuk létre a modellt."
   ]
  },
  {
   "cell_type": "code",
   "execution_count": 96,
   "metadata": {
    "colab": {
     "base_uri": "https://localhost:8080/"
    },
    "id": "9YtQ4tdhvmYI",
    "outputId": "9ec8c8d0-212c-4eda-a97f-81e978a80404"
   },
   "outputs": [
    {
     "name": "stdout",
     "output_type": "stream",
     "text": [
      "DecisionTreeClassifier()\n"
     ]
    }
   ],
   "source": [
    "clf_dtree = DecisionTreeClassifier()\n",
    "print(clf_dtree)"
   ]
  },
  {
   "cell_type": "markdown",
   "metadata": {
    "id": "2gRCGPMgvmYJ"
   },
   "source": [
    "#### Hajtsuk végre a döntési fával a tanítást."
   ]
  },
  {
   "cell_type": "code",
   "execution_count": 97,
   "metadata": {
    "id": "ZHqwTOwXvmYJ"
   },
   "outputs": [],
   "source": [
    "clf_dtree = clf_dtree.fit(X_train,y_train)"
   ]
  },
  {
   "cell_type": "markdown",
   "metadata": {
    "id": "YyiOXpRzvmYJ"
   },
   "source": [
    "#### Osztálycímkére vonatkozó becslés"
   ]
  },
  {
   "cell_type": "code",
   "execution_count": 98,
   "metadata": {
    "colab": {
     "base_uri": "https://localhost:8080/"
    },
    "id": "QS8HUYbfvmYK",
    "outputId": "3338fb2a-f89a-4173-ca26-e6479c6be1d1"
   },
   "outputs": [
    {
     "data": {
      "text/plain": [
       "array([1, 1, 1, 1, 0, 1, 0, 1, 0, 0, 1, 1, 0, 0, 0, 0, 1, 1, 1, 0, 0, 1,\n",
       "       0, 1, 0, 1, 0, 0, 0, 1, 0, 0, 0, 1, 1, 0, 0, 1, 1, 1, 0, 1, 0, 0,\n",
       "       1, 0, 1, 1, 1, 0, 1, 0, 1, 1, 1, 0, 1, 1, 1, 1, 1, 1, 1, 1, 0, 1,\n",
       "       0, 0, 1, 1, 1, 0, 1, 1, 0, 0, 1, 1, 1, 0, 0, 0, 0, 1, 0, 0, 1, 0,\n",
       "       1, 1, 0, 1, 0, 1, 1, 1, 0, 1, 0, 0, 1, 1, 0, 1, 1, 0, 0, 0, 1, 1,\n",
       "       1, 1, 1, 1, 1, 1, 1, 0, 0, 1, 0, 1, 0, 1, 0, 0, 0, 1, 0, 1, 0, 0,\n",
       "       1, 1, 0, 0, 1, 1, 1, 0, 1, 1, 1, 1, 0, 0, 0, 1, 0, 1, 1, 1, 1, 0,\n",
       "       0, 0, 1, 0, 0, 1, 1, 1, 0, 1, 0, 0, 1, 1, 1, 1, 0, 1, 0, 1, 1, 1,\n",
       "       0, 0, 0, 1, 1, 0, 1, 1, 1, 0, 0, 1, 0, 1, 1, 1, 1, 0, 1, 1, 0, 1,\n",
       "       0, 0, 1, 0, 1, 0, 0, 0, 1, 0, 1, 0, 0, 0, 1, 1, 0, 1, 0, 1, 1, 0,\n",
       "       1, 0, 1, 1, 1, 1, 0, 0, 0, 0, 1, 1, 0, 0, 0, 1, 0, 1, 1, 0, 0, 1,\n",
       "       1, 1, 0, 1, 0, 0, 0, 0, 1, 1, 0, 0, 0, 0, 1, 1, 1, 1, 1, 0, 1, 1,\n",
       "       1, 0, 0, 1, 0, 1, 1, 1, 0, 1, 1, 0, 1, 0, 0, 0, 1, 1, 1, 1, 1, 0,\n",
       "       1, 0, 0, 0, 1, 0, 1, 1, 1, 0, 1, 1, 0, 0, 0, 1, 1, 1, 1, 1, 1, 0,\n",
       "       1, 0, 0, 0, 1, 0, 1, 1, 1, 1, 0, 1, 1, 0, 1, 1, 0, 0, 0, 1, 1, 0,\n",
       "       1, 0, 0, 0, 0, 0, 0, 1, 1, 0, 1, 0, 0, 1, 1, 0, 0, 1, 1, 1, 1, 0,\n",
       "       1, 1, 0, 1, 1, 0, 0, 1, 1, 0, 1, 0, 0, 0, 1, 1, 0, 0, 0, 1, 1, 0,\n",
       "       0, 0, 1, 0, 0, 1, 0, 0, 1, 0, 1, 1, 1, 0, 1, 1, 1, 0, 1, 1, 1, 1,\n",
       "       0, 1, 1, 1, 0, 1, 1, 0, 0, 0, 1, 1, 0, 0, 0, 1, 1, 0, 1, 1, 0, 1,\n",
       "       1, 1, 1, 0, 1, 1, 0, 1, 1, 0, 1, 0, 1, 1, 0, 0, 1, 0, 0, 0, 0, 1,\n",
       "       1, 0, 1, 0, 0, 1, 1, 0, 0, 1, 1, 1, 1, 1, 0, 0, 0, 1, 0, 1, 0, 1,\n",
       "       1, 1, 1, 0, 1, 1, 1, 0, 1, 1, 0, 1, 0, 1, 0, 0, 1, 0, 1, 0, 0, 0,\n",
       "       1, 0, 1, 1, 1, 1, 0, 0, 1, 0, 0, 0, 1, 0, 1, 1, 1, 1, 1, 0, 1, 0,\n",
       "       1], dtype=uint8)"
      ]
     },
     "execution_count": 98,
     "metadata": {},
     "output_type": "execute_result"
    }
   ],
   "source": [
    "y_pred_dtree = clf_dtree.predict(X_test)\n",
    "y_pred_dtree"
   ]
  },
  {
   "cell_type": "markdown",
   "metadata": {
    "id": "Rl0xepJAvmYK"
   },
   "source": [
    "#### A modell valós pontossága paraméterek nélkül"
   ]
  },
  {
   "cell_type": "code",
   "execution_count": 99,
   "metadata": {
    "colab": {
     "base_uri": "https://localhost:8080/"
    },
    "id": "nsTyAa5EvmYK",
    "outputId": "f86f5a03-f9be-40f7-afac-d6f4be20b7f7"
   },
   "outputs": [
    {
     "name": "stdout",
     "output_type": "stream",
     "text": [
      "Paraméterek nélküli pontosság: 0.6232741617357002\n"
     ]
    }
   ],
   "source": [
    "print(\"Paraméterek nélküli pontosság:\", accuracy_score(y_test, y_pred_dtree))"
   ]
  },
  {
   "cell_type": "markdown",
   "metadata": {
    "id": "GvD1YATmvmYK"
   },
   "source": [
    "#### Felparaméterezve"
   ]
  },
  {
   "cell_type": "code",
   "execution_count": 100,
   "metadata": {
    "colab": {
     "base_uri": "https://localhost:8080/"
    },
    "id": "0m4yooxzvmYL",
    "outputId": "1cd20d1a-d283-4ae8-8eb0-97af6147380c"
   },
   "outputs": [
    {
     "name": "stdout",
     "output_type": "stream",
     "text": [
      "Paraméteres pontosság: 0.6094674556213018\n"
     ]
    }
   ],
   "source": [
    "clf_dtree2 = DecisionTreeClassifier(criterion=\"entropy\", splitter=\"best\", max_depth=7, min_samples_split=3)\n",
    "clf_dtree2 = clf_dtree2.fit(X_train,y_train)\n",
    "y_pred_dtree2 = clf_dtree2.predict(X_test)\n",
    "print(\"Paraméteres pontosság:\",accuracy_score(y_test, y_pred_dtree2))"
   ]
  },
  {
   "cell_type": "markdown",
   "metadata": {
    "id": "L09HMkRgvmYL"
   },
   "source": [
    "#### A döntési fa grafikus megjelenítése"
   ]
  },
  {
   "cell_type": "code",
   "execution_count": 101,
   "metadata": {
    "colab": {
     "base_uri": "https://localhost:8080/",
     "height": 1000
    },
    "id": "tQC80g3RvmYL",
    "outputId": "220beb14-bd6f-4241-ed14-63af7480c9e9"
   },
   "outputs": [
    {
     "ename": "ExecutableNotFound",
     "evalue": "failed to execute ['dot', '-Kdot', '-Tsvg'], make sure the Graphviz executables are on your systems' PATH",
     "output_type": "error",
     "traceback": [
      "\u001b[0;31m---------------------------------------------------------------------------\u001b[0m",
      "\u001b[0;31mFileNotFoundError\u001b[0m                         Traceback (most recent call last)",
      "\u001b[0;32m/Library/Frameworks/Python.framework/Versions/3.8/lib/python3.8/site-packages/graphviz/backend.py\u001b[0m in \u001b[0;36mrun\u001b[0;34m(cmd, input, capture_output, check, encoding, quiet, **kwargs)\u001b[0m\n\u001b[1;32m    163\u001b[0m     \u001b[0;32mtry\u001b[0m\u001b[0;34m:\u001b[0m\u001b[0;34m\u001b[0m\u001b[0;34m\u001b[0m\u001b[0m\n\u001b[0;32m--> 164\u001b[0;31m         \u001b[0mproc\u001b[0m \u001b[0;34m=\u001b[0m \u001b[0msubprocess\u001b[0m\u001b[0;34m.\u001b[0m\u001b[0mPopen\u001b[0m\u001b[0;34m(\u001b[0m\u001b[0mcmd\u001b[0m\u001b[0;34m,\u001b[0m \u001b[0mstartupinfo\u001b[0m\u001b[0;34m=\u001b[0m\u001b[0mget_startupinfo\u001b[0m\u001b[0;34m(\u001b[0m\u001b[0;34m)\u001b[0m\u001b[0;34m,\u001b[0m \u001b[0;34m**\u001b[0m\u001b[0mkwargs\u001b[0m\u001b[0;34m)\u001b[0m\u001b[0;34m\u001b[0m\u001b[0;34m\u001b[0m\u001b[0m\n\u001b[0m\u001b[1;32m    165\u001b[0m     \u001b[0;32mexcept\u001b[0m \u001b[0mOSError\u001b[0m \u001b[0;32mas\u001b[0m \u001b[0me\u001b[0m\u001b[0;34m:\u001b[0m\u001b[0;34m\u001b[0m\u001b[0;34m\u001b[0m\u001b[0m\n",
      "\u001b[0;32m/Library/Frameworks/Python.framework/Versions/3.8/lib/python3.8/subprocess.py\u001b[0m in \u001b[0;36m__init__\u001b[0;34m(self, args, bufsize, executable, stdin, stdout, stderr, preexec_fn, close_fds, shell, cwd, env, universal_newlines, startupinfo, creationflags, restore_signals, start_new_session, pass_fds, encoding, errors, text)\u001b[0m\n\u001b[1;32m    853\u001b[0m \u001b[0;34m\u001b[0m\u001b[0m\n\u001b[0;32m--> 854\u001b[0;31m             self._execute_child(args, executable, preexec_fn, close_fds,\n\u001b[0m\u001b[1;32m    855\u001b[0m                                 \u001b[0mpass_fds\u001b[0m\u001b[0;34m,\u001b[0m \u001b[0mcwd\u001b[0m\u001b[0;34m,\u001b[0m \u001b[0menv\u001b[0m\u001b[0;34m,\u001b[0m\u001b[0;34m\u001b[0m\u001b[0;34m\u001b[0m\u001b[0m\n",
      "\u001b[0;32m/Library/Frameworks/Python.framework/Versions/3.8/lib/python3.8/subprocess.py\u001b[0m in \u001b[0;36m_execute_child\u001b[0;34m(self, args, executable, preexec_fn, close_fds, pass_fds, cwd, env, startupinfo, creationflags, shell, p2cread, p2cwrite, c2pread, c2pwrite, errread, errwrite, restore_signals, start_new_session)\u001b[0m\n\u001b[1;32m   1701\u001b[0m                         \u001b[0merr_msg\u001b[0m \u001b[0;34m=\u001b[0m \u001b[0mos\u001b[0m\u001b[0;34m.\u001b[0m\u001b[0mstrerror\u001b[0m\u001b[0;34m(\u001b[0m\u001b[0merrno_num\u001b[0m\u001b[0;34m)\u001b[0m\u001b[0;34m\u001b[0m\u001b[0;34m\u001b[0m\u001b[0m\n\u001b[0;32m-> 1702\u001b[0;31m                     \u001b[0;32mraise\u001b[0m \u001b[0mchild_exception_type\u001b[0m\u001b[0;34m(\u001b[0m\u001b[0merrno_num\u001b[0m\u001b[0;34m,\u001b[0m \u001b[0merr_msg\u001b[0m\u001b[0;34m,\u001b[0m \u001b[0merr_filename\u001b[0m\u001b[0;34m)\u001b[0m\u001b[0;34m\u001b[0m\u001b[0;34m\u001b[0m\u001b[0m\n\u001b[0m\u001b[1;32m   1703\u001b[0m                 \u001b[0;32mraise\u001b[0m \u001b[0mchild_exception_type\u001b[0m\u001b[0;34m(\u001b[0m\u001b[0merr_msg\u001b[0m\u001b[0;34m)\u001b[0m\u001b[0;34m\u001b[0m\u001b[0;34m\u001b[0m\u001b[0m\n",
      "\u001b[0;31mFileNotFoundError\u001b[0m: [Errno 2] No such file or directory: 'dot'",
      "\nDuring handling of the above exception, another exception occurred:\n",
      "\u001b[0;31mExecutableNotFound\u001b[0m                        Traceback (most recent call last)",
      "\u001b[0;32m~/Library/Python/3.8/lib/python/site-packages/IPython/core/formatters.py\u001b[0m in \u001b[0;36m__call__\u001b[0;34m(self, obj)\u001b[0m\n\u001b[1;32m    343\u001b[0m             \u001b[0mmethod\u001b[0m \u001b[0;34m=\u001b[0m \u001b[0mget_real_method\u001b[0m\u001b[0;34m(\u001b[0m\u001b[0mobj\u001b[0m\u001b[0;34m,\u001b[0m \u001b[0mself\u001b[0m\u001b[0;34m.\u001b[0m\u001b[0mprint_method\u001b[0m\u001b[0;34m)\u001b[0m\u001b[0;34m\u001b[0m\u001b[0;34m\u001b[0m\u001b[0m\n\u001b[1;32m    344\u001b[0m             \u001b[0;32mif\u001b[0m \u001b[0mmethod\u001b[0m \u001b[0;32mis\u001b[0m \u001b[0;32mnot\u001b[0m \u001b[0;32mNone\u001b[0m\u001b[0;34m:\u001b[0m\u001b[0;34m\u001b[0m\u001b[0;34m\u001b[0m\u001b[0m\n\u001b[0;32m--> 345\u001b[0;31m                 \u001b[0;32mreturn\u001b[0m \u001b[0mmethod\u001b[0m\u001b[0;34m(\u001b[0m\u001b[0;34m)\u001b[0m\u001b[0;34m\u001b[0m\u001b[0;34m\u001b[0m\u001b[0m\n\u001b[0m\u001b[1;32m    346\u001b[0m             \u001b[0;32mreturn\u001b[0m \u001b[0;32mNone\u001b[0m\u001b[0;34m\u001b[0m\u001b[0;34m\u001b[0m\u001b[0m\n\u001b[1;32m    347\u001b[0m         \u001b[0;32melse\u001b[0m\u001b[0;34m:\u001b[0m\u001b[0;34m\u001b[0m\u001b[0;34m\u001b[0m\u001b[0m\n",
      "\u001b[0;32m/Library/Frameworks/Python.framework/Versions/3.8/lib/python3.8/site-packages/graphviz/files.py\u001b[0m in \u001b[0;36m_repr_svg_\u001b[0;34m(self)\u001b[0m\n\u001b[1;32m    142\u001b[0m \u001b[0;34m\u001b[0m\u001b[0m\n\u001b[1;32m    143\u001b[0m     \u001b[0;32mdef\u001b[0m \u001b[0m_repr_svg_\u001b[0m\u001b[0;34m(\u001b[0m\u001b[0mself\u001b[0m\u001b[0;34m)\u001b[0m\u001b[0;34m:\u001b[0m\u001b[0;34m\u001b[0m\u001b[0;34m\u001b[0m\u001b[0m\n\u001b[0;32m--> 144\u001b[0;31m         \u001b[0;32mreturn\u001b[0m \u001b[0mself\u001b[0m\u001b[0;34m.\u001b[0m\u001b[0mpipe\u001b[0m\u001b[0;34m(\u001b[0m\u001b[0mformat\u001b[0m\u001b[0;34m=\u001b[0m\u001b[0;34m'svg'\u001b[0m\u001b[0;34m)\u001b[0m\u001b[0;34m.\u001b[0m\u001b[0mdecode\u001b[0m\u001b[0;34m(\u001b[0m\u001b[0mself\u001b[0m\u001b[0;34m.\u001b[0m\u001b[0m_encoding\u001b[0m\u001b[0;34m)\u001b[0m\u001b[0;34m\u001b[0m\u001b[0;34m\u001b[0m\u001b[0m\n\u001b[0m\u001b[1;32m    145\u001b[0m \u001b[0;34m\u001b[0m\u001b[0m\n\u001b[1;32m    146\u001b[0m     \u001b[0;32mdef\u001b[0m \u001b[0mpipe\u001b[0m\u001b[0;34m(\u001b[0m\u001b[0mself\u001b[0m\u001b[0;34m,\u001b[0m \u001b[0mformat\u001b[0m\u001b[0;34m=\u001b[0m\u001b[0;32mNone\u001b[0m\u001b[0;34m,\u001b[0m \u001b[0mrenderer\u001b[0m\u001b[0;34m=\u001b[0m\u001b[0;32mNone\u001b[0m\u001b[0;34m,\u001b[0m \u001b[0mformatter\u001b[0m\u001b[0;34m=\u001b[0m\u001b[0;32mNone\u001b[0m\u001b[0;34m,\u001b[0m \u001b[0mquiet\u001b[0m\u001b[0;34m=\u001b[0m\u001b[0;32mFalse\u001b[0m\u001b[0;34m)\u001b[0m\u001b[0;34m:\u001b[0m\u001b[0;34m\u001b[0m\u001b[0;34m\u001b[0m\u001b[0m\n",
      "\u001b[0;32m/Library/Frameworks/Python.framework/Versions/3.8/lib/python3.8/site-packages/graphviz/files.py\u001b[0m in \u001b[0;36mpipe\u001b[0;34m(self, format, renderer, formatter, quiet)\u001b[0m\n\u001b[1;32m    167\u001b[0m         \u001b[0mdata\u001b[0m \u001b[0;34m=\u001b[0m \u001b[0mtext_type\u001b[0m\u001b[0;34m(\u001b[0m\u001b[0mself\u001b[0m\u001b[0;34m.\u001b[0m\u001b[0msource\u001b[0m\u001b[0;34m)\u001b[0m\u001b[0;34m.\u001b[0m\u001b[0mencode\u001b[0m\u001b[0;34m(\u001b[0m\u001b[0mself\u001b[0m\u001b[0;34m.\u001b[0m\u001b[0m_encoding\u001b[0m\u001b[0;34m)\u001b[0m\u001b[0;34m\u001b[0m\u001b[0;34m\u001b[0m\u001b[0m\n\u001b[1;32m    168\u001b[0m \u001b[0;34m\u001b[0m\u001b[0m\n\u001b[0;32m--> 169\u001b[0;31m         out = backend.pipe(self._engine, format, data,\n\u001b[0m\u001b[1;32m    170\u001b[0m                            \u001b[0mrenderer\u001b[0m\u001b[0;34m=\u001b[0m\u001b[0mrenderer\u001b[0m\u001b[0;34m,\u001b[0m \u001b[0mformatter\u001b[0m\u001b[0;34m=\u001b[0m\u001b[0mformatter\u001b[0m\u001b[0;34m,\u001b[0m\u001b[0;34m\u001b[0m\u001b[0;34m\u001b[0m\u001b[0m\n\u001b[1;32m    171\u001b[0m                            quiet=quiet)\n",
      "\u001b[0;32m/Library/Frameworks/Python.framework/Versions/3.8/lib/python3.8/site-packages/graphviz/backend.py\u001b[0m in \u001b[0;36mpipe\u001b[0;34m(engine, format, data, renderer, formatter, quiet)\u001b[0m\n\u001b[1;32m    246\u001b[0m     \"\"\"\n\u001b[1;32m    247\u001b[0m     \u001b[0mcmd\u001b[0m\u001b[0;34m,\u001b[0m \u001b[0m_\u001b[0m \u001b[0;34m=\u001b[0m \u001b[0mcommand\u001b[0m\u001b[0;34m(\u001b[0m\u001b[0mengine\u001b[0m\u001b[0;34m,\u001b[0m \u001b[0mformat\u001b[0m\u001b[0;34m,\u001b[0m \u001b[0;32mNone\u001b[0m\u001b[0;34m,\u001b[0m \u001b[0mrenderer\u001b[0m\u001b[0;34m,\u001b[0m \u001b[0mformatter\u001b[0m\u001b[0;34m)\u001b[0m\u001b[0;34m\u001b[0m\u001b[0;34m\u001b[0m\u001b[0m\n\u001b[0;32m--> 248\u001b[0;31m     \u001b[0mout\u001b[0m\u001b[0;34m,\u001b[0m \u001b[0m_\u001b[0m \u001b[0;34m=\u001b[0m \u001b[0mrun\u001b[0m\u001b[0;34m(\u001b[0m\u001b[0mcmd\u001b[0m\u001b[0;34m,\u001b[0m \u001b[0minput\u001b[0m\u001b[0;34m=\u001b[0m\u001b[0mdata\u001b[0m\u001b[0;34m,\u001b[0m \u001b[0mcapture_output\u001b[0m\u001b[0;34m=\u001b[0m\u001b[0;32mTrue\u001b[0m\u001b[0;34m,\u001b[0m \u001b[0mcheck\u001b[0m\u001b[0;34m=\u001b[0m\u001b[0;32mTrue\u001b[0m\u001b[0;34m,\u001b[0m \u001b[0mquiet\u001b[0m\u001b[0;34m=\u001b[0m\u001b[0mquiet\u001b[0m\u001b[0;34m)\u001b[0m\u001b[0;34m\u001b[0m\u001b[0;34m\u001b[0m\u001b[0m\n\u001b[0m\u001b[1;32m    249\u001b[0m     \u001b[0;32mreturn\u001b[0m \u001b[0mout\u001b[0m\u001b[0;34m\u001b[0m\u001b[0;34m\u001b[0m\u001b[0m\n\u001b[1;32m    250\u001b[0m \u001b[0;34m\u001b[0m\u001b[0m\n",
      "\u001b[0;32m/Library/Frameworks/Python.framework/Versions/3.8/lib/python3.8/site-packages/graphviz/backend.py\u001b[0m in \u001b[0;36mrun\u001b[0;34m(cmd, input, capture_output, check, encoding, quiet, **kwargs)\u001b[0m\n\u001b[1;32m    165\u001b[0m     \u001b[0;32mexcept\u001b[0m \u001b[0mOSError\u001b[0m \u001b[0;32mas\u001b[0m \u001b[0me\u001b[0m\u001b[0;34m:\u001b[0m\u001b[0;34m\u001b[0m\u001b[0;34m\u001b[0m\u001b[0m\n\u001b[1;32m    166\u001b[0m         \u001b[0;32mif\u001b[0m \u001b[0me\u001b[0m\u001b[0;34m.\u001b[0m\u001b[0merrno\u001b[0m \u001b[0;34m==\u001b[0m \u001b[0merrno\u001b[0m\u001b[0;34m.\u001b[0m\u001b[0mENOENT\u001b[0m\u001b[0;34m:\u001b[0m\u001b[0;34m\u001b[0m\u001b[0;34m\u001b[0m\u001b[0m\n\u001b[0;32m--> 167\u001b[0;31m             \u001b[0;32mraise\u001b[0m \u001b[0mExecutableNotFound\u001b[0m\u001b[0;34m(\u001b[0m\u001b[0mcmd\u001b[0m\u001b[0;34m)\u001b[0m\u001b[0;34m\u001b[0m\u001b[0;34m\u001b[0m\u001b[0m\n\u001b[0m\u001b[1;32m    168\u001b[0m         \u001b[0;32melse\u001b[0m\u001b[0;34m:\u001b[0m\u001b[0;34m\u001b[0m\u001b[0;34m\u001b[0m\u001b[0m\n\u001b[1;32m    169\u001b[0m             \u001b[0;32mraise\u001b[0m\u001b[0;34m\u001b[0m\u001b[0;34m\u001b[0m\u001b[0m\n",
      "\u001b[0;31mExecutableNotFound\u001b[0m: failed to execute ['dot', '-Kdot', '-Tsvg'], make sure the Graphviz executables are on your systems' PATH"
     ]
    },
    {
     "data": {
      "text/plain": [
       "<graphviz.files.Source at 0x7fa1bef637c0>"
      ]
     },
     "execution_count": 101,
     "metadata": {},
     "output_type": "execute_result"
    }
   ],
   "source": [
    "dot_data = export_graphviz(clf_dtree2, out_file=None, \n",
    "                      feature_names=features,\n",
    "                      class_names=[\"nem fejezte be\", \"befejezte\"],\n",
    "                      filled=True, rounded=True,  \n",
    "                      special_characters=True)  \n",
    "graph = graphviz.Source(dot_data)  \n",
    "graph"
   ]
  },
  {
   "cell_type": "markdown",
   "metadata": {
    "id": "r40XB0bRvmYL"
   },
   "source": [
    "### Érdekességként"
   ]
  },
  {
   "cell_type": "markdown",
   "metadata": {
    "id": "yTf-j40zvmYM"
   },
   "source": [
    "Kiváncsiságból kipróbáltam más osztályozással is. Az SVC és a Random Forest tudott hasonló modell pontosságot produkálni."
   ]
  },
  {
   "cell_type": "markdown",
   "metadata": {
    "id": "F7AqUPM0vmYM"
   },
   "source": [
    "#### Support Vector osztályozó"
   ]
  },
  {
   "cell_type": "code",
   "execution_count": 102,
   "metadata": {
    "colab": {
     "base_uri": "https://localhost:8080/"
    },
    "id": "gh7__RJuvmYM",
    "outputId": "e8a3ccbf-8338-4043-ca41-9b383a1ff15f"
   },
   "outputs": [
    {
     "data": {
      "text/plain": [
       "SVC()"
      ]
     },
     "execution_count": 102,
     "metadata": {},
     "output_type": "execute_result"
    }
   ],
   "source": [
    "clf_svm = SVC()\n",
    "clf_svm.fit(X_train, y_train.ravel())"
   ]
  },
  {
   "cell_type": "code",
   "execution_count": 103,
   "metadata": {
    "colab": {
     "base_uri": "https://localhost:8080/"
    },
    "id": "o68vqFZyvmYM",
    "outputId": "3099f785-7931-4ef5-8128-da0a2b811d54"
   },
   "outputs": [
    {
     "name": "stdout",
     "output_type": "stream",
     "text": [
      "[1 1 1 1 0 1 0 1 0 0 1 1 0 0 0 0 1 1 1 0 0 1 0 1 0 1 0 0 0 1 0 0 0 1 1 0 0\n",
      " 1 1 1 0 1 0 0 1 0 1 1 1 0 1 0 1 1 1 0 1 1 1 1 1 1 1 1 0 1 0 0 1 1 1 0 1 1\n",
      " 0 0 1 1 1 0 0 0 0 1 0 0 1 0 1 1 0 1 0 1 1 1 0 1 0 0 1 1 0 1 1 0 0 0 1 1 1\n",
      " 1 1 1 1 1 1 0 0 1 0 1 0 1 0 0 0 1 0 1 0 0 1 1 0 0 1 1 1 0 1 1 1 1 0 0 0 1\n",
      " 0 1 1 1 1 0 0 0 1 0 0 1 1 1 0 1 0 0 1 1 1 1 0 1 0 1 1 1 0 0 0 1 1 0 1 1 1\n",
      " 0 0 1 0 1 1 1 1 0 1 1 0 1 0 0 1 0 1 0 0 0 1 0 1 0 0 0 1 1 0 1 0 1 1 0 1 0\n",
      " 1 1 1 1 0 0 0 0 1 1 0 0 0 1 0 1 1 0 0 1 1 1 0 1 0 0 0 0 1 1 0 0 0 0 1 1 1\n",
      " 1 1 0 1 1 1 0 0 1 0 1 1 1 0 1 1 0 1 0 0 0 1 1 1 1 1 0 1 0 0 0 1 0 1 1 1 0\n",
      " 1 1 0 0 0 1 1 1 1 1 1 0 1 0 0 0 1 0 1 1 1 1 0 1 1 0 1 1 0 0 0 1 1 0 1 0 0\n",
      " 0 0 0 0 1 1 0 1 0 0 1 1 0 0 1 1 1 1 0 1 1 0 1 1 0 0 1 1 0 1 0 0 0 1 1 0 0\n",
      " 0 1 1 0 0 0 1 0 0 1 0 0 1 0 1 1 1 0 1 1 1 0 1 1 1 1 0 1 1 1 0 1 1 0 0 0 1\n",
      " 1 0 0 0 1 1 0 1 1 0 1 1 1 1 0 1 1 0 1 1 0 1 0 1 1 0 0 1 0 0 0 0 1 1 0 1 0\n",
      " 0 1 1 0 0 1 1 1 1 1 0 0 0 1 0 1 0 1 1 1 1 0 1 1 1 0 1 1 0 1 0 1 0 0 1 0 1\n",
      " 0 0 0 1 0 1 1 1 1 0 0 1 0 0 0 1 0 1 1 1 1 1 0 1 0 1]\n"
     ]
    }
   ],
   "source": [
    "y_pred_svm = clf_svm.predict(X_test)\n",
    "print(y_pred_svm)"
   ]
  },
  {
   "cell_type": "code",
   "execution_count": 104,
   "metadata": {
    "colab": {
     "base_uri": "https://localhost:8080/"
    },
    "id": "CLNpA1WBvmYM",
    "outputId": "1b625cbb-eebe-4d73-c1fa-b254bb48400a"
   },
   "outputs": [
    {
     "name": "stdout",
     "output_type": "stream",
     "text": [
      "A modell pontossága: 0.6232741617357002\n"
     ]
    }
   ],
   "source": [
    "# Modell kiértékelése\n",
    "print(\"A modell pontossága:\", clf_svm.score(X_test,y_test))"
   ]
  },
  {
   "cell_type": "code",
   "execution_count": 105,
   "metadata": {
    "colab": {
     "base_uri": "https://localhost:8080/",
     "height": 279
    },
    "id": "RXUdso3JvmYN",
    "outputId": "c8353368-e4a9-4664-fd3b-a3862c589438"
   },
   "outputs": [
    {
     "data": {
      "image/png": "[encoded data removed]",
      "text/plain": [
       "<Figure size 432x288 with 2 Axes>"
      ]
     },
     "metadata": {
      "needs_background": "light"
     },
     "output_type": "display_data"
    }
   ],
   "source": [
    "plot_confusion_matrix(clf_svm, X_test, y_test, cmap=plt.cm.Blues)\n",
    "plt.show()"
   ]
  },
  {
   "cell_type": "markdown",
   "metadata": {
    "id": "t067tJLdvmYN"
   },
   "source": [
    "#### Random forest osztályozó"
   ]
  },
  {
   "cell_type": "code",
   "execution_count": 106,
   "metadata": {
    "id": "_xcGfDrCvmYN"
   },
   "outputs": [],
   "source": [
    "clf_rfc = RandomForestClassifier()\n",
    "clf_rfc = clf_rfc.fit(X_train, y_train.ravel())"
   ]
  },
  {
   "cell_type": "code",
   "execution_count": 107,
   "metadata": {
    "colab": {
     "base_uri": "https://localhost:8080/"
    },
    "id": "gsl9R_-BvmYN",
    "outputId": "13b6ff85-3547-46c9-846b-28ea67636a90"
   },
   "outputs": [
    {
     "name": "stdout",
     "output_type": "stream",
     "text": [
      "[1 1 1 1 0 1 0 1 0 0 1 1 0 0 1 0 1 1 1 0 0 1 0 1 0 1 0 0 0 1 0 0 0 1 1 0 0\n",
      " 1 1 1 0 1 0 0 1 0 1 1 1 0 1 0 1 1 1 0 1 1 1 1 1 1 1 1 0 1 0 0 1 1 1 0 1 1\n",
      " 0 0 1 1 1 0 0 0 0 1 0 0 1 0 1 1 0 1 0 1 1 1 0 1 0 0 1 1 0 1 1 0 0 1 1 1 1\n",
      " 1 1 1 1 1 1 0 0 1 0 1 0 1 0 0 0 1 0 1 0 0 1 1 0 0 1 1 1 0 1 1 1 1 0 0 0 1\n",
      " 0 1 1 1 1 0 0 0 1 0 1 1 1 1 0 1 0 0 1 1 1 1 0 1 0 1 1 1 0 0 0 1 1 0 1 1 1\n",
      " 0 0 1 0 1 1 1 1 0 1 1 0 1 0 0 1 0 1 0 0 0 1 0 1 0 0 0 1 1 0 1 0 1 1 0 1 0\n",
      " 1 1 1 1 0 0 0 0 1 1 0 0 0 1 0 1 1 0 0 1 1 1 0 1 0 0 0 0 1 1 0 0 0 0 1 1 1\n",
      " 1 1 1 1 1 1 0 0 1 0 1 1 1 0 1 1 0 1 0 0 0 1 1 1 1 1 0 1 0 0 0 1 0 1 1 1 0\n",
      " 1 1 0 0 0 1 1 1 1 1 1 0 1 0 0 0 1 1 1 1 1 1 0 1 1 0 1 1 0 0 0 1 1 0 1 0 0\n",
      " 0 0 0 0 1 1 0 1 0 0 1 1 0 0 1 1 1 1 0 1 1 0 1 1 0 0 1 1 0 1 0 0 0 1 1 0 0\n",
      " 0 1 1 0 0 0 1 0 0 1 0 0 1 0 1 1 1 0 1 1 1 0 1 1 1 1 0 1 1 1 0 1 1 0 0 0 1\n",
      " 1 0 0 0 1 1 0 1 1 0 1 1 1 1 0 1 1 0 1 1 0 1 0 1 1 0 0 1 0 0 0 0 1 1 0 1 0\n",
      " 0 1 1 0 0 1 1 1 1 1 0 0 0 1 0 1 1 1 1 1 1 0 1 1 1 0 1 1 0 1 0 1 0 0 1 0 1\n",
      " 0 0 0 1 0 1 1 1 1 0 0 1 1 0 0 1 0 1 1 1 1 1 0 1 0 1]\n"
     ]
    }
   ],
   "source": [
    "# Osztálycímke \"jóslása\"\n",
    "y_pred_rfc = clf_rfc.predict(X_test)\n",
    "print(y_pred_rfc)"
   ]
  },
  {
   "cell_type": "code",
   "execution_count": 108,
   "metadata": {
    "colab": {
     "base_uri": "https://localhost:8080/"
    },
    "id": "gRwezl70vmYO",
    "outputId": "670dead5-ab13-40a7-86c6-83f6824eb215"
   },
   "outputs": [
    {
     "name": "stdout",
     "output_type": "stream",
     "text": [
      "A modell pontossága: 0.6173570019723866\n"
     ]
    }
   ],
   "source": [
    "# Modell kiértékelése\n",
    "print(\"A modell pontossága:\", clf_rfc.score(X_test,y_test))"
   ]
  },
  {
   "cell_type": "markdown",
   "metadata": {
    "id": "ac9kATGIvmYO"
   },
   "source": [
    "# Összegzés"
   ]
  },
  {
   "cell_type": "markdown",
   "metadata": {
    "id": "hrbIQtWFvmYO"
   },
   "source": [
    "A beadandó során alkalmam volt gyakorolni az adattisztítási adatranszformálási feladatokat, így nagyobb rálátást tudtam szerezni az adatbányászat műveleteire. Grafikonok segítségével lehetőség volt érdekes mintázatokat is feltárni, majd az osztályozás segítségével létrehoztam modelleket, amiknek a pontosságai különböznek.\n",
    "\n",
    "Konklúzióként azt tudom levonni, hogy valószínüleg azokból az attrimútumokból amelyekkel én próbáltam modellt tanítani, nem fogunk tudni pontosan kimenetelt megjósolni, mivel a pontossága nem a legmagasabb."
   ]
  }
 ],
 "metadata": {
  "colab": {
   "collapsed_sections": [],
   "name": "Copy of bszm.ipynb",
   "provenance": []
  },
  "kernelspec": {
   "display_name": "Python 3",
   "language": "python",
   "name": "python3"
  },
  "language_info": {
   "codemirror_mode": {
    "name": "ipython",
    "version": 3
   },
   "file_extension": ".py",
   "mimetype": "text/x-python",
   "name": "python",
   "nbconvert_exporter": "python",
   "pygments_lexer": "ipython3",
   "version": "3.8.4"
  }
 },
 "nbformat": 4,
 "nbformat_minor": 1
}
