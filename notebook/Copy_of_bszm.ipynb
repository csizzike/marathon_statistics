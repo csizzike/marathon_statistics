{
  "cells": [
    {
      "cell_type": "markdown",
      "metadata": {
        "id": "nOV-w6fg1NQR"
      },
      "source": [
        "# Balaton Szupermaraton egyéni eredmény kiértékelés\n",
        "### Csizmazia Máté - XI32IS"
      ]
    },
    {
      "cell_type": "markdown",
      "metadata": {
        "id": "Ux5u4P3I1NQb"
      },
      "source": [
        "A Notebook témája a BSZM egyéni eredményeinek a kiértékelése lesz, amelyekből kimutatást tudunk készíteni, hogy egy adott személynek mekkora esélyei lehetnek saját tempóban befejezni a versenyt. Kimutatást tudunk készíteni, hogy egy adott korosztályba eső csoport mekkora részben fejezte be a versenyt, vagy adta fel. Mivel ez egy konkrét személynek készülő kimutatás lesz, tudjuk hogy a személy sebessége körülbelül 7:00 perc kilóméterenként, tudjuk az életkorát, és ezáltal azt is hogy melyik korcsoportba tartozik (F4), ami oszlopként már megtalálható a felhasználandó adathalmazban."
      ]
    },
    {
      "cell_type": "markdown",
      "metadata": {
        "id": "mvjqSB-n1NQc"
      },
      "source": [
        "Továbbá érdekes lehet több grafikon is mint:\n",
        "* Milyen eloszlású a jelentkezők kora\n",
        "* Milyen eloszlású a futók sebessége"
      ]
    },
    {
      "cell_type": "markdown",
      "metadata": {
        "id": "EZ_Ym9Ak1NQc"
      },
      "source": [
        "Az [adathalmazt](http://www.futanet.hu/cikk/bsi-balaton-szupermaraton-eredmenyek), már az igénylő személytől kaptam meg összesített xlsx formában, amiből éves bontásokra 2015-2020 között külön csv fájlokba exportáltam az adatokat, ezért a továbbiakban ezekkel tervezek dolgozni."
      ]
    },
    {
      "cell_type": "markdown",
      "metadata": {
        "id": "mSX-qnJR1NQc"
      },
      "source": [
        "## Adatmigráció"
      ]
    },
    {
      "cell_type": "markdown",
      "metadata": {
        "id": "8RBaHYEn1NQd"
      },
      "source": [
        "Először is be kell olvasnunk az adathalmazainkat."
      ]
    },
    {
      "cell_type": "code",
      "execution_count": 5,
      "metadata": {
        "colab": {
          "base_uri": "https://localhost:8080/"
        },
        "id": "OOIOAvXr1NQd",
        "outputId": "a66a805c-8c59-4f0b-9936-84af8bedee44"
      },
      "outputs": [],
      "source": [
        "import pandas as pd\n",
        "import numpy as np\n",
        "from datetime import timedelta\n",
        "local_path = '/Users/csizi/Development/marathon_statistics/dataset/csv/'\n",
        "\n",
        "bszm_2020 = pd.read_csv(local_path + 'BSZM_2020.csv', encoding = \"ISO-8859-1\", \n",
        "                    sep=';', header=0)\n",
        "bszm_2019 = pd.read_csv(local_path + 'BSZM_2019.csv', encoding = \"ISO-8859-1\", \n",
        "                    sep=';', header=0)\n",
        "bszm_2018 = pd.read_csv(local_path + 'BSZM_2018.csv', encoding = \"ISO-8859-1\", \n",
        "                    sep=';', header=0)\n",
        "bszm_2017 = pd.read_csv(local_path + 'BSZM_2017.csv', encoding = \"ISO-8859-1\", \n",
        "                    sep=';', header=0)\n",
        "bszm_2016 = pd.read_csv(local_path + 'BSZM_2016.csv', encoding = \"ISO-8859-1\", \n",
        "                    sep=';', header=0)\n",
        "bszm_2015 = pd.read_csv(local_path + 'BSZM_2015.csv', encoding = \"ISO-8859-1\", \n",
        "                    sep=';', header=0)"
      ]
    },
    {
      "cell_type": "code",
      "execution_count": 6,
      "metadata": {
        "id": "y20jLnVWvmXy"
      },
      "outputs": [],
      "source": [
        "bszm_osszes = pd.concat([bszm_2020, bszm_2019, bszm_2018, bszm_2017, bszm_2016, bszm_2015], ignore_index=True)"
      ]
    },
    {
      "cell_type": "markdown",
      "metadata": {
        "id": "pQGesA4n1NQd"
      },
      "source": [
        "Miutána a szükséges könyvtárjainkat és az adathalmazt is importáltuk, bele tudunk nézni, hogy milyen adatokat tartalmaz."
      ]
    },
    {
      "cell_type": "code",
      "execution_count": 7,
      "metadata": {
        "colab": {
          "base_uri": "https://localhost:8080/",
          "height": 377
        },
        "id": "L6zqbAQX1NQd",
        "outputId": "ed37f396-eb66-4891-badf-629184529282",
        "scrolled": true
      },
      "outputs": [
        {
          "data": {
            "text/html": [
              "<div>\n",
              "<style scoped>\n",
              "    .dataframe tbody tr th:only-of-type {\n",
              "        vertical-align: middle;\n",
              "    }\n",
              "\n",
              "    .dataframe tbody tr th {\n",
              "        vertical-align: top;\n",
              "    }\n",
              "\n",
              "    .dataframe thead th {\n",
              "        text-align: right;\n",
              "    }\n",
              "</style>\n",
              "<table border=\"1\" class=\"dataframe\">\n",
              "  <thead>\n",
              "    <tr style=\"text-align: right;\">\n",
              "      <th></th>\n",
              "      <th>Hely.</th>\n",
              "      <th>Név/Csapatnév</th>\n",
              "      <th>sz.év.</th>\n",
              "      <th>Kategória</th>\n",
              "      <th>Ország</th>\n",
              "      <th>Csapat</th>\n",
              "      <th>Város</th>\n",
              "      <th>nem</th>\n",
              "      <th>rajtszám</th>\n",
              "      <th>kat.h.</th>\n",
              "      <th>...</th>\n",
              "      <th>3.nap /1.idõ</th>\n",
              "      <th>3.nap/2.idõ</th>\n",
              "      <th>3.nap/3.idõ</th>\n",
              "      <th>3.nap összidõ</th>\n",
              "      <th>4.nap/1.idõ</th>\n",
              "      <th>4.nap/2.idõ</th>\n",
              "      <th>4.nap/3.idõ</th>\n",
              "      <th>4.nap összidõ</th>\n",
              "      <th>eredmény</th>\n",
              "      <th>Megtett táv (km)</th>\n",
              "    </tr>\n",
              "  </thead>\n",
              "  <tbody>\n",
              "    <tr>\n",
              "      <th>0</th>\n",
              "      <td>1.0</td>\n",
              "      <td>Beda Szabolcs</td>\n",
              "      <td>1977.0</td>\n",
              "      <td>F3</td>\n",
              "      <td>HUN</td>\n",
              "      <td>ELTE SE Sashegyi gepárdok</td>\n",
              "      <td>Budapest</td>\n",
              "      <td>F</td>\n",
              "      <td>484.0</td>\n",
              "      <td>F3 / 1</td>\n",
              "      <td>...</td>\n",
              "      <td>0:52:42</td>\n",
              "      <td>1:09:42</td>\n",
              "      <td>0:51:30</td>\n",
              "      <td>2:53:54</td>\n",
              "      <td>1:04:01</td>\n",
              "      <td>1:22:26</td>\n",
              "      <td>1:02:24</td>\n",
              "      <td>3:28:51</td>\n",
              "      <td>13:02:08</td>\n",
              "      <td>196.0</td>\n",
              "    </tr>\n",
              "    <tr>\n",
              "      <th>1</th>\n",
              "      <td>2.0</td>\n",
              "      <td>Bódis Tamás</td>\n",
              "      <td>1988.0</td>\n",
              "      <td>F1</td>\n",
              "      <td>HUN</td>\n",
              "      <td>ELTE SE Sashegyi gepárdok</td>\n",
              "      <td>Budapest</td>\n",
              "      <td>F</td>\n",
              "      <td>479.0</td>\n",
              "      <td>F1 / 1</td>\n",
              "      <td>...</td>\n",
              "      <td>0:49:17</td>\n",
              "      <td>1:07:40</td>\n",
              "      <td>0:51:25</td>\n",
              "      <td>2:48:22</td>\n",
              "      <td>1:01:41</td>\n",
              "      <td>1:20:17</td>\n",
              "      <td>1:02:09</td>\n",
              "      <td>3:24:07</td>\n",
              "      <td>13:06:48</td>\n",
              "      <td>196.0</td>\n",
              "    </tr>\n",
              "    <tr>\n",
              "      <th>2</th>\n",
              "      <td>3.0</td>\n",
              "      <td>Theisinger, Wolfgang</td>\n",
              "      <td>1982.0</td>\n",
              "      <td>F2</td>\n",
              "      <td>GER</td>\n",
              "      <td>RC Abschnitt Mitte</td>\n",
              "      <td>Regenstauf</td>\n",
              "      <td>F</td>\n",
              "      <td>511.0</td>\n",
              "      <td>F2 / 1</td>\n",
              "      <td>...</td>\n",
              "      <td>0:56:10</td>\n",
              "      <td>1:14:10</td>\n",
              "      <td>0:54:18</td>\n",
              "      <td>3:04:38</td>\n",
              "      <td>1:09:23</td>\n",
              "      <td>1:28:44</td>\n",
              "      <td>1:05:47</td>\n",
              "      <td>3:43:54</td>\n",
              "      <td>14:05:35</td>\n",
              "      <td>196.0</td>\n",
              "    </tr>\n",
              "    <tr>\n",
              "      <th>3</th>\n",
              "      <td>4.0</td>\n",
              "      <td>Strifler Attila</td>\n",
              "      <td>1986.0</td>\n",
              "      <td>F1</td>\n",
              "      <td>HUN</td>\n",
              "      <td>NaN</td>\n",
              "      <td>Gyula</td>\n",
              "      <td>F</td>\n",
              "      <td>407.0</td>\n",
              "      <td>F1 / 2</td>\n",
              "      <td>...</td>\n",
              "      <td>0:56:07</td>\n",
              "      <td>1:14:13</td>\n",
              "      <td>0:55:24</td>\n",
              "      <td>3:05:44</td>\n",
              "      <td>1:09:40</td>\n",
              "      <td>1:28:46</td>\n",
              "      <td>1:07:32</td>\n",
              "      <td>3:45:58</td>\n",
              "      <td>14:22:47</td>\n",
              "      <td>196.0</td>\n",
              "    </tr>\n",
              "    <tr>\n",
              "      <th>4</th>\n",
              "      <td>5.0</td>\n",
              "      <td>Szedlák Csaba</td>\n",
              "      <td>1978.0</td>\n",
              "      <td>F3</td>\n",
              "      <td>HUN</td>\n",
              "      <td>Vitalitás SE</td>\n",
              "      <td>Budapest</td>\n",
              "      <td>F</td>\n",
              "      <td>449.0</td>\n",
              "      <td>F3 / 2</td>\n",
              "      <td>...</td>\n",
              "      <td>0:59:34</td>\n",
              "      <td>1:17:00</td>\n",
              "      <td>1:00:59</td>\n",
              "      <td>3:17:03</td>\n",
              "      <td>1:11:29</td>\n",
              "      <td>1:31:19</td>\n",
              "      <td>1:10:47</td>\n",
              "      <td>3:53:35</td>\n",
              "      <td>14:42:39</td>\n",
              "      <td>196.0</td>\n",
              "    </tr>\n",
              "  </tbody>\n",
              "</table>\n",
              "<p>5 rows × 28 columns</p>\n",
              "</div>"
            ],
            "text/plain": [
              "   Hely.         Név/Csapatnév  sz.év. Kategória Ország  \\\n",
              "0    1.0         Beda Szabolcs  1977.0        F3    HUN   \n",
              "1    2.0           Bódis Tamás  1988.0        F1    HUN   \n",
              "2    3.0  Theisinger, Wolfgang  1982.0        F2    GER   \n",
              "3    4.0       Strifler Attila  1986.0        F1    HUN   \n",
              "4    5.0         Szedlák Csaba  1978.0        F3    HUN   \n",
              "\n",
              "                      Csapat       Város nem  rajtszám  kat.h.  ...  \\\n",
              "0  ELTE SE Sashegyi gepárdok    Budapest   F     484.0  F3 / 1  ...   \n",
              "1  ELTE SE Sashegyi gepárdok    Budapest   F     479.0  F1 / 1  ...   \n",
              "2         RC Abschnitt Mitte  Regenstauf   F     511.0  F2 / 1  ...   \n",
              "3                        NaN       Gyula   F     407.0  F1 / 2  ...   \n",
              "4               Vitalitás SE    Budapest   F     449.0  F3 / 2  ...   \n",
              "\n",
              "  3.nap /1.idõ 3.nap/2.idõ 3.nap/3.idõ 3.nap összidõ 4.nap/1.idõ 4.nap/2.idõ  \\\n",
              "0      0:52:42     1:09:42     0:51:30       2:53:54     1:04:01     1:22:26   \n",
              "1      0:49:17     1:07:40     0:51:25       2:48:22     1:01:41     1:20:17   \n",
              "2      0:56:10     1:14:10     0:54:18       3:04:38     1:09:23     1:28:44   \n",
              "3      0:56:07     1:14:13     0:55:24       3:05:44     1:09:40     1:28:46   \n",
              "4      0:59:34     1:17:00     1:00:59       3:17:03     1:11:29     1:31:19   \n",
              "\n",
              "  4.nap/3.idõ 4.nap összidõ  eredmény Megtett táv (km)  \n",
              "0     1:02:24       3:28:51  13:02:08            196.0  \n",
              "1     1:02:09       3:24:07  13:06:48            196.0  \n",
              "2     1:05:47       3:43:54  14:05:35            196.0  \n",
              "3     1:07:32       3:45:58  14:22:47            196.0  \n",
              "4     1:10:47       3:53:35  14:42:39            196.0  \n",
              "\n",
              "[5 rows x 28 columns]"
            ]
          },
          "execution_count": 7,
          "metadata": {},
          "output_type": "execute_result"
        }
      ],
      "source": [
        "bszm_osszes.head(5)"
      ]
    },
    {
      "cell_type": "code",
      "execution_count": 8,
      "metadata": {
        "colab": {
          "base_uri": "https://localhost:8080/",
          "height": 592
        },
        "id": "UX9Cm8OMFOQ9",
        "outputId": "b6271a56-e1ea-4ad9-e16b-8e241c49af7b"
      },
      "outputs": [
        {
          "data": {
            "text/html": [
              "<div>\n",
              "<style scoped>\n",
              "    .dataframe tbody tr th:only-of-type {\n",
              "        vertical-align: middle;\n",
              "    }\n",
              "\n",
              "    .dataframe tbody tr th {\n",
              "        vertical-align: top;\n",
              "    }\n",
              "\n",
              "    .dataframe thead th {\n",
              "        text-align: right;\n",
              "    }\n",
              "</style>\n",
              "<table border=\"1\" class=\"dataframe\">\n",
              "  <thead>\n",
              "    <tr style=\"text-align: right;\">\n",
              "      <th></th>\n",
              "      <th>Hely.</th>\n",
              "      <th>Név/Csapatnév</th>\n",
              "      <th>sz.év.</th>\n",
              "      <th>Kategória</th>\n",
              "      <th>Ország</th>\n",
              "      <th>Csapat</th>\n",
              "      <th>Város</th>\n",
              "      <th>nem</th>\n",
              "      <th>rajtszám</th>\n",
              "      <th>kat.h.</th>\n",
              "      <th>...</th>\n",
              "      <th>3.nap /1.idõ</th>\n",
              "      <th>3.nap/2.idõ</th>\n",
              "      <th>3.nap/3.idõ</th>\n",
              "      <th>3.nap összidõ</th>\n",
              "      <th>4.nap/1.idõ</th>\n",
              "      <th>4.nap/2.idõ</th>\n",
              "      <th>4.nap/3.idõ</th>\n",
              "      <th>4.nap összidõ</th>\n",
              "      <th>eredmény</th>\n",
              "      <th>Megtett táv (km)</th>\n",
              "    </tr>\n",
              "  </thead>\n",
              "  <tbody>\n",
              "    <tr>\n",
              "      <th>0</th>\n",
              "      <td>1.0</td>\n",
              "      <td>Beda Szabolcs</td>\n",
              "      <td>1977.0</td>\n",
              "      <td>F3</td>\n",
              "      <td>HUN</td>\n",
              "      <td>ELTE SE Sashegyi gepárdok</td>\n",
              "      <td>Budapest</td>\n",
              "      <td>F</td>\n",
              "      <td>484.0</td>\n",
              "      <td>F3 / 1</td>\n",
              "      <td>...</td>\n",
              "      <td>0:52:42</td>\n",
              "      <td>1:09:42</td>\n",
              "      <td>0:51:30</td>\n",
              "      <td>2:53:54</td>\n",
              "      <td>1:04:01</td>\n",
              "      <td>1:22:26</td>\n",
              "      <td>1:02:24</td>\n",
              "      <td>3:28:51</td>\n",
              "      <td>13:02:08</td>\n",
              "      <td>196.0</td>\n",
              "    </tr>\n",
              "    <tr>\n",
              "      <th>1</th>\n",
              "      <td>2.0</td>\n",
              "      <td>Bódis Tamás</td>\n",
              "      <td>1988.0</td>\n",
              "      <td>F1</td>\n",
              "      <td>HUN</td>\n",
              "      <td>ELTE SE Sashegyi gepárdok</td>\n",
              "      <td>Budapest</td>\n",
              "      <td>F</td>\n",
              "      <td>479.0</td>\n",
              "      <td>F1 / 1</td>\n",
              "      <td>...</td>\n",
              "      <td>0:49:17</td>\n",
              "      <td>1:07:40</td>\n",
              "      <td>0:51:25</td>\n",
              "      <td>2:48:22</td>\n",
              "      <td>1:01:41</td>\n",
              "      <td>1:20:17</td>\n",
              "      <td>1:02:09</td>\n",
              "      <td>3:24:07</td>\n",
              "      <td>13:06:48</td>\n",
              "      <td>196.0</td>\n",
              "    </tr>\n",
              "    <tr>\n",
              "      <th>2</th>\n",
              "      <td>3.0</td>\n",
              "      <td>Theisinger, Wolfgang</td>\n",
              "      <td>1982.0</td>\n",
              "      <td>F2</td>\n",
              "      <td>GER</td>\n",
              "      <td>RC Abschnitt Mitte</td>\n",
              "      <td>Regenstauf</td>\n",
              "      <td>F</td>\n",
              "      <td>511.0</td>\n",
              "      <td>F2 / 1</td>\n",
              "      <td>...</td>\n",
              "      <td>0:56:10</td>\n",
              "      <td>1:14:10</td>\n",
              "      <td>0:54:18</td>\n",
              "      <td>3:04:38</td>\n",
              "      <td>1:09:23</td>\n",
              "      <td>1:28:44</td>\n",
              "      <td>1:05:47</td>\n",
              "      <td>3:43:54</td>\n",
              "      <td>14:05:35</td>\n",
              "      <td>196.0</td>\n",
              "    </tr>\n",
              "    <tr>\n",
              "      <th>3</th>\n",
              "      <td>4.0</td>\n",
              "      <td>Strifler Attila</td>\n",
              "      <td>1986.0</td>\n",
              "      <td>F1</td>\n",
              "      <td>HUN</td>\n",
              "      <td>NaN</td>\n",
              "      <td>Gyula</td>\n",
              "      <td>F</td>\n",
              "      <td>407.0</td>\n",
              "      <td>F1 / 2</td>\n",
              "      <td>...</td>\n",
              "      <td>0:56:07</td>\n",
              "      <td>1:14:13</td>\n",
              "      <td>0:55:24</td>\n",
              "      <td>3:05:44</td>\n",
              "      <td>1:09:40</td>\n",
              "      <td>1:28:46</td>\n",
              "      <td>1:07:32</td>\n",
              "      <td>3:45:58</td>\n",
              "      <td>14:22:47</td>\n",
              "      <td>196.0</td>\n",
              "    </tr>\n",
              "    <tr>\n",
              "      <th>4</th>\n",
              "      <td>5.0</td>\n",
              "      <td>Szedlák Csaba</td>\n",
              "      <td>1978.0</td>\n",
              "      <td>F3</td>\n",
              "      <td>HUN</td>\n",
              "      <td>Vitalitás SE</td>\n",
              "      <td>Budapest</td>\n",
              "      <td>F</td>\n",
              "      <td>449.0</td>\n",
              "      <td>F3 / 2</td>\n",
              "      <td>...</td>\n",
              "      <td>0:59:34</td>\n",
              "      <td>1:17:00</td>\n",
              "      <td>1:00:59</td>\n",
              "      <td>3:17:03</td>\n",
              "      <td>1:11:29</td>\n",
              "      <td>1:31:19</td>\n",
              "      <td>1:10:47</td>\n",
              "      <td>3:53:35</td>\n",
              "      <td>14:42:39</td>\n",
              "      <td>196.0</td>\n",
              "    </tr>\n",
              "    <tr>\n",
              "      <th>...</th>\n",
              "      <td>...</td>\n",
              "      <td>...</td>\n",
              "      <td>...</td>\n",
              "      <td>...</td>\n",
              "      <td>...</td>\n",
              "      <td>...</td>\n",
              "      <td>...</td>\n",
              "      <td>...</td>\n",
              "      <td>...</td>\n",
              "      <td>...</td>\n",
              "      <td>...</td>\n",
              "      <td>...</td>\n",
              "      <td>...</td>\n",
              "      <td>...</td>\n",
              "      <td>...</td>\n",
              "      <td>...</td>\n",
              "      <td>...</td>\n",
              "      <td>...</td>\n",
              "      <td>...</td>\n",
              "      <td>...</td>\n",
              "      <td>...</td>\n",
              "    </tr>\n",
              "    <tr>\n",
              "      <th>1813</th>\n",
              "      <td>NaN</td>\n",
              "      <td>NaN</td>\n",
              "      <td>NaN</td>\n",
              "      <td>NaN</td>\n",
              "      <td>NaN</td>\n",
              "      <td>NaN</td>\n",
              "      <td>NaN</td>\n",
              "      <td>NaN</td>\n",
              "      <td>NaN</td>\n",
              "      <td>NaN</td>\n",
              "      <td>...</td>\n",
              "      <td>NaN</td>\n",
              "      <td>NaN</td>\n",
              "      <td>NaN</td>\n",
              "      <td>NaN</td>\n",
              "      <td>NaN</td>\n",
              "      <td>NaN</td>\n",
              "      <td>NaN</td>\n",
              "      <td>NaN</td>\n",
              "      <td>NaN</td>\n",
              "      <td>NaN</td>\n",
              "    </tr>\n",
              "    <tr>\n",
              "      <th>1814</th>\n",
              "      <td>NaN</td>\n",
              "      <td>NaN</td>\n",
              "      <td>NaN</td>\n",
              "      <td>NaN</td>\n",
              "      <td>NaN</td>\n",
              "      <td>NaN</td>\n",
              "      <td>NaN</td>\n",
              "      <td>NaN</td>\n",
              "      <td>NaN</td>\n",
              "      <td>NaN</td>\n",
              "      <td>...</td>\n",
              "      <td>NaN</td>\n",
              "      <td>NaN</td>\n",
              "      <td>NaN</td>\n",
              "      <td>NaN</td>\n",
              "      <td>NaN</td>\n",
              "      <td>NaN</td>\n",
              "      <td>NaN</td>\n",
              "      <td>NaN</td>\n",
              "      <td>NaN</td>\n",
              "      <td>NaN</td>\n",
              "    </tr>\n",
              "    <tr>\n",
              "      <th>1815</th>\n",
              "      <td>NaN</td>\n",
              "      <td>NaN</td>\n",
              "      <td>NaN</td>\n",
              "      <td>NaN</td>\n",
              "      <td>NaN</td>\n",
              "      <td>NaN</td>\n",
              "      <td>NaN</td>\n",
              "      <td>NaN</td>\n",
              "      <td>NaN</td>\n",
              "      <td>NaN</td>\n",
              "      <td>...</td>\n",
              "      <td>NaN</td>\n",
              "      <td>NaN</td>\n",
              "      <td>NaN</td>\n",
              "      <td>NaN</td>\n",
              "      <td>NaN</td>\n",
              "      <td>NaN</td>\n",
              "      <td>NaN</td>\n",
              "      <td>NaN</td>\n",
              "      <td>NaN</td>\n",
              "      <td>NaN</td>\n",
              "    </tr>\n",
              "    <tr>\n",
              "      <th>1816</th>\n",
              "      <td>NaN</td>\n",
              "      <td>NaN</td>\n",
              "      <td>NaN</td>\n",
              "      <td>NaN</td>\n",
              "      <td>NaN</td>\n",
              "      <td>NaN</td>\n",
              "      <td>NaN</td>\n",
              "      <td>NaN</td>\n",
              "      <td>NaN</td>\n",
              "      <td>NaN</td>\n",
              "      <td>...</td>\n",
              "      <td>NaN</td>\n",
              "      <td>NaN</td>\n",
              "      <td>NaN</td>\n",
              "      <td>NaN</td>\n",
              "      <td>NaN</td>\n",
              "      <td>NaN</td>\n",
              "      <td>NaN</td>\n",
              "      <td>NaN</td>\n",
              "      <td>NaN</td>\n",
              "      <td>NaN</td>\n",
              "    </tr>\n",
              "    <tr>\n",
              "      <th>1817</th>\n",
              "      <td>NaN</td>\n",
              "      <td>NaN</td>\n",
              "      <td>NaN</td>\n",
              "      <td>NaN</td>\n",
              "      <td>NaN</td>\n",
              "      <td>NaN</td>\n",
              "      <td>NaN</td>\n",
              "      <td>NaN</td>\n",
              "      <td>NaN</td>\n",
              "      <td>NaN</td>\n",
              "      <td>...</td>\n",
              "      <td>NaN</td>\n",
              "      <td>NaN</td>\n",
              "      <td>NaN</td>\n",
              "      <td>NaN</td>\n",
              "      <td>NaN</td>\n",
              "      <td>NaN</td>\n",
              "      <td>NaN</td>\n",
              "      <td>NaN</td>\n",
              "      <td>NaN</td>\n",
              "      <td>NaN</td>\n",
              "    </tr>\n",
              "  </tbody>\n",
              "</table>\n",
              "<p>1818 rows × 28 columns</p>\n",
              "</div>"
            ],
            "text/plain": [
              "      Hely.         Név/Csapatnév  sz.év. Kategória Ország  \\\n",
              "0       1.0         Beda Szabolcs  1977.0        F3    HUN   \n",
              "1       2.0           Bódis Tamás  1988.0        F1    HUN   \n",
              "2       3.0  Theisinger, Wolfgang  1982.0        F2    GER   \n",
              "3       4.0       Strifler Attila  1986.0        F1    HUN   \n",
              "4       5.0         Szedlák Csaba  1978.0        F3    HUN   \n",
              "...     ...                   ...     ...       ...    ...   \n",
              "1813    NaN                   NaN     NaN       NaN    NaN   \n",
              "1814    NaN                   NaN     NaN       NaN    NaN   \n",
              "1815    NaN                   NaN     NaN       NaN    NaN   \n",
              "1816    NaN                   NaN     NaN       NaN    NaN   \n",
              "1817    NaN                   NaN     NaN       NaN    NaN   \n",
              "\n",
              "                         Csapat       Város  nem  rajtszám  kat.h.  ...  \\\n",
              "0     ELTE SE Sashegyi gepárdok    Budapest    F     484.0  F3 / 1  ...   \n",
              "1     ELTE SE Sashegyi gepárdok    Budapest    F     479.0  F1 / 1  ...   \n",
              "2            RC Abschnitt Mitte  Regenstauf    F     511.0  F2 / 1  ...   \n",
              "3                           NaN       Gyula    F     407.0  F1 / 2  ...   \n",
              "4                  Vitalitás SE    Budapest    F     449.0  F3 / 2  ...   \n",
              "...                         ...         ...  ...       ...     ...  ...   \n",
              "1813                        NaN         NaN  NaN       NaN     NaN  ...   \n",
              "1814                        NaN         NaN  NaN       NaN     NaN  ...   \n",
              "1815                        NaN         NaN  NaN       NaN     NaN  ...   \n",
              "1816                        NaN         NaN  NaN       NaN     NaN  ...   \n",
              "1817                        NaN         NaN  NaN       NaN     NaN  ...   \n",
              "\n",
              "     3.nap /1.idõ 3.nap/2.idõ 3.nap/3.idõ 3.nap összidõ 4.nap/1.idõ  \\\n",
              "0         0:52:42     1:09:42     0:51:30       2:53:54     1:04:01   \n",
              "1         0:49:17     1:07:40     0:51:25       2:48:22     1:01:41   \n",
              "2         0:56:10     1:14:10     0:54:18       3:04:38     1:09:23   \n",
              "3         0:56:07     1:14:13     0:55:24       3:05:44     1:09:40   \n",
              "4         0:59:34     1:17:00     1:00:59       3:17:03     1:11:29   \n",
              "...           ...         ...         ...           ...         ...   \n",
              "1813          NaN         NaN         NaN           NaN         NaN   \n",
              "1814          NaN         NaN         NaN           NaN         NaN   \n",
              "1815          NaN         NaN         NaN           NaN         NaN   \n",
              "1816          NaN         NaN         NaN           NaN         NaN   \n",
              "1817          NaN         NaN         NaN           NaN         NaN   \n",
              "\n",
              "     4.nap/2.idõ 4.nap/3.idõ 4.nap összidõ  eredmény Megtett táv (km)  \n",
              "0        1:22:26     1:02:24       3:28:51  13:02:08            196.0  \n",
              "1        1:20:17     1:02:09       3:24:07  13:06:48            196.0  \n",
              "2        1:28:44     1:05:47       3:43:54  14:05:35            196.0  \n",
              "3        1:28:46     1:07:32       3:45:58  14:22:47            196.0  \n",
              "4        1:31:19     1:10:47       3:53:35  14:42:39            196.0  \n",
              "...          ...         ...           ...       ...              ...  \n",
              "1813         NaN         NaN           NaN       NaN              NaN  \n",
              "1814         NaN         NaN           NaN       NaN              NaN  \n",
              "1815         NaN         NaN           NaN       NaN              NaN  \n",
              "1816         NaN         NaN           NaN       NaN              NaN  \n",
              "1817         NaN         NaN           NaN       NaN              NaN  \n",
              "\n",
              "[1818 rows x 28 columns]"
            ]
          },
          "execution_count": 8,
          "metadata": {},
          "output_type": "execute_result"
        }
      ],
      "source": [
        "bszm_osszes"
      ]
    },
    {
      "cell_type": "markdown",
      "metadata": {
        "id": "NZtFlas5vmX0"
      },
      "source": [
        "## Adattisztítás és Transzformáció"
      ]
    },
    {
      "cell_type": "markdown",
      "metadata": {
        "id": "uVt2X9Op1NQe"
      },
      "source": [
        "Jól látható hogy számos oszlopot tartalmaz, amik közül sokra nem lesz szükségünk a feladat elvégzéséhez. <br/>Ilyen oszlopok példuál: {*Név, Ország, Csapat, Város, Rajtszám*}<br/><br/>Ezeket töröljük is ki."
      ]
    },
    {
      "cell_type": "code",
      "execution_count": 9,
      "metadata": {
        "id": "5Sqf099b1NQe"
      },
      "outputs": [],
      "source": [
        "bszm_osszes.drop(['Név/Csapatnév', 'Ország', 'Csapat', 'Város', 'rajtszám', 'Hely.', 'kat.h.'], axis = 1, inplace=True)"
      ]
    },
    {
      "cell_type": "markdown",
      "metadata": {
        "id": "qSWoSbUrvmX1"
      },
      "source": [
        "**FYI:**<br/>\n",
        "*Amennyiben több adathalmazt migrálunk egybe, más oszlopok elhagyására is szükség lehet, mint például: {Helyezés}*"
      ]
    },
    {
      "cell_type": "markdown",
      "metadata": {
        "id": "samuiS8sjlYR"
      },
      "source": [
        "\n",
        "\n",
        "További oszlopokat is törölhetünk, mivel napi bontásban minden időeredményre nem lesz szükségünk. Ezen adatok nagyrésze hiányos, vagy egyszerűen hibás. Ezeket is dobjuk el.\n"
      ]
    },
    {
      "cell_type": "code",
      "execution_count": 10,
      "metadata": {
        "id": "OVG27D9Nj41P"
      },
      "outputs": [],
      "source": [
        "bszm_osszes.drop(['1.nap/1.idõ', '1.nap/2.idõ', '1.nap/3.idõ', '2.nap/1.idõ', '2.nap/2.idõ', '2.nap/3.idõ', '3.nap /1.idõ', '3.nap/2.idõ', '3.nap/3.idõ', '4.nap/1.idõ', '4.nap/2.idõ', '4.nap/3.idõ'], axis = 1, inplace=True)"
      ]
    },
    {
      "cell_type": "markdown",
      "metadata": {
        "id": "D3og0fyVvmX1"
      },
      "source": [
        "Így már egy tisztább adathalmaz áll rendelkezésünkre, amikben ténylegesen olyan információk szerepelnek, amikre szükségünk lehet a kiértékelésnél."
      ]
    },
    {
      "cell_type": "code",
      "execution_count": 11,
      "metadata": {
        "colab": {
          "base_uri": "https://localhost:8080/",
          "height": 204
        },
        "id": "AE8v4A7jgz9K",
        "outputId": "23abff78-332d-4b7f-9bcd-fe9fcd06e22e"
      },
      "outputs": [
        {
          "data": {
            "text/html": [
              "<div>\n",
              "<style scoped>\n",
              "    .dataframe tbody tr th:only-of-type {\n",
              "        vertical-align: middle;\n",
              "    }\n",
              "\n",
              "    .dataframe tbody tr th {\n",
              "        vertical-align: top;\n",
              "    }\n",
              "\n",
              "    .dataframe thead th {\n",
              "        text-align: right;\n",
              "    }\n",
              "</style>\n",
              "<table border=\"1\" class=\"dataframe\">\n",
              "  <thead>\n",
              "    <tr style=\"text-align: right;\">\n",
              "      <th></th>\n",
              "      <th>sz.év.</th>\n",
              "      <th>Kategória</th>\n",
              "      <th>nem</th>\n",
              "      <th>1.nap összidõ</th>\n",
              "      <th>2.nap összidõ</th>\n",
              "      <th>3.nap összidõ</th>\n",
              "      <th>4.nap összidõ</th>\n",
              "      <th>eredmény</th>\n",
              "      <th>Megtett táv (km)</th>\n",
              "    </tr>\n",
              "  </thead>\n",
              "  <tbody>\n",
              "    <tr>\n",
              "      <th>0</th>\n",
              "      <td>1977.0</td>\n",
              "      <td>F3</td>\n",
              "      <td>F</td>\n",
              "      <td>3:08:51</td>\n",
              "      <td>3:30:32</td>\n",
              "      <td>2:53:54</td>\n",
              "      <td>3:28:51</td>\n",
              "      <td>13:02:08</td>\n",
              "      <td>196.0</td>\n",
              "    </tr>\n",
              "    <tr>\n",
              "      <th>1</th>\n",
              "      <td>1988.0</td>\n",
              "      <td>F1</td>\n",
              "      <td>F</td>\n",
              "      <td>3:13:57</td>\n",
              "      <td>3:40:22</td>\n",
              "      <td>2:48:22</td>\n",
              "      <td>3:24:07</td>\n",
              "      <td>13:06:48</td>\n",
              "      <td>196.0</td>\n",
              "    </tr>\n",
              "    <tr>\n",
              "      <th>2</th>\n",
              "      <td>1982.0</td>\n",
              "      <td>F2</td>\n",
              "      <td>F</td>\n",
              "      <td>3:23:21</td>\n",
              "      <td>3:53:42</td>\n",
              "      <td>3:04:38</td>\n",
              "      <td>3:43:54</td>\n",
              "      <td>14:05:35</td>\n",
              "      <td>196.0</td>\n",
              "    </tr>\n",
              "    <tr>\n",
              "      <th>3</th>\n",
              "      <td>1986.0</td>\n",
              "      <td>F1</td>\n",
              "      <td>F</td>\n",
              "      <td>3:31:41</td>\n",
              "      <td>3:59:24</td>\n",
              "      <td>3:05:44</td>\n",
              "      <td>3:45:58</td>\n",
              "      <td>14:22:47</td>\n",
              "      <td>196.0</td>\n",
              "    </tr>\n",
              "    <tr>\n",
              "      <th>4</th>\n",
              "      <td>1978.0</td>\n",
              "      <td>F3</td>\n",
              "      <td>F</td>\n",
              "      <td>3:31:31</td>\n",
              "      <td>4:00:30</td>\n",
              "      <td>3:17:03</td>\n",
              "      <td>3:53:35</td>\n",
              "      <td>14:42:39</td>\n",
              "      <td>196.0</td>\n",
              "    </tr>\n",
              "  </tbody>\n",
              "</table>\n",
              "</div>"
            ],
            "text/plain": [
              "   sz.év. Kategória nem 1.nap összidõ 2.nap összidõ 3.nap összidõ  \\\n",
              "0  1977.0        F3   F       3:08:51       3:30:32       2:53:54   \n",
              "1  1988.0        F1   F       3:13:57       3:40:22       2:48:22   \n",
              "2  1982.0        F2   F       3:23:21       3:53:42       3:04:38   \n",
              "3  1986.0        F1   F       3:31:41       3:59:24       3:05:44   \n",
              "4  1978.0        F3   F       3:31:31       4:00:30       3:17:03   \n",
              "\n",
              "  4.nap összidõ  eredmény  Megtett táv (km)  \n",
              "0       3:28:51  13:02:08             196.0  \n",
              "1       3:24:07  13:06:48             196.0  \n",
              "2       3:43:54  14:05:35             196.0  \n",
              "3       3:45:58  14:22:47             196.0  \n",
              "4       3:53:35  14:42:39             196.0  "
            ]
          },
          "execution_count": 11,
          "metadata": {},
          "output_type": "execute_result"
        }
      ],
      "source": [
        "bszm_osszes.head(5)"
      ]
    },
    {
      "cell_type": "markdown",
      "metadata": {
        "id": "gET5FPIEj4Jw"
      },
      "source": [
        "Azt is tudjuk hogy a verseny teljesítéséhez 196 kilóméter lefutására van szükség, ezért ehhez tudunk készíteni egy új attribútumot ami két értéket vehet fel, teljesítette-e vagy nem."
      ]
    },
    {
      "cell_type": "code",
      "execution_count": 12,
      "metadata": {
        "colab": {
          "base_uri": "https://localhost:8080/",
          "height": 419
        },
        "id": "m0IPcrtClR9k",
        "outputId": "07107da5-911f-478f-e9a2-91f557d9ca9a"
      },
      "outputs": [
        {
          "data": {
            "text/html": [
              "<div>\n",
              "<style scoped>\n",
              "    .dataframe tbody tr th:only-of-type {\n",
              "        vertical-align: middle;\n",
              "    }\n",
              "\n",
              "    .dataframe tbody tr th {\n",
              "        vertical-align: top;\n",
              "    }\n",
              "\n",
              "    .dataframe thead th {\n",
              "        text-align: right;\n",
              "    }\n",
              "</style>\n",
              "<table border=\"1\" class=\"dataframe\">\n",
              "  <thead>\n",
              "    <tr style=\"text-align: right;\">\n",
              "      <th></th>\n",
              "      <th>sz.év.</th>\n",
              "      <th>Kategória</th>\n",
              "      <th>nem</th>\n",
              "      <th>1.nap összidõ</th>\n",
              "      <th>2.nap összidõ</th>\n",
              "      <th>3.nap összidõ</th>\n",
              "      <th>4.nap összidõ</th>\n",
              "      <th>eredmény</th>\n",
              "      <th>Megtett táv (km)</th>\n",
              "      <th>befejezte</th>\n",
              "    </tr>\n",
              "  </thead>\n",
              "  <tbody>\n",
              "    <tr>\n",
              "      <th>0</th>\n",
              "      <td>1977.0</td>\n",
              "      <td>F3</td>\n",
              "      <td>F</td>\n",
              "      <td>3:08:51</td>\n",
              "      <td>3:30:32</td>\n",
              "      <td>2:53:54</td>\n",
              "      <td>3:28:51</td>\n",
              "      <td>13:02:08</td>\n",
              "      <td>196.0</td>\n",
              "      <td>True</td>\n",
              "    </tr>\n",
              "    <tr>\n",
              "      <th>1</th>\n",
              "      <td>1988.0</td>\n",
              "      <td>F1</td>\n",
              "      <td>F</td>\n",
              "      <td>3:13:57</td>\n",
              "      <td>3:40:22</td>\n",
              "      <td>2:48:22</td>\n",
              "      <td>3:24:07</td>\n",
              "      <td>13:06:48</td>\n",
              "      <td>196.0</td>\n",
              "      <td>True</td>\n",
              "    </tr>\n",
              "    <tr>\n",
              "      <th>2</th>\n",
              "      <td>1982.0</td>\n",
              "      <td>F2</td>\n",
              "      <td>F</td>\n",
              "      <td>3:23:21</td>\n",
              "      <td>3:53:42</td>\n",
              "      <td>3:04:38</td>\n",
              "      <td>3:43:54</td>\n",
              "      <td>14:05:35</td>\n",
              "      <td>196.0</td>\n",
              "      <td>True</td>\n",
              "    </tr>\n",
              "    <tr>\n",
              "      <th>3</th>\n",
              "      <td>1986.0</td>\n",
              "      <td>F1</td>\n",
              "      <td>F</td>\n",
              "      <td>3:31:41</td>\n",
              "      <td>3:59:24</td>\n",
              "      <td>3:05:44</td>\n",
              "      <td>3:45:58</td>\n",
              "      <td>14:22:47</td>\n",
              "      <td>196.0</td>\n",
              "      <td>True</td>\n",
              "    </tr>\n",
              "    <tr>\n",
              "      <th>4</th>\n",
              "      <td>1978.0</td>\n",
              "      <td>F3</td>\n",
              "      <td>F</td>\n",
              "      <td>3:31:31</td>\n",
              "      <td>4:00:30</td>\n",
              "      <td>3:17:03</td>\n",
              "      <td>3:53:35</td>\n",
              "      <td>14:42:39</td>\n",
              "      <td>196.0</td>\n",
              "      <td>True</td>\n",
              "    </tr>\n",
              "    <tr>\n",
              "      <th>...</th>\n",
              "      <td>...</td>\n",
              "      <td>...</td>\n",
              "      <td>...</td>\n",
              "      <td>...</td>\n",
              "      <td>...</td>\n",
              "      <td>...</td>\n",
              "      <td>...</td>\n",
              "      <td>...</td>\n",
              "      <td>...</td>\n",
              "      <td>...</td>\n",
              "    </tr>\n",
              "    <tr>\n",
              "      <th>1813</th>\n",
              "      <td>NaN</td>\n",
              "      <td>NaN</td>\n",
              "      <td>NaN</td>\n",
              "      <td>NaN</td>\n",
              "      <td>NaN</td>\n",
              "      <td>NaN</td>\n",
              "      <td>NaN</td>\n",
              "      <td>NaN</td>\n",
              "      <td>NaN</td>\n",
              "      <td>True</td>\n",
              "    </tr>\n",
              "    <tr>\n",
              "      <th>1814</th>\n",
              "      <td>NaN</td>\n",
              "      <td>NaN</td>\n",
              "      <td>NaN</td>\n",
              "      <td>NaN</td>\n",
              "      <td>NaN</td>\n",
              "      <td>NaN</td>\n",
              "      <td>NaN</td>\n",
              "      <td>NaN</td>\n",
              "      <td>NaN</td>\n",
              "      <td>True</td>\n",
              "    </tr>\n",
              "    <tr>\n",
              "      <th>1815</th>\n",
              "      <td>NaN</td>\n",
              "      <td>NaN</td>\n",
              "      <td>NaN</td>\n",
              "      <td>NaN</td>\n",
              "      <td>NaN</td>\n",
              "      <td>NaN</td>\n",
              "      <td>NaN</td>\n",
              "      <td>NaN</td>\n",
              "      <td>NaN</td>\n",
              "      <td>True</td>\n",
              "    </tr>\n",
              "    <tr>\n",
              "      <th>1816</th>\n",
              "      <td>NaN</td>\n",
              "      <td>NaN</td>\n",
              "      <td>NaN</td>\n",
              "      <td>NaN</td>\n",
              "      <td>NaN</td>\n",
              "      <td>NaN</td>\n",
              "      <td>NaN</td>\n",
              "      <td>NaN</td>\n",
              "      <td>NaN</td>\n",
              "      <td>True</td>\n",
              "    </tr>\n",
              "    <tr>\n",
              "      <th>1817</th>\n",
              "      <td>NaN</td>\n",
              "      <td>NaN</td>\n",
              "      <td>NaN</td>\n",
              "      <td>NaN</td>\n",
              "      <td>NaN</td>\n",
              "      <td>NaN</td>\n",
              "      <td>NaN</td>\n",
              "      <td>NaN</td>\n",
              "      <td>NaN</td>\n",
              "      <td>True</td>\n",
              "    </tr>\n",
              "  </tbody>\n",
              "</table>\n",
              "<p>1818 rows × 10 columns</p>\n",
              "</div>"
            ],
            "text/plain": [
              "      sz.év. Kategória  nem 1.nap összidõ 2.nap összidõ 3.nap összidõ  \\\n",
              "0     1977.0        F3    F       3:08:51       3:30:32       2:53:54   \n",
              "1     1988.0        F1    F       3:13:57       3:40:22       2:48:22   \n",
              "2     1982.0        F2    F       3:23:21       3:53:42       3:04:38   \n",
              "3     1986.0        F1    F       3:31:41       3:59:24       3:05:44   \n",
              "4     1978.0        F3    F       3:31:31       4:00:30       3:17:03   \n",
              "...      ...       ...  ...           ...           ...           ...   \n",
              "1813     NaN       NaN  NaN           NaN           NaN           NaN   \n",
              "1814     NaN       NaN  NaN           NaN           NaN           NaN   \n",
              "1815     NaN       NaN  NaN           NaN           NaN           NaN   \n",
              "1816     NaN       NaN  NaN           NaN           NaN           NaN   \n",
              "1817     NaN       NaN  NaN           NaN           NaN           NaN   \n",
              "\n",
              "     4.nap összidõ  eredmény  Megtett táv (km)  befejezte  \n",
              "0          3:28:51  13:02:08             196.0       True  \n",
              "1          3:24:07  13:06:48             196.0       True  \n",
              "2          3:43:54  14:05:35             196.0       True  \n",
              "3          3:45:58  14:22:47             196.0       True  \n",
              "4          3:53:35  14:42:39             196.0       True  \n",
              "...            ...       ...               ...        ...  \n",
              "1813           NaN       NaN               NaN       True  \n",
              "1814           NaN       NaN               NaN       True  \n",
              "1815           NaN       NaN               NaN       True  \n",
              "1816           NaN       NaN               NaN       True  \n",
              "1817           NaN       NaN               NaN       True  \n",
              "\n",
              "[1818 rows x 10 columns]"
            ]
          },
          "execution_count": 12,
          "metadata": {},
          "output_type": "execute_result"
        }
      ],
      "source": [
        "bszm_osszes[\"befejezte\"] = np.where(bszm_osszes['Megtett táv (km)'] < 196, False, True)\n",
        "bszm_osszes"
      ]
    },
    {
      "cell_type": "markdown",
      "metadata": {
        "id": "5OSHpaHqkvmt"
      },
      "source": [
        "Azok a személyek akik nem fejezték be a versenyt, nekik az időataik eltérőek, és az *eredmény* oszlopban 99:59:59 értéket vesznek fel. Ezt sajnos tisztítani kell vagy törölni, de ha ezeket töröljük elveszik minden adatunk azokról a versenyzőkről akik nem fejezték be a versenyt. Ezért csak az értelmetlen eredményt tartalmazó cellák értékeit cseréljük ki **NaN** értékre."
      ]
    },
    {
      "cell_type": "code",
      "execution_count": 13,
      "metadata": {
        "colab": {
          "base_uri": "https://localhost:8080/",
          "height": 419
        },
        "id": "Kt7VKFEunbUN",
        "outputId": "d83104eb-daec-4423-8e5a-7ee047dd49f4",
        "scrolled": true
      },
      "outputs": [
        {
          "data": {
            "text/html": [
              "<div>\n",
              "<style scoped>\n",
              "    .dataframe tbody tr th:only-of-type {\n",
              "        vertical-align: middle;\n",
              "    }\n",
              "\n",
              "    .dataframe tbody tr th {\n",
              "        vertical-align: top;\n",
              "    }\n",
              "\n",
              "    .dataframe thead th {\n",
              "        text-align: right;\n",
              "    }\n",
              "</style>\n",
              "<table border=\"1\" class=\"dataframe\">\n",
              "  <thead>\n",
              "    <tr style=\"text-align: right;\">\n",
              "      <th></th>\n",
              "      <th>sz.év.</th>\n",
              "      <th>Kategória</th>\n",
              "      <th>nem</th>\n",
              "      <th>1.nap összidõ</th>\n",
              "      <th>2.nap összidõ</th>\n",
              "      <th>3.nap összidõ</th>\n",
              "      <th>4.nap összidõ</th>\n",
              "      <th>eredmény</th>\n",
              "      <th>Megtett táv (km)</th>\n",
              "      <th>befejezte</th>\n",
              "    </tr>\n",
              "  </thead>\n",
              "  <tbody>\n",
              "    <tr>\n",
              "      <th>0</th>\n",
              "      <td>1977.0</td>\n",
              "      <td>F3</td>\n",
              "      <td>F</td>\n",
              "      <td>3:08:51</td>\n",
              "      <td>3:30:32</td>\n",
              "      <td>2:53:54</td>\n",
              "      <td>3:28:51</td>\n",
              "      <td>13:02:08</td>\n",
              "      <td>196.0</td>\n",
              "      <td>True</td>\n",
              "    </tr>\n",
              "    <tr>\n",
              "      <th>1</th>\n",
              "      <td>1988.0</td>\n",
              "      <td>F1</td>\n",
              "      <td>F</td>\n",
              "      <td>3:13:57</td>\n",
              "      <td>3:40:22</td>\n",
              "      <td>2:48:22</td>\n",
              "      <td>3:24:07</td>\n",
              "      <td>13:06:48</td>\n",
              "      <td>196.0</td>\n",
              "      <td>True</td>\n",
              "    </tr>\n",
              "    <tr>\n",
              "      <th>2</th>\n",
              "      <td>1982.0</td>\n",
              "      <td>F2</td>\n",
              "      <td>F</td>\n",
              "      <td>3:23:21</td>\n",
              "      <td>3:53:42</td>\n",
              "      <td>3:04:38</td>\n",
              "      <td>3:43:54</td>\n",
              "      <td>14:05:35</td>\n",
              "      <td>196.0</td>\n",
              "      <td>True</td>\n",
              "    </tr>\n",
              "    <tr>\n",
              "      <th>3</th>\n",
              "      <td>1986.0</td>\n",
              "      <td>F1</td>\n",
              "      <td>F</td>\n",
              "      <td>3:31:41</td>\n",
              "      <td>3:59:24</td>\n",
              "      <td>3:05:44</td>\n",
              "      <td>3:45:58</td>\n",
              "      <td>14:22:47</td>\n",
              "      <td>196.0</td>\n",
              "      <td>True</td>\n",
              "    </tr>\n",
              "    <tr>\n",
              "      <th>4</th>\n",
              "      <td>1978.0</td>\n",
              "      <td>F3</td>\n",
              "      <td>F</td>\n",
              "      <td>3:31:31</td>\n",
              "      <td>4:00:30</td>\n",
              "      <td>3:17:03</td>\n",
              "      <td>3:53:35</td>\n",
              "      <td>14:42:39</td>\n",
              "      <td>196.0</td>\n",
              "      <td>True</td>\n",
              "    </tr>\n",
              "    <tr>\n",
              "      <th>...</th>\n",
              "      <td>...</td>\n",
              "      <td>...</td>\n",
              "      <td>...</td>\n",
              "      <td>...</td>\n",
              "      <td>...</td>\n",
              "      <td>...</td>\n",
              "      <td>...</td>\n",
              "      <td>...</td>\n",
              "      <td>...</td>\n",
              "      <td>...</td>\n",
              "    </tr>\n",
              "    <tr>\n",
              "      <th>1813</th>\n",
              "      <td>NaN</td>\n",
              "      <td>NaN</td>\n",
              "      <td>NaN</td>\n",
              "      <td>NaN</td>\n",
              "      <td>NaN</td>\n",
              "      <td>NaN</td>\n",
              "      <td>NaN</td>\n",
              "      <td>NaN</td>\n",
              "      <td>NaN</td>\n",
              "      <td>True</td>\n",
              "    </tr>\n",
              "    <tr>\n",
              "      <th>1814</th>\n",
              "      <td>NaN</td>\n",
              "      <td>NaN</td>\n",
              "      <td>NaN</td>\n",
              "      <td>NaN</td>\n",
              "      <td>NaN</td>\n",
              "      <td>NaN</td>\n",
              "      <td>NaN</td>\n",
              "      <td>NaN</td>\n",
              "      <td>NaN</td>\n",
              "      <td>True</td>\n",
              "    </tr>\n",
              "    <tr>\n",
              "      <th>1815</th>\n",
              "      <td>NaN</td>\n",
              "      <td>NaN</td>\n",
              "      <td>NaN</td>\n",
              "      <td>NaN</td>\n",
              "      <td>NaN</td>\n",
              "      <td>NaN</td>\n",
              "      <td>NaN</td>\n",
              "      <td>NaN</td>\n",
              "      <td>NaN</td>\n",
              "      <td>True</td>\n",
              "    </tr>\n",
              "    <tr>\n",
              "      <th>1816</th>\n",
              "      <td>NaN</td>\n",
              "      <td>NaN</td>\n",
              "      <td>NaN</td>\n",
              "      <td>NaN</td>\n",
              "      <td>NaN</td>\n",
              "      <td>NaN</td>\n",
              "      <td>NaN</td>\n",
              "      <td>NaN</td>\n",
              "      <td>NaN</td>\n",
              "      <td>True</td>\n",
              "    </tr>\n",
              "    <tr>\n",
              "      <th>1817</th>\n",
              "      <td>NaN</td>\n",
              "      <td>NaN</td>\n",
              "      <td>NaN</td>\n",
              "      <td>NaN</td>\n",
              "      <td>NaN</td>\n",
              "      <td>NaN</td>\n",
              "      <td>NaN</td>\n",
              "      <td>NaN</td>\n",
              "      <td>NaN</td>\n",
              "      <td>True</td>\n",
              "    </tr>\n",
              "  </tbody>\n",
              "</table>\n",
              "<p>1818 rows × 10 columns</p>\n",
              "</div>"
            ],
            "text/plain": [
              "      sz.év. Kategória  nem 1.nap összidõ 2.nap összidõ 3.nap összidõ  \\\n",
              "0     1977.0        F3    F       3:08:51       3:30:32       2:53:54   \n",
              "1     1988.0        F1    F       3:13:57       3:40:22       2:48:22   \n",
              "2     1982.0        F2    F       3:23:21       3:53:42       3:04:38   \n",
              "3     1986.0        F1    F       3:31:41       3:59:24       3:05:44   \n",
              "4     1978.0        F3    F       3:31:31       4:00:30       3:17:03   \n",
              "...      ...       ...  ...           ...           ...           ...   \n",
              "1813     NaN       NaN  NaN           NaN           NaN           NaN   \n",
              "1814     NaN       NaN  NaN           NaN           NaN           NaN   \n",
              "1815     NaN       NaN  NaN           NaN           NaN           NaN   \n",
              "1816     NaN       NaN  NaN           NaN           NaN           NaN   \n",
              "1817     NaN       NaN  NaN           NaN           NaN           NaN   \n",
              "\n",
              "     4.nap összidõ  eredmény  Megtett táv (km)  befejezte  \n",
              "0          3:28:51  13:02:08             196.0       True  \n",
              "1          3:24:07  13:06:48             196.0       True  \n",
              "2          3:43:54  14:05:35             196.0       True  \n",
              "3          3:45:58  14:22:47             196.0       True  \n",
              "4          3:53:35  14:42:39             196.0       True  \n",
              "...            ...       ...               ...        ...  \n",
              "1813           NaN       NaN               NaN       True  \n",
              "1814           NaN       NaN               NaN       True  \n",
              "1815           NaN       NaN               NaN       True  \n",
              "1816           NaN       NaN               NaN       True  \n",
              "1817           NaN       NaN               NaN       True  \n",
              "\n",
              "[1818 rows x 10 columns]"
            ]
          },
          "execution_count": 13,
          "metadata": {},
          "output_type": "execute_result"
        }
      ],
      "source": [
        "bszm_osszes = bszm_osszes.replace('99:59:59', np.nan)\n",
        "bszm_osszes"
      ]
    },
    {
      "cell_type": "markdown",
      "metadata": {
        "id": "Zn5t3BoMvmX3"
      },
      "source": [
        "Látható hogy az adathalmazunk még mindig sok hibás értéket tartalmaz, ezeket a hibás értékeket később fogjuk kivenni a halmazunkból. "
      ]
    },
    {
      "cell_type": "markdown",
      "metadata": {
        "id": "-Oww0E7vvmX3"
      },
      "source": [
        "Azoknak a versenyzőknek akik feladták a versenyt '99:59:59' értéket kaptak eredménynek, ami természetesen nem elfogadható, mivel ezek a versenyzők egy-két napot lefuthattak.\n",
        "Ezért az eredmények mezőket újra tudjuk számolni úgy, hogy átalakítjuk **timedelta** típúsúra ezeket a mezőket, és összeadjuk a napok idejét."
      ]
    },
    {
      "cell_type": "code",
      "execution_count": 14,
      "metadata": {
        "colab": {
          "base_uri": "https://localhost:8080/"
        },
        "id": "rpOgKjOpvmX4",
        "outputId": "3ffaca2c-75f5-48b7-ece3-881e6931e4bb"
      },
      "outputs": [
        {
          "data": {
            "text/plain": [
              "sz.év.                      float64\n",
              "Kategória                    object\n",
              "nem                          object\n",
              "1.nap összidõ       timedelta64[ns]\n",
              "2.nap összidõ       timedelta64[ns]\n",
              "3.nap összidõ       timedelta64[ns]\n",
              "4.nap összidõ       timedelta64[ns]\n",
              "eredmény            timedelta64[ns]\n",
              "Megtett táv (km)            float64\n",
              "befejezte                      bool\n",
              "dtype: object"
            ]
          },
          "execution_count": 14,
          "metadata": {},
          "output_type": "execute_result"
        }
      ],
      "source": [
        "bszm_osszes['eredmény'] = pd.to_timedelta(bszm_osszes['eredmény'])\n",
        "bszm_osszes['1.nap összidõ'] = pd.to_timedelta(bszm_osszes['1.nap összidõ'])\n",
        "bszm_osszes['2.nap összidõ'] = pd.to_timedelta(bszm_osszes['2.nap összidõ'])\n",
        "bszm_osszes['3.nap összidõ'] = pd.to_timedelta(bszm_osszes['3.nap összidõ'])\n",
        "bszm_osszes['4.nap összidõ'] = pd.to_timedelta(bszm_osszes['4.nap összidõ'])\n",
        "bszm_osszes.dtypes"
      ]
    },
    {
      "cell_type": "markdown",
      "metadata": {
        "id": "BQutQIFkvmX5"
      },
      "source": [
        "Miután ez megvan, csak össze kell adni a megfelelő cellák értékeit."
      ]
    },
    {
      "cell_type": "code",
      "execution_count": 15,
      "metadata": {
        "colab": {
          "base_uri": "https://localhost:8080/",
          "height": 419
        },
        "id": "cWrip5p6vmX5",
        "outputId": "1f64edb6-47a6-41c8-a478-09d0d33a5e03"
      },
      "outputs": [
        {
          "data": {
            "text/html": [
              "<div>\n",
              "<style scoped>\n",
              "    .dataframe tbody tr th:only-of-type {\n",
              "        vertical-align: middle;\n",
              "    }\n",
              "\n",
              "    .dataframe tbody tr th {\n",
              "        vertical-align: top;\n",
              "    }\n",
              "\n",
              "    .dataframe thead th {\n",
              "        text-align: right;\n",
              "    }\n",
              "</style>\n",
              "<table border=\"1\" class=\"dataframe\">\n",
              "  <thead>\n",
              "    <tr style=\"text-align: right;\">\n",
              "      <th></th>\n",
              "      <th>sz.év.</th>\n",
              "      <th>Kategória</th>\n",
              "      <th>nem</th>\n",
              "      <th>1.nap összidõ</th>\n",
              "      <th>2.nap összidõ</th>\n",
              "      <th>3.nap összidõ</th>\n",
              "      <th>4.nap összidõ</th>\n",
              "      <th>eredmény</th>\n",
              "      <th>Megtett táv (km)</th>\n",
              "      <th>befejezte</th>\n",
              "    </tr>\n",
              "  </thead>\n",
              "  <tbody>\n",
              "    <tr>\n",
              "      <th>0</th>\n",
              "      <td>1977.0</td>\n",
              "      <td>F3</td>\n",
              "      <td>F</td>\n",
              "      <td>0 days 03:08:51</td>\n",
              "      <td>0 days 03:30:32</td>\n",
              "      <td>0 days 02:53:54</td>\n",
              "      <td>0 days 03:28:51</td>\n",
              "      <td>0 days 13:02:08</td>\n",
              "      <td>196.0</td>\n",
              "      <td>True</td>\n",
              "    </tr>\n",
              "    <tr>\n",
              "      <th>1</th>\n",
              "      <td>1988.0</td>\n",
              "      <td>F1</td>\n",
              "      <td>F</td>\n",
              "      <td>0 days 03:13:57</td>\n",
              "      <td>0 days 03:40:22</td>\n",
              "      <td>0 days 02:48:22</td>\n",
              "      <td>0 days 03:24:07</td>\n",
              "      <td>0 days 13:06:48</td>\n",
              "      <td>196.0</td>\n",
              "      <td>True</td>\n",
              "    </tr>\n",
              "    <tr>\n",
              "      <th>2</th>\n",
              "      <td>1982.0</td>\n",
              "      <td>F2</td>\n",
              "      <td>F</td>\n",
              "      <td>0 days 03:23:21</td>\n",
              "      <td>0 days 03:53:42</td>\n",
              "      <td>0 days 03:04:38</td>\n",
              "      <td>0 days 03:43:54</td>\n",
              "      <td>0 days 14:05:35</td>\n",
              "      <td>196.0</td>\n",
              "      <td>True</td>\n",
              "    </tr>\n",
              "    <tr>\n",
              "      <th>3</th>\n",
              "      <td>1986.0</td>\n",
              "      <td>F1</td>\n",
              "      <td>F</td>\n",
              "      <td>0 days 03:31:41</td>\n",
              "      <td>0 days 03:59:24</td>\n",
              "      <td>0 days 03:05:44</td>\n",
              "      <td>0 days 03:45:58</td>\n",
              "      <td>0 days 14:22:47</td>\n",
              "      <td>196.0</td>\n",
              "      <td>True</td>\n",
              "    </tr>\n",
              "    <tr>\n",
              "      <th>4</th>\n",
              "      <td>1978.0</td>\n",
              "      <td>F3</td>\n",
              "      <td>F</td>\n",
              "      <td>0 days 03:31:31</td>\n",
              "      <td>0 days 04:00:30</td>\n",
              "      <td>0 days 03:17:03</td>\n",
              "      <td>0 days 03:53:35</td>\n",
              "      <td>0 days 14:42:39</td>\n",
              "      <td>196.0</td>\n",
              "      <td>True</td>\n",
              "    </tr>\n",
              "    <tr>\n",
              "      <th>...</th>\n",
              "      <td>...</td>\n",
              "      <td>...</td>\n",
              "      <td>...</td>\n",
              "      <td>...</td>\n",
              "      <td>...</td>\n",
              "      <td>...</td>\n",
              "      <td>...</td>\n",
              "      <td>...</td>\n",
              "      <td>...</td>\n",
              "      <td>...</td>\n",
              "    </tr>\n",
              "    <tr>\n",
              "      <th>1813</th>\n",
              "      <td>NaN</td>\n",
              "      <td>NaN</td>\n",
              "      <td>NaN</td>\n",
              "      <td>NaT</td>\n",
              "      <td>NaT</td>\n",
              "      <td>NaT</td>\n",
              "      <td>NaT</td>\n",
              "      <td>0 days 00:00:00</td>\n",
              "      <td>NaN</td>\n",
              "      <td>True</td>\n",
              "    </tr>\n",
              "    <tr>\n",
              "      <th>1814</th>\n",
              "      <td>NaN</td>\n",
              "      <td>NaN</td>\n",
              "      <td>NaN</td>\n",
              "      <td>NaT</td>\n",
              "      <td>NaT</td>\n",
              "      <td>NaT</td>\n",
              "      <td>NaT</td>\n",
              "      <td>0 days 00:00:00</td>\n",
              "      <td>NaN</td>\n",
              "      <td>True</td>\n",
              "    </tr>\n",
              "    <tr>\n",
              "      <th>1815</th>\n",
              "      <td>NaN</td>\n",
              "      <td>NaN</td>\n",
              "      <td>NaN</td>\n",
              "      <td>NaT</td>\n",
              "      <td>NaT</td>\n",
              "      <td>NaT</td>\n",
              "      <td>NaT</td>\n",
              "      <td>0 days 00:00:00</td>\n",
              "      <td>NaN</td>\n",
              "      <td>True</td>\n",
              "    </tr>\n",
              "    <tr>\n",
              "      <th>1816</th>\n",
              "      <td>NaN</td>\n",
              "      <td>NaN</td>\n",
              "      <td>NaN</td>\n",
              "      <td>NaT</td>\n",
              "      <td>NaT</td>\n",
              "      <td>NaT</td>\n",
              "      <td>NaT</td>\n",
              "      <td>0 days 00:00:00</td>\n",
              "      <td>NaN</td>\n",
              "      <td>True</td>\n",
              "    </tr>\n",
              "    <tr>\n",
              "      <th>1817</th>\n",
              "      <td>NaN</td>\n",
              "      <td>NaN</td>\n",
              "      <td>NaN</td>\n",
              "      <td>NaT</td>\n",
              "      <td>NaT</td>\n",
              "      <td>NaT</td>\n",
              "      <td>NaT</td>\n",
              "      <td>0 days 00:00:00</td>\n",
              "      <td>NaN</td>\n",
              "      <td>True</td>\n",
              "    </tr>\n",
              "  </tbody>\n",
              "</table>\n",
              "<p>1818 rows × 10 columns</p>\n",
              "</div>"
            ],
            "text/plain": [
              "      sz.év. Kategória  nem   1.nap összidõ   2.nap összidõ   3.nap összidõ  \\\n",
              "0     1977.0        F3    F 0 days 03:08:51 0 days 03:30:32 0 days 02:53:54   \n",
              "1     1988.0        F1    F 0 days 03:13:57 0 days 03:40:22 0 days 02:48:22   \n",
              "2     1982.0        F2    F 0 days 03:23:21 0 days 03:53:42 0 days 03:04:38   \n",
              "3     1986.0        F1    F 0 days 03:31:41 0 days 03:59:24 0 days 03:05:44   \n",
              "4     1978.0        F3    F 0 days 03:31:31 0 days 04:00:30 0 days 03:17:03   \n",
              "...      ...       ...  ...             ...             ...             ...   \n",
              "1813     NaN       NaN  NaN             NaT             NaT             NaT   \n",
              "1814     NaN       NaN  NaN             NaT             NaT             NaT   \n",
              "1815     NaN       NaN  NaN             NaT             NaT             NaT   \n",
              "1816     NaN       NaN  NaN             NaT             NaT             NaT   \n",
              "1817     NaN       NaN  NaN             NaT             NaT             NaT   \n",
              "\n",
              "       4.nap összidõ        eredmény  Megtett táv (km)  befejezte  \n",
              "0    0 days 03:28:51 0 days 13:02:08             196.0       True  \n",
              "1    0 days 03:24:07 0 days 13:06:48             196.0       True  \n",
              "2    0 days 03:43:54 0 days 14:05:35             196.0       True  \n",
              "3    0 days 03:45:58 0 days 14:22:47             196.0       True  \n",
              "4    0 days 03:53:35 0 days 14:42:39             196.0       True  \n",
              "...              ...             ...               ...        ...  \n",
              "1813             NaT 0 days 00:00:00               NaN       True  \n",
              "1814             NaT 0 days 00:00:00               NaN       True  \n",
              "1815             NaT 0 days 00:00:00               NaN       True  \n",
              "1816             NaT 0 days 00:00:00               NaN       True  \n",
              "1817             NaT 0 days 00:00:00               NaN       True  \n",
              "\n",
              "[1818 rows x 10 columns]"
            ]
          },
          "execution_count": 15,
          "metadata": {},
          "output_type": "execute_result"
        }
      ],
      "source": [
        "eredmény = ['1.nap összidõ', '2.nap összidõ', '3.nap összidõ', '4.nap összidõ']\n",
        "bszm_osszes['eredmény'] = bszm_osszes[eredmény].sum(axis=1, skipna=True)\n",
        "bszm_osszes['eredmény'] = bszm_osszes['eredmény'] - pd.to_timedelta(bszm_osszes['eredmény'].dt.days, unit='h')\n",
        "bszm_osszes"
      ]
    },
    {
      "cell_type": "markdown",
      "metadata": {
        "id": "GrxSaIeZvmX6"
      },
      "source": [
        "Mivel szeretnénk majd kiszámolni a versenyzők sebességét is, ezért az eredmény adatot átalakíthatjuk perc értékre, így könnyebb dolgunk lesz vele."
      ]
    },
    {
      "cell_type": "code",
      "execution_count": 16,
      "metadata": {
        "colab": {
          "base_uri": "https://localhost:8080/",
          "height": 419
        },
        "id": "YWjLUZv1MAyB",
        "outputId": "79d82830-f57c-4c73-f034-f680ed0e6140"
      },
      "outputs": [
        {
          "data": {
            "text/html": [
              "<div>\n",
              "<style scoped>\n",
              "    .dataframe tbody tr th:only-of-type {\n",
              "        vertical-align: middle;\n",
              "    }\n",
              "\n",
              "    .dataframe tbody tr th {\n",
              "        vertical-align: top;\n",
              "    }\n",
              "\n",
              "    .dataframe thead th {\n",
              "        text-align: right;\n",
              "    }\n",
              "</style>\n",
              "<table border=\"1\" class=\"dataframe\">\n",
              "  <thead>\n",
              "    <tr style=\"text-align: right;\">\n",
              "      <th></th>\n",
              "      <th>sz.év.</th>\n",
              "      <th>Kategória</th>\n",
              "      <th>nem</th>\n",
              "      <th>1.nap összidõ</th>\n",
              "      <th>2.nap összidõ</th>\n",
              "      <th>3.nap összidõ</th>\n",
              "      <th>4.nap összidõ</th>\n",
              "      <th>eredmény</th>\n",
              "      <th>Megtett táv (km)</th>\n",
              "      <th>befejezte</th>\n",
              "      <th>eredmény(perc)</th>\n",
              "    </tr>\n",
              "  </thead>\n",
              "  <tbody>\n",
              "    <tr>\n",
              "      <th>0</th>\n",
              "      <td>1977.0</td>\n",
              "      <td>F3</td>\n",
              "      <td>F</td>\n",
              "      <td>0 days 03:08:51</td>\n",
              "      <td>0 days 03:30:32</td>\n",
              "      <td>0 days 02:53:54</td>\n",
              "      <td>0 days 03:28:51</td>\n",
              "      <td>0 days 13:02:08</td>\n",
              "      <td>196.0</td>\n",
              "      <td>True</td>\n",
              "      <td>782.0</td>\n",
              "    </tr>\n",
              "    <tr>\n",
              "      <th>1</th>\n",
              "      <td>1988.0</td>\n",
              "      <td>F1</td>\n",
              "      <td>F</td>\n",
              "      <td>0 days 03:13:57</td>\n",
              "      <td>0 days 03:40:22</td>\n",
              "      <td>0 days 02:48:22</td>\n",
              "      <td>0 days 03:24:07</td>\n",
              "      <td>0 days 13:06:48</td>\n",
              "      <td>196.0</td>\n",
              "      <td>True</td>\n",
              "      <td>786.0</td>\n",
              "    </tr>\n",
              "    <tr>\n",
              "      <th>2</th>\n",
              "      <td>1982.0</td>\n",
              "      <td>F2</td>\n",
              "      <td>F</td>\n",
              "      <td>0 days 03:23:21</td>\n",
              "      <td>0 days 03:53:42</td>\n",
              "      <td>0 days 03:04:38</td>\n",
              "      <td>0 days 03:43:54</td>\n",
              "      <td>0 days 14:05:35</td>\n",
              "      <td>196.0</td>\n",
              "      <td>True</td>\n",
              "      <td>845.0</td>\n",
              "    </tr>\n",
              "    <tr>\n",
              "      <th>3</th>\n",
              "      <td>1986.0</td>\n",
              "      <td>F1</td>\n",
              "      <td>F</td>\n",
              "      <td>0 days 03:31:41</td>\n",
              "      <td>0 days 03:59:24</td>\n",
              "      <td>0 days 03:05:44</td>\n",
              "      <td>0 days 03:45:58</td>\n",
              "      <td>0 days 14:22:47</td>\n",
              "      <td>196.0</td>\n",
              "      <td>True</td>\n",
              "      <td>862.0</td>\n",
              "    </tr>\n",
              "    <tr>\n",
              "      <th>4</th>\n",
              "      <td>1978.0</td>\n",
              "      <td>F3</td>\n",
              "      <td>F</td>\n",
              "      <td>0 days 03:31:31</td>\n",
              "      <td>0 days 04:00:30</td>\n",
              "      <td>0 days 03:17:03</td>\n",
              "      <td>0 days 03:53:35</td>\n",
              "      <td>0 days 14:42:39</td>\n",
              "      <td>196.0</td>\n",
              "      <td>True</td>\n",
              "      <td>882.0</td>\n",
              "    </tr>\n",
              "    <tr>\n",
              "      <th>...</th>\n",
              "      <td>...</td>\n",
              "      <td>...</td>\n",
              "      <td>...</td>\n",
              "      <td>...</td>\n",
              "      <td>...</td>\n",
              "      <td>...</td>\n",
              "      <td>...</td>\n",
              "      <td>...</td>\n",
              "      <td>...</td>\n",
              "      <td>...</td>\n",
              "      <td>...</td>\n",
              "    </tr>\n",
              "    <tr>\n",
              "      <th>1813</th>\n",
              "      <td>NaN</td>\n",
              "      <td>NaN</td>\n",
              "      <td>NaN</td>\n",
              "      <td>NaT</td>\n",
              "      <td>NaT</td>\n",
              "      <td>NaT</td>\n",
              "      <td>NaT</td>\n",
              "      <td>0 days 00:00:00</td>\n",
              "      <td>NaN</td>\n",
              "      <td>True</td>\n",
              "      <td>0.0</td>\n",
              "    </tr>\n",
              "    <tr>\n",
              "      <th>1814</th>\n",
              "      <td>NaN</td>\n",
              "      <td>NaN</td>\n",
              "      <td>NaN</td>\n",
              "      <td>NaT</td>\n",
              "      <td>NaT</td>\n",
              "      <td>NaT</td>\n",
              "      <td>NaT</td>\n",
              "      <td>0 days 00:00:00</td>\n",
              "      <td>NaN</td>\n",
              "      <td>True</td>\n",
              "      <td>0.0</td>\n",
              "    </tr>\n",
              "    <tr>\n",
              "      <th>1815</th>\n",
              "      <td>NaN</td>\n",
              "      <td>NaN</td>\n",
              "      <td>NaN</td>\n",
              "      <td>NaT</td>\n",
              "      <td>NaT</td>\n",
              "      <td>NaT</td>\n",
              "      <td>NaT</td>\n",
              "      <td>0 days 00:00:00</td>\n",
              "      <td>NaN</td>\n",
              "      <td>True</td>\n",
              "      <td>0.0</td>\n",
              "    </tr>\n",
              "    <tr>\n",
              "      <th>1816</th>\n",
              "      <td>NaN</td>\n",
              "      <td>NaN</td>\n",
              "      <td>NaN</td>\n",
              "      <td>NaT</td>\n",
              "      <td>NaT</td>\n",
              "      <td>NaT</td>\n",
              "      <td>NaT</td>\n",
              "      <td>0 days 00:00:00</td>\n",
              "      <td>NaN</td>\n",
              "      <td>True</td>\n",
              "      <td>0.0</td>\n",
              "    </tr>\n",
              "    <tr>\n",
              "      <th>1817</th>\n",
              "      <td>NaN</td>\n",
              "      <td>NaN</td>\n",
              "      <td>NaN</td>\n",
              "      <td>NaT</td>\n",
              "      <td>NaT</td>\n",
              "      <td>NaT</td>\n",
              "      <td>NaT</td>\n",
              "      <td>0 days 00:00:00</td>\n",
              "      <td>NaN</td>\n",
              "      <td>True</td>\n",
              "      <td>0.0</td>\n",
              "    </tr>\n",
              "  </tbody>\n",
              "</table>\n",
              "<p>1818 rows × 11 columns</p>\n",
              "</div>"
            ],
            "text/plain": [
              "      sz.év. Kategória  nem   1.nap összidõ   2.nap összidõ   3.nap összidõ  \\\n",
              "0     1977.0        F3    F 0 days 03:08:51 0 days 03:30:32 0 days 02:53:54   \n",
              "1     1988.0        F1    F 0 days 03:13:57 0 days 03:40:22 0 days 02:48:22   \n",
              "2     1982.0        F2    F 0 days 03:23:21 0 days 03:53:42 0 days 03:04:38   \n",
              "3     1986.0        F1    F 0 days 03:31:41 0 days 03:59:24 0 days 03:05:44   \n",
              "4     1978.0        F3    F 0 days 03:31:31 0 days 04:00:30 0 days 03:17:03   \n",
              "...      ...       ...  ...             ...             ...             ...   \n",
              "1813     NaN       NaN  NaN             NaT             NaT             NaT   \n",
              "1814     NaN       NaN  NaN             NaT             NaT             NaT   \n",
              "1815     NaN       NaN  NaN             NaT             NaT             NaT   \n",
              "1816     NaN       NaN  NaN             NaT             NaT             NaT   \n",
              "1817     NaN       NaN  NaN             NaT             NaT             NaT   \n",
              "\n",
              "       4.nap összidõ        eredmény  Megtett táv (km)  befejezte  \\\n",
              "0    0 days 03:28:51 0 days 13:02:08             196.0       True   \n",
              "1    0 days 03:24:07 0 days 13:06:48             196.0       True   \n",
              "2    0 days 03:43:54 0 days 14:05:35             196.0       True   \n",
              "3    0 days 03:45:58 0 days 14:22:47             196.0       True   \n",
              "4    0 days 03:53:35 0 days 14:42:39             196.0       True   \n",
              "...              ...             ...               ...        ...   \n",
              "1813             NaT 0 days 00:00:00               NaN       True   \n",
              "1814             NaT 0 days 00:00:00               NaN       True   \n",
              "1815             NaT 0 days 00:00:00               NaN       True   \n",
              "1816             NaT 0 days 00:00:00               NaN       True   \n",
              "1817             NaT 0 days 00:00:00               NaN       True   \n",
              "\n",
              "      eredmény(perc)  \n",
              "0              782.0  \n",
              "1              786.0  \n",
              "2              845.0  \n",
              "3              862.0  \n",
              "4              882.0  \n",
              "...              ...  \n",
              "1813             0.0  \n",
              "1814             0.0  \n",
              "1815             0.0  \n",
              "1816             0.0  \n",
              "1817             0.0  \n",
              "\n",
              "[1818 rows x 11 columns]"
            ]
          },
          "execution_count": 16,
          "metadata": {},
          "output_type": "execute_result"
        }
      ],
      "source": [
        "bszm_osszes[\"eredmény(perc)\"] = bszm_osszes['eredmény'].astype('timedelta64[m]')\n",
        "bszm_osszes"
      ]
    },
    {
      "cell_type": "markdown",
      "metadata": {
        "id": "7mU5WllmvmX6"
      },
      "source": [
        "Így már hozzáadható egy új oszlop az adattáblához, ami mutatja minden személy saját átlag tempóját (perc/km)"
      ]
    },
    {
      "cell_type": "code",
      "execution_count": 17,
      "metadata": {
        "colab": {
          "base_uri": "https://localhost:8080/",
          "height": 419
        },
        "id": "6oG54QD2CU-z",
        "outputId": "a65ab317-c7ad-47df-a084-4b8dae5fb69f"
      },
      "outputs": [
        {
          "data": {
            "text/html": [
              "<div>\n",
              "<style scoped>\n",
              "    .dataframe tbody tr th:only-of-type {\n",
              "        vertical-align: middle;\n",
              "    }\n",
              "\n",
              "    .dataframe tbody tr th {\n",
              "        vertical-align: top;\n",
              "    }\n",
              "\n",
              "    .dataframe thead th {\n",
              "        text-align: right;\n",
              "    }\n",
              "</style>\n",
              "<table border=\"1\" class=\"dataframe\">\n",
              "  <thead>\n",
              "    <tr style=\"text-align: right;\">\n",
              "      <th></th>\n",
              "      <th>sz.év.</th>\n",
              "      <th>Kategória</th>\n",
              "      <th>nem</th>\n",
              "      <th>1.nap összidõ</th>\n",
              "      <th>2.nap összidõ</th>\n",
              "      <th>3.nap összidõ</th>\n",
              "      <th>4.nap összidõ</th>\n",
              "      <th>eredmény</th>\n",
              "      <th>Megtett táv (km)</th>\n",
              "      <th>befejezte</th>\n",
              "      <th>eredmény(perc)</th>\n",
              "      <th>átlagos tempó (perc/km)</th>\n",
              "    </tr>\n",
              "  </thead>\n",
              "  <tbody>\n",
              "    <tr>\n",
              "      <th>0</th>\n",
              "      <td>1977.0</td>\n",
              "      <td>F3</td>\n",
              "      <td>F</td>\n",
              "      <td>0 days 03:08:51</td>\n",
              "      <td>0 days 03:30:32</td>\n",
              "      <td>0 days 02:53:54</td>\n",
              "      <td>0 days 03:28:51</td>\n",
              "      <td>0 days 13:02:08</td>\n",
              "      <td>196.0</td>\n",
              "      <td>True</td>\n",
              "      <td>782.0</td>\n",
              "      <td>3.989796</td>\n",
              "    </tr>\n",
              "    <tr>\n",
              "      <th>1</th>\n",
              "      <td>1988.0</td>\n",
              "      <td>F1</td>\n",
              "      <td>F</td>\n",
              "      <td>0 days 03:13:57</td>\n",
              "      <td>0 days 03:40:22</td>\n",
              "      <td>0 days 02:48:22</td>\n",
              "      <td>0 days 03:24:07</td>\n",
              "      <td>0 days 13:06:48</td>\n",
              "      <td>196.0</td>\n",
              "      <td>True</td>\n",
              "      <td>786.0</td>\n",
              "      <td>4.010204</td>\n",
              "    </tr>\n",
              "    <tr>\n",
              "      <th>2</th>\n",
              "      <td>1982.0</td>\n",
              "      <td>F2</td>\n",
              "      <td>F</td>\n",
              "      <td>0 days 03:23:21</td>\n",
              "      <td>0 days 03:53:42</td>\n",
              "      <td>0 days 03:04:38</td>\n",
              "      <td>0 days 03:43:54</td>\n",
              "      <td>0 days 14:05:35</td>\n",
              "      <td>196.0</td>\n",
              "      <td>True</td>\n",
              "      <td>845.0</td>\n",
              "      <td>4.311224</td>\n",
              "    </tr>\n",
              "    <tr>\n",
              "      <th>3</th>\n",
              "      <td>1986.0</td>\n",
              "      <td>F1</td>\n",
              "      <td>F</td>\n",
              "      <td>0 days 03:31:41</td>\n",
              "      <td>0 days 03:59:24</td>\n",
              "      <td>0 days 03:05:44</td>\n",
              "      <td>0 days 03:45:58</td>\n",
              "      <td>0 days 14:22:47</td>\n",
              "      <td>196.0</td>\n",
              "      <td>True</td>\n",
              "      <td>862.0</td>\n",
              "      <td>4.397959</td>\n",
              "    </tr>\n",
              "    <tr>\n",
              "      <th>4</th>\n",
              "      <td>1978.0</td>\n",
              "      <td>F3</td>\n",
              "      <td>F</td>\n",
              "      <td>0 days 03:31:31</td>\n",
              "      <td>0 days 04:00:30</td>\n",
              "      <td>0 days 03:17:03</td>\n",
              "      <td>0 days 03:53:35</td>\n",
              "      <td>0 days 14:42:39</td>\n",
              "      <td>196.0</td>\n",
              "      <td>True</td>\n",
              "      <td>882.0</td>\n",
              "      <td>4.500000</td>\n",
              "    </tr>\n",
              "    <tr>\n",
              "      <th>...</th>\n",
              "      <td>...</td>\n",
              "      <td>...</td>\n",
              "      <td>...</td>\n",
              "      <td>...</td>\n",
              "      <td>...</td>\n",
              "      <td>...</td>\n",
              "      <td>...</td>\n",
              "      <td>...</td>\n",
              "      <td>...</td>\n",
              "      <td>...</td>\n",
              "      <td>...</td>\n",
              "      <td>...</td>\n",
              "    </tr>\n",
              "    <tr>\n",
              "      <th>1813</th>\n",
              "      <td>NaN</td>\n",
              "      <td>NaN</td>\n",
              "      <td>NaN</td>\n",
              "      <td>NaT</td>\n",
              "      <td>NaT</td>\n",
              "      <td>NaT</td>\n",
              "      <td>NaT</td>\n",
              "      <td>0 days 00:00:00</td>\n",
              "      <td>NaN</td>\n",
              "      <td>True</td>\n",
              "      <td>0.0</td>\n",
              "      <td>NaN</td>\n",
              "    </tr>\n",
              "    <tr>\n",
              "      <th>1814</th>\n",
              "      <td>NaN</td>\n",
              "      <td>NaN</td>\n",
              "      <td>NaN</td>\n",
              "      <td>NaT</td>\n",
              "      <td>NaT</td>\n",
              "      <td>NaT</td>\n",
              "      <td>NaT</td>\n",
              "      <td>0 days 00:00:00</td>\n",
              "      <td>NaN</td>\n",
              "      <td>True</td>\n",
              "      <td>0.0</td>\n",
              "      <td>NaN</td>\n",
              "    </tr>\n",
              "    <tr>\n",
              "      <th>1815</th>\n",
              "      <td>NaN</td>\n",
              "      <td>NaN</td>\n",
              "      <td>NaN</td>\n",
              "      <td>NaT</td>\n",
              "      <td>NaT</td>\n",
              "      <td>NaT</td>\n",
              "      <td>NaT</td>\n",
              "      <td>0 days 00:00:00</td>\n",
              "      <td>NaN</td>\n",
              "      <td>True</td>\n",
              "      <td>0.0</td>\n",
              "      <td>NaN</td>\n",
              "    </tr>\n",
              "    <tr>\n",
              "      <th>1816</th>\n",
              "      <td>NaN</td>\n",
              "      <td>NaN</td>\n",
              "      <td>NaN</td>\n",
              "      <td>NaT</td>\n",
              "      <td>NaT</td>\n",
              "      <td>NaT</td>\n",
              "      <td>NaT</td>\n",
              "      <td>0 days 00:00:00</td>\n",
              "      <td>NaN</td>\n",
              "      <td>True</td>\n",
              "      <td>0.0</td>\n",
              "      <td>NaN</td>\n",
              "    </tr>\n",
              "    <tr>\n",
              "      <th>1817</th>\n",
              "      <td>NaN</td>\n",
              "      <td>NaN</td>\n",
              "      <td>NaN</td>\n",
              "      <td>NaT</td>\n",
              "      <td>NaT</td>\n",
              "      <td>NaT</td>\n",
              "      <td>NaT</td>\n",
              "      <td>0 days 00:00:00</td>\n",
              "      <td>NaN</td>\n",
              "      <td>True</td>\n",
              "      <td>0.0</td>\n",
              "      <td>NaN</td>\n",
              "    </tr>\n",
              "  </tbody>\n",
              "</table>\n",
              "<p>1818 rows × 12 columns</p>\n",
              "</div>"
            ],
            "text/plain": [
              "      sz.év. Kategória  nem   1.nap összidõ   2.nap összidõ   3.nap összidõ  \\\n",
              "0     1977.0        F3    F 0 days 03:08:51 0 days 03:30:32 0 days 02:53:54   \n",
              "1     1988.0        F1    F 0 days 03:13:57 0 days 03:40:22 0 days 02:48:22   \n",
              "2     1982.0        F2    F 0 days 03:23:21 0 days 03:53:42 0 days 03:04:38   \n",
              "3     1986.0        F1    F 0 days 03:31:41 0 days 03:59:24 0 days 03:05:44   \n",
              "4     1978.0        F3    F 0 days 03:31:31 0 days 04:00:30 0 days 03:17:03   \n",
              "...      ...       ...  ...             ...             ...             ...   \n",
              "1813     NaN       NaN  NaN             NaT             NaT             NaT   \n",
              "1814     NaN       NaN  NaN             NaT             NaT             NaT   \n",
              "1815     NaN       NaN  NaN             NaT             NaT             NaT   \n",
              "1816     NaN       NaN  NaN             NaT             NaT             NaT   \n",
              "1817     NaN       NaN  NaN             NaT             NaT             NaT   \n",
              "\n",
              "       4.nap összidõ        eredmény  Megtett táv (km)  befejezte  \\\n",
              "0    0 days 03:28:51 0 days 13:02:08             196.0       True   \n",
              "1    0 days 03:24:07 0 days 13:06:48             196.0       True   \n",
              "2    0 days 03:43:54 0 days 14:05:35             196.0       True   \n",
              "3    0 days 03:45:58 0 days 14:22:47             196.0       True   \n",
              "4    0 days 03:53:35 0 days 14:42:39             196.0       True   \n",
              "...              ...             ...               ...        ...   \n",
              "1813             NaT 0 days 00:00:00               NaN       True   \n",
              "1814             NaT 0 days 00:00:00               NaN       True   \n",
              "1815             NaT 0 days 00:00:00               NaN       True   \n",
              "1816             NaT 0 days 00:00:00               NaN       True   \n",
              "1817             NaT 0 days 00:00:00               NaN       True   \n",
              "\n",
              "      eredmény(perc)  átlagos tempó (perc/km)  \n",
              "0              782.0                 3.989796  \n",
              "1              786.0                 4.010204  \n",
              "2              845.0                 4.311224  \n",
              "3              862.0                 4.397959  \n",
              "4              882.0                 4.500000  \n",
              "...              ...                      ...  \n",
              "1813             0.0                      NaN  \n",
              "1814             0.0                      NaN  \n",
              "1815             0.0                      NaN  \n",
              "1816             0.0                      NaN  \n",
              "1817             0.0                      NaN  \n",
              "\n",
              "[1818 rows x 12 columns]"
            ]
          },
          "execution_count": 17,
          "metadata": {},
          "output_type": "execute_result"
        }
      ],
      "source": [
        "bszm_osszes[\"átlagos tempó (perc/km)\"] = bszm_osszes['eredmény'].astype('timedelta64[m]')/bszm_osszes['Megtett táv (km)']\n",
        "bszm_osszes"
      ]
    },
    {
      "cell_type": "markdown",
      "metadata": {
        "id": "EU3lAQqOvmX7"
      },
      "source": [
        "### Adatdiszkretizáció"
      ]
    },
    {
      "cell_type": "markdown",
      "metadata": {
        "id": "ARkTO0IzvmX7"
      },
      "source": [
        "### Vödrözés"
      ]
    },
    {
      "cell_type": "markdown",
      "metadata": {
        "id": "A1Ao6ipNvmX7"
      },
      "source": [
        "Vödrözési technika alkalmazásával besorolhatjuk a versenyzőket sebességük alapján, egyenlő mélységű vödrökbe. Ez azért lesz jó nekünk, mivel az osztályozás feladat elvégzésénél könnyebben tudunk majd kategórikus adatokkal dolgozni."
      ]
    },
    {
      "cell_type": "code",
      "execution_count": 18,
      "metadata": {
        "colab": {
          "base_uri": "https://localhost:8080/",
          "height": 419
        },
        "id": "1iaNU-GivmX7",
        "outputId": "1a8839d1-44fe-4a67-c104-4777f9c8e97e"
      },
      "outputs": [
        {
          "data": {
            "text/html": [
              "<div>\n",
              "<style scoped>\n",
              "    .dataframe tbody tr th:only-of-type {\n",
              "        vertical-align: middle;\n",
              "    }\n",
              "\n",
              "    .dataframe tbody tr th {\n",
              "        vertical-align: top;\n",
              "    }\n",
              "\n",
              "    .dataframe thead th {\n",
              "        text-align: right;\n",
              "    }\n",
              "</style>\n",
              "<table border=\"1\" class=\"dataframe\">\n",
              "  <thead>\n",
              "    <tr style=\"text-align: right;\">\n",
              "      <th></th>\n",
              "      <th>sz.év.</th>\n",
              "      <th>Kategória</th>\n",
              "      <th>nem</th>\n",
              "      <th>1.nap összidõ</th>\n",
              "      <th>2.nap összidõ</th>\n",
              "      <th>3.nap összidõ</th>\n",
              "      <th>4.nap összidõ</th>\n",
              "      <th>eredmény</th>\n",
              "      <th>Megtett táv (km)</th>\n",
              "      <th>befejezte</th>\n",
              "      <th>eredmény(perc)</th>\n",
              "      <th>átlagos tempó (perc/km)</th>\n",
              "      <th>sebesség kategória</th>\n",
              "    </tr>\n",
              "  </thead>\n",
              "  <tbody>\n",
              "    <tr>\n",
              "      <th>1718</th>\n",
              "      <td>1982.0</td>\n",
              "      <td>F2</td>\n",
              "      <td>F</td>\n",
              "      <td>0 days 05:16:38</td>\n",
              "      <td>NaT</td>\n",
              "      <td>NaT</td>\n",
              "      <td>NaT</td>\n",
              "      <td>0 days 05:16:38</td>\n",
              "      <td>48.0</td>\n",
              "      <td>False</td>\n",
              "      <td>316.0</td>\n",
              "      <td>6.583333</td>\n",
              "      <td>közepesen lassú</td>\n",
              "    </tr>\n",
              "    <tr>\n",
              "      <th>1719</th>\n",
              "      <td>1954.0</td>\n",
              "      <td>F4</td>\n",
              "      <td>F</td>\n",
              "      <td>0 days 04:22:14</td>\n",
              "      <td>NaT</td>\n",
              "      <td>NaT</td>\n",
              "      <td>NaT</td>\n",
              "      <td>0 days 04:22:14</td>\n",
              "      <td>48.0</td>\n",
              "      <td>False</td>\n",
              "      <td>262.0</td>\n",
              "      <td>5.458333</td>\n",
              "      <td>gyors</td>\n",
              "    </tr>\n",
              "    <tr>\n",
              "      <th>1720</th>\n",
              "      <td>1935.0</td>\n",
              "      <td>F4</td>\n",
              "      <td>F</td>\n",
              "      <td>NaT</td>\n",
              "      <td>0 days 07:14:02</td>\n",
              "      <td>0 days 06:10:10</td>\n",
              "      <td>0 days 07:22:34</td>\n",
              "      <td>0 days 20:46:46</td>\n",
              "      <td>141.0</td>\n",
              "      <td>False</td>\n",
              "      <td>1246.0</td>\n",
              "      <td>8.836879</td>\n",
              "      <td>lassú</td>\n",
              "    </tr>\n",
              "    <tr>\n",
              "      <th>1721</th>\n",
              "      <td>1970.0</td>\n",
              "      <td>N3</td>\n",
              "      <td>N</td>\n",
              "      <td>0 days 05:09:33</td>\n",
              "      <td>0 days 06:16:38</td>\n",
              "      <td>NaT</td>\n",
              "      <td>NaT</td>\n",
              "      <td>0 days 11:26:11</td>\n",
              "      <td>101.0</td>\n",
              "      <td>False</td>\n",
              "      <td>686.0</td>\n",
              "      <td>6.792079</td>\n",
              "      <td>közepesen lassú</td>\n",
              "    </tr>\n",
              "    <tr>\n",
              "      <th>1722</th>\n",
              "      <td>1973.0</td>\n",
              "      <td>F3</td>\n",
              "      <td>F</td>\n",
              "      <td>0 days 04:57:12</td>\n",
              "      <td>0 days 05:58:11</td>\n",
              "      <td>NaT</td>\n",
              "      <td>NaT</td>\n",
              "      <td>0 days 10:55:23</td>\n",
              "      <td>101.0</td>\n",
              "      <td>False</td>\n",
              "      <td>655.0</td>\n",
              "      <td>6.485149</td>\n",
              "      <td>közepes</td>\n",
              "    </tr>\n",
              "    <tr>\n",
              "      <th>...</th>\n",
              "      <td>...</td>\n",
              "      <td>...</td>\n",
              "      <td>...</td>\n",
              "      <td>...</td>\n",
              "      <td>...</td>\n",
              "      <td>...</td>\n",
              "      <td>...</td>\n",
              "      <td>...</td>\n",
              "      <td>...</td>\n",
              "      <td>...</td>\n",
              "      <td>...</td>\n",
              "      <td>...</td>\n",
              "      <td>...</td>\n",
              "    </tr>\n",
              "    <tr>\n",
              "      <th>1813</th>\n",
              "      <td>NaN</td>\n",
              "      <td>NaN</td>\n",
              "      <td>NaN</td>\n",
              "      <td>NaT</td>\n",
              "      <td>NaT</td>\n",
              "      <td>NaT</td>\n",
              "      <td>NaT</td>\n",
              "      <td>0 days 00:00:00</td>\n",
              "      <td>NaN</td>\n",
              "      <td>True</td>\n",
              "      <td>0.0</td>\n",
              "      <td>NaN</td>\n",
              "      <td>NaN</td>\n",
              "    </tr>\n",
              "    <tr>\n",
              "      <th>1814</th>\n",
              "      <td>NaN</td>\n",
              "      <td>NaN</td>\n",
              "      <td>NaN</td>\n",
              "      <td>NaT</td>\n",
              "      <td>NaT</td>\n",
              "      <td>NaT</td>\n",
              "      <td>NaT</td>\n",
              "      <td>0 days 00:00:00</td>\n",
              "      <td>NaN</td>\n",
              "      <td>True</td>\n",
              "      <td>0.0</td>\n",
              "      <td>NaN</td>\n",
              "      <td>NaN</td>\n",
              "    </tr>\n",
              "    <tr>\n",
              "      <th>1815</th>\n",
              "      <td>NaN</td>\n",
              "      <td>NaN</td>\n",
              "      <td>NaN</td>\n",
              "      <td>NaT</td>\n",
              "      <td>NaT</td>\n",
              "      <td>NaT</td>\n",
              "      <td>NaT</td>\n",
              "      <td>0 days 00:00:00</td>\n",
              "      <td>NaN</td>\n",
              "      <td>True</td>\n",
              "      <td>0.0</td>\n",
              "      <td>NaN</td>\n",
              "      <td>NaN</td>\n",
              "    </tr>\n",
              "    <tr>\n",
              "      <th>1816</th>\n",
              "      <td>NaN</td>\n",
              "      <td>NaN</td>\n",
              "      <td>NaN</td>\n",
              "      <td>NaT</td>\n",
              "      <td>NaT</td>\n",
              "      <td>NaT</td>\n",
              "      <td>NaT</td>\n",
              "      <td>0 days 00:00:00</td>\n",
              "      <td>NaN</td>\n",
              "      <td>True</td>\n",
              "      <td>0.0</td>\n",
              "      <td>NaN</td>\n",
              "      <td>NaN</td>\n",
              "    </tr>\n",
              "    <tr>\n",
              "      <th>1817</th>\n",
              "      <td>NaN</td>\n",
              "      <td>NaN</td>\n",
              "      <td>NaN</td>\n",
              "      <td>NaT</td>\n",
              "      <td>NaT</td>\n",
              "      <td>NaT</td>\n",
              "      <td>NaT</td>\n",
              "      <td>0 days 00:00:00</td>\n",
              "      <td>NaN</td>\n",
              "      <td>True</td>\n",
              "      <td>0.0</td>\n",
              "      <td>NaN</td>\n",
              "      <td>NaN</td>\n",
              "    </tr>\n",
              "  </tbody>\n",
              "</table>\n",
              "<p>100 rows × 13 columns</p>\n",
              "</div>"
            ],
            "text/plain": [
              "      sz.év. Kategória  nem   1.nap összidõ   2.nap összidõ   3.nap összidõ  \\\n",
              "1718  1982.0        F2    F 0 days 05:16:38             NaT             NaT   \n",
              "1719  1954.0        F4    F 0 days 04:22:14             NaT             NaT   \n",
              "1720  1935.0        F4    F             NaT 0 days 07:14:02 0 days 06:10:10   \n",
              "1721  1970.0        N3    N 0 days 05:09:33 0 days 06:16:38             NaT   \n",
              "1722  1973.0        F3    F 0 days 04:57:12 0 days 05:58:11             NaT   \n",
              "...      ...       ...  ...             ...             ...             ...   \n",
              "1813     NaN       NaN  NaN             NaT             NaT             NaT   \n",
              "1814     NaN       NaN  NaN             NaT             NaT             NaT   \n",
              "1815     NaN       NaN  NaN             NaT             NaT             NaT   \n",
              "1816     NaN       NaN  NaN             NaT             NaT             NaT   \n",
              "1817     NaN       NaN  NaN             NaT             NaT             NaT   \n",
              "\n",
              "       4.nap összidõ        eredmény  Megtett táv (km)  befejezte  \\\n",
              "1718             NaT 0 days 05:16:38              48.0      False   \n",
              "1719             NaT 0 days 04:22:14              48.0      False   \n",
              "1720 0 days 07:22:34 0 days 20:46:46             141.0      False   \n",
              "1721             NaT 0 days 11:26:11             101.0      False   \n",
              "1722             NaT 0 days 10:55:23             101.0      False   \n",
              "...              ...             ...               ...        ...   \n",
              "1813             NaT 0 days 00:00:00               NaN       True   \n",
              "1814             NaT 0 days 00:00:00               NaN       True   \n",
              "1815             NaT 0 days 00:00:00               NaN       True   \n",
              "1816             NaT 0 days 00:00:00               NaN       True   \n",
              "1817             NaT 0 days 00:00:00               NaN       True   \n",
              "\n",
              "      eredmény(perc)  átlagos tempó (perc/km) sebesség kategória  \n",
              "1718           316.0                 6.583333    közepesen lassú  \n",
              "1719           262.0                 5.458333              gyors  \n",
              "1720          1246.0                 8.836879              lassú  \n",
              "1721           686.0                 6.792079    közepesen lassú  \n",
              "1722           655.0                 6.485149            közepes  \n",
              "...              ...                      ...                ...  \n",
              "1813             0.0                      NaN                NaN  \n",
              "1814             0.0                      NaN                NaN  \n",
              "1815             0.0                      NaN                NaN  \n",
              "1816             0.0                      NaN                NaN  \n",
              "1817             0.0                      NaN                NaN  \n",
              "\n",
              "[100 rows x 13 columns]"
            ]
          },
          "execution_count": 18,
          "metadata": {},
          "output_type": "execute_result"
        }
      ],
      "source": [
        "bszm_osszes['sebesség kategória'] = pd.qcut(bszm_osszes['átlagos tempó (perc/km)'], 5, labels=['gyors', 'közepesen gyors', 'közepes', 'közepesen lassú', 'lassú'])\n",
        "bszm_osszes.tail(100)"
      ]
    },
    {
      "cell_type": "markdown",
      "metadata": {
        "id": "8f4xdlgnvmX8"
      },
      "source": [
        "### Duplikált sorok törlése"
      ]
    },
    {
      "cell_type": "code",
      "execution_count": 19,
      "metadata": {
        "colab": {
          "base_uri": "https://localhost:8080/"
        },
        "id": "1mQz1C1mvmX8",
        "outputId": "b783e64a-4290-4f76-9642-bc5e79efbc34"
      },
      "outputs": [
        {
          "data": {
            "text/plain": [
              "(1818, 13)"
            ]
          },
          "execution_count": 19,
          "metadata": {},
          "output_type": "execute_result"
        }
      ],
      "source": [
        "bszm_osszes.shape"
      ]
    },
    {
      "cell_type": "markdown",
      "metadata": {
        "id": "oXt7fGZ8vmX8"
      },
      "source": [
        "Amint már feljebb említettem az adathalmazunk még mindig sok értelmetlen adattal rendelkezik, de szerencsénkre ezeket egyszerűen kitudjuk javítani a duplikátumok törlésével.<br/> <br/> *(Valószínüleg adatmigráció során egy adattáblából nem sikerült rendesen összefűzni az adatokat)*"
      ]
    },
    {
      "cell_type": "code",
      "execution_count": 20,
      "metadata": {
        "colab": {
          "base_uri": "https://localhost:8080/"
        },
        "id": "TYBK1WcNvmX8",
        "outputId": "b4743285-3bb9-4a81-f351-cc52fde47aa2"
      },
      "outputs": [
        {
          "data": {
            "text/plain": [
              "(1571, 13)"
            ]
          },
          "execution_count": 20,
          "metadata": {},
          "output_type": "execute_result"
        }
      ],
      "source": [
        "bszm_osszes.drop_duplicates(inplace=True)\n",
        "bszm_osszes.shape"
      ]
    },
    {
      "cell_type": "markdown",
      "metadata": {
        "id": "RPWu-zkCvmX8"
      },
      "source": [
        "Körülbelül 250 sortól szabadultunk így meg. Így már látható hogy az adathalmaz legalján nem csak értelmetlen adatok jelennek meg."
      ]
    },
    {
      "cell_type": "code",
      "execution_count": 21,
      "metadata": {
        "colab": {
          "base_uri": "https://localhost:8080/",
          "height": 204
        },
        "id": "uN6-4IM4vmX9",
        "outputId": "ab59d64f-b901-45f3-da6c-c986ffa0d24c"
      },
      "outputs": [
        {
          "data": {
            "text/html": [
              "<div>\n",
              "<style scoped>\n",
              "    .dataframe tbody tr th:only-of-type {\n",
              "        vertical-align: middle;\n",
              "    }\n",
              "\n",
              "    .dataframe tbody tr th {\n",
              "        vertical-align: top;\n",
              "    }\n",
              "\n",
              "    .dataframe thead th {\n",
              "        text-align: right;\n",
              "    }\n",
              "</style>\n",
              "<table border=\"1\" class=\"dataframe\">\n",
              "  <thead>\n",
              "    <tr style=\"text-align: right;\">\n",
              "      <th></th>\n",
              "      <th>sz.év.</th>\n",
              "      <th>Kategória</th>\n",
              "      <th>nem</th>\n",
              "      <th>1.nap összidõ</th>\n",
              "      <th>2.nap összidõ</th>\n",
              "      <th>3.nap összidõ</th>\n",
              "      <th>4.nap összidõ</th>\n",
              "      <th>eredmény</th>\n",
              "      <th>Megtett táv (km)</th>\n",
              "      <th>befejezte</th>\n",
              "      <th>eredmény(perc)</th>\n",
              "      <th>átlagos tempó (perc/km)</th>\n",
              "      <th>sebesség kategória</th>\n",
              "    </tr>\n",
              "  </thead>\n",
              "  <tbody>\n",
              "    <tr>\n",
              "      <th>1726</th>\n",
              "      <td>1980.0</td>\n",
              "      <td>F2</td>\n",
              "      <td>F</td>\n",
              "      <td>0 days 04:17:34</td>\n",
              "      <td>0 days 05:37:34</td>\n",
              "      <td>0 days 04:48:01</td>\n",
              "      <td>NaT</td>\n",
              "      <td>0 days 14:43:09</td>\n",
              "      <td>145.0</td>\n",
              "      <td>False</td>\n",
              "      <td>883.0</td>\n",
              "      <td>6.089655</td>\n",
              "      <td>közepes</td>\n",
              "    </tr>\n",
              "    <tr>\n",
              "      <th>1727</th>\n",
              "      <td>1977.0</td>\n",
              "      <td>F2</td>\n",
              "      <td>F</td>\n",
              "      <td>0 days 03:31:53</td>\n",
              "      <td>0 days 04:11:03</td>\n",
              "      <td>NaT</td>\n",
              "      <td>NaT</td>\n",
              "      <td>0 days 07:42:56</td>\n",
              "      <td>101.0</td>\n",
              "      <td>False</td>\n",
              "      <td>462.0</td>\n",
              "      <td>4.574257</td>\n",
              "      <td>gyors</td>\n",
              "    </tr>\n",
              "    <tr>\n",
              "      <th>1728</th>\n",
              "      <td>1976.0</td>\n",
              "      <td>F2</td>\n",
              "      <td>F</td>\n",
              "      <td>0 days 04:48:24</td>\n",
              "      <td>NaT</td>\n",
              "      <td>NaT</td>\n",
              "      <td>NaT</td>\n",
              "      <td>0 days 04:48:24</td>\n",
              "      <td>48.0</td>\n",
              "      <td>False</td>\n",
              "      <td>288.0</td>\n",
              "      <td>6.000000</td>\n",
              "      <td>közepesen gyors</td>\n",
              "    </tr>\n",
              "    <tr>\n",
              "      <th>1729</th>\n",
              "      <td>1959.0</td>\n",
              "      <td>F4</td>\n",
              "      <td>F</td>\n",
              "      <td>0 days 05:17:14</td>\n",
              "      <td>0 days 06:10:19</td>\n",
              "      <td>0 days 05:10:41</td>\n",
              "      <td>NaT</td>\n",
              "      <td>0 days 16:38:14</td>\n",
              "      <td>145.0</td>\n",
              "      <td>False</td>\n",
              "      <td>998.0</td>\n",
              "      <td>6.882759</td>\n",
              "      <td>közepesen lassú</td>\n",
              "    </tr>\n",
              "    <tr>\n",
              "      <th>1730</th>\n",
              "      <td>1997.0</td>\n",
              "      <td>F1</td>\n",
              "      <td>F</td>\n",
              "      <td>0 days 04:46:55</td>\n",
              "      <td>NaT</td>\n",
              "      <td>NaT</td>\n",
              "      <td>NaT</td>\n",
              "      <td>0 days 04:46:55</td>\n",
              "      <td>48.0</td>\n",
              "      <td>False</td>\n",
              "      <td>286.0</td>\n",
              "      <td>5.958333</td>\n",
              "      <td>közepesen gyors</td>\n",
              "    </tr>\n",
              "  </tbody>\n",
              "</table>\n",
              "</div>"
            ],
            "text/plain": [
              "      sz.év. Kategória nem   1.nap összidõ   2.nap összidõ   3.nap összidõ  \\\n",
              "1726  1980.0        F2   F 0 days 04:17:34 0 days 05:37:34 0 days 04:48:01   \n",
              "1727  1977.0        F2   F 0 days 03:31:53 0 days 04:11:03             NaT   \n",
              "1728  1976.0        F2   F 0 days 04:48:24             NaT             NaT   \n",
              "1729  1959.0        F4   F 0 days 05:17:14 0 days 06:10:19 0 days 05:10:41   \n",
              "1730  1997.0        F1   F 0 days 04:46:55             NaT             NaT   \n",
              "\n",
              "     4.nap összidõ        eredmény  Megtett táv (km)  befejezte  \\\n",
              "1726           NaT 0 days 14:43:09             145.0      False   \n",
              "1727           NaT 0 days 07:42:56             101.0      False   \n",
              "1728           NaT 0 days 04:48:24              48.0      False   \n",
              "1729           NaT 0 days 16:38:14             145.0      False   \n",
              "1730           NaT 0 days 04:46:55              48.0      False   \n",
              "\n",
              "      eredmény(perc)  átlagos tempó (perc/km) sebesség kategória  \n",
              "1726           883.0                 6.089655            közepes  \n",
              "1727           462.0                 4.574257              gyors  \n",
              "1728           288.0                 6.000000    közepesen gyors  \n",
              "1729           998.0                 6.882759    közepesen lassú  \n",
              "1730           286.0                 5.958333    közepesen gyors  "
            ]
          },
          "execution_count": 21,
          "metadata": {},
          "output_type": "execute_result"
        }
      ],
      "source": [
        "bszm_osszes.tail()"
      ]
    },
    {
      "cell_type": "markdown",
      "metadata": {
        "id": "l4xXTB1NvmX9"
      },
      "source": [
        "### Értelmetlen adatok törlése"
      ]
    },
    {
      "cell_type": "markdown",
      "metadata": {
        "id": "a9hJ9mm1vmX9"
      },
      "source": [
        "Azokat a személyeket is törölhetjük, akik már az első nap befejezése előtt feladták, vagy csak nem jelentek meg. Nekik az eredményük percben 0."
      ]
    },
    {
      "cell_type": "code",
      "execution_count": 22,
      "metadata": {
        "colab": {
          "base_uri": "https://localhost:8080/"
        },
        "id": "se2ds_9bvmX9",
        "outputId": "eb4dd43d-a6a0-4f2d-fd37-00ea52c22aaf"
      },
      "outputs": [
        {
          "data": {
            "text/plain": [
              "(1554, 13)"
            ]
          },
          "execution_count": 22,
          "metadata": {},
          "output_type": "execute_result"
        }
      ],
      "source": [
        "bszm_osszes.loc[bszm_osszes['eredmény(perc)'] == 0.0] = np.nan\n",
        "bszm_osszes.dropna(axis=0, how='all', inplace=True)\n",
        "bszm_osszes.shape"
      ]
    },
    {
      "cell_type": "markdown",
      "metadata": {
        "id": "H5vgjtpmvmX9"
      },
      "source": [
        "### Tisztított adatok mentése"
      ]
    },
    {
      "cell_type": "markdown",
      "metadata": {
        "id": "FXjbU__qjdz0"
      },
      "source": [
        "Miután befejeztük az adataink tisztogatását, kiexportálhatjuk magunkak az adathalmazt, hogy a későbbiekben ne kelljen a tisztítás és transzportációs műveleteket elvégezni újra."
      ]
    },
    {
      "cell_type": "code",
      "execution_count": 23,
      "metadata": {
        "id": "Tp3Z3fIKjSc-"
      },
      "outputs": [
        {
          "ename": "FileNotFoundError",
          "evalue": "[Errno 2] No such file or directory: 'gdrive/My Drive/BSZM/csv/BSZM_osszesitett_migrated.csv'",
          "output_type": "error",
          "traceback": [
            "\u001b[0;31m---------------------------------------------------------------------------\u001b[0m",
            "\u001b[0;31mFileNotFoundError\u001b[0m                         Traceback (most recent call last)",
            "\u001b[0;32m/var/folders/zc/mq862pjx7v34hn0r82tf8_zw0000gn/T/ipykernel_21982/2271740901.py\u001b[0m in \u001b[0;36m<module>\u001b[0;34m\u001b[0m\n\u001b[0;32m----> 1\u001b[0;31m \u001b[0mbszm_osszes\u001b[0m\u001b[0;34m.\u001b[0m\u001b[0mto_csv\u001b[0m\u001b[0;34m(\u001b[0m\u001b[0;34m'gdrive/My Drive/BSZM/csv/BSZM_osszesitett_migrated.csv'\u001b[0m\u001b[0;34m,\u001b[0m \u001b[0msep\u001b[0m\u001b[0;34m=\u001b[0m\u001b[0;34m';'\u001b[0m\u001b[0;34m,\u001b[0m \u001b[0mheader\u001b[0m\u001b[0;34m=\u001b[0m\u001b[0;32mTrue\u001b[0m\u001b[0;34m,\u001b[0m \u001b[0mindex\u001b[0m\u001b[0;34m=\u001b[0m\u001b[0;32mFalse\u001b[0m\u001b[0;34m)\u001b[0m\u001b[0;34m\u001b[0m\u001b[0;34m\u001b[0m\u001b[0m\n\u001b[0m",
            "\u001b[0;32m/Library/Frameworks/Python.framework/Versions/3.8/lib/python3.8/site-packages/pandas/core/generic.py\u001b[0m in \u001b[0;36mto_csv\u001b[0;34m(self, path_or_buf, sep, na_rep, float_format, columns, header, index, index_label, mode, encoding, compression, quoting, quotechar, line_terminator, chunksize, date_format, doublequote, escapechar, decimal, errors, storage_options)\u001b[0m\n\u001b[1;32m   3382\u001b[0m         )\n\u001b[1;32m   3383\u001b[0m \u001b[0;34m\u001b[0m\u001b[0m\n\u001b[0;32m-> 3384\u001b[0;31m         return DataFrameRenderer(formatter).to_csv(\n\u001b[0m\u001b[1;32m   3385\u001b[0m             \u001b[0mpath_or_buf\u001b[0m\u001b[0;34m,\u001b[0m\u001b[0;34m\u001b[0m\u001b[0;34m\u001b[0m\u001b[0m\n\u001b[1;32m   3386\u001b[0m             \u001b[0mline_terminator\u001b[0m\u001b[0;34m=\u001b[0m\u001b[0mline_terminator\u001b[0m\u001b[0;34m,\u001b[0m\u001b[0;34m\u001b[0m\u001b[0;34m\u001b[0m\u001b[0m\n",
            "\u001b[0;32m/Library/Frameworks/Python.framework/Versions/3.8/lib/python3.8/site-packages/pandas/io/formats/format.py\u001b[0m in \u001b[0;36mto_csv\u001b[0;34m(self, path_or_buf, encoding, sep, columns, index_label, mode, compression, quoting, quotechar, line_terminator, chunksize, date_format, doublequote, escapechar, errors, storage_options)\u001b[0m\n\u001b[1;32m   1081\u001b[0m             \u001b[0mformatter\u001b[0m\u001b[0;34m=\u001b[0m\u001b[0mself\u001b[0m\u001b[0;34m.\u001b[0m\u001b[0mfmt\u001b[0m\u001b[0;34m,\u001b[0m\u001b[0;34m\u001b[0m\u001b[0;34m\u001b[0m\u001b[0m\n\u001b[1;32m   1082\u001b[0m         )\n\u001b[0;32m-> 1083\u001b[0;31m         \u001b[0mcsv_formatter\u001b[0m\u001b[0;34m.\u001b[0m\u001b[0msave\u001b[0m\u001b[0;34m(\u001b[0m\u001b[0;34m)\u001b[0m\u001b[0;34m\u001b[0m\u001b[0;34m\u001b[0m\u001b[0m\n\u001b[0m\u001b[1;32m   1084\u001b[0m \u001b[0;34m\u001b[0m\u001b[0m\n\u001b[1;32m   1085\u001b[0m         \u001b[0;32mif\u001b[0m \u001b[0mcreated_buffer\u001b[0m\u001b[0;34m:\u001b[0m\u001b[0;34m\u001b[0m\u001b[0;34m\u001b[0m\u001b[0m\n",
            "\u001b[0;32m/Library/Frameworks/Python.framework/Versions/3.8/lib/python3.8/site-packages/pandas/io/formats/csvs.py\u001b[0m in \u001b[0;36msave\u001b[0;34m(self)\u001b[0m\n\u001b[1;32m    226\u001b[0m         \"\"\"\n\u001b[1;32m    227\u001b[0m         \u001b[0;31m# apply compression and byte/text conversion\u001b[0m\u001b[0;34m\u001b[0m\u001b[0;34m\u001b[0m\u001b[0;34m\u001b[0m\u001b[0m\n\u001b[0;32m--> 228\u001b[0;31m         with get_handle(\n\u001b[0m\u001b[1;32m    229\u001b[0m             \u001b[0mself\u001b[0m\u001b[0;34m.\u001b[0m\u001b[0mfilepath_or_buffer\u001b[0m\u001b[0;34m,\u001b[0m\u001b[0;34m\u001b[0m\u001b[0;34m\u001b[0m\u001b[0m\n\u001b[1;32m    230\u001b[0m             \u001b[0mself\u001b[0m\u001b[0;34m.\u001b[0m\u001b[0mmode\u001b[0m\u001b[0;34m,\u001b[0m\u001b[0;34m\u001b[0m\u001b[0;34m\u001b[0m\u001b[0m\n",
            "\u001b[0;32m/Library/Frameworks/Python.framework/Versions/3.8/lib/python3.8/site-packages/pandas/io/common.py\u001b[0m in \u001b[0;36mget_handle\u001b[0;34m(path_or_buf, mode, encoding, compression, memory_map, is_text, errors, storage_options)\u001b[0m\n\u001b[1;32m    637\u001b[0m         \u001b[0;32mif\u001b[0m \u001b[0mioargs\u001b[0m\u001b[0;34m.\u001b[0m\u001b[0mencoding\u001b[0m \u001b[0;32mand\u001b[0m \u001b[0;34m\"b\"\u001b[0m \u001b[0;32mnot\u001b[0m \u001b[0;32min\u001b[0m \u001b[0mioargs\u001b[0m\u001b[0;34m.\u001b[0m\u001b[0mmode\u001b[0m\u001b[0;34m:\u001b[0m\u001b[0;34m\u001b[0m\u001b[0;34m\u001b[0m\u001b[0m\n\u001b[1;32m    638\u001b[0m             \u001b[0;31m# Encoding\u001b[0m\u001b[0;34m\u001b[0m\u001b[0;34m\u001b[0m\u001b[0;34m\u001b[0m\u001b[0m\n\u001b[0;32m--> 639\u001b[0;31m             handle = open(\n\u001b[0m\u001b[1;32m    640\u001b[0m                 \u001b[0mhandle\u001b[0m\u001b[0;34m,\u001b[0m\u001b[0;34m\u001b[0m\u001b[0;34m\u001b[0m\u001b[0m\n\u001b[1;32m    641\u001b[0m                 \u001b[0mioargs\u001b[0m\u001b[0;34m.\u001b[0m\u001b[0mmode\u001b[0m\u001b[0;34m,\u001b[0m\u001b[0;34m\u001b[0m\u001b[0;34m\u001b[0m\u001b[0m\n",
            "\u001b[0;31mFileNotFoundError\u001b[0m: [Errno 2] No such file or directory: 'gdrive/My Drive/BSZM/csv/BSZM_osszesitett_migrated.csv'"
          ]
        }
      ],
      "source": [
        "bszm_osszes.to_csv('gdrive/My Drive/BSZM/csv/BSZM_osszesitett_migrated.csv', sep=';', header=True, index=False)"
      ]
    },
    {
      "cell_type": "markdown",
      "metadata": {
        "id": "G5rhqxCMvmX-"
      },
      "source": [
        "## EDA vizualizáció\n"
      ]
    },
    {
      "cell_type": "markdown",
      "metadata": {
        "id": "zzRzBRyHvmX-"
      },
      "source": [
        "Miután már megtisztítottuk az adathalmazunkat, tudunk játszani vele különböző gráfok segítségével. "
      ]
    },
    {
      "cell_type": "code",
      "execution_count": null,
      "metadata": {
        "colab": {
          "base_uri": "https://localhost:8080/"
        },
        "id": "2BDMeXhsvmX_",
        "outputId": "e0a27903-d588-410a-e0f0-b8a5e6a3f7d1"
      },
      "outputs": [
        {
          "data": {
            "text/plain": [
              "(1554, 13)"
            ]
          },
          "execution_count": 20,
          "metadata": {},
          "output_type": "execute_result"
        }
      ],
      "source": [
        "import pandas as pd\n",
        "import seaborn as sns\n",
        "\n",
        "import matplotlib.pyplot as plt\n",
        "%matplotlib inline\n",
        "\n",
        "bszm = pd.read_csv('gdrive/My Drive/BSZM/csv/BSZM_osszesitett_migrated.csv',  \n",
        "                    sep=';', header=0)\n",
        "\n",
        "bszm.shape"
      ]
    },
    {
      "cell_type": "markdown",
      "metadata": {
        "id": "4xtF1FNwvmX_"
      },
      "source": [
        "A kezdő adathalmazunk itt már egyből a tisztított csv fájl."
      ]
    },
    {
      "cell_type": "code",
      "execution_count": null,
      "metadata": {
        "colab": {
          "base_uri": "https://localhost:8080/",
          "height": 419
        },
        "id": "8qax_8_yvmX_",
        "outputId": "b6d45d15-d6c4-418d-d7db-23fd75af38ed",
        "scrolled": true
      },
      "outputs": [
        {
          "data": {
            "text/html": [
              "<div>\n",
              "<style scoped>\n",
              "    .dataframe tbody tr th:only-of-type {\n",
              "        vertical-align: middle;\n",
              "    }\n",
              "\n",
              "    .dataframe tbody tr th {\n",
              "        vertical-align: top;\n",
              "    }\n",
              "\n",
              "    .dataframe thead th {\n",
              "        text-align: right;\n",
              "    }\n",
              "</style>\n",
              "<table border=\"1\" class=\"dataframe\">\n",
              "  <thead>\n",
              "    <tr style=\"text-align: right;\">\n",
              "      <th></th>\n",
              "      <th>sz.év.</th>\n",
              "      <th>Kategória</th>\n",
              "      <th>nem</th>\n",
              "      <th>1.nap összidõ</th>\n",
              "      <th>2.nap összidõ</th>\n",
              "      <th>3.nap összidõ</th>\n",
              "      <th>4.nap összidõ</th>\n",
              "      <th>eredmény</th>\n",
              "      <th>Megtett táv (km)</th>\n",
              "      <th>befejezte</th>\n",
              "      <th>eredmény(perc)</th>\n",
              "      <th>átlagos tempó (perc/km)</th>\n",
              "      <th>sebesség kategória</th>\n",
              "    </tr>\n",
              "  </thead>\n",
              "  <tbody>\n",
              "    <tr>\n",
              "      <th>0</th>\n",
              "      <td>1977.0</td>\n",
              "      <td>F3</td>\n",
              "      <td>F</td>\n",
              "      <td>0 days 03:08:51</td>\n",
              "      <td>0 days 03:30:32</td>\n",
              "      <td>0 days 02:53:54</td>\n",
              "      <td>0 days 03:28:51</td>\n",
              "      <td>0 days 13:02:08</td>\n",
              "      <td>196.0</td>\n",
              "      <td>1.0</td>\n",
              "      <td>782.0</td>\n",
              "      <td>3.989796</td>\n",
              "      <td>gyors</td>\n",
              "    </tr>\n",
              "    <tr>\n",
              "      <th>1</th>\n",
              "      <td>1988.0</td>\n",
              "      <td>F1</td>\n",
              "      <td>F</td>\n",
              "      <td>0 days 03:13:57</td>\n",
              "      <td>0 days 03:40:22</td>\n",
              "      <td>0 days 02:48:22</td>\n",
              "      <td>0 days 03:24:07</td>\n",
              "      <td>0 days 13:06:48</td>\n",
              "      <td>196.0</td>\n",
              "      <td>1.0</td>\n",
              "      <td>786.0</td>\n",
              "      <td>4.010204</td>\n",
              "      <td>gyors</td>\n",
              "    </tr>\n",
              "    <tr>\n",
              "      <th>2</th>\n",
              "      <td>1982.0</td>\n",
              "      <td>F2</td>\n",
              "      <td>F</td>\n",
              "      <td>0 days 03:23:21</td>\n",
              "      <td>0 days 03:53:42</td>\n",
              "      <td>0 days 03:04:38</td>\n",
              "      <td>0 days 03:43:54</td>\n",
              "      <td>0 days 14:05:35</td>\n",
              "      <td>196.0</td>\n",
              "      <td>1.0</td>\n",
              "      <td>845.0</td>\n",
              "      <td>4.311224</td>\n",
              "      <td>gyors</td>\n",
              "    </tr>\n",
              "    <tr>\n",
              "      <th>3</th>\n",
              "      <td>1986.0</td>\n",
              "      <td>F1</td>\n",
              "      <td>F</td>\n",
              "      <td>0 days 03:31:41</td>\n",
              "      <td>0 days 03:59:24</td>\n",
              "      <td>0 days 03:05:44</td>\n",
              "      <td>0 days 03:45:58</td>\n",
              "      <td>0 days 14:22:47</td>\n",
              "      <td>196.0</td>\n",
              "      <td>1.0</td>\n",
              "      <td>862.0</td>\n",
              "      <td>4.397959</td>\n",
              "      <td>gyors</td>\n",
              "    </tr>\n",
              "    <tr>\n",
              "      <th>4</th>\n",
              "      <td>1978.0</td>\n",
              "      <td>F3</td>\n",
              "      <td>F</td>\n",
              "      <td>0 days 03:31:31</td>\n",
              "      <td>0 days 04:00:30</td>\n",
              "      <td>0 days 03:17:03</td>\n",
              "      <td>0 days 03:53:35</td>\n",
              "      <td>0 days 14:42:39</td>\n",
              "      <td>196.0</td>\n",
              "      <td>1.0</td>\n",
              "      <td>882.0</td>\n",
              "      <td>4.500000</td>\n",
              "      <td>gyors</td>\n",
              "    </tr>\n",
              "    <tr>\n",
              "      <th>...</th>\n",
              "      <td>...</td>\n",
              "      <td>...</td>\n",
              "      <td>...</td>\n",
              "      <td>...</td>\n",
              "      <td>...</td>\n",
              "      <td>...</td>\n",
              "      <td>...</td>\n",
              "      <td>...</td>\n",
              "      <td>...</td>\n",
              "      <td>...</td>\n",
              "      <td>...</td>\n",
              "      <td>...</td>\n",
              "      <td>...</td>\n",
              "    </tr>\n",
              "    <tr>\n",
              "      <th>1549</th>\n",
              "      <td>1980.0</td>\n",
              "      <td>F2</td>\n",
              "      <td>F</td>\n",
              "      <td>0 days 04:17:34</td>\n",
              "      <td>0 days 05:37:34</td>\n",
              "      <td>0 days 04:48:01</td>\n",
              "      <td>NaN</td>\n",
              "      <td>0 days 14:43:09</td>\n",
              "      <td>145.0</td>\n",
              "      <td>0.0</td>\n",
              "      <td>883.0</td>\n",
              "      <td>6.089655</td>\n",
              "      <td>közepes</td>\n",
              "    </tr>\n",
              "    <tr>\n",
              "      <th>1550</th>\n",
              "      <td>1977.0</td>\n",
              "      <td>F2</td>\n",
              "      <td>F</td>\n",
              "      <td>0 days 03:31:53</td>\n",
              "      <td>0 days 04:11:03</td>\n",
              "      <td>NaN</td>\n",
              "      <td>NaN</td>\n",
              "      <td>0 days 07:42:56</td>\n",
              "      <td>101.0</td>\n",
              "      <td>0.0</td>\n",
              "      <td>462.0</td>\n",
              "      <td>4.574257</td>\n",
              "      <td>gyors</td>\n",
              "    </tr>\n",
              "    <tr>\n",
              "      <th>1551</th>\n",
              "      <td>1976.0</td>\n",
              "      <td>F2</td>\n",
              "      <td>F</td>\n",
              "      <td>0 days 04:48:24</td>\n",
              "      <td>NaN</td>\n",
              "      <td>NaN</td>\n",
              "      <td>NaN</td>\n",
              "      <td>0 days 04:48:24</td>\n",
              "      <td>48.0</td>\n",
              "      <td>0.0</td>\n",
              "      <td>288.0</td>\n",
              "      <td>6.000000</td>\n",
              "      <td>közepesen gyors</td>\n",
              "    </tr>\n",
              "    <tr>\n",
              "      <th>1552</th>\n",
              "      <td>1959.0</td>\n",
              "      <td>F4</td>\n",
              "      <td>F</td>\n",
              "      <td>0 days 05:17:14</td>\n",
              "      <td>0 days 06:10:19</td>\n",
              "      <td>0 days 05:10:41</td>\n",
              "      <td>NaN</td>\n",
              "      <td>0 days 16:38:14</td>\n",
              "      <td>145.0</td>\n",
              "      <td>0.0</td>\n",
              "      <td>998.0</td>\n",
              "      <td>6.882759</td>\n",
              "      <td>közepesen lassú</td>\n",
              "    </tr>\n",
              "    <tr>\n",
              "      <th>1553</th>\n",
              "      <td>1997.0</td>\n",
              "      <td>F1</td>\n",
              "      <td>F</td>\n",
              "      <td>0 days 04:46:55</td>\n",
              "      <td>NaN</td>\n",
              "      <td>NaN</td>\n",
              "      <td>NaN</td>\n",
              "      <td>0 days 04:46:55</td>\n",
              "      <td>48.0</td>\n",
              "      <td>0.0</td>\n",
              "      <td>286.0</td>\n",
              "      <td>5.958333</td>\n",
              "      <td>közepesen gyors</td>\n",
              "    </tr>\n",
              "  </tbody>\n",
              "</table>\n",
              "<p>1554 rows × 13 columns</p>\n",
              "</div>"
            ],
            "text/plain": [
              "      sz.év. Kategória  ... átlagos tempó (perc/km) sebesség kategória\n",
              "0     1977.0        F3  ...                3.989796              gyors\n",
              "1     1988.0        F1  ...                4.010204              gyors\n",
              "2     1982.0        F2  ...                4.311224              gyors\n",
              "3     1986.0        F1  ...                4.397959              gyors\n",
              "4     1978.0        F3  ...                4.500000              gyors\n",
              "...      ...       ...  ...                     ...                ...\n",
              "1549  1980.0        F2  ...                6.089655            közepes\n",
              "1550  1977.0        F2  ...                4.574257              gyors\n",
              "1551  1976.0        F2  ...                6.000000    közepesen gyors\n",
              "1552  1959.0        F4  ...                6.882759    közepesen lassú\n",
              "1553  1997.0        F1  ...                5.958333    közepesen gyors\n",
              "\n",
              "[1554 rows x 13 columns]"
            ]
          },
          "execution_count": 21,
          "metadata": {},
          "output_type": "execute_result"
        }
      ],
      "source": [
        "bszm"
      ]
    },
    {
      "cell_type": "markdown",
      "metadata": {
        "id": "xdLzWvwavmX_"
      },
      "source": [
        "Az egyik gráf vizualizálása közben találtam outlier-eket, ezért ezeket is érdemes kiszedni az adathalmazból. Az ő esetükben szürreális értékeket lehetett kapni. Két esetről van csak itt szó, ahol az egyik versenyző adatai alapján csak az első nap versenyzett, és ezalatt 150 kilómétert tett meg nagyon rövid idő alatt. Így produkált egy 2.6 átlagos tempót.\n",
        "\n",
        "Ezért ezeket töröljük."
      ]
    },
    {
      "cell_type": "code",
      "execution_count": null,
      "metadata": {
        "colab": {
          "base_uri": "https://localhost:8080/",
          "height": 419
        },
        "id": "p6ji2x0svmYA",
        "outputId": "12d12168-4fbf-413f-b497-e5c72bdca4c2"
      },
      "outputs": [
        {
          "data": {
            "text/html": [
              "<div>\n",
              "<style scoped>\n",
              "    .dataframe tbody tr th:only-of-type {\n",
              "        vertical-align: middle;\n",
              "    }\n",
              "\n",
              "    .dataframe tbody tr th {\n",
              "        vertical-align: top;\n",
              "    }\n",
              "\n",
              "    .dataframe thead th {\n",
              "        text-align: right;\n",
              "    }\n",
              "</style>\n",
              "<table border=\"1\" class=\"dataframe\">\n",
              "  <thead>\n",
              "    <tr style=\"text-align: right;\">\n",
              "      <th></th>\n",
              "      <th>sz.év.</th>\n",
              "      <th>Kategória</th>\n",
              "      <th>nem</th>\n",
              "      <th>1.nap összidõ</th>\n",
              "      <th>2.nap összidõ</th>\n",
              "      <th>3.nap összidõ</th>\n",
              "      <th>4.nap összidõ</th>\n",
              "      <th>eredmény</th>\n",
              "      <th>Megtett táv (km)</th>\n",
              "      <th>befejezte</th>\n",
              "      <th>eredmény(perc)</th>\n",
              "      <th>átlagos tempó (perc/km)</th>\n",
              "      <th>sebesség kategória</th>\n",
              "    </tr>\n",
              "  </thead>\n",
              "  <tbody>\n",
              "    <tr>\n",
              "      <th>269</th>\n",
              "      <td>1968.0</td>\n",
              "      <td>F4</td>\n",
              "      <td>F</td>\n",
              "      <td>0 days 05:11:04</td>\n",
              "      <td>NaN</td>\n",
              "      <td>NaN</td>\n",
              "      <td>NaN</td>\n",
              "      <td>0 days 05:11:04</td>\n",
              "      <td>80.0</td>\n",
              "      <td>0.0</td>\n",
              "      <td>311.0</td>\n",
              "      <td>3.887500</td>\n",
              "      <td>gyors</td>\n",
              "    </tr>\n",
              "    <tr>\n",
              "      <th>273</th>\n",
              "      <td>1976.0</td>\n",
              "      <td>F3</td>\n",
              "      <td>F</td>\n",
              "      <td>0 days 03:20:17</td>\n",
              "      <td>0 days 03:30:29</td>\n",
              "      <td>0 days 02:46:29</td>\n",
              "      <td>NaN</td>\n",
              "      <td>0 days 09:37:15</td>\n",
              "      <td>145.0</td>\n",
              "      <td>0.0</td>\n",
              "      <td>577.0</td>\n",
              "      <td>3.979310</td>\n",
              "      <td>gyors</td>\n",
              "    </tr>\n",
              "    <tr>\n",
              "      <th>1114</th>\n",
              "      <td>1990.0</td>\n",
              "      <td>F1</td>\n",
              "      <td>F</td>\n",
              "      <td>0 days 03:31:11</td>\n",
              "      <td>0 days 04:07:02</td>\n",
              "      <td>NaN</td>\n",
              "      <td>NaN</td>\n",
              "      <td>0 days 07:38:13</td>\n",
              "      <td>115.0</td>\n",
              "      <td>0.0</td>\n",
              "      <td>458.0</td>\n",
              "      <td>3.982609</td>\n",
              "      <td>gyors</td>\n",
              "    </tr>\n",
              "    <tr>\n",
              "      <th>0</th>\n",
              "      <td>1977.0</td>\n",
              "      <td>F3</td>\n",
              "      <td>F</td>\n",
              "      <td>0 days 03:08:51</td>\n",
              "      <td>0 days 03:30:32</td>\n",
              "      <td>0 days 02:53:54</td>\n",
              "      <td>0 days 03:28:51</td>\n",
              "      <td>0 days 13:02:08</td>\n",
              "      <td>196.0</td>\n",
              "      <td>1.0</td>\n",
              "      <td>782.0</td>\n",
              "      <td>3.989796</td>\n",
              "      <td>gyors</td>\n",
              "    </tr>\n",
              "    <tr>\n",
              "      <th>1</th>\n",
              "      <td>1988.0</td>\n",
              "      <td>F1</td>\n",
              "      <td>F</td>\n",
              "      <td>0 days 03:13:57</td>\n",
              "      <td>0 days 03:40:22</td>\n",
              "      <td>0 days 02:48:22</td>\n",
              "      <td>0 days 03:24:07</td>\n",
              "      <td>0 days 13:06:48</td>\n",
              "      <td>196.0</td>\n",
              "      <td>1.0</td>\n",
              "      <td>786.0</td>\n",
              "      <td>4.010204</td>\n",
              "      <td>gyors</td>\n",
              "    </tr>\n",
              "    <tr>\n",
              "      <th>...</th>\n",
              "      <td>...</td>\n",
              "      <td>...</td>\n",
              "      <td>...</td>\n",
              "      <td>...</td>\n",
              "      <td>...</td>\n",
              "      <td>...</td>\n",
              "      <td>...</td>\n",
              "      <td>...</td>\n",
              "      <td>...</td>\n",
              "      <td>...</td>\n",
              "      <td>...</td>\n",
              "      <td>...</td>\n",
              "      <td>...</td>\n",
              "    </tr>\n",
              "    <tr>\n",
              "      <th>1124</th>\n",
              "      <td>1978.0</td>\n",
              "      <td>F1</td>\n",
              "      <td>F</td>\n",
              "      <td>0 days 03:51:11</td>\n",
              "      <td>NaN</td>\n",
              "      <td>NaN</td>\n",
              "      <td>NaN</td>\n",
              "      <td>0 days 03:51:11</td>\n",
              "      <td>0.0</td>\n",
              "      <td>0.0</td>\n",
              "      <td>231.0</td>\n",
              "      <td>inf</td>\n",
              "      <td>lassú</td>\n",
              "    </tr>\n",
              "    <tr>\n",
              "      <th>860</th>\n",
              "      <td>1972.0</td>\n",
              "      <td>F3</td>\n",
              "      <td>F</td>\n",
              "      <td>0 days 05:45:14</td>\n",
              "      <td>NaN</td>\n",
              "      <td>NaN</td>\n",
              "      <td>NaN</td>\n",
              "      <td>0 days 05:45:14</td>\n",
              "      <td>0.0</td>\n",
              "      <td>0.0</td>\n",
              "      <td>345.0</td>\n",
              "      <td>inf</td>\n",
              "      <td>lassú</td>\n",
              "    </tr>\n",
              "    <tr>\n",
              "      <th>859</th>\n",
              "      <td>1986.0</td>\n",
              "      <td>F1</td>\n",
              "      <td>F</td>\n",
              "      <td>0 days 05:30:08</td>\n",
              "      <td>NaN</td>\n",
              "      <td>NaN</td>\n",
              "      <td>NaN</td>\n",
              "      <td>0 days 05:30:08</td>\n",
              "      <td>0.0</td>\n",
              "      <td>0.0</td>\n",
              "      <td>330.0</td>\n",
              "      <td>inf</td>\n",
              "      <td>lassú</td>\n",
              "    </tr>\n",
              "    <tr>\n",
              "      <th>856</th>\n",
              "      <td>1974.0</td>\n",
              "      <td>F3</td>\n",
              "      <td>F</td>\n",
              "      <td>NaN</td>\n",
              "      <td>NaN</td>\n",
              "      <td>NaN</td>\n",
              "      <td>0 days 06:52:01</td>\n",
              "      <td>0 days 06:52:01</td>\n",
              "      <td>0.0</td>\n",
              "      <td>0.0</td>\n",
              "      <td>412.0</td>\n",
              "      <td>inf</td>\n",
              "      <td>lassú</td>\n",
              "    </tr>\n",
              "    <tr>\n",
              "      <th>846</th>\n",
              "      <td>1985.0</td>\n",
              "      <td>F1</td>\n",
              "      <td>F</td>\n",
              "      <td>NaN</td>\n",
              "      <td>0 days 06:33:49</td>\n",
              "      <td>NaN</td>\n",
              "      <td>NaN</td>\n",
              "      <td>0 days 06:33:49</td>\n",
              "      <td>0.0</td>\n",
              "      <td>0.0</td>\n",
              "      <td>393.0</td>\n",
              "      <td>inf</td>\n",
              "      <td>lassú</td>\n",
              "    </tr>\n",
              "  </tbody>\n",
              "</table>\n",
              "<p>1552 rows × 13 columns</p>\n",
              "</div>"
            ],
            "text/plain": [
              "      sz.év. Kategória  ... átlagos tempó (perc/km) sebesség kategória\n",
              "269   1968.0        F4  ...                3.887500              gyors\n",
              "273   1976.0        F3  ...                3.979310              gyors\n",
              "1114  1990.0        F1  ...                3.982609              gyors\n",
              "0     1977.0        F3  ...                3.989796              gyors\n",
              "1     1988.0        F1  ...                4.010204              gyors\n",
              "...      ...       ...  ...                     ...                ...\n",
              "1124  1978.0        F1  ...                     inf              lassú\n",
              "860   1972.0        F3  ...                     inf              lassú\n",
              "859   1986.0        F1  ...                     inf              lassú\n",
              "856   1974.0        F3  ...                     inf              lassú\n",
              "846   1985.0        F1  ...                     inf              lassú\n",
              "\n",
              "[1552 rows x 13 columns]"
            ]
          },
          "execution_count": 22,
          "metadata": {},
          "output_type": "execute_result"
        }
      ],
      "source": [
        "bszm.loc[bszm['átlagos tempó (perc/km)'] < 3] = np.nan\n",
        "bszm.dropna(axis=0, how='all', inplace=True)\n",
        "bszm.sort_values(by=['átlagos tempó (perc/km)'])"
      ]
    },
    {
      "cell_type": "markdown",
      "metadata": {
        "id": "-feTb6IuvmYA"
      },
      "source": [
        "Mivel már van egy összesített eredményünk, ezért eldobhatjuk azokat az oszlopkat amik **NaN** értéket tartalmaznak. Ezek jelenleg csak a napi idő bontások."
      ]
    },
    {
      "cell_type": "code",
      "execution_count": null,
      "metadata": {
        "colab": {
          "base_uri": "https://localhost:8080/",
          "height": 419
        },
        "id": "YDmBcswRvmYA",
        "outputId": "ca1345dd-43af-4ce8-a5ae-1c9264e60e3d"
      },
      "outputs": [
        {
          "data": {
            "text/html": [
              "<div>\n",
              "<style scoped>\n",
              "    .dataframe tbody tr th:only-of-type {\n",
              "        vertical-align: middle;\n",
              "    }\n",
              "\n",
              "    .dataframe tbody tr th {\n",
              "        vertical-align: top;\n",
              "    }\n",
              "\n",
              "    .dataframe thead th {\n",
              "        text-align: right;\n",
              "    }\n",
              "</style>\n",
              "<table border=\"1\" class=\"dataframe\">\n",
              "  <thead>\n",
              "    <tr style=\"text-align: right;\">\n",
              "      <th></th>\n",
              "      <th>sz.év.</th>\n",
              "      <th>Kategória</th>\n",
              "      <th>nem</th>\n",
              "      <th>eredmény</th>\n",
              "      <th>Megtett táv (km)</th>\n",
              "      <th>befejezte</th>\n",
              "      <th>eredmény(perc)</th>\n",
              "      <th>átlagos tempó (perc/km)</th>\n",
              "      <th>sebesség kategória</th>\n",
              "    </tr>\n",
              "  </thead>\n",
              "  <tbody>\n",
              "    <tr>\n",
              "      <th>0</th>\n",
              "      <td>1977.0</td>\n",
              "      <td>F3</td>\n",
              "      <td>F</td>\n",
              "      <td>0 days 13:02:08</td>\n",
              "      <td>196.0</td>\n",
              "      <td>1.0</td>\n",
              "      <td>782.0</td>\n",
              "      <td>3.989796</td>\n",
              "      <td>gyors</td>\n",
              "    </tr>\n",
              "    <tr>\n",
              "      <th>1</th>\n",
              "      <td>1988.0</td>\n",
              "      <td>F1</td>\n",
              "      <td>F</td>\n",
              "      <td>0 days 13:06:48</td>\n",
              "      <td>196.0</td>\n",
              "      <td>1.0</td>\n",
              "      <td>786.0</td>\n",
              "      <td>4.010204</td>\n",
              "      <td>gyors</td>\n",
              "    </tr>\n",
              "    <tr>\n",
              "      <th>2</th>\n",
              "      <td>1982.0</td>\n",
              "      <td>F2</td>\n",
              "      <td>F</td>\n",
              "      <td>0 days 14:05:35</td>\n",
              "      <td>196.0</td>\n",
              "      <td>1.0</td>\n",
              "      <td>845.0</td>\n",
              "      <td>4.311224</td>\n",
              "      <td>gyors</td>\n",
              "    </tr>\n",
              "    <tr>\n",
              "      <th>3</th>\n",
              "      <td>1986.0</td>\n",
              "      <td>F1</td>\n",
              "      <td>F</td>\n",
              "      <td>0 days 14:22:47</td>\n",
              "      <td>196.0</td>\n",
              "      <td>1.0</td>\n",
              "      <td>862.0</td>\n",
              "      <td>4.397959</td>\n",
              "      <td>gyors</td>\n",
              "    </tr>\n",
              "    <tr>\n",
              "      <th>4</th>\n",
              "      <td>1978.0</td>\n",
              "      <td>F3</td>\n",
              "      <td>F</td>\n",
              "      <td>0 days 14:42:39</td>\n",
              "      <td>196.0</td>\n",
              "      <td>1.0</td>\n",
              "      <td>882.0</td>\n",
              "      <td>4.500000</td>\n",
              "      <td>gyors</td>\n",
              "    </tr>\n",
              "    <tr>\n",
              "      <th>...</th>\n",
              "      <td>...</td>\n",
              "      <td>...</td>\n",
              "      <td>...</td>\n",
              "      <td>...</td>\n",
              "      <td>...</td>\n",
              "      <td>...</td>\n",
              "      <td>...</td>\n",
              "      <td>...</td>\n",
              "      <td>...</td>\n",
              "    </tr>\n",
              "    <tr>\n",
              "      <th>1549</th>\n",
              "      <td>1980.0</td>\n",
              "      <td>F2</td>\n",
              "      <td>F</td>\n",
              "      <td>0 days 14:43:09</td>\n",
              "      <td>145.0</td>\n",
              "      <td>0.0</td>\n",
              "      <td>883.0</td>\n",
              "      <td>6.089655</td>\n",
              "      <td>közepes</td>\n",
              "    </tr>\n",
              "    <tr>\n",
              "      <th>1550</th>\n",
              "      <td>1977.0</td>\n",
              "      <td>F2</td>\n",
              "      <td>F</td>\n",
              "      <td>0 days 07:42:56</td>\n",
              "      <td>101.0</td>\n",
              "      <td>0.0</td>\n",
              "      <td>462.0</td>\n",
              "      <td>4.574257</td>\n",
              "      <td>gyors</td>\n",
              "    </tr>\n",
              "    <tr>\n",
              "      <th>1551</th>\n",
              "      <td>1976.0</td>\n",
              "      <td>F2</td>\n",
              "      <td>F</td>\n",
              "      <td>0 days 04:48:24</td>\n",
              "      <td>48.0</td>\n",
              "      <td>0.0</td>\n",
              "      <td>288.0</td>\n",
              "      <td>6.000000</td>\n",
              "      <td>közepesen gyors</td>\n",
              "    </tr>\n",
              "    <tr>\n",
              "      <th>1552</th>\n",
              "      <td>1959.0</td>\n",
              "      <td>F4</td>\n",
              "      <td>F</td>\n",
              "      <td>0 days 16:38:14</td>\n",
              "      <td>145.0</td>\n",
              "      <td>0.0</td>\n",
              "      <td>998.0</td>\n",
              "      <td>6.882759</td>\n",
              "      <td>közepesen lassú</td>\n",
              "    </tr>\n",
              "    <tr>\n",
              "      <th>1553</th>\n",
              "      <td>1997.0</td>\n",
              "      <td>F1</td>\n",
              "      <td>F</td>\n",
              "      <td>0 days 04:46:55</td>\n",
              "      <td>48.0</td>\n",
              "      <td>0.0</td>\n",
              "      <td>286.0</td>\n",
              "      <td>5.958333</td>\n",
              "      <td>közepesen gyors</td>\n",
              "    </tr>\n",
              "  </tbody>\n",
              "</table>\n",
              "<p>1552 rows × 9 columns</p>\n",
              "</div>"
            ],
            "text/plain": [
              "      sz.év. Kategória  ... átlagos tempó (perc/km) sebesség kategória\n",
              "0     1977.0        F3  ...                3.989796              gyors\n",
              "1     1988.0        F1  ...                4.010204              gyors\n",
              "2     1982.0        F2  ...                4.311224              gyors\n",
              "3     1986.0        F1  ...                4.397959              gyors\n",
              "4     1978.0        F3  ...                4.500000              gyors\n",
              "...      ...       ...  ...                     ...                ...\n",
              "1549  1980.0        F2  ...                6.089655            közepes\n",
              "1550  1977.0        F2  ...                4.574257              gyors\n",
              "1551  1976.0        F2  ...                6.000000    közepesen gyors\n",
              "1552  1959.0        F4  ...                6.882759    közepesen lassú\n",
              "1553  1997.0        F1  ...                5.958333    közepesen gyors\n",
              "\n",
              "[1552 rows x 9 columns]"
            ]
          },
          "execution_count": 23,
          "metadata": {},
          "output_type": "execute_result"
        }
      ],
      "source": [
        "#plt.plot(bszm_osszes['eredmény'], bszm_osszes['átlagos tempó (perc/km)'], marker='o')\n",
        "bszm.dropna(axis=1, how='any', inplace=True)\n",
        "bszm"
      ]
    },
    {
      "cell_type": "markdown",
      "metadata": {
        "id": "E--q0vMTvmYA"
      },
      "source": [
        "Mivel valahogyan visszakerültek az értelmetlen adatok az adathalmazunkba, kénytelenek vagyunk ismét törölni ezeket. \n",
        "Ezek azok a cellák ahol az átlagos tempó végtelen, ami azért van mert nullával lettek osztva. \n",
        "\n",
        "Dobjuk el őket."
      ]
    },
    {
      "cell_type": "code",
      "execution_count": null,
      "metadata": {
        "colab": {
          "base_uri": "https://localhost:8080/"
        },
        "id": "66swgE8xvmYA",
        "outputId": "de714f64-5644-4346-88b8-19669c52379b"
      },
      "outputs": [
        {
          "data": {
            "text/plain": [
              "(1536, 9)"
            ]
          },
          "execution_count": 24,
          "metadata": {},
          "output_type": "execute_result"
        }
      ],
      "source": [
        "bszm.loc[bszm['átlagos tempó (perc/km)'] == np.inf] = np.nan\n",
        "bszm.dropna(axis=0, how='all', inplace=True)\n",
        "bszm.shape"
      ]
    },
    {
      "cell_type": "markdown",
      "metadata": {
        "id": "v-XsMz6evmYB"
      },
      "source": [
        "Most, hogy ismét tisztogattunk az adathalmazainkon, neki is láthatunk a gráfok készítésének."
      ]
    },
    {
      "cell_type": "markdown",
      "metadata": {
        "id": "a39PHbIuvmYB"
      },
      "source": [
        "### Férfiak és nők részvétele a versenyen"
      ]
    },
    {
      "cell_type": "code",
      "execution_count": null,
      "metadata": {
        "colab": {
          "base_uri": "https://localhost:8080/",
          "height": 265
        },
        "id": "g-qkFCx_vmYB",
        "outputId": "a67123c5-0367-4885-f8b7-5021e74cf840"
      },
      "outputs": [
        {
          "data": {
            "text/plain": [
              "<matplotlib.axes._subplots.AxesSubplot at 0x7f5f69258fd0>"
            ]
          },
          "execution_count": 25,
          "metadata": {},
          "output_type": "execute_result"
        },
        {
          "data": {
            "image/png": "[encoded data removed]",
            "text/plain": [
              "<Figure size 432x288 with 1 Axes>"
            ]
          },
          "metadata": {},
          "output_type": "display_data"
        }
      ],
      "source": [
        "bszm.nem.value_counts().plot(kind='pie')"
      ]
    },
    {
      "cell_type": "markdown",
      "metadata": {
        "id": "iVvyifkOvmYB"
      },
      "source": [
        "### Versenyzők akik befejezték vagy feladták a versenyt"
      ]
    },
    {
      "cell_type": "code",
      "execution_count": null,
      "metadata": {
        "colab": {
          "base_uri": "https://localhost:8080/",
          "height": 265
        },
        "id": "to7z3cRtvmYB",
        "outputId": "a24da967-9e3e-4abd-864e-d2a808309059"
      },
      "outputs": [
        {
          "data": {
            "text/plain": [
              "<matplotlib.axes._subplots.AxesSubplot at 0x7f5f6918b250>"
            ]
          },
          "execution_count": 26,
          "metadata": {},
          "output_type": "execute_result"
        },
        {
          "data": {
            "image/png": "[encoded data removed]",
            "text/plain": [
              "<Figure size 432x288 with 1 Axes>"
            ]
          },
          "metadata": {},
          "output_type": "display_data"
        }
      ],
      "source": [
        "bszm.befejezte.value_counts().plot(kind='pie')"
      ]
    },
    {
      "cell_type": "markdown",
      "metadata": {
        "id": "uxFjgatYvmYC"
      },
      "source": [
        "### Pont-pont diagram ami születési évszám alapján mutatja a megtett kilómétert"
      ]
    },
    {
      "cell_type": "markdown",
      "metadata": {
        "id": "ustRc197vmYC"
      },
      "source": [
        "Érdekességként megemlíthető, hogy itt már kezd kialakulni egy mintázat, ami alapján láthatjuk hogy ténylegesen egy 4 napos versenyről van szó, mivel sok versenyző, egy bizonyos kilóméter megtétele után adta fel a versenyt. "
      ]
    },
    {
      "cell_type": "code",
      "execution_count": null,
      "metadata": {
        "colab": {
          "base_uri": "https://localhost:8080/",
          "height": 296
        },
        "id": "_zKDc1MBvmYC",
        "outputId": "dd7b3137-1baf-462d-8664-27087e361bce"
      },
      "outputs": [
        {
          "data": {
            "text/plain": [
              "<matplotlib.axes._subplots.AxesSubplot at 0x7f5f68d09a10>"
            ]
          },
          "execution_count": 27,
          "metadata": {},
          "output_type": "execute_result"
        },
        {
          "data": {
            "image/png": "[encoded data removed]",
            "text/plain": [
              "<Figure size 432x288 with 1 Axes>"
            ]
          },
          "metadata": {
            "needs_background": "light"
          },
          "output_type": "display_data"
        }
      ],
      "source": [
        "sns.scatterplot(x='sz.év.', y='Megtett táv (km)', hue='nem', data=bszm)"
      ]
    },
    {
      "cell_type": "markdown",
      "metadata": {
        "id": "1ywTWQefvmYC"
      },
      "source": [
        "### Pont-pont diagram ami átlagos tempó alapján mutatja a megtett kilómétert"
      ]
    },
    {
      "cell_type": "markdown",
      "metadata": {
        "id": "WlD17hpfvmYC"
      },
      "source": [
        "Mivel a két diagram meglehetősen hasonlít egymásra, észrevehető itt is az előző minta."
      ]
    },
    {
      "cell_type": "code",
      "execution_count": null,
      "metadata": {
        "colab": {
          "base_uri": "https://localhost:8080/",
          "height": 297
        },
        "id": "WHN8vllIvmYD",
        "outputId": "43105ae6-dbec-4c9b-e521-188d9756ad2e"
      },
      "outputs": [
        {
          "data": {
            "text/plain": [
              "<matplotlib.axes._subplots.AxesSubplot at 0x7f5f68c84cd0>"
            ]
          },
          "execution_count": 28,
          "metadata": {},
          "output_type": "execute_result"
        },
        {
          "data": {
            "image/png": "[encoded data removed]",
            "text/plain": [
              "<Figure size 432x288 with 1 Axes>"
            ]
          },
          "metadata": {
            "needs_background": "light"
          },
          "output_type": "display_data"
        }
      ],
      "source": [
        "sns.scatterplot(x='Megtett táv (km)', y='átlagos tempó (perc/km)', hue='nem', data=bszm)"
      ]
    },
    {
      "cell_type": "markdown",
      "metadata": {
        "id": "vsjfeTaevmYD"
      },
      "source": [
        "### Versenyzők átlag tempójának az eloszlása"
      ]
    },
    {
      "cell_type": "code",
      "execution_count": null,
      "metadata": {
        "colab": {
          "base_uri": "https://localhost:8080/",
          "height": 351
        },
        "id": "HPiWG-lRvmYD",
        "outputId": "61ae8ca7-8b70-481f-882f-fc928507b470"
      },
      "outputs": [
        {
          "name": "stderr",
          "output_type": "stream",
          "text": [
            "/usr/local/lib/python3.7/dist-packages/seaborn/distributions.py:2619: FutureWarning: `distplot` is a deprecated function and will be removed in a future version. Please adapt your code to use either `displot` (a figure-level function with similar flexibility) or `histplot` (an axes-level function for histograms).\n",
            "  warnings.warn(msg, FutureWarning)\n"
          ]
        },
        {
          "data": {
            "text/plain": [
              "<matplotlib.axes._subplots.AxesSubplot at 0x7f5f68b8cb10>"
            ]
          },
          "execution_count": 29,
          "metadata": {},
          "output_type": "execute_result"
        },
        {
          "data": {
            "image/png": "[encoded data removed]",
            "text/plain": [
              "<Figure size 432x288 with 1 Axes>"
            ]
          },
          "metadata": {
            "needs_background": "light"
          },
          "output_type": "display_data"
        }
      ],
      "source": [
        "sns.distplot(bszm['átlagos tempó (perc/km)'])"
      ]
    },
    {
      "cell_type": "markdown",
      "metadata": {
        "id": "0kKQZ9umvmYD"
      },
      "source": [
        "### Versenyzők születési éveinek eloszlása"
      ]
    },
    {
      "cell_type": "code",
      "execution_count": null,
      "metadata": {
        "colab": {
          "base_uri": "https://localhost:8080/",
          "height": 350
        },
        "id": "Hza7oNjDvmYE",
        "outputId": "e79321ec-8e39-4490-f9d1-eb1b45103cf5"
      },
      "outputs": [
        {
          "name": "stderr",
          "output_type": "stream",
          "text": [
            "/usr/local/lib/python3.7/dist-packages/seaborn/distributions.py:2619: FutureWarning: `distplot` is a deprecated function and will be removed in a future version. Please adapt your code to use either `displot` (a figure-level function with similar flexibility) or `histplot` (an axes-level function for histograms).\n",
            "  warnings.warn(msg, FutureWarning)\n"
          ]
        },
        {
          "data": {
            "text/plain": [
              "<matplotlib.axes._subplots.AxesSubplot at 0x7f5f66a59f50>"
            ]
          },
          "execution_count": 30,
          "metadata": {},
          "output_type": "execute_result"
        },
        {
          "data": {
            "image/png": "[encoded data removed]",
            "text/plain": [
              "<Figure size 432x288 with 1 Axes>"
            ]
          },
          "metadata": {
            "needs_background": "light"
          },
          "output_type": "display_data"
        }
      ],
      "source": [
        "sns.distplot(bszm['sz.év.'])"
      ]
    },
    {
      "cell_type": "markdown",
      "metadata": {
        "id": "RGD0Z5zNvmYE"
      },
      "source": [
        "### Célba ért személyek száma kategóriákként"
      ]
    },
    {
      "cell_type": "code",
      "execution_count": null,
      "metadata": {
        "id": "NpdF1NxWvmYE"
      },
      "outputs": [],
      "source": [
        "topKorcsoport = bszm.groupby('Kategória').agg({\n",
        "    'befejezte' : 'sum'\n",
        "}).sort_values('befejezte', ascending=False)[:10]"
      ]
    },
    {
      "cell_type": "code",
      "execution_count": null,
      "metadata": {
        "colab": {
          "base_uri": "https://localhost:8080/",
          "height": 622
        },
        "id": "FIGAH5KavmYE",
        "outputId": "5b692fdc-1388-42f9-f316-f0fe02d0453b"
      },
      "outputs": [
        {
          "data": {
            "text/html": [
              "<div>\n",
              "<style scoped>\n",
              "    .dataframe tbody tr th:only-of-type {\n",
              "        vertical-align: middle;\n",
              "    }\n",
              "\n",
              "    .dataframe tbody tr th {\n",
              "        vertical-align: top;\n",
              "    }\n",
              "\n",
              "    .dataframe thead th {\n",
              "        text-align: right;\n",
              "    }\n",
              "</style>\n",
              "<table border=\"1\" class=\"dataframe\">\n",
              "  <thead>\n",
              "    <tr style=\"text-align: right;\">\n",
              "      <th></th>\n",
              "      <th>befejezte</th>\n",
              "    </tr>\n",
              "    <tr>\n",
              "      <th>Kategória</th>\n",
              "      <th></th>\n",
              "    </tr>\n",
              "  </thead>\n",
              "  <tbody>\n",
              "    <tr>\n",
              "      <th>F3</th>\n",
              "      <td>284.0</td>\n",
              "    </tr>\n",
              "    <tr>\n",
              "      <th>F4</th>\n",
              "      <td>128.0</td>\n",
              "    </tr>\n",
              "    <tr>\n",
              "      <th>N2</th>\n",
              "      <td>110.0</td>\n",
              "    </tr>\n",
              "    <tr>\n",
              "      <th>F2</th>\n",
              "      <td>99.0</td>\n",
              "    </tr>\n",
              "    <tr>\n",
              "      <th>F1</th>\n",
              "      <td>74.0</td>\n",
              "    </tr>\n",
              "    <tr>\n",
              "      <th>N1</th>\n",
              "      <td>29.0</td>\n",
              "    </tr>\n",
              "    <tr>\n",
              "      <th>F5</th>\n",
              "      <td>26.0</td>\n",
              "    </tr>\n",
              "    <tr>\n",
              "      <th>N3</th>\n",
              "      <td>24.0</td>\n",
              "    </tr>\n",
              "    <tr>\n",
              "      <th>N4</th>\n",
              "      <td>4.0</td>\n",
              "    </tr>\n",
              "  </tbody>\n",
              "</table>\n",
              "</div>"
            ],
            "text/plain": [
              "           befejezte\n",
              "Kategória           \n",
              "F3             284.0\n",
              "F4             128.0\n",
              "N2             110.0\n",
              "F2              99.0\n",
              "F1              74.0\n",
              "N1              29.0\n",
              "F5              26.0\n",
              "N3              24.0\n",
              "N4               4.0"
            ]
          },
          "execution_count": 32,
          "metadata": {},
          "output_type": "execute_result"
        },
        {
          "data": {
            "image/png": "[encoded data removed]",
            "text/plain": [
              "<Figure size 432x288 with 1 Axes>"
            ]
          },
          "metadata": {
            "needs_background": "light"
          },
          "output_type": "display_data"
        }
      ],
      "source": [
        "sns.barplot(y='befejezte', x='Kategória', data=topKorcsoport.reset_index())\n",
        "topKorcsoport"
      ]
    },
    {
      "cell_type": "markdown",
      "metadata": {
        "id": "b5QgRxftvmYF"
      },
      "source": [
        "### Célba ért személyek száma sebesség kategória szerint"
      ]
    },
    {
      "cell_type": "code",
      "execution_count": null,
      "metadata": {
        "id": "rO_B-gS4vmYF"
      },
      "outputs": [],
      "source": [
        "sebessegKitartas = bszm_osszes.groupby('sebesség kategória').agg({\n",
        "    'befejezte' : 'sum'\n",
        "}).sort_values('befejezte', ascending=False)[:10]"
      ]
    },
    {
      "cell_type": "code",
      "execution_count": null,
      "metadata": {
        "colab": {
          "base_uri": "https://localhost:8080/",
          "height": 498
        },
        "id": "XbC8eERcvmYF",
        "outputId": "0c930507-1c51-4a1d-a22a-63534e271da6"
      },
      "outputs": [
        {
          "data": {
            "text/html": [
              "<div>\n",
              "<style scoped>\n",
              "    .dataframe tbody tr th:only-of-type {\n",
              "        vertical-align: middle;\n",
              "    }\n",
              "\n",
              "    .dataframe tbody tr th {\n",
              "        vertical-align: top;\n",
              "    }\n",
              "\n",
              "    .dataframe thead th {\n",
              "        text-align: right;\n",
              "    }\n",
              "</style>\n",
              "<table border=\"1\" class=\"dataframe\">\n",
              "  <thead>\n",
              "    <tr style=\"text-align: right;\">\n",
              "      <th></th>\n",
              "      <th>befejezte</th>\n",
              "    </tr>\n",
              "    <tr>\n",
              "      <th>sebesség kategória</th>\n",
              "      <th></th>\n",
              "    </tr>\n",
              "  </thead>\n",
              "  <tbody>\n",
              "    <tr>\n",
              "      <th>közepesen lassú</th>\n",
              "      <td>167.0</td>\n",
              "    </tr>\n",
              "    <tr>\n",
              "      <th>közepes</th>\n",
              "      <td>166.0</td>\n",
              "    </tr>\n",
              "    <tr>\n",
              "      <th>közepesen gyors</th>\n",
              "      <td>156.0</td>\n",
              "    </tr>\n",
              "    <tr>\n",
              "      <th>gyors</th>\n",
              "      <td>145.0</td>\n",
              "    </tr>\n",
              "    <tr>\n",
              "      <th>lassú</th>\n",
              "      <td>144.0</td>\n",
              "    </tr>\n",
              "  </tbody>\n",
              "</table>\n",
              "</div>"
            ],
            "text/plain": [
              "                    befejezte\n",
              "sebesség kategória           \n",
              "közepesen lassú         167.0\n",
              "közepes                 166.0\n",
              "közepesen gyors         156.0\n",
              "gyors                   145.0\n",
              "lassú                   144.0"
            ]
          },
          "execution_count": 34,
          "metadata": {},
          "output_type": "execute_result"
        },
        {
          "data": {
            "image/png": "[encoded data removed]",
            "text/plain": [
              "<Figure size 432x288 with 1 Axes>"
            ]
          },
          "metadata": {
            "needs_background": "light"
          },
          "output_type": "display_data"
        }
      ],
      "source": [
        "sns.barplot(y='befejezte', x='sebesség kategória', data=sebessegKitartas.reset_index())\n",
        "sebessegKitartas"
      ]
    },
    {
      "cell_type": "markdown",
      "metadata": {
        "id": "iWEQcXDZvmYF"
      },
      "source": [
        "Jól látható hogy az adathalmaz adatait rengeteg féle módon tudjuk vizualizálni. "
      ]
    },
    {
      "cell_type": "markdown",
      "metadata": {
        "id": "3BU5XwZPvmYF"
      },
      "source": [
        "# Osztályozás"
      ]
    },
    {
      "cell_type": "markdown",
      "metadata": {
        "id": "66mgRlVOvmYF"
      },
      "source": [
        "Miután már vizualizáltunk, itt az ideje hogy osztályozzunk is. A kérdés egyszerű, a megadott személyünk képes-e lefutni a Balatoni szupermaratont vagy nem.\n",
        "\n",
        "Ehhez importáljuk a szükséges könyvtárakat."
      ]
    },
    {
      "cell_type": "code",
      "execution_count": null,
      "metadata": {
        "id": "RMEWJlZrvmYG"
      },
      "outputs": [],
      "source": [
        "import pandas as pd\n",
        "import numpy as np\n",
        "\n",
        "from sklearn.model_selection import train_test_split\n",
        "\n",
        "from sklearn.tree import DecisionTreeClassifier\n",
        "from sklearn.naive_bayes import GaussianNB\n",
        "from sklearn.neighbors import KNeighborsClassifier\n",
        "from sklearn.svm import SVC\n",
        "from sklearn.ensemble import RandomForestClassifier\n",
        "from sklearn.neural_network import MLPClassifier\n",
        "\n",
        "\n",
        "from sklearn.metrics import plot_confusion_matrix\n",
        "from sklearn.metrics import classification_report\n",
        "from sklearn.metrics import roc_auc_score\n",
        "from sklearn.metrics import f1_score\n",
        "from sklearn.metrics import accuracy_score\n",
        "\n",
        "\n",
        "from sklearn.tree import export_graphviz\n",
        "#from sklearn.externals.six import StringIO  \n",
        "from IPython.display import Image  \n",
        "import graphviz\n",
        "\n",
        "import matplotlib.pyplot as plt\n",
        "import seaborn as sns\n",
        "\n",
        "%matplotlib inline\n",
        "\n",
        "import warnings\n",
        "warnings.filterwarnings(\"ignore\", category=FutureWarning)"
      ]
    },
    {
      "cell_type": "markdown",
      "metadata": {
        "id": "VdBr2IN4vmYG"
      },
      "source": [
        "### Előkészületek"
      ]
    },
    {
      "cell_type": "markdown",
      "metadata": {
        "id": "0JTWr-DKvmYG"
      },
      "source": [
        "Először is szükségünk lesz átdolgozni az adathalmazunkat.\n",
        "\n",
        "Kelleni fog a dummy változók alkalmazása, ahhoz, hogy eltudjuk készíteni a modellünket."
      ]
    },
    {
      "cell_type": "code",
      "execution_count": null,
      "metadata": {
        "id": "PysfDuD0vmYG"
      },
      "outputs": [],
      "source": [
        "bszm['nem'] = pd.get_dummies(bszm['nem'], drop_first=True)\n",
        "bszm['befejezte'] = pd.get_dummies(bszm['befejezte'], drop_first=True)"
      ]
    },
    {
      "cell_type": "code",
      "execution_count": null,
      "metadata": {
        "colab": {
          "base_uri": "https://localhost:8080/",
          "height": 204
        },
        "id": "khnJJpg5vmYG",
        "outputId": "a409c9a1-abcd-443a-85dc-61679ffb309a"
      },
      "outputs": [
        {
          "data": {
            "text/html": [
              "<div>\n",
              "<style scoped>\n",
              "    .dataframe tbody tr th:only-of-type {\n",
              "        vertical-align: middle;\n",
              "    }\n",
              "\n",
              "    .dataframe tbody tr th {\n",
              "        vertical-align: top;\n",
              "    }\n",
              "\n",
              "    .dataframe thead th {\n",
              "        text-align: right;\n",
              "    }\n",
              "</style>\n",
              "<table border=\"1\" class=\"dataframe\">\n",
              "  <thead>\n",
              "    <tr style=\"text-align: right;\">\n",
              "      <th></th>\n",
              "      <th>sz.év.</th>\n",
              "      <th>Kategória</th>\n",
              "      <th>nem</th>\n",
              "      <th>eredmény</th>\n",
              "      <th>Megtett táv (km)</th>\n",
              "      <th>befejezte</th>\n",
              "      <th>eredmény(perc)</th>\n",
              "      <th>átlagos tempó (perc/km)</th>\n",
              "      <th>sebesség kategória</th>\n",
              "    </tr>\n",
              "  </thead>\n",
              "  <tbody>\n",
              "    <tr>\n",
              "      <th>0</th>\n",
              "      <td>1977.0</td>\n",
              "      <td>F3</td>\n",
              "      <td>0</td>\n",
              "      <td>0 days 13:02:08</td>\n",
              "      <td>196.0</td>\n",
              "      <td>1</td>\n",
              "      <td>782.0</td>\n",
              "      <td>3.989796</td>\n",
              "      <td>gyors</td>\n",
              "    </tr>\n",
              "    <tr>\n",
              "      <th>1</th>\n",
              "      <td>1988.0</td>\n",
              "      <td>F1</td>\n",
              "      <td>0</td>\n",
              "      <td>0 days 13:06:48</td>\n",
              "      <td>196.0</td>\n",
              "      <td>1</td>\n",
              "      <td>786.0</td>\n",
              "      <td>4.010204</td>\n",
              "      <td>gyors</td>\n",
              "    </tr>\n",
              "    <tr>\n",
              "      <th>2</th>\n",
              "      <td>1982.0</td>\n",
              "      <td>F2</td>\n",
              "      <td>0</td>\n",
              "      <td>0 days 14:05:35</td>\n",
              "      <td>196.0</td>\n",
              "      <td>1</td>\n",
              "      <td>845.0</td>\n",
              "      <td>4.311224</td>\n",
              "      <td>gyors</td>\n",
              "    </tr>\n",
              "    <tr>\n",
              "      <th>3</th>\n",
              "      <td>1986.0</td>\n",
              "      <td>F1</td>\n",
              "      <td>0</td>\n",
              "      <td>0 days 14:22:47</td>\n",
              "      <td>196.0</td>\n",
              "      <td>1</td>\n",
              "      <td>862.0</td>\n",
              "      <td>4.397959</td>\n",
              "      <td>gyors</td>\n",
              "    </tr>\n",
              "    <tr>\n",
              "      <th>4</th>\n",
              "      <td>1978.0</td>\n",
              "      <td>F3</td>\n",
              "      <td>0</td>\n",
              "      <td>0 days 14:42:39</td>\n",
              "      <td>196.0</td>\n",
              "      <td>1</td>\n",
              "      <td>882.0</td>\n",
              "      <td>4.500000</td>\n",
              "      <td>gyors</td>\n",
              "    </tr>\n",
              "  </tbody>\n",
              "</table>\n",
              "</div>"
            ],
            "text/plain": [
              "   sz.év. Kategória  ...  átlagos tempó (perc/km) sebesség kategória\n",
              "0  1977.0        F3  ...                 3.989796              gyors\n",
              "1  1988.0        F1  ...                 4.010204              gyors\n",
              "2  1982.0        F2  ...                 4.311224              gyors\n",
              "3  1986.0        F1  ...                 4.397959              gyors\n",
              "4  1978.0        F3  ...                 4.500000              gyors\n",
              "\n",
              "[5 rows x 9 columns]"
            ]
          },
          "execution_count": 37,
          "metadata": {},
          "output_type": "execute_result"
        }
      ],
      "source": [
        "bszm.head()"
      ]
    },
    {
      "cell_type": "markdown",
      "metadata": {
        "id": "CJhQH9tVvmYG"
      },
      "source": [
        "Átmásoljuk egy új adathalmazba az előző adathalmazunk néhány oszlopát, amikkel a továbbikban szeretnénk dolgozni.<br/>\n",
        "Miután ez megvan, a maradék attribútumhoz is létre hozunk dummy változókat, amiket hozzá fűzünk az új adathalmazhoz, úgy, hogy a az oszlopokat amikből dummy változót készítettünk, kidobáljuk. \n",
        "\n",
        "Ezután az adathalmazunk az alábbiként néz ki:"
      ]
    },
    {
      "cell_type": "code",
      "execution_count": null,
      "metadata": {
        "colab": {
          "base_uri": "https://localhost:8080/",
          "height": 419
        },
        "id": "RWC862yDvmYH",
        "outputId": "7514cad3-0cc6-4350-b518-136d9eacacc2"
      },
      "outputs": [
        {
          "data": {
            "text/html": [
              "<div>\n",
              "<style scoped>\n",
              "    .dataframe tbody tr th:only-of-type {\n",
              "        vertical-align: middle;\n",
              "    }\n",
              "\n",
              "    .dataframe tbody tr th {\n",
              "        vertical-align: top;\n",
              "    }\n",
              "\n",
              "    .dataframe thead th {\n",
              "        text-align: right;\n",
              "    }\n",
              "</style>\n",
              "<table border=\"1\" class=\"dataframe\">\n",
              "  <thead>\n",
              "    <tr style=\"text-align: right;\">\n",
              "      <th></th>\n",
              "      <th>befejezte</th>\n",
              "      <th>nem</th>\n",
              "      <th>F1</th>\n",
              "      <th>F2</th>\n",
              "      <th>F3</th>\n",
              "      <th>F4</th>\n",
              "      <th>F5</th>\n",
              "      <th>N1</th>\n",
              "      <th>N2</th>\n",
              "      <th>N3</th>\n",
              "      <th>N4</th>\n",
              "      <th>gyors</th>\n",
              "      <th>közepes</th>\n",
              "      <th>közepesen gyors</th>\n",
              "      <th>közepesen lassú</th>\n",
              "      <th>lassú</th>\n",
              "    </tr>\n",
              "  </thead>\n",
              "  <tbody>\n",
              "    <tr>\n",
              "      <th>0</th>\n",
              "      <td>1</td>\n",
              "      <td>0</td>\n",
              "      <td>0</td>\n",
              "      <td>0</td>\n",
              "      <td>1</td>\n",
              "      <td>0</td>\n",
              "      <td>0</td>\n",
              "      <td>0</td>\n",
              "      <td>0</td>\n",
              "      <td>0</td>\n",
              "      <td>0</td>\n",
              "      <td>1</td>\n",
              "      <td>0</td>\n",
              "      <td>0</td>\n",
              "      <td>0</td>\n",
              "      <td>0</td>\n",
              "    </tr>\n",
              "    <tr>\n",
              "      <th>1</th>\n",
              "      <td>1</td>\n",
              "      <td>0</td>\n",
              "      <td>1</td>\n",
              "      <td>0</td>\n",
              "      <td>0</td>\n",
              "      <td>0</td>\n",
              "      <td>0</td>\n",
              "      <td>0</td>\n",
              "      <td>0</td>\n",
              "      <td>0</td>\n",
              "      <td>0</td>\n",
              "      <td>1</td>\n",
              "      <td>0</td>\n",
              "      <td>0</td>\n",
              "      <td>0</td>\n",
              "      <td>0</td>\n",
              "    </tr>\n",
              "    <tr>\n",
              "      <th>2</th>\n",
              "      <td>1</td>\n",
              "      <td>0</td>\n",
              "      <td>0</td>\n",
              "      <td>1</td>\n",
              "      <td>0</td>\n",
              "      <td>0</td>\n",
              "      <td>0</td>\n",
              "      <td>0</td>\n",
              "      <td>0</td>\n",
              "      <td>0</td>\n",
              "      <td>0</td>\n",
              "      <td>1</td>\n",
              "      <td>0</td>\n",
              "      <td>0</td>\n",
              "      <td>0</td>\n",
              "      <td>0</td>\n",
              "    </tr>\n",
              "    <tr>\n",
              "      <th>3</th>\n",
              "      <td>1</td>\n",
              "      <td>0</td>\n",
              "      <td>1</td>\n",
              "      <td>0</td>\n",
              "      <td>0</td>\n",
              "      <td>0</td>\n",
              "      <td>0</td>\n",
              "      <td>0</td>\n",
              "      <td>0</td>\n",
              "      <td>0</td>\n",
              "      <td>0</td>\n",
              "      <td>1</td>\n",
              "      <td>0</td>\n",
              "      <td>0</td>\n",
              "      <td>0</td>\n",
              "      <td>0</td>\n",
              "    </tr>\n",
              "    <tr>\n",
              "      <th>4</th>\n",
              "      <td>1</td>\n",
              "      <td>0</td>\n",
              "      <td>0</td>\n",
              "      <td>0</td>\n",
              "      <td>1</td>\n",
              "      <td>0</td>\n",
              "      <td>0</td>\n",
              "      <td>0</td>\n",
              "      <td>0</td>\n",
              "      <td>0</td>\n",
              "      <td>0</td>\n",
              "      <td>1</td>\n",
              "      <td>0</td>\n",
              "      <td>0</td>\n",
              "      <td>0</td>\n",
              "      <td>0</td>\n",
              "    </tr>\n",
              "    <tr>\n",
              "      <th>...</th>\n",
              "      <td>...</td>\n",
              "      <td>...</td>\n",
              "      <td>...</td>\n",
              "      <td>...</td>\n",
              "      <td>...</td>\n",
              "      <td>...</td>\n",
              "      <td>...</td>\n",
              "      <td>...</td>\n",
              "      <td>...</td>\n",
              "      <td>...</td>\n",
              "      <td>...</td>\n",
              "      <td>...</td>\n",
              "      <td>...</td>\n",
              "      <td>...</td>\n",
              "      <td>...</td>\n",
              "      <td>...</td>\n",
              "    </tr>\n",
              "    <tr>\n",
              "      <th>1549</th>\n",
              "      <td>0</td>\n",
              "      <td>0</td>\n",
              "      <td>0</td>\n",
              "      <td>1</td>\n",
              "      <td>0</td>\n",
              "      <td>0</td>\n",
              "      <td>0</td>\n",
              "      <td>0</td>\n",
              "      <td>0</td>\n",
              "      <td>0</td>\n",
              "      <td>0</td>\n",
              "      <td>0</td>\n",
              "      <td>1</td>\n",
              "      <td>0</td>\n",
              "      <td>0</td>\n",
              "      <td>0</td>\n",
              "    </tr>\n",
              "    <tr>\n",
              "      <th>1550</th>\n",
              "      <td>0</td>\n",
              "      <td>0</td>\n",
              "      <td>0</td>\n",
              "      <td>1</td>\n",
              "      <td>0</td>\n",
              "      <td>0</td>\n",
              "      <td>0</td>\n",
              "      <td>0</td>\n",
              "      <td>0</td>\n",
              "      <td>0</td>\n",
              "      <td>0</td>\n",
              "      <td>1</td>\n",
              "      <td>0</td>\n",
              "      <td>0</td>\n",
              "      <td>0</td>\n",
              "      <td>0</td>\n",
              "    </tr>\n",
              "    <tr>\n",
              "      <th>1551</th>\n",
              "      <td>0</td>\n",
              "      <td>0</td>\n",
              "      <td>0</td>\n",
              "      <td>1</td>\n",
              "      <td>0</td>\n",
              "      <td>0</td>\n",
              "      <td>0</td>\n",
              "      <td>0</td>\n",
              "      <td>0</td>\n",
              "      <td>0</td>\n",
              "      <td>0</td>\n",
              "      <td>0</td>\n",
              "      <td>0</td>\n",
              "      <td>1</td>\n",
              "      <td>0</td>\n",
              "      <td>0</td>\n",
              "    </tr>\n",
              "    <tr>\n",
              "      <th>1552</th>\n",
              "      <td>0</td>\n",
              "      <td>0</td>\n",
              "      <td>0</td>\n",
              "      <td>0</td>\n",
              "      <td>0</td>\n",
              "      <td>1</td>\n",
              "      <td>0</td>\n",
              "      <td>0</td>\n",
              "      <td>0</td>\n",
              "      <td>0</td>\n",
              "      <td>0</td>\n",
              "      <td>0</td>\n",
              "      <td>0</td>\n",
              "      <td>0</td>\n",
              "      <td>1</td>\n",
              "      <td>0</td>\n",
              "    </tr>\n",
              "    <tr>\n",
              "      <th>1553</th>\n",
              "      <td>0</td>\n",
              "      <td>0</td>\n",
              "      <td>1</td>\n",
              "      <td>0</td>\n",
              "      <td>0</td>\n",
              "      <td>0</td>\n",
              "      <td>0</td>\n",
              "      <td>0</td>\n",
              "      <td>0</td>\n",
              "      <td>0</td>\n",
              "      <td>0</td>\n",
              "      <td>0</td>\n",
              "      <td>0</td>\n",
              "      <td>1</td>\n",
              "      <td>0</td>\n",
              "      <td>0</td>\n",
              "    </tr>\n",
              "  </tbody>\n",
              "</table>\n",
              "<p>1536 rows × 16 columns</p>\n",
              "</div>"
            ],
            "text/plain": [
              "      befejezte  nem  F1  F2  ...  közepes  közepesen gyors  közepesen lassú  lassú\n",
              "0             1    0   0   0  ...        0                0                0      0\n",
              "1             1    0   1   0  ...        0                0                0      0\n",
              "2             1    0   0   1  ...        0                0                0      0\n",
              "3             1    0   1   0  ...        0                0                0      0\n",
              "4             1    0   0   0  ...        0                0                0      0\n",
              "...         ...  ...  ..  ..  ...      ...              ...              ...    ...\n",
              "1549          0    0   0   1  ...        1                0                0      0\n",
              "1550          0    0   0   1  ...        0                0                0      0\n",
              "1551          0    0   0   1  ...        0                1                0      0\n",
              "1552          0    0   0   0  ...        0                0                1      0\n",
              "1553          0    0   1   0  ...        0                1                0      0\n",
              "\n",
              "[1536 rows x 16 columns]"
            ]
          },
          "execution_count": 38,
          "metadata": {},
          "output_type": "execute_result"
        }
      ],
      "source": [
        "bszmC = bszm[['befejezte', 'Kategória', 'nem', 'sebesség kategória']]\n",
        "#bszmC['Kategória'] = pd.get_dummies(bszmC['Kategória'], drop_first=True)\n",
        "\n",
        "one_hot_kategoria = pd.get_dummies(bszmC['Kategória'])\n",
        "one_hot_sebesseg = pd.get_dummies(bszmC['sebesség kategória'])\n",
        "\n",
        "one_hot_kategoria\n",
        "one_hot_sebesseg\n",
        "\n",
        "bszmC = bszmC.drop('Kategória', axis=1)\n",
        "bszmC = bszmC.drop('sebesség kategória', axis=1)\n",
        "\n",
        "bszmC = bszmC.join(one_hot_kategoria)\n",
        "bszmC = bszmC.join(one_hot_sebesseg)\n",
        "\n",
        "bszmC"
      ]
    },
    {
      "cell_type": "markdown",
      "metadata": {
        "id": "g-CYp4sVvmYH"
      },
      "source": [
        "Ezután be kell állítani az **osztálycímkét**, és a **leíró változókat**"
      ]
    },
    {
      "cell_type": "code",
      "execution_count": null,
      "metadata": {
        "colab": {
          "base_uri": "https://localhost:8080/"
        },
        "id": "DdITeSp3vmYH",
        "outputId": "2ed828c0-a692-4498-b84d-c500ff8e6375"
      },
      "outputs": [
        {
          "name": "stdout",
          "output_type": "stream",
          "text": [
            "Osztálycímke: ['befejezte']\n",
            "leíró változók: ['nem', 'F1', 'F2', 'F3', 'F4', 'F5', 'N1', 'N2', 'N3', 'N4', 'gyors', 'közepes', 'közepesen gyors', 'közepesen lassú', 'lassú']\n"
          ]
        }
      ],
      "source": [
        "classlabel = list(bszmC.columns[:1])\n",
        "features = list(bszmC.columns[1:])\n",
        "print('Osztálycímke:', classlabel)\n",
        "print('leíró változók:', features)"
      ]
    },
    {
      "cell_type": "markdown",
      "metadata": {
        "id": "ubtxH4eFvmYH"
      },
      "source": [
        "Miután ezzel is megvagyunk, létrehozhatjuk a test, és a training halmazunkat is."
      ]
    },
    {
      "cell_type": "code",
      "execution_count": null,
      "metadata": {
        "id": "TipTg8n-vmYH"
      },
      "outputs": [],
      "source": [
        "# DataFrame-et TULAJDONSÁGOK(features, X) és CÉL(target, y) tömbökre bontjuk \n",
        "X = bszmC.iloc[:, 1:].values\n",
        "y = bszmC.iloc[:, 0].values.reshape(-1,1)"
      ]
    },
    {
      "cell_type": "code",
      "execution_count": null,
      "metadata": {
        "id": "aH3ieEk1vmYH"
      },
      "outputs": [],
      "source": [
        "# Tréning és teszt adatok létrehozása 2/3 és 1/3 vágással\n",
        "X_train, X_test, y_train, y_test = train_test_split(X, y, test_size=0.33)"
      ]
    },
    {
      "cell_type": "markdown",
      "metadata": {
        "id": "ARDwoBE0vmYI"
      },
      "source": [
        "Ha ez is megvan, már lehet ezt használni a továbbiakban."
      ]
    },
    {
      "cell_type": "markdown",
      "metadata": {
        "id": "y1iUkAKKvmYI"
      },
      "source": [
        "### Döntési fa"
      ]
    },
    {
      "cell_type": "markdown",
      "metadata": {
        "id": "b-6EjkuhvmYI"
      },
      "source": [
        "#### Először is hozzuk létre a modellt."
      ]
    },
    {
      "cell_type": "code",
      "execution_count": null,
      "metadata": {
        "colab": {
          "base_uri": "https://localhost:8080/"
        },
        "id": "9YtQ4tdhvmYI",
        "outputId": "9ec8c8d0-212c-4eda-a97f-81e978a80404"
      },
      "outputs": [
        {
          "name": "stdout",
          "output_type": "stream",
          "text": [
            "DecisionTreeClassifier()\n"
          ]
        }
      ],
      "source": [
        "clf_dtree = DecisionTreeClassifier()\n",
        "print(clf_dtree)"
      ]
    },
    {
      "cell_type": "markdown",
      "metadata": {
        "id": "2gRCGPMgvmYJ"
      },
      "source": [
        "#### Hajtsuk végre a döntési fával a tanítást."
      ]
    },
    {
      "cell_type": "code",
      "execution_count": null,
      "metadata": {
        "id": "ZHqwTOwXvmYJ"
      },
      "outputs": [],
      "source": [
        "clf_dtree = clf_dtree.fit(X_train,y_train)"
      ]
    },
    {
      "cell_type": "markdown",
      "metadata": {
        "id": "YyiOXpRzvmYJ"
      },
      "source": [
        "#### Osztálycímkére vonatkozó becslés"
      ]
    },
    {
      "cell_type": "code",
      "execution_count": null,
      "metadata": {
        "colab": {
          "base_uri": "https://localhost:8080/"
        },
        "id": "QS8HUYbfvmYK",
        "outputId": "3338fb2a-f89a-4173-ca26-e6479c6be1d1"
      },
      "outputs": [
        {
          "data": {
            "text/plain": [
              "array([0, 1, 0, 1, 1, 1, 1, 0, 0, 0, 1, 1, 0, 0, 1, 1, 1, 1, 1, 1, 1, 0,\n",
              "       0, 1, 0, 1, 0, 0, 1, 0, 1, 1, 0, 1, 1, 0, 0, 1, 0, 1, 1, 1, 0, 0,\n",
              "       0, 1, 0, 0, 0, 1, 0, 1, 0, 1, 1, 1, 0, 1, 1, 1, 1, 0, 1, 1, 0, 1,\n",
              "       1, 1, 1, 1, 1, 1, 1, 1, 1, 0, 0, 1, 0, 1, 0, 1, 0, 1, 1, 1, 0, 0,\n",
              "       0, 0, 0, 1, 1, 1, 1, 0, 0, 1, 1, 1, 0, 0, 1, 0, 1, 1, 0, 1, 0, 0,\n",
              "       0, 0, 0, 0, 0, 1, 0, 1, 1, 0, 0, 0, 0, 1, 1, 1, 0, 1, 0, 1, 0, 1,\n",
              "       1, 0, 1, 1, 1, 0, 1, 0, 1, 1, 0, 0, 0, 0, 1, 1, 0, 0, 0, 1, 1, 1,\n",
              "       1, 1, 1, 1, 0, 0, 1, 1, 0, 0, 1, 1, 0, 0, 0, 0, 0, 1, 0, 1, 0, 0,\n",
              "       1, 1, 1, 1, 1, 1, 1, 0, 0, 0, 1, 1, 0, 0, 0, 1, 1, 1, 0, 1, 0, 0,\n",
              "       0, 1, 1, 1, 1, 1, 0, 1, 1, 1, 1, 1, 0, 0, 1, 0, 0, 1, 0, 0, 1, 0,\n",
              "       0, 1, 0, 1, 1, 0, 1, 1, 0, 1, 1, 1, 1, 0, 1, 1, 1, 1, 0, 0, 1, 1,\n",
              "       1, 1, 1, 0, 0, 0, 0, 0, 1, 0, 1, 0, 1, 1, 0, 0, 0, 1, 1, 0, 0, 1,\n",
              "       0, 1, 0, 0, 1, 0, 1, 0, 1, 1, 1, 0, 1, 0, 1, 0, 1, 0, 1, 1, 1, 1,\n",
              "       1, 1, 1, 0, 1, 1, 0, 1, 1, 1, 1, 1, 0, 1, 0, 0, 0, 1, 0, 0, 1, 1,\n",
              "       0, 0, 1, 1, 1, 0, 0, 1, 1, 0, 0, 1, 0, 0, 0, 0, 1, 0, 1, 0, 1, 0,\n",
              "       1, 1, 0, 0, 1, 0, 0, 0, 0, 0, 1, 0, 1, 1, 0, 0, 1, 1, 1, 0, 0, 1,\n",
              "       0, 1, 1, 0, 1, 1, 0, 1, 1, 1, 1, 1, 0, 0, 0, 0, 0, 0, 1, 1, 1, 1,\n",
              "       1, 0, 0, 1, 1, 0, 1, 1, 1, 0, 1, 0, 0, 0, 0, 1, 1, 0, 1, 0, 1, 0,\n",
              "       1, 0, 0, 0, 0, 1, 0, 1, 1, 1, 0, 1, 1, 0, 1, 0, 1, 0, 1, 0, 1, 0,\n",
              "       1, 1, 1, 0, 0, 1, 0, 1, 1, 1, 1, 1, 0, 1, 1, 0, 0, 1, 1, 0, 1, 1,\n",
              "       0, 1, 1, 0, 0, 1, 1, 0, 0, 1, 1, 0, 1, 0, 1, 1, 1, 0, 1, 1, 1, 0,\n",
              "       0, 1, 0, 1, 0, 0, 0, 0, 1, 0, 0, 1, 1, 1, 0, 1, 0, 1, 0, 0, 1, 1,\n",
              "       0, 0, 1, 1, 1, 1, 0, 1, 0, 1, 0, 0, 1, 0, 1, 0, 1, 1, 0, 0, 1, 0,\n",
              "       0], dtype=uint8)"
            ]
          },
          "execution_count": 44,
          "metadata": {},
          "output_type": "execute_result"
        }
      ],
      "source": [
        "y_pred_dtree = clf_dtree.predict(X_test)\n",
        "y_pred_dtree"
      ]
    },
    {
      "cell_type": "markdown",
      "metadata": {
        "id": "Rl0xepJAvmYK"
      },
      "source": [
        "#### A modell valós pontossága paraméterek nélkül"
      ]
    },
    {
      "cell_type": "code",
      "execution_count": null,
      "metadata": {
        "colab": {
          "base_uri": "https://localhost:8080/"
        },
        "id": "nsTyAa5EvmYK",
        "outputId": "f86f5a03-f9be-40f7-afac-d6f4be20b7f7"
      },
      "outputs": [
        {
          "name": "stdout",
          "output_type": "stream",
          "text": [
            "Paraméterek nélküli pontosság: 0.5818540433925049\n"
          ]
        }
      ],
      "source": [
        "print(\"Paraméterek nélküli pontosság:\", accuracy_score(y_test, y_pred_dtree))"
      ]
    },
    {
      "cell_type": "markdown",
      "metadata": {
        "id": "GvD1YATmvmYK"
      },
      "source": [
        "#### Felparaméterezve"
      ]
    },
    {
      "cell_type": "code",
      "execution_count": null,
      "metadata": {
        "colab": {
          "base_uri": "https://localhost:8080/"
        },
        "id": "0m4yooxzvmYL",
        "outputId": "1cd20d1a-d283-4ae8-8eb0-97af6147380c"
      },
      "outputs": [
        {
          "name": "stdout",
          "output_type": "stream",
          "text": [
            "Paraméteres pontosság: 0.6134122287968442\n"
          ]
        }
      ],
      "source": [
        "clf_dtree2 = DecisionTreeClassifier(criterion=\"entropy\", splitter=\"best\", max_depth=7, min_samples_split=3)\n",
        "clf_dtree2 = clf_dtree2.fit(X_train,y_train)\n",
        "y_pred_dtree2 = clf_dtree2.predict(X_test)\n",
        "print(\"Paraméteres pontosság:\",accuracy_score(y_test, y_pred_dtree2))"
      ]
    },
    {
      "cell_type": "markdown",
      "metadata": {
        "id": "L09HMkRgvmYL"
      },
      "source": [
        "#### A döntési fa grafikus megjelenítése"
      ]
    },
    {
      "cell_type": "code",
      "execution_count": null,
      "metadata": {
        "colab": {
          "base_uri": "https://localhost:8080/",
          "height": 1000
        },
        "id": "tQC80g3RvmYL",
        "outputId": "220beb14-bd6f-4241-ed14-63af7480c9e9"
      },
      "outputs": [
        {
          "data": {
            "image/svg+xml": "<?xml version=\"1.0\" encoding=\"UTF-8\" standalone=\"no\"?>\n<!DOCTYPE svg PUBLIC \"-//W3C//DTD SVG 1.1//EN\"\n \"http://www.w3.org/Graphics/SVG/1.1/DTD/svg11.dtd\">\n<!-- Generated by graphviz version 2.40.1 (20161225.0304)\n -->\n<!-- Title: Tree Pages: 1 -->\n<svg width=\"2079pt\" height=\"909pt\"\n viewBox=\"0.00 0.00 2078.50 909.00\" xmlns=\"http://www.w3.org/2000/svg\" xmlns:xlink=\"http://www.w3.org/1999/xlink\">\n<g id=\"graph0\" class=\"graph\" transform=\"scale(1 1) rotate(0) translate(4 905)\">\n<title>Tree</title>\n<polygon fill=\"#ffffff\" stroke=\"transparent\" points=\"-4,4 -4,-905 2074.5,-905 2074.5,4 -4,4\"/>\n<!-- 0 -->\n<g id=\"node1\" class=\"node\">\n<title>0</title>\n<path fill=\"#f2f9fd\" stroke=\"#000000\" d=\"M1781,-901C1781,-901 1673,-901 1673,-901 1667,-901 1661,-895 1661,-889 1661,-889 1661,-830 1661,-830 1661,-824 1667,-818 1673,-818 1673,-818 1781,-818 1781,-818 1787,-818 1793,-824 1793,-830 1793,-830 1793,-889 1793,-889 1793,-895 1787,-901 1781,-901\"/>\n<text text-anchor=\"start\" x=\"1700.5\" y=\"-885.8\" font-family=\"Helvetica,sans-Serif\" font-size=\"14.00\" fill=\"#000000\">F2 ≤ 0.5</text>\n<text text-anchor=\"start\" x=\"1676\" y=\"-870.8\" font-family=\"Helvetica,sans-Serif\" font-size=\"14.00\" fill=\"#000000\">entropy = 0.999</text>\n<text text-anchor=\"start\" x=\"1675\" y=\"-855.8\" font-family=\"Helvetica,sans-Serif\" font-size=\"14.00\" fill=\"#000000\">samples = 1029</text>\n<text text-anchor=\"start\" x=\"1669\" y=\"-840.8\" font-family=\"Helvetica,sans-Serif\" font-size=\"14.00\" fill=\"#000000\">value = [497, 532]</text>\n<text text-anchor=\"start\" x=\"1672.5\" y=\"-825.8\" font-family=\"Helvetica,sans-Serif\" font-size=\"14.00\" fill=\"#000000\">class = befejezte</text>\n</g>\n<!-- 1 -->\n<g id=\"node2\" class=\"node\">\n<title>1</title>\n<path fill=\"#cde6f8\" stroke=\"#000000\" d=\"M1619,-782C1619,-782 1511,-782 1511,-782 1505,-782 1499,-776 1499,-770 1499,-770 1499,-711 1499,-711 1499,-705 1505,-699 1511,-699 1511,-699 1619,-699 1619,-699 1625,-699 1631,-705 1631,-711 1631,-711 1631,-770 1631,-770 1631,-776 1625,-782 1619,-782\"/>\n<text text-anchor=\"start\" x=\"1538.5\" y=\"-766.8\" font-family=\"Helvetica,sans-Serif\" font-size=\"14.00\" fill=\"#000000\">F4 ≤ 0.5</text>\n<text text-anchor=\"start\" x=\"1514\" y=\"-751.8\" font-family=\"Helvetica,sans-Serif\" font-size=\"14.00\" fill=\"#000000\">entropy = 0.985</text>\n<text text-anchor=\"start\" x=\"1517\" y=\"-736.8\" font-family=\"Helvetica,sans-Serif\" font-size=\"14.00\" fill=\"#000000\">samples = 806</text>\n<text text-anchor=\"start\" x=\"1507\" y=\"-721.8\" font-family=\"Helvetica,sans-Serif\" font-size=\"14.00\" fill=\"#000000\">value = [345, 461]</text>\n<text text-anchor=\"start\" x=\"1510.5\" y=\"-706.8\" font-family=\"Helvetica,sans-Serif\" font-size=\"14.00\" fill=\"#000000\">class = befejezte</text>\n</g>\n<!-- 0&#45;&gt;1 -->\n<g id=\"edge1\" class=\"edge\">\n<title>0&#45;&gt;1</title>\n<path fill=\"none\" stroke=\"#000000\" d=\"M1670.3403,-817.8796C1657.2684,-808.2774 1643.2641,-797.9903 1629.8727,-788.1534\"/>\n<polygon fill=\"#000000\" stroke=\"#000000\" points=\"1631.7591,-785.1963 1621.6277,-782.0969 1627.615,-790.8378 1631.7591,-785.1963\"/>\n<text text-anchor=\"middle\" x=\"1625.4093\" y=\"-803.1093\" font-family=\"Helvetica,sans-Serif\" font-size=\"14.00\" fill=\"#000000\">True</text>\n</g>\n<!-- 36 -->\n<g id=\"node37\" class=\"node\">\n<title>36</title>\n<path fill=\"#f1bc95\" stroke=\"#000000\" d=\"M1877.5,-782C1877.5,-782 1740.5,-782 1740.5,-782 1734.5,-782 1728.5,-776 1728.5,-770 1728.5,-770 1728.5,-711 1728.5,-711 1728.5,-705 1734.5,-699 1740.5,-699 1740.5,-699 1877.5,-699 1877.5,-699 1883.5,-699 1889.5,-705 1889.5,-711 1889.5,-711 1889.5,-770 1889.5,-770 1889.5,-776 1883.5,-782 1877.5,-782\"/>\n<text text-anchor=\"start\" x=\"1763.5\" y=\"-766.8\" font-family=\"Helvetica,sans-Serif\" font-size=\"14.00\" fill=\"#000000\">közepes ≤ 0.5</text>\n<text text-anchor=\"start\" x=\"1758\" y=\"-751.8\" font-family=\"Helvetica,sans-Serif\" font-size=\"14.00\" fill=\"#000000\">entropy = 0.903</text>\n<text text-anchor=\"start\" x=\"1761\" y=\"-736.8\" font-family=\"Helvetica,sans-Serif\" font-size=\"14.00\" fill=\"#000000\">samples = 223</text>\n<text text-anchor=\"start\" x=\"1755\" y=\"-721.8\" font-family=\"Helvetica,sans-Serif\" font-size=\"14.00\" fill=\"#000000\">value = [152, 71]</text>\n<text text-anchor=\"start\" x=\"1736.5\" y=\"-706.8\" font-family=\"Helvetica,sans-Serif\" font-size=\"14.00\" fill=\"#000000\">class = nem fejezte be</text>\n</g>\n<!-- 0&#45;&gt;36 -->\n<g id=\"edge36\" class=\"edge\">\n<title>0&#45;&gt;36</title>\n<path fill=\"none\" stroke=\"#000000\" d=\"M1755.6796,-817.8796C1761.7615,-809.0534 1768.2422,-799.6485 1774.5141,-790.5466\"/>\n<polygon fill=\"#000000\" stroke=\"#000000\" points=\"1777.4059,-792.5184 1780.198,-782.2981 1771.6418,-788.5465 1777.4059,-792.5184\"/>\n<text text-anchor=\"middle\" x=\"1784.7239\" y=\"-803.185\" font-family=\"Helvetica,sans-Serif\" font-size=\"14.00\" fill=\"#000000\">False</text>\n</g>\n<!-- 2 -->\n<g id=\"node3\" class=\"node\">\n<title>2</title>\n<path fill=\"#e6f2fc\" stroke=\"#000000\" d=\"M1317,-663C1317,-663 1209,-663 1209,-663 1203,-663 1197,-657 1197,-651 1197,-651 1197,-592 1197,-592 1197,-586 1203,-580 1209,-580 1209,-580 1317,-580 1317,-580 1323,-580 1329,-586 1329,-592 1329,-592 1329,-651 1329,-651 1329,-657 1323,-663 1317,-663\"/>\n<text text-anchor=\"start\" x=\"1236.5\" y=\"-647.8\" font-family=\"Helvetica,sans-Serif\" font-size=\"14.00\" fill=\"#000000\">F5 ≤ 0.5</text>\n<text text-anchor=\"start\" x=\"1212\" y=\"-632.8\" font-family=\"Helvetica,sans-Serif\" font-size=\"14.00\" fill=\"#000000\">entropy = 0.997</text>\n<text text-anchor=\"start\" x=\"1215\" y=\"-617.8\" font-family=\"Helvetica,sans-Serif\" font-size=\"14.00\" fill=\"#000000\">samples = 687</text>\n<text text-anchor=\"start\" x=\"1205\" y=\"-602.8\" font-family=\"Helvetica,sans-Serif\" font-size=\"14.00\" fill=\"#000000\">value = [320, 367]</text>\n<text text-anchor=\"start\" x=\"1208.5\" y=\"-587.8\" font-family=\"Helvetica,sans-Serif\" font-size=\"14.00\" fill=\"#000000\">class = befejezte</text>\n</g>\n<!-- 1&#45;&gt;2 -->\n<g id=\"edge2\" class=\"edge\">\n<title>1&#45;&gt;2</title>\n<path fill=\"none\" stroke=\"#000000\" d=\"M1498.7248,-714.3849C1451.4208,-695.7453 1387.7149,-670.6426 1338.4563,-651.2328\"/>\n<polygon fill=\"#000000\" stroke=\"#000000\" points=\"1339.7075,-647.9639 1329.1206,-647.5541 1337.1412,-654.4766 1339.7075,-647.9639\"/>\n</g>\n<!-- 27 -->\n<g id=\"node28\" class=\"node\">\n<title>27</title>\n<path fill=\"#6eb7ec\" stroke=\"#000000\" d=\"M1615.5,-663C1615.5,-663 1514.5,-663 1514.5,-663 1508.5,-663 1502.5,-657 1502.5,-651 1502.5,-651 1502.5,-592 1502.5,-592 1502.5,-586 1508.5,-580 1514.5,-580 1514.5,-580 1615.5,-580 1615.5,-580 1621.5,-580 1627.5,-586 1627.5,-592 1627.5,-592 1627.5,-651 1627.5,-651 1627.5,-657 1621.5,-663 1615.5,-663\"/>\n<text text-anchor=\"start\" x=\"1530\" y=\"-647.8\" font-family=\"Helvetica,sans-Serif\" font-size=\"14.00\" fill=\"#000000\">lassú ≤ 0.5</text>\n<text text-anchor=\"start\" x=\"1514\" y=\"-632.8\" font-family=\"Helvetica,sans-Serif\" font-size=\"14.00\" fill=\"#000000\">entropy = 0.742</text>\n<text text-anchor=\"start\" x=\"1517\" y=\"-617.8\" font-family=\"Helvetica,sans-Serif\" font-size=\"14.00\" fill=\"#000000\">samples = 119</text>\n<text text-anchor=\"start\" x=\"1515\" y=\"-602.8\" font-family=\"Helvetica,sans-Serif\" font-size=\"14.00\" fill=\"#000000\">value = [25, 94]</text>\n<text text-anchor=\"start\" x=\"1510.5\" y=\"-587.8\" font-family=\"Helvetica,sans-Serif\" font-size=\"14.00\" fill=\"#000000\">class = befejezte</text>\n</g>\n<!-- 1&#45;&gt;27 -->\n<g id=\"edge27\" class=\"edge\">\n<title>1&#45;&gt;27</title>\n<path fill=\"none\" stroke=\"#000000\" d=\"M1565,-698.8796C1565,-690.6838 1565,-681.9891 1565,-673.5013\"/>\n<polygon fill=\"#000000\" stroke=\"#000000\" points=\"1568.5001,-673.298 1565,-663.2981 1561.5001,-673.2981 1568.5001,-673.298\"/>\n</g>\n<!-- 3 -->\n<g id=\"node4\" class=\"node\">\n<title>3</title>\n<path fill=\"#eff7fd\" stroke=\"#000000\" d=\"M1072,-544C1072,-544 964,-544 964,-544 958,-544 952,-538 952,-532 952,-532 952,-473 952,-473 952,-467 958,-461 964,-461 964,-461 1072,-461 1072,-461 1078,-461 1084,-467 1084,-473 1084,-473 1084,-532 1084,-532 1084,-538 1078,-544 1072,-544\"/>\n<text text-anchor=\"start\" x=\"991.5\" y=\"-528.8\" font-family=\"Helvetica,sans-Serif\" font-size=\"14.00\" fill=\"#000000\">F1 ≤ 0.5</text>\n<text text-anchor=\"start\" x=\"967\" y=\"-513.8\" font-family=\"Helvetica,sans-Serif\" font-size=\"14.00\" fill=\"#000000\">entropy = 0.999</text>\n<text text-anchor=\"start\" x=\"970\" y=\"-498.8\" font-family=\"Helvetica,sans-Serif\" font-size=\"14.00\" fill=\"#000000\">samples = 666</text>\n<text text-anchor=\"start\" x=\"960\" y=\"-483.8\" font-family=\"Helvetica,sans-Serif\" font-size=\"14.00\" fill=\"#000000\">value = [319, 347]</text>\n<text text-anchor=\"start\" x=\"963.5\" y=\"-468.8\" font-family=\"Helvetica,sans-Serif\" font-size=\"14.00\" fill=\"#000000\">class = befejezte</text>\n</g>\n<!-- 2&#45;&gt;3 -->\n<g id=\"edge3\" class=\"edge\">\n<title>2&#45;&gt;3</title>\n<path fill=\"none\" stroke=\"#000000\" d=\"M1196.6995,-589.2969C1164.8337,-573.8192 1126.4902,-555.1953 1093.5051,-539.1739\"/>\n<polygon fill=\"#000000\" stroke=\"#000000\" points=\"1094.8778,-535.9497 1084.3535,-534.7289 1091.8194,-542.2462 1094.8778,-535.9497\"/>\n</g>\n<!-- 24 -->\n<g id=\"node25\" class=\"node\">\n<title>24</title>\n<path fill=\"#43a2e6\" stroke=\"#000000\" d=\"M1332,-544C1332,-544 1194,-544 1194,-544 1188,-544 1182,-538 1182,-532 1182,-532 1182,-473 1182,-473 1182,-467 1188,-461 1194,-461 1194,-461 1332,-461 1332,-461 1338,-461 1344,-467 1344,-473 1344,-473 1344,-532 1344,-532 1344,-538 1338,-544 1332,-544\"/>\n<text text-anchor=\"start\" x=\"1190\" y=\"-528.8\" font-family=\"Helvetica,sans-Serif\" font-size=\"14.00\" fill=\"#000000\">közepesen lassú ≤ 0.5</text>\n<text text-anchor=\"start\" x=\"1212\" y=\"-513.8\" font-family=\"Helvetica,sans-Serif\" font-size=\"14.00\" fill=\"#000000\">entropy = 0.276</text>\n<text text-anchor=\"start\" x=\"1219\" y=\"-498.8\" font-family=\"Helvetica,sans-Serif\" font-size=\"14.00\" fill=\"#000000\">samples = 21</text>\n<text text-anchor=\"start\" x=\"1217.5\" y=\"-483.8\" font-family=\"Helvetica,sans-Serif\" font-size=\"14.00\" fill=\"#000000\">value = [1, 20]</text>\n<text text-anchor=\"start\" x=\"1208.5\" y=\"-468.8\" font-family=\"Helvetica,sans-Serif\" font-size=\"14.00\" fill=\"#000000\">class = befejezte</text>\n</g>\n<!-- 2&#45;&gt;24 -->\n<g id=\"edge24\" class=\"edge\">\n<title>2&#45;&gt;24</title>\n<path fill=\"none\" stroke=\"#000000\" d=\"M1263,-579.8796C1263,-571.6838 1263,-562.9891 1263,-554.5013\"/>\n<polygon fill=\"#000000\" stroke=\"#000000\" points=\"1266.5001,-554.298 1263,-544.2981 1259.5001,-554.2981 1266.5001,-554.298\"/>\n</g>\n<!-- 4 -->\n<g id=\"node5\" class=\"node\">\n<title>4</title>\n<path fill=\"#d6eafa\" stroke=\"#000000\" d=\"M837,-425C837,-425 729,-425 729,-425 723,-425 717,-419 717,-413 717,-413 717,-354 717,-354 717,-348 723,-342 729,-342 729,-342 837,-342 837,-342 843,-342 849,-348 849,-354 849,-354 849,-413 849,-413 849,-419 843,-425 837,-425\"/>\n<text text-anchor=\"start\" x=\"737.5\" y=\"-409.8\" font-family=\"Helvetica,sans-Serif\" font-size=\"14.00\" fill=\"#000000\">közepes ≤ 0.5</text>\n<text text-anchor=\"start\" x=\"736\" y=\"-394.8\" font-family=\"Helvetica,sans-Serif\" font-size=\"14.00\" fill=\"#000000\">entropy = 0.99</text>\n<text text-anchor=\"start\" x=\"735\" y=\"-379.8\" font-family=\"Helvetica,sans-Serif\" font-size=\"14.00\" fill=\"#000000\">samples = 530</text>\n<text text-anchor=\"start\" x=\"725\" y=\"-364.8\" font-family=\"Helvetica,sans-Serif\" font-size=\"14.00\" fill=\"#000000\">value = [234, 296]</text>\n<text text-anchor=\"start\" x=\"728.5\" y=\"-349.8\" font-family=\"Helvetica,sans-Serif\" font-size=\"14.00\" fill=\"#000000\">class = befejezte</text>\n</g>\n<!-- 3&#45;&gt;4 -->\n<g id=\"edge4\" class=\"edge\">\n<title>3&#45;&gt;4</title>\n<path fill=\"none\" stroke=\"#000000\" d=\"M951.914,-469.0352C922.8792,-454.3324 888.627,-436.9877 858.5827,-421.7738\"/>\n<polygon fill=\"#000000\" stroke=\"#000000\" points=\"859.9068,-418.5211 849.4042,-417.1259 856.7444,-424.7661 859.9068,-418.5211\"/>\n</g>\n<!-- 17 -->\n<g id=\"node18\" class=\"node\">\n<title>17</title>\n<path fill=\"#f5cdb0\" stroke=\"#000000\" d=\"M1086.5,-425C1086.5,-425 949.5,-425 949.5,-425 943.5,-425 937.5,-419 937.5,-413 937.5,-413 937.5,-354 937.5,-354 937.5,-348 943.5,-342 949.5,-342 949.5,-342 1086.5,-342 1086.5,-342 1092.5,-342 1098.5,-348 1098.5,-354 1098.5,-354 1098.5,-413 1098.5,-413 1098.5,-419 1092.5,-425 1086.5,-425\"/>\n<text text-anchor=\"start\" x=\"982\" y=\"-409.8\" font-family=\"Helvetica,sans-Serif\" font-size=\"14.00\" fill=\"#000000\">gyors ≤ 0.5</text>\n<text text-anchor=\"start\" x=\"967\" y=\"-394.8\" font-family=\"Helvetica,sans-Serif\" font-size=\"14.00\" fill=\"#000000\">entropy = 0.954</text>\n<text text-anchor=\"start\" x=\"970\" y=\"-379.8\" font-family=\"Helvetica,sans-Serif\" font-size=\"14.00\" fill=\"#000000\">samples = 136</text>\n<text text-anchor=\"start\" x=\"968\" y=\"-364.8\" font-family=\"Helvetica,sans-Serif\" font-size=\"14.00\" fill=\"#000000\">value = [85, 51]</text>\n<text text-anchor=\"start\" x=\"945.5\" y=\"-349.8\" font-family=\"Helvetica,sans-Serif\" font-size=\"14.00\" fill=\"#000000\">class = nem fejezte be</text>\n</g>\n<!-- 3&#45;&gt;17 -->\n<g id=\"edge17\" class=\"edge\">\n<title>3&#45;&gt;17</title>\n<path fill=\"none\" stroke=\"#000000\" d=\"M1018,-460.8796C1018,-452.6838 1018,-443.9891 1018,-435.5013\"/>\n<polygon fill=\"#000000\" stroke=\"#000000\" points=\"1021.5001,-435.298 1018,-425.2981 1014.5001,-435.2981 1021.5001,-435.298\"/>\n</g>\n<!-- 5 -->\n<g id=\"node6\" class=\"node\">\n<title>5</title>\n<path fill=\"#e6f3fc\" stroke=\"#000000\" d=\"M519,-306C519,-306 411,-306 411,-306 405,-306 399,-300 399,-294 399,-294 399,-235 399,-235 399,-229 405,-223 411,-223 411,-223 519,-223 519,-223 525,-223 531,-229 531,-235 531,-235 531,-294 531,-294 531,-300 525,-306 519,-306\"/>\n<text text-anchor=\"start\" x=\"437.5\" y=\"-290.8\" font-family=\"Helvetica,sans-Serif\" font-size=\"14.00\" fill=\"#000000\">N3 ≤ 0.5</text>\n<text text-anchor=\"start\" x=\"414\" y=\"-275.8\" font-family=\"Helvetica,sans-Serif\" font-size=\"14.00\" fill=\"#000000\">entropy = 0.997</text>\n<text text-anchor=\"start\" x=\"417\" y=\"-260.8\" font-family=\"Helvetica,sans-Serif\" font-size=\"14.00\" fill=\"#000000\">samples = 418</text>\n<text text-anchor=\"start\" x=\"407\" y=\"-245.8\" font-family=\"Helvetica,sans-Serif\" font-size=\"14.00\" fill=\"#000000\">value = [195, 223]</text>\n<text text-anchor=\"start\" x=\"410.5\" y=\"-230.8\" font-family=\"Helvetica,sans-Serif\" font-size=\"14.00\" fill=\"#000000\">class = befejezte</text>\n</g>\n<!-- 4&#45;&gt;5 -->\n<g id=\"edge5\" class=\"edge\">\n<title>4&#45;&gt;5</title>\n<path fill=\"none\" stroke=\"#000000\" d=\"M716.7239,-358.6986C665.3812,-339.4854 594.2107,-312.8524 540.6415,-292.8061\"/>\n<polygon fill=\"#000000\" stroke=\"#000000\" points=\"541.7832,-289.4964 531.1908,-289.2695 539.3298,-296.0524 541.7832,-289.4964\"/>\n</g>\n<!-- 12 -->\n<g id=\"node13\" class=\"node\">\n<title>12</title>\n<path fill=\"#a3d1f3\" stroke=\"#000000\" d=\"M833.5,-306C833.5,-306 732.5,-306 732.5,-306 726.5,-306 720.5,-300 720.5,-294 720.5,-294 720.5,-235 720.5,-235 720.5,-229 726.5,-223 732.5,-223 732.5,-223 833.5,-223 833.5,-223 839.5,-223 845.5,-229 845.5,-235 845.5,-235 845.5,-294 845.5,-294 845.5,-300 839.5,-306 833.5,-306\"/>\n<text text-anchor=\"start\" x=\"755.5\" y=\"-290.8\" font-family=\"Helvetica,sans-Serif\" font-size=\"14.00\" fill=\"#000000\">N3 ≤ 0.5</text>\n<text text-anchor=\"start\" x=\"732\" y=\"-275.8\" font-family=\"Helvetica,sans-Serif\" font-size=\"14.00\" fill=\"#000000\">entropy = 0.932</text>\n<text text-anchor=\"start\" x=\"735\" y=\"-260.8\" font-family=\"Helvetica,sans-Serif\" font-size=\"14.00\" fill=\"#000000\">samples = 112</text>\n<text text-anchor=\"start\" x=\"733\" y=\"-245.8\" font-family=\"Helvetica,sans-Serif\" font-size=\"14.00\" fill=\"#000000\">value = [39, 73]</text>\n<text text-anchor=\"start\" x=\"728.5\" y=\"-230.8\" font-family=\"Helvetica,sans-Serif\" font-size=\"14.00\" fill=\"#000000\">class = befejezte</text>\n</g>\n<!-- 4&#45;&gt;12 -->\n<g id=\"edge12\" class=\"edge\">\n<title>4&#45;&gt;12</title>\n<path fill=\"none\" stroke=\"#000000\" d=\"M783,-341.8796C783,-333.6838 783,-324.9891 783,-316.5013\"/>\n<polygon fill=\"#000000\" stroke=\"#000000\" points=\"786.5001,-316.298 783,-306.2981 779.5001,-316.2981 786.5001,-316.298\"/>\n</g>\n<!-- 6 -->\n<g id=\"node7\" class=\"node\">\n<title>6</title>\n<path fill=\"#ddeefb\" stroke=\"#000000\" d=\"M267,-187C267,-187 159,-187 159,-187 153,-187 147,-181 147,-175 147,-175 147,-116 147,-116 147,-110 153,-104 159,-104 159,-104 267,-104 267,-104 273,-104 279,-110 279,-116 279,-116 279,-175 279,-175 279,-181 273,-187 267,-187\"/>\n<text text-anchor=\"start\" x=\"177\" y=\"-171.8\" font-family=\"Helvetica,sans-Serif\" font-size=\"14.00\" fill=\"#000000\">gyors ≤ 0.5</text>\n<text text-anchor=\"start\" x=\"162\" y=\"-156.8\" font-family=\"Helvetica,sans-Serif\" font-size=\"14.00\" fill=\"#000000\">entropy = 0.994</text>\n<text text-anchor=\"start\" x=\"165\" y=\"-141.8\" font-family=\"Helvetica,sans-Serif\" font-size=\"14.00\" fill=\"#000000\">samples = 388</text>\n<text text-anchor=\"start\" x=\"155\" y=\"-126.8\" font-family=\"Helvetica,sans-Serif\" font-size=\"14.00\" fill=\"#000000\">value = [176, 212]</text>\n<text text-anchor=\"start\" x=\"158.5\" y=\"-111.8\" font-family=\"Helvetica,sans-Serif\" font-size=\"14.00\" fill=\"#000000\">class = befejezte</text>\n</g>\n<!-- 5&#45;&gt;6 -->\n<g id=\"edge6\" class=\"edge\">\n<title>5&#45;&gt;6</title>\n<path fill=\"none\" stroke=\"#000000\" d=\"M398.79,-233.2342C364.9223,-217.2411 323.552,-197.7051 288.454,-181.1311\"/>\n<polygon fill=\"#000000\" stroke=\"#000000\" points=\"289.7419,-177.8687 279.2049,-176.7634 286.7528,-184.1984 289.7419,-177.8687\"/>\n</g>\n<!-- 9 -->\n<g id=\"node10\" class=\"node\">\n<title>9</title>\n<path fill=\"#f4caac\" stroke=\"#000000\" d=\"M534,-187C534,-187 396,-187 396,-187 390,-187 384,-181 384,-175 384,-175 384,-116 384,-116 384,-110 390,-104 396,-104 396,-104 534,-104 534,-104 540,-104 546,-110 546,-116 546,-116 546,-175 546,-175 546,-181 540,-187 534,-187\"/>\n<text text-anchor=\"start\" x=\"392\" y=\"-171.8\" font-family=\"Helvetica,sans-Serif\" font-size=\"14.00\" fill=\"#000000\">közepesen lassú ≤ 0.5</text>\n<text text-anchor=\"start\" x=\"414\" y=\"-156.8\" font-family=\"Helvetica,sans-Serif\" font-size=\"14.00\" fill=\"#000000\">entropy = 0.948</text>\n<text text-anchor=\"start\" x=\"421\" y=\"-141.8\" font-family=\"Helvetica,sans-Serif\" font-size=\"14.00\" fill=\"#000000\">samples = 30</text>\n<text text-anchor=\"start\" x=\"415\" y=\"-126.8\" font-family=\"Helvetica,sans-Serif\" font-size=\"14.00\" fill=\"#000000\">value = [19, 11]</text>\n<text text-anchor=\"start\" x=\"392.5\" y=\"-111.8\" font-family=\"Helvetica,sans-Serif\" font-size=\"14.00\" fill=\"#000000\">class = nem fejezte be</text>\n</g>\n<!-- 5&#45;&gt;9 -->\n<g id=\"edge9\" class=\"edge\">\n<title>5&#45;&gt;9</title>\n<path fill=\"none\" stroke=\"#000000\" d=\"M465,-222.8796C465,-214.6838 465,-205.9891 465,-197.5013\"/>\n<polygon fill=\"#000000\" stroke=\"#000000\" points=\"468.5001,-197.298 465,-187.2981 461.5001,-197.2981 468.5001,-197.298\"/>\n</g>\n<!-- 7 -->\n<g id=\"node8\" class=\"node\">\n<title>7</title>\n<path fill=\"#ebf5fc\" stroke=\"#000000\" d=\"M120,-68C120,-68 12,-68 12,-68 6,-68 0,-62 0,-56 0,-56 0,-12 0,-12 0,-6 6,0 12,0 12,0 120,0 120,0 126,0 132,-6 132,-12 132,-12 132,-56 132,-56 132,-62 126,-68 120,-68\"/>\n<text text-anchor=\"start\" x=\"15\" y=\"-52.8\" font-family=\"Helvetica,sans-Serif\" font-size=\"14.00\" fill=\"#000000\">entropy = 0.998</text>\n<text text-anchor=\"start\" x=\"18\" y=\"-37.8\" font-family=\"Helvetica,sans-Serif\" font-size=\"14.00\" fill=\"#000000\">samples = 298</text>\n<text text-anchor=\"start\" x=\"8\" y=\"-22.8\" font-family=\"Helvetica,sans-Serif\" font-size=\"14.00\" fill=\"#000000\">value = [141, 157]</text>\n<text text-anchor=\"start\" x=\"11.5\" y=\"-7.8\" font-family=\"Helvetica,sans-Serif\" font-size=\"14.00\" fill=\"#000000\">class = befejezte</text>\n</g>\n<!-- 6&#45;&gt;7 -->\n<g id=\"edge7\" class=\"edge\">\n<title>6&#45;&gt;7</title>\n<path fill=\"none\" stroke=\"#000000\" d=\"M158.2626,-103.9815C145.5399,-94.3313 132.0134,-84.0714 119.3515,-74.4673\"/>\n<polygon fill=\"#000000\" stroke=\"#000000\" points=\"121.2553,-71.5184 111.1727,-68.2637 117.025,-77.0956 121.2553,-71.5184\"/>\n</g>\n<!-- 8 -->\n<g id=\"node9\" class=\"node\">\n<title>8</title>\n<path fill=\"#b7dbf6\" stroke=\"#000000\" d=\"M263.5,-68C263.5,-68 162.5,-68 162.5,-68 156.5,-68 150.5,-62 150.5,-56 150.5,-56 150.5,-12 150.5,-12 150.5,-6 156.5,0 162.5,0 162.5,0 263.5,0 263.5,0 269.5,0 275.5,-6 275.5,-12 275.5,-12 275.5,-56 275.5,-56 275.5,-62 269.5,-68 263.5,-68\"/>\n<text text-anchor=\"start\" x=\"162\" y=\"-52.8\" font-family=\"Helvetica,sans-Serif\" font-size=\"14.00\" fill=\"#000000\">entropy = 0.964</text>\n<text text-anchor=\"start\" x=\"169\" y=\"-37.8\" font-family=\"Helvetica,sans-Serif\" font-size=\"14.00\" fill=\"#000000\">samples = 90</text>\n<text text-anchor=\"start\" x=\"163\" y=\"-22.8\" font-family=\"Helvetica,sans-Serif\" font-size=\"14.00\" fill=\"#000000\">value = [35, 55]</text>\n<text text-anchor=\"start\" x=\"158.5\" y=\"-7.8\" font-family=\"Helvetica,sans-Serif\" font-size=\"14.00\" fill=\"#000000\">class = befejezte</text>\n</g>\n<!-- 6&#45;&gt;8 -->\n<g id=\"edge8\" class=\"edge\">\n<title>6&#45;&gt;8</title>\n<path fill=\"none\" stroke=\"#000000\" d=\"M213,-103.9815C213,-95.618 213,-86.7965 213,-78.3409\"/>\n<polygon fill=\"#000000\" stroke=\"#000000\" points=\"216.5001,-78.2636 213,-68.2637 209.5001,-78.2637 216.5001,-78.2636\"/>\n</g>\n<!-- 10 -->\n<g id=\"node11\" class=\"node\">\n<title>10</title>\n<path fill=\"#f1bc95\" stroke=\"#000000\" d=\"M442.5,-68C442.5,-68 305.5,-68 305.5,-68 299.5,-68 293.5,-62 293.5,-56 293.5,-56 293.5,-12 293.5,-12 293.5,-6 299.5,0 305.5,0 305.5,0 442.5,0 442.5,0 448.5,0 454.5,-6 454.5,-12 454.5,-12 454.5,-56 454.5,-56 454.5,-62 448.5,-68 442.5,-68\"/>\n<text text-anchor=\"start\" x=\"323\" y=\"-52.8\" font-family=\"Helvetica,sans-Serif\" font-size=\"14.00\" fill=\"#000000\">entropy = 0.902</text>\n<text text-anchor=\"start\" x=\"330\" y=\"-37.8\" font-family=\"Helvetica,sans-Serif\" font-size=\"14.00\" fill=\"#000000\">samples = 22</text>\n<text text-anchor=\"start\" x=\"328.5\" y=\"-22.8\" font-family=\"Helvetica,sans-Serif\" font-size=\"14.00\" fill=\"#000000\">value = [15, 7]</text>\n<text text-anchor=\"start\" x=\"301.5\" y=\"-7.8\" font-family=\"Helvetica,sans-Serif\" font-size=\"14.00\" fill=\"#000000\">class = nem fejezte be</text>\n</g>\n<!-- 9&#45;&gt;10 -->\n<g id=\"edge10\" class=\"edge\">\n<title>9&#45;&gt;10</title>\n<path fill=\"none\" stroke=\"#000000\" d=\"M431.115,-103.9815C423.6891,-94.8828 415.8208,-85.242 408.3759,-76.1199\"/>\n<polygon fill=\"#000000\" stroke=\"#000000\" points=\"410.9986,-73.798 401.9641,-68.2637 405.5755,-78.224 410.9986,-73.798\"/>\n</g>\n<!-- 11 -->\n<g id=\"node12\" class=\"node\">\n<title>11</title>\n<path fill=\"#ffffff\" stroke=\"#000000\" d=\"M621.5,-68C621.5,-68 484.5,-68 484.5,-68 478.5,-68 472.5,-62 472.5,-56 472.5,-56 472.5,-12 472.5,-12 472.5,-6 478.5,0 484.5,0 484.5,0 621.5,0 621.5,0 627.5,0 633.5,-6 633.5,-12 633.5,-12 633.5,-56 633.5,-56 633.5,-62 627.5,-68 621.5,-68\"/>\n<text text-anchor=\"start\" x=\"510.5\" y=\"-52.8\" font-family=\"Helvetica,sans-Serif\" font-size=\"14.00\" fill=\"#000000\">entropy = 1.0</text>\n<text text-anchor=\"start\" x=\"513.5\" y=\"-37.8\" font-family=\"Helvetica,sans-Serif\" font-size=\"14.00\" fill=\"#000000\">samples = 8</text>\n<text text-anchor=\"start\" x=\"511.5\" y=\"-22.8\" font-family=\"Helvetica,sans-Serif\" font-size=\"14.00\" fill=\"#000000\">value = [4, 4]</text>\n<text text-anchor=\"start\" x=\"480.5\" y=\"-7.8\" font-family=\"Helvetica,sans-Serif\" font-size=\"14.00\" fill=\"#000000\">class = nem fejezte be</text>\n</g>\n<!-- 9&#45;&gt;11 -->\n<g id=\"edge11\" class=\"edge\">\n<title>9&#45;&gt;11</title>\n<path fill=\"none\" stroke=\"#000000\" d=\"M497.768,-103.9815C504.949,-94.8828 512.5579,-85.242 519.7574,-76.1199\"/>\n<polygon fill=\"#000000\" stroke=\"#000000\" points=\"522.5099,-78.2818 525.9578,-68.2637 517.0151,-73.9451 522.5099,-78.2818\"/>\n</g>\n<!-- 13 -->\n<g id=\"node14\" class=\"node\">\n<title>13</title>\n<path fill=\"#a8d4f4\" stroke=\"#000000\" d=\"M764.5,-187C764.5,-187 663.5,-187 663.5,-187 657.5,-187 651.5,-181 651.5,-175 651.5,-175 651.5,-116 651.5,-116 651.5,-110 657.5,-104 663.5,-104 663.5,-104 764.5,-104 764.5,-104 770.5,-104 776.5,-110 776.5,-116 776.5,-116 776.5,-175 776.5,-175 776.5,-181 770.5,-187 764.5,-187\"/>\n<text text-anchor=\"start\" x=\"686.5\" y=\"-171.8\" font-family=\"Helvetica,sans-Serif\" font-size=\"14.00\" fill=\"#000000\">N1 ≤ 0.5</text>\n<text text-anchor=\"start\" x=\"663\" y=\"-156.8\" font-family=\"Helvetica,sans-Serif\" font-size=\"14.00\" fill=\"#000000\">entropy = 0.941</text>\n<text text-anchor=\"start\" x=\"666\" y=\"-141.8\" font-family=\"Helvetica,sans-Serif\" font-size=\"14.00\" fill=\"#000000\">samples = 106</text>\n<text text-anchor=\"start\" x=\"664\" y=\"-126.8\" font-family=\"Helvetica,sans-Serif\" font-size=\"14.00\" fill=\"#000000\">value = [38, 68]</text>\n<text text-anchor=\"start\" x=\"659.5\" y=\"-111.8\" font-family=\"Helvetica,sans-Serif\" font-size=\"14.00\" fill=\"#000000\">class = befejezte</text>\n</g>\n<!-- 12&#45;&gt;13 -->\n<g id=\"edge13\" class=\"edge\">\n<title>12&#45;&gt;13</title>\n<path fill=\"none\" stroke=\"#000000\" d=\"M758.8671,-222.8796C753.8539,-214.2335 748.5187,-205.0322 743.3419,-196.1042\"/>\n<polygon fill=\"#000000\" stroke=\"#000000\" points=\"746.2798,-194.1934 738.2359,-187.2981 740.2242,-197.7047 746.2798,-194.1934\"/>\n</g>\n<!-- 16 -->\n<g id=\"node17\" class=\"node\">\n<title>16</title>\n<path fill=\"#61b1ea\" stroke=\"#000000\" d=\"M907.5,-179.5C907.5,-179.5 806.5,-179.5 806.5,-179.5 800.5,-179.5 794.5,-173.5 794.5,-167.5 794.5,-167.5 794.5,-123.5 794.5,-123.5 794.5,-117.5 800.5,-111.5 806.5,-111.5 806.5,-111.5 907.5,-111.5 907.5,-111.5 913.5,-111.5 919.5,-117.5 919.5,-123.5 919.5,-123.5 919.5,-167.5 919.5,-167.5 919.5,-173.5 913.5,-179.5 907.5,-179.5\"/>\n<text text-anchor=\"start\" x=\"810\" y=\"-164.3\" font-family=\"Helvetica,sans-Serif\" font-size=\"14.00\" fill=\"#000000\">entropy = 0.65</text>\n<text text-anchor=\"start\" x=\"817.5\" y=\"-149.3\" font-family=\"Helvetica,sans-Serif\" font-size=\"14.00\" fill=\"#000000\">samples = 6</text>\n<text text-anchor=\"start\" x=\"815.5\" y=\"-134.3\" font-family=\"Helvetica,sans-Serif\" font-size=\"14.00\" fill=\"#000000\">value = [1, 5]</text>\n<text text-anchor=\"start\" x=\"802.5\" y=\"-119.3\" font-family=\"Helvetica,sans-Serif\" font-size=\"14.00\" fill=\"#000000\">class = befejezte</text>\n</g>\n<!-- 12&#45;&gt;16 -->\n<g id=\"edge16\" class=\"edge\">\n<title>12&#45;&gt;16</title>\n<path fill=\"none\" stroke=\"#000000\" d=\"M808.8816,-222.8796C815.7879,-211.7735 823.2639,-199.7513 830.2175,-188.5691\"/>\n<polygon fill=\"#000000\" stroke=\"#000000\" points=\"833.3527,-190.1552 835.6613,-179.8149 827.4083,-186.4587 833.3527,-190.1552\"/>\n</g>\n<!-- 14 -->\n<g id=\"node15\" class=\"node\">\n<title>14</title>\n<path fill=\"#a4d2f3\" stroke=\"#000000\" d=\"M764.5,-68C764.5,-68 663.5,-68 663.5,-68 657.5,-68 651.5,-62 651.5,-56 651.5,-56 651.5,-12 651.5,-12 651.5,-6 657.5,0 663.5,0 663.5,0 764.5,0 764.5,0 770.5,0 776.5,-6 776.5,-12 776.5,-12 776.5,-56 776.5,-56 776.5,-62 770.5,-68 764.5,-68\"/>\n<text text-anchor=\"start\" x=\"663\" y=\"-52.8\" font-family=\"Helvetica,sans-Serif\" font-size=\"14.00\" fill=\"#000000\">entropy = 0.935</text>\n<text text-anchor=\"start\" x=\"670\" y=\"-37.8\" font-family=\"Helvetica,sans-Serif\" font-size=\"14.00\" fill=\"#000000\">samples = 97</text>\n<text text-anchor=\"start\" x=\"664\" y=\"-22.8\" font-family=\"Helvetica,sans-Serif\" font-size=\"14.00\" fill=\"#000000\">value = [34, 63]</text>\n<text text-anchor=\"start\" x=\"659.5\" y=\"-7.8\" font-family=\"Helvetica,sans-Serif\" font-size=\"14.00\" fill=\"#000000\">class = befejezte</text>\n</g>\n<!-- 13&#45;&gt;14 -->\n<g id=\"edge14\" class=\"edge\">\n<title>13&#45;&gt;14</title>\n<path fill=\"none\" stroke=\"#000000\" d=\"M714,-103.9815C714,-95.618 714,-86.7965 714,-78.3409\"/>\n<polygon fill=\"#000000\" stroke=\"#000000\" points=\"717.5001,-78.2636 714,-68.2637 710.5001,-78.2637 717.5001,-78.2636\"/>\n</g>\n<!-- 15 -->\n<g id=\"node16\" class=\"node\">\n<title>15</title>\n<path fill=\"#d7ebfa\" stroke=\"#000000\" d=\"M907.5,-68C907.5,-68 806.5,-68 806.5,-68 800.5,-68 794.5,-62 794.5,-56 794.5,-56 794.5,-12 794.5,-12 794.5,-6 800.5,0 806.5,0 806.5,0 907.5,0 907.5,0 913.5,0 919.5,-6 919.5,-12 919.5,-12 919.5,-56 919.5,-56 919.5,-62 913.5,-68 907.5,-68\"/>\n<text text-anchor=\"start\" x=\"806\" y=\"-52.8\" font-family=\"Helvetica,sans-Serif\" font-size=\"14.00\" fill=\"#000000\">entropy = 0.991</text>\n<text text-anchor=\"start\" x=\"817.5\" y=\"-37.8\" font-family=\"Helvetica,sans-Serif\" font-size=\"14.00\" fill=\"#000000\">samples = 9</text>\n<text text-anchor=\"start\" x=\"815.5\" y=\"-22.8\" font-family=\"Helvetica,sans-Serif\" font-size=\"14.00\" fill=\"#000000\">value = [4, 5]</text>\n<text text-anchor=\"start\" x=\"802.5\" y=\"-7.8\" font-family=\"Helvetica,sans-Serif\" font-size=\"14.00\" fill=\"#000000\">class = befejezte</text>\n</g>\n<!-- 13&#45;&gt;15 -->\n<g id=\"edge15\" class=\"edge\">\n<title>13&#45;&gt;15</title>\n<path fill=\"none\" stroke=\"#000000\" d=\"M767.2479,-103.9815C779.6244,-94.3313 792.7828,-84.0714 805.1003,-74.4673\"/>\n<polygon fill=\"#000000\" stroke=\"#000000\" points=\"807.3225,-77.1728 813.0565,-68.2637 803.0182,-71.6525 807.3225,-77.1728\"/>\n</g>\n<!-- 18 -->\n<g id=\"node19\" class=\"node\">\n<title>18</title>\n<path fill=\"#f6d3ba\" stroke=\"#000000\" d=\"M1087,-306C1087,-306 949,-306 949,-306 943,-306 937,-300 937,-294 937,-294 937,-235 937,-235 937,-229 943,-223 949,-223 949,-223 1087,-223 1087,-223 1093,-223 1099,-229 1099,-235 1099,-235 1099,-294 1099,-294 1099,-300 1093,-306 1087,-306\"/>\n<text text-anchor=\"start\" x=\"945\" y=\"-290.8\" font-family=\"Helvetica,sans-Serif\" font-size=\"14.00\" fill=\"#000000\">közepesen lassú ≤ 0.5</text>\n<text text-anchor=\"start\" x=\"967\" y=\"-275.8\" font-family=\"Helvetica,sans-Serif\" font-size=\"14.00\" fill=\"#000000\">entropy = 0.967</text>\n<text text-anchor=\"start\" x=\"970\" y=\"-260.8\" font-family=\"Helvetica,sans-Serif\" font-size=\"14.00\" fill=\"#000000\">samples = 104</text>\n<text text-anchor=\"start\" x=\"968\" y=\"-245.8\" font-family=\"Helvetica,sans-Serif\" font-size=\"14.00\" fill=\"#000000\">value = [63, 41]</text>\n<text text-anchor=\"start\" x=\"945.5\" y=\"-230.8\" font-family=\"Helvetica,sans-Serif\" font-size=\"14.00\" fill=\"#000000\">class = nem fejezte be</text>\n</g>\n<!-- 17&#45;&gt;18 -->\n<g id=\"edge18\" class=\"edge\">\n<title>17&#45;&gt;18</title>\n<path fill=\"none\" stroke=\"#000000\" d=\"M1018,-341.8796C1018,-333.6838 1018,-324.9891 1018,-316.5013\"/>\n<polygon fill=\"#000000\" stroke=\"#000000\" points=\"1021.5001,-316.298 1018,-306.2981 1014.5001,-316.2981 1021.5001,-316.298\"/>\n</g>\n<!-- 23 -->\n<g id=\"node24\" class=\"node\">\n<title>23</title>\n<path fill=\"#f1ba93\" stroke=\"#000000\" d=\"M1266.5,-298.5C1266.5,-298.5 1129.5,-298.5 1129.5,-298.5 1123.5,-298.5 1117.5,-292.5 1117.5,-286.5 1117.5,-286.5 1117.5,-242.5 1117.5,-242.5 1117.5,-236.5 1123.5,-230.5 1129.5,-230.5 1129.5,-230.5 1266.5,-230.5 1266.5,-230.5 1272.5,-230.5 1278.5,-236.5 1278.5,-242.5 1278.5,-242.5 1278.5,-286.5 1278.5,-286.5 1278.5,-292.5 1272.5,-298.5 1266.5,-298.5\"/>\n<text text-anchor=\"start\" x=\"1147\" y=\"-283.3\" font-family=\"Helvetica,sans-Serif\" font-size=\"14.00\" fill=\"#000000\">entropy = 0.896</text>\n<text text-anchor=\"start\" x=\"1154\" y=\"-268.3\" font-family=\"Helvetica,sans-Serif\" font-size=\"14.00\" fill=\"#000000\">samples = 32</text>\n<text text-anchor=\"start\" x=\"1148\" y=\"-253.3\" font-family=\"Helvetica,sans-Serif\" font-size=\"14.00\" fill=\"#000000\">value = [22, 10]</text>\n<text text-anchor=\"start\" x=\"1125.5\" y=\"-238.3\" font-family=\"Helvetica,sans-Serif\" font-size=\"14.00\" fill=\"#000000\">class = nem fejezte be</text>\n</g>\n<!-- 17&#45;&gt;23 -->\n<g id=\"edge23\" class=\"edge\">\n<title>17&#45;&gt;23</title>\n<path fill=\"none\" stroke=\"#000000\" d=\"M1080.9553,-341.8796C1099.3384,-329.7263 1119.3811,-316.4759 1137.6021,-304.4297\"/>\n<polygon fill=\"#000000\" stroke=\"#000000\" points=\"1139.9737,-307.0576 1146.3853,-298.623 1136.1133,-301.2183 1139.9737,-307.0576\"/>\n</g>\n<!-- 19 -->\n<g id=\"node20\" class=\"node\">\n<title>19</title>\n<path fill=\"#f5cfb4\" stroke=\"#000000\" d=\"M1086.5,-187C1086.5,-187 949.5,-187 949.5,-187 943.5,-187 937.5,-181 937.5,-175 937.5,-175 937.5,-116 937.5,-116 937.5,-110 943.5,-104 949.5,-104 949.5,-104 1086.5,-104 1086.5,-104 1092.5,-104 1098.5,-110 1098.5,-116 1098.5,-116 1098.5,-175 1098.5,-175 1098.5,-181 1092.5,-187 1086.5,-187\"/>\n<text text-anchor=\"start\" x=\"983\" y=\"-171.8\" font-family=\"Helvetica,sans-Serif\" font-size=\"14.00\" fill=\"#000000\">lassú ≤ 0.5</text>\n<text text-anchor=\"start\" x=\"971\" y=\"-156.8\" font-family=\"Helvetica,sans-Serif\" font-size=\"14.00\" fill=\"#000000\">entropy = 0.96</text>\n<text text-anchor=\"start\" x=\"974\" y=\"-141.8\" font-family=\"Helvetica,sans-Serif\" font-size=\"14.00\" fill=\"#000000\">samples = 81</text>\n<text text-anchor=\"start\" x=\"968\" y=\"-126.8\" font-family=\"Helvetica,sans-Serif\" font-size=\"14.00\" fill=\"#000000\">value = [50, 31]</text>\n<text text-anchor=\"start\" x=\"945.5\" y=\"-111.8\" font-family=\"Helvetica,sans-Serif\" font-size=\"14.00\" fill=\"#000000\">class = nem fejezte be</text>\n</g>\n<!-- 18&#45;&gt;19 -->\n<g id=\"edge19\" class=\"edge\">\n<title>18&#45;&gt;19</title>\n<path fill=\"none\" stroke=\"#000000\" d=\"M1018,-222.8796C1018,-214.6838 1018,-205.9891 1018,-197.5013\"/>\n<polygon fill=\"#000000\" stroke=\"#000000\" points=\"1021.5001,-197.298 1018,-187.2981 1014.5001,-197.2981 1021.5001,-197.298\"/>\n</g>\n<!-- 22 -->\n<g id=\"node23\" class=\"node\">\n<title>22</title>\n<path fill=\"#f9e2d1\" stroke=\"#000000\" d=\"M1265.5,-179.5C1265.5,-179.5 1128.5,-179.5 1128.5,-179.5 1122.5,-179.5 1116.5,-173.5 1116.5,-167.5 1116.5,-167.5 1116.5,-123.5 1116.5,-123.5 1116.5,-117.5 1122.5,-111.5 1128.5,-111.5 1128.5,-111.5 1265.5,-111.5 1265.5,-111.5 1271.5,-111.5 1277.5,-117.5 1277.5,-123.5 1277.5,-123.5 1277.5,-167.5 1277.5,-167.5 1277.5,-173.5 1271.5,-179.5 1265.5,-179.5\"/>\n<text text-anchor=\"start\" x=\"1146\" y=\"-164.3\" font-family=\"Helvetica,sans-Serif\" font-size=\"14.00\" fill=\"#000000\">entropy = 0.988</text>\n<text text-anchor=\"start\" x=\"1153\" y=\"-149.3\" font-family=\"Helvetica,sans-Serif\" font-size=\"14.00\" fill=\"#000000\">samples = 23</text>\n<text text-anchor=\"start\" x=\"1147\" y=\"-134.3\" font-family=\"Helvetica,sans-Serif\" font-size=\"14.00\" fill=\"#000000\">value = [13, 10]</text>\n<text text-anchor=\"start\" x=\"1124.5\" y=\"-119.3\" font-family=\"Helvetica,sans-Serif\" font-size=\"14.00\" fill=\"#000000\">class = nem fejezte be</text>\n</g>\n<!-- 18&#45;&gt;22 -->\n<g id=\"edge22\" class=\"edge\">\n<title>18&#45;&gt;22</title>\n<path fill=\"none\" stroke=\"#000000\" d=\"M1080.6055,-222.8796C1098.8865,-210.7263 1118.8178,-197.4759 1136.9376,-185.4297\"/>\n<polygon fill=\"#000000\" stroke=\"#000000\" points=\"1139.2821,-188.074 1145.6721,-179.623 1135.4067,-182.2447 1139.2821,-188.074\"/>\n</g>\n<!-- 20 -->\n<g id=\"node21\" class=\"node\">\n<title>20</title>\n<path fill=\"#f4ccaf\" stroke=\"#000000\" d=\"M1086.5,-68C1086.5,-68 949.5,-68 949.5,-68 943.5,-68 937.5,-62 937.5,-56 937.5,-56 937.5,-12 937.5,-12 937.5,-6 943.5,0 949.5,0 949.5,0 1086.5,0 1086.5,0 1092.5,0 1098.5,-6 1098.5,-12 1098.5,-12 1098.5,-56 1098.5,-56 1098.5,-62 1092.5,-68 1086.5,-68\"/>\n<text text-anchor=\"start\" x=\"967\" y=\"-52.8\" font-family=\"Helvetica,sans-Serif\" font-size=\"14.00\" fill=\"#000000\">entropy = 0.953</text>\n<text text-anchor=\"start\" x=\"974\" y=\"-37.8\" font-family=\"Helvetica,sans-Serif\" font-size=\"14.00\" fill=\"#000000\">samples = 59</text>\n<text text-anchor=\"start\" x=\"968\" y=\"-22.8\" font-family=\"Helvetica,sans-Serif\" font-size=\"14.00\" fill=\"#000000\">value = [37, 22]</text>\n<text text-anchor=\"start\" x=\"945.5\" y=\"-7.8\" font-family=\"Helvetica,sans-Serif\" font-size=\"14.00\" fill=\"#000000\">class = nem fejezte be</text>\n</g>\n<!-- 19&#45;&gt;20 -->\n<g id=\"edge20\" class=\"edge\">\n<title>19&#45;&gt;20</title>\n<path fill=\"none\" stroke=\"#000000\" d=\"M1018,-103.9815C1018,-95.618 1018,-86.7965 1018,-78.3409\"/>\n<polygon fill=\"#000000\" stroke=\"#000000\" points=\"1021.5001,-78.2636 1018,-68.2637 1014.5001,-78.2637 1021.5001,-78.2636\"/>\n</g>\n<!-- 21 -->\n<g id=\"node22\" class=\"node\">\n<title>21</title>\n<path fill=\"#f7d8c2\" stroke=\"#000000\" d=\"M1265.5,-68C1265.5,-68 1128.5,-68 1128.5,-68 1122.5,-68 1116.5,-62 1116.5,-56 1116.5,-56 1116.5,-12 1116.5,-12 1116.5,-6 1122.5,0 1128.5,0 1128.5,0 1265.5,0 1265.5,0 1271.5,0 1277.5,-6 1277.5,-12 1277.5,-12 1277.5,-56 1277.5,-56 1277.5,-62 1271.5,-68 1265.5,-68\"/>\n<text text-anchor=\"start\" x=\"1146\" y=\"-52.8\" font-family=\"Helvetica,sans-Serif\" font-size=\"14.00\" fill=\"#000000\">entropy = 0.976</text>\n<text text-anchor=\"start\" x=\"1153\" y=\"-37.8\" font-family=\"Helvetica,sans-Serif\" font-size=\"14.00\" fill=\"#000000\">samples = 22</text>\n<text text-anchor=\"start\" x=\"1151.5\" y=\"-22.8\" font-family=\"Helvetica,sans-Serif\" font-size=\"14.00\" fill=\"#000000\">value = [13, 9]</text>\n<text text-anchor=\"start\" x=\"1124.5\" y=\"-7.8\" font-family=\"Helvetica,sans-Serif\" font-size=\"14.00\" fill=\"#000000\">class = nem fejezte be</text>\n</g>\n<!-- 19&#45;&gt;21 -->\n<g id=\"edge21\" class=\"edge\">\n<title>19&#45;&gt;21</title>\n<path fill=\"none\" stroke=\"#000000\" d=\"M1084.653,-103.9815C1100.6717,-94.0034 1117.737,-83.3733 1133.6028,-73.4904\"/>\n<polygon fill=\"#000000\" stroke=\"#000000\" points=\"1135.6421,-76.3437 1142.2796,-68.0856 1131.9411,-70.4021 1135.6421,-76.3437\"/>\n</g>\n<!-- 25 -->\n<g id=\"node26\" class=\"node\">\n<title>25</title>\n<path fill=\"#399de5\" stroke=\"#000000\" d=\"M1229.5,-417.5C1229.5,-417.5 1128.5,-417.5 1128.5,-417.5 1122.5,-417.5 1116.5,-411.5 1116.5,-405.5 1116.5,-405.5 1116.5,-361.5 1116.5,-361.5 1116.5,-355.5 1122.5,-349.5 1128.5,-349.5 1128.5,-349.5 1229.5,-349.5 1229.5,-349.5 1235.5,-349.5 1241.5,-355.5 1241.5,-361.5 1241.5,-361.5 1241.5,-405.5 1241.5,-405.5 1241.5,-411.5 1235.5,-417.5 1229.5,-417.5\"/>\n<text text-anchor=\"start\" x=\"1136.5\" y=\"-402.3\" font-family=\"Helvetica,sans-Serif\" font-size=\"14.00\" fill=\"#000000\">entropy = 0.0</text>\n<text text-anchor=\"start\" x=\"1135\" y=\"-387.3\" font-family=\"Helvetica,sans-Serif\" font-size=\"14.00\" fill=\"#000000\">samples = 16</text>\n<text text-anchor=\"start\" x=\"1133.5\" y=\"-372.3\" font-family=\"Helvetica,sans-Serif\" font-size=\"14.00\" fill=\"#000000\">value = [0, 16]</text>\n<text text-anchor=\"start\" x=\"1124.5\" y=\"-357.3\" font-family=\"Helvetica,sans-Serif\" font-size=\"14.00\" fill=\"#000000\">class = befejezte</text>\n</g>\n<!-- 24&#45;&gt;25 -->\n<g id=\"edge25\" class=\"edge\">\n<title>24&#45;&gt;25</title>\n<path fill=\"none\" stroke=\"#000000\" d=\"M1233.6209,-460.8796C1225.7037,-449.6636 1217.1269,-437.5131 1209.1675,-426.2372\"/>\n<polygon fill=\"#000000\" stroke=\"#000000\" points=\"1211.8486,-423.9662 1203.2223,-417.8149 1206.1298,-428.003 1211.8486,-423.9662\"/>\n</g>\n<!-- 26 -->\n<g id=\"node27\" class=\"node\">\n<title>26</title>\n<path fill=\"#6ab6ec\" stroke=\"#000000\" d=\"M1372.5,-417.5C1372.5,-417.5 1271.5,-417.5 1271.5,-417.5 1265.5,-417.5 1259.5,-411.5 1259.5,-405.5 1259.5,-405.5 1259.5,-361.5 1259.5,-361.5 1259.5,-355.5 1265.5,-349.5 1271.5,-349.5 1271.5,-349.5 1372.5,-349.5 1372.5,-349.5 1378.5,-349.5 1384.5,-355.5 1384.5,-361.5 1384.5,-361.5 1384.5,-405.5 1384.5,-405.5 1384.5,-411.5 1378.5,-417.5 1372.5,-417.5\"/>\n<text text-anchor=\"start\" x=\"1271\" y=\"-402.3\" font-family=\"Helvetica,sans-Serif\" font-size=\"14.00\" fill=\"#000000\">entropy = 0.722</text>\n<text text-anchor=\"start\" x=\"1282.5\" y=\"-387.3\" font-family=\"Helvetica,sans-Serif\" font-size=\"14.00\" fill=\"#000000\">samples = 5</text>\n<text text-anchor=\"start\" x=\"1280.5\" y=\"-372.3\" font-family=\"Helvetica,sans-Serif\" font-size=\"14.00\" fill=\"#000000\">value = [1, 4]</text>\n<text text-anchor=\"start\" x=\"1267.5\" y=\"-357.3\" font-family=\"Helvetica,sans-Serif\" font-size=\"14.00\" fill=\"#000000\">class = befejezte</text>\n</g>\n<!-- 24&#45;&gt;26 -->\n<g id=\"edge26\" class=\"edge\">\n<title>24&#45;&gt;26</title>\n<path fill=\"none\" stroke=\"#000000\" d=\"M1283.6353,-460.8796C1289.0872,-449.8835 1294.9843,-437.9893 1300.4816,-426.9015\"/>\n<polygon fill=\"#000000\" stroke=\"#000000\" points=\"1303.6804,-428.3289 1304.9867,-417.8149 1297.4089,-425.2195 1303.6804,-428.3289\"/>\n</g>\n<!-- 28 -->\n<g id=\"node29\" class=\"node\">\n<title>28</title>\n<path fill=\"#61b1ea\" stroke=\"#000000\" d=\"M1544.5,-544C1544.5,-544 1443.5,-544 1443.5,-544 1437.5,-544 1431.5,-538 1431.5,-532 1431.5,-532 1431.5,-473 1431.5,-473 1431.5,-467 1437.5,-461 1443.5,-461 1443.5,-461 1544.5,-461 1544.5,-461 1550.5,-461 1556.5,-467 1556.5,-473 1556.5,-473 1556.5,-532 1556.5,-532 1556.5,-538 1550.5,-544 1544.5,-544\"/>\n<text text-anchor=\"start\" x=\"1448.5\" y=\"-528.8\" font-family=\"Helvetica,sans-Serif\" font-size=\"14.00\" fill=\"#000000\">közepes ≤ 0.5</text>\n<text text-anchor=\"start\" x=\"1443\" y=\"-513.8\" font-family=\"Helvetica,sans-Serif\" font-size=\"14.00\" fill=\"#000000\">entropy = 0.654</text>\n<text text-anchor=\"start\" x=\"1450\" y=\"-498.8\" font-family=\"Helvetica,sans-Serif\" font-size=\"14.00\" fill=\"#000000\">samples = 95</text>\n<text text-anchor=\"start\" x=\"1444\" y=\"-483.8\" font-family=\"Helvetica,sans-Serif\" font-size=\"14.00\" fill=\"#000000\">value = [16, 79]</text>\n<text text-anchor=\"start\" x=\"1439.5\" y=\"-468.8\" font-family=\"Helvetica,sans-Serif\" font-size=\"14.00\" fill=\"#000000\">class = befejezte</text>\n</g>\n<!-- 27&#45;&gt;28 -->\n<g id=\"edge28\" class=\"edge\">\n<title>27&#45;&gt;28</title>\n<path fill=\"none\" stroke=\"#000000\" d=\"M1540.1676,-579.8796C1535.0091,-571.2335 1529.5192,-562.0322 1524.1924,-553.1042\"/>\n<polygon fill=\"#000000\" stroke=\"#000000\" points=\"1527.0678,-551.0924 1518.9383,-544.2981 1521.0564,-554.679 1527.0678,-551.0924\"/>\n</g>\n<!-- 35 -->\n<g id=\"node36\" class=\"node\">\n<title>35</title>\n<path fill=\"#b0d8f5\" stroke=\"#000000\" d=\"M1687.5,-536.5C1687.5,-536.5 1586.5,-536.5 1586.5,-536.5 1580.5,-536.5 1574.5,-530.5 1574.5,-524.5 1574.5,-524.5 1574.5,-480.5 1574.5,-480.5 1574.5,-474.5 1580.5,-468.5 1586.5,-468.5 1586.5,-468.5 1687.5,-468.5 1687.5,-468.5 1693.5,-468.5 1699.5,-474.5 1699.5,-480.5 1699.5,-480.5 1699.5,-524.5 1699.5,-524.5 1699.5,-530.5 1693.5,-536.5 1687.5,-536.5\"/>\n<text text-anchor=\"start\" x=\"1586\" y=\"-521.3\" font-family=\"Helvetica,sans-Serif\" font-size=\"14.00\" fill=\"#000000\">entropy = 0.954</text>\n<text text-anchor=\"start\" x=\"1593\" y=\"-506.3\" font-family=\"Helvetica,sans-Serif\" font-size=\"14.00\" fill=\"#000000\">samples = 24</text>\n<text text-anchor=\"start\" x=\"1591.5\" y=\"-491.3\" font-family=\"Helvetica,sans-Serif\" font-size=\"14.00\" fill=\"#000000\">value = [9, 15]</text>\n<text text-anchor=\"start\" x=\"1582.5\" y=\"-476.3\" font-family=\"Helvetica,sans-Serif\" font-size=\"14.00\" fill=\"#000000\">class = befejezte</text>\n</g>\n<!-- 27&#45;&gt;35 -->\n<g id=\"edge35\" class=\"edge\">\n<title>27&#45;&gt;35</title>\n<path fill=\"none\" stroke=\"#000000\" d=\"M1590.1821,-579.8796C1596.9017,-568.7735 1604.1757,-556.7513 1610.9414,-545.5691\"/>\n<polygon fill=\"#000000\" stroke=\"#000000\" points=\"1614.0559,-547.1826 1616.238,-536.8149 1608.0668,-543.5589 1614.0559,-547.1826\"/>\n</g>\n<!-- 29 -->\n<g id=\"node30\" class=\"node\">\n<title>29</title>\n<path fill=\"#66b3eb\" stroke=\"#000000\" d=\"M1553,-425C1553,-425 1415,-425 1415,-425 1409,-425 1403,-419 1403,-413 1403,-413 1403,-354 1403,-354 1403,-348 1409,-342 1415,-342 1415,-342 1553,-342 1553,-342 1559,-342 1565,-348 1565,-354 1565,-354 1565,-413 1565,-413 1565,-419 1559,-425 1553,-425\"/>\n<text text-anchor=\"start\" x=\"1411\" y=\"-409.8\" font-family=\"Helvetica,sans-Serif\" font-size=\"14.00\" fill=\"#000000\">közepesen lassú ≤ 0.5</text>\n<text text-anchor=\"start\" x=\"1433\" y=\"-394.8\" font-family=\"Helvetica,sans-Serif\" font-size=\"14.00\" fill=\"#000000\">entropy = 0.692</text>\n<text text-anchor=\"start\" x=\"1440\" y=\"-379.8\" font-family=\"Helvetica,sans-Serif\" font-size=\"14.00\" fill=\"#000000\">samples = 70</text>\n<text text-anchor=\"start\" x=\"1434\" y=\"-364.8\" font-family=\"Helvetica,sans-Serif\" font-size=\"14.00\" fill=\"#000000\">value = [13, 57]</text>\n<text text-anchor=\"start\" x=\"1429.5\" y=\"-349.8\" font-family=\"Helvetica,sans-Serif\" font-size=\"14.00\" fill=\"#000000\">class = befejezte</text>\n</g>\n<!-- 28&#45;&gt;29 -->\n<g id=\"edge29\" class=\"edge\">\n<title>28&#45;&gt;29</title>\n<path fill=\"none\" stroke=\"#000000\" d=\"M1490.5025,-460.8796C1489.8138,-452.6838 1489.0831,-443.9891 1488.3699,-435.5013\"/>\n<polygon fill=\"#000000\" stroke=\"#000000\" points=\"1491.8376,-434.9698 1487.5124,-425.2981 1484.8622,-435.5561 1491.8376,-434.9698\"/>\n</g>\n<!-- 34 -->\n<g id=\"node35\" class=\"node\">\n<title>34</title>\n<path fill=\"#54aae9\" stroke=\"#000000\" d=\"M1696.5,-417.5C1696.5,-417.5 1595.5,-417.5 1595.5,-417.5 1589.5,-417.5 1583.5,-411.5 1583.5,-405.5 1583.5,-405.5 1583.5,-361.5 1583.5,-361.5 1583.5,-355.5 1589.5,-349.5 1595.5,-349.5 1595.5,-349.5 1696.5,-349.5 1696.5,-349.5 1702.5,-349.5 1708.5,-355.5 1708.5,-361.5 1708.5,-361.5 1708.5,-405.5 1708.5,-405.5 1708.5,-411.5 1702.5,-417.5 1696.5,-417.5\"/>\n<text text-anchor=\"start\" x=\"1595\" y=\"-402.3\" font-family=\"Helvetica,sans-Serif\" font-size=\"14.00\" fill=\"#000000\">entropy = 0.529</text>\n<text text-anchor=\"start\" x=\"1602\" y=\"-387.3\" font-family=\"Helvetica,sans-Serif\" font-size=\"14.00\" fill=\"#000000\">samples = 25</text>\n<text text-anchor=\"start\" x=\"1600.5\" y=\"-372.3\" font-family=\"Helvetica,sans-Serif\" font-size=\"14.00\" fill=\"#000000\">value = [3, 22]</text>\n<text text-anchor=\"start\" x=\"1591.5\" y=\"-357.3\" font-family=\"Helvetica,sans-Serif\" font-size=\"14.00\" fill=\"#000000\">class = befejezte</text>\n</g>\n<!-- 28&#45;&gt;34 -->\n<g id=\"edge34\" class=\"edge\">\n<title>28&#45;&gt;34</title>\n<path fill=\"none\" stroke=\"#000000\" d=\"M1547.1622,-460.8796C1562.3313,-449.0038 1578.8384,-436.0804 1593.9409,-424.2568\"/>\n<polygon fill=\"#000000\" stroke=\"#000000\" points=\"1596.4528,-426.7353 1602.1692,-417.8149 1592.1376,-421.2236 1596.4528,-426.7353\"/>\n</g>\n<!-- 30 -->\n<g id=\"node31\" class=\"node\">\n<title>30</title>\n<path fill=\"#62b1ea\" stroke=\"#000000\" d=\"M1502,-306C1502,-306 1362,-306 1362,-306 1356,-306 1350,-300 1350,-294 1350,-294 1350,-235 1350,-235 1350,-229 1356,-223 1362,-223 1362,-223 1502,-223 1502,-223 1508,-223 1514,-229 1514,-235 1514,-235 1514,-294 1514,-294 1514,-300 1508,-306 1502,-306\"/>\n<text text-anchor=\"start\" x=\"1358\" y=\"-290.8\" font-family=\"Helvetica,sans-Serif\" font-size=\"14.00\" fill=\"#000000\">közepesen gyors ≤ 0.5</text>\n<text text-anchor=\"start\" x=\"1381\" y=\"-275.8\" font-family=\"Helvetica,sans-Serif\" font-size=\"14.00\" fill=\"#000000\">entropy = 0.658</text>\n<text text-anchor=\"start\" x=\"1388\" y=\"-260.8\" font-family=\"Helvetica,sans-Serif\" font-size=\"14.00\" fill=\"#000000\">samples = 47</text>\n<text text-anchor=\"start\" x=\"1386.5\" y=\"-245.8\" font-family=\"Helvetica,sans-Serif\" font-size=\"14.00\" fill=\"#000000\">value = [8, 39]</text>\n<text text-anchor=\"start\" x=\"1377.5\" y=\"-230.8\" font-family=\"Helvetica,sans-Serif\" font-size=\"14.00\" fill=\"#000000\">class = befejezte</text>\n</g>\n<!-- 29&#45;&gt;30 -->\n<g id=\"edge30\" class=\"edge\">\n<title>29&#45;&gt;30</title>\n<path fill=\"none\" stroke=\"#000000\" d=\"M1465.8129,-341.8796C1462.1135,-333.4136 1458.1815,-324.4153 1454.3567,-315.6626\"/>\n<polygon fill=\"#000000\" stroke=\"#000000\" points=\"1457.4761,-314.0599 1450.2647,-306.2981 1451.0617,-316.8629 1457.4761,-314.0599\"/>\n</g>\n<!-- 33 -->\n<g id=\"node34\" class=\"node\">\n<title>33</title>\n<path fill=\"#70b8ec\" stroke=\"#000000\" d=\"M1645.5,-298.5C1645.5,-298.5 1544.5,-298.5 1544.5,-298.5 1538.5,-298.5 1532.5,-292.5 1532.5,-286.5 1532.5,-286.5 1532.5,-242.5 1532.5,-242.5 1532.5,-236.5 1538.5,-230.5 1544.5,-230.5 1544.5,-230.5 1645.5,-230.5 1645.5,-230.5 1651.5,-230.5 1657.5,-236.5 1657.5,-242.5 1657.5,-242.5 1657.5,-286.5 1657.5,-286.5 1657.5,-292.5 1651.5,-298.5 1645.5,-298.5\"/>\n<text text-anchor=\"start\" x=\"1544\" y=\"-283.3\" font-family=\"Helvetica,sans-Serif\" font-size=\"14.00\" fill=\"#000000\">entropy = 0.755</text>\n<text text-anchor=\"start\" x=\"1551\" y=\"-268.3\" font-family=\"Helvetica,sans-Serif\" font-size=\"14.00\" fill=\"#000000\">samples = 23</text>\n<text text-anchor=\"start\" x=\"1549.5\" y=\"-253.3\" font-family=\"Helvetica,sans-Serif\" font-size=\"14.00\" fill=\"#000000\">value = [5, 18]</text>\n<text text-anchor=\"start\" x=\"1540.5\" y=\"-238.3\" font-family=\"Helvetica,sans-Serif\" font-size=\"14.00\" fill=\"#000000\">class = befejezte</text>\n</g>\n<!-- 29&#45;&gt;33 -->\n<g id=\"edge33\" class=\"edge\">\n<title>29&#45;&gt;33</title>\n<path fill=\"none\" stroke=\"#000000\" d=\"M1522.8224,-341.8796C1533.5921,-330.3337 1545.2854,-317.7976 1556.0617,-306.2446\"/>\n<polygon fill=\"#000000\" stroke=\"#000000\" points=\"1558.7303,-308.5149 1562.992,-298.8149 1553.6115,-303.7402 1558.7303,-308.5149\"/>\n</g>\n<!-- 31 -->\n<g id=\"node32\" class=\"node\">\n<title>31</title>\n<path fill=\"#5dafea\" stroke=\"#000000\" d=\"M1445.5,-179.5C1445.5,-179.5 1344.5,-179.5 1344.5,-179.5 1338.5,-179.5 1332.5,-173.5 1332.5,-167.5 1332.5,-167.5 1332.5,-123.5 1332.5,-123.5 1332.5,-117.5 1338.5,-111.5 1344.5,-111.5 1344.5,-111.5 1445.5,-111.5 1445.5,-111.5 1451.5,-111.5 1457.5,-117.5 1457.5,-123.5 1457.5,-123.5 1457.5,-167.5 1457.5,-167.5 1457.5,-173.5 1451.5,-179.5 1445.5,-179.5\"/>\n<text text-anchor=\"start\" x=\"1344\" y=\"-164.3\" font-family=\"Helvetica,sans-Serif\" font-size=\"14.00\" fill=\"#000000\">entropy = 0.619</text>\n<text text-anchor=\"start\" x=\"1351\" y=\"-149.3\" font-family=\"Helvetica,sans-Serif\" font-size=\"14.00\" fill=\"#000000\">samples = 13</text>\n<text text-anchor=\"start\" x=\"1349.5\" y=\"-134.3\" font-family=\"Helvetica,sans-Serif\" font-size=\"14.00\" fill=\"#000000\">value = [2, 11]</text>\n<text text-anchor=\"start\" x=\"1340.5\" y=\"-119.3\" font-family=\"Helvetica,sans-Serif\" font-size=\"14.00\" fill=\"#000000\">class = befejezte</text>\n</g>\n<!-- 30&#45;&gt;31 -->\n<g id=\"edge31\" class=\"edge\">\n<title>30&#45;&gt;31</title>\n<path fill=\"none\" stroke=\"#000000\" d=\"M1419.0592,-222.8796C1415.7086,-212.1034 1412.0899,-200.4647 1408.7017,-189.5677\"/>\n<polygon fill=\"#000000\" stroke=\"#000000\" points=\"1411.9806,-188.3248 1405.6693,-179.8149 1405.2963,-190.4032 1411.9806,-188.3248\"/>\n</g>\n<!-- 32 -->\n<g id=\"node33\" class=\"node\">\n<title>32</title>\n<path fill=\"#63b2eb\" stroke=\"#000000\" d=\"M1588.5,-179.5C1588.5,-179.5 1487.5,-179.5 1487.5,-179.5 1481.5,-179.5 1475.5,-173.5 1475.5,-167.5 1475.5,-167.5 1475.5,-123.5 1475.5,-123.5 1475.5,-117.5 1481.5,-111.5 1487.5,-111.5 1487.5,-111.5 1588.5,-111.5 1588.5,-111.5 1594.5,-111.5 1600.5,-117.5 1600.5,-123.5 1600.5,-123.5 1600.5,-167.5 1600.5,-167.5 1600.5,-173.5 1594.5,-179.5 1588.5,-179.5\"/>\n<text text-anchor=\"start\" x=\"1487\" y=\"-164.3\" font-family=\"Helvetica,sans-Serif\" font-size=\"14.00\" fill=\"#000000\">entropy = 0.672</text>\n<text text-anchor=\"start\" x=\"1494\" y=\"-149.3\" font-family=\"Helvetica,sans-Serif\" font-size=\"14.00\" fill=\"#000000\">samples = 34</text>\n<text text-anchor=\"start\" x=\"1492.5\" y=\"-134.3\" font-family=\"Helvetica,sans-Serif\" font-size=\"14.00\" fill=\"#000000\">value = [6, 28]</text>\n<text text-anchor=\"start\" x=\"1483.5\" y=\"-119.3\" font-family=\"Helvetica,sans-Serif\" font-size=\"14.00\" fill=\"#000000\">class = befejezte</text>\n</g>\n<!-- 30&#45;&gt;32 -->\n<g id=\"edge32\" class=\"edge\">\n<title>30&#45;&gt;32</title>\n<path fill=\"none\" stroke=\"#000000\" d=\"M1469.0737,-222.8796C1479.2603,-211.4436 1490.3122,-199.0363 1500.5215,-187.575\"/>\n<polygon fill=\"#000000\" stroke=\"#000000\" points=\"1503.3958,-189.6101 1507.4338,-179.8149 1498.1688,-184.9541 1503.3958,-189.6101\"/>\n</g>\n<!-- 37 -->\n<g id=\"node38\" class=\"node\">\n<title>37</title>\n<path fill=\"#f2c19e\" stroke=\"#000000\" d=\"M1877.5,-663C1877.5,-663 1740.5,-663 1740.5,-663 1734.5,-663 1728.5,-657 1728.5,-651 1728.5,-651 1728.5,-592 1728.5,-592 1728.5,-586 1734.5,-580 1740.5,-580 1740.5,-580 1877.5,-580 1877.5,-580 1883.5,-580 1889.5,-586 1889.5,-592 1889.5,-592 1889.5,-651 1889.5,-651 1889.5,-657 1883.5,-663 1877.5,-663\"/>\n<text text-anchor=\"start\" x=\"1774\" y=\"-647.8\" font-family=\"Helvetica,sans-Serif\" font-size=\"14.00\" fill=\"#000000\">lassú ≤ 0.5</text>\n<text text-anchor=\"start\" x=\"1758\" y=\"-632.8\" font-family=\"Helvetica,sans-Serif\" font-size=\"14.00\" fill=\"#000000\">entropy = 0.922</text>\n<text text-anchor=\"start\" x=\"1761\" y=\"-617.8\" font-family=\"Helvetica,sans-Serif\" font-size=\"14.00\" fill=\"#000000\">samples = 175</text>\n<text text-anchor=\"start\" x=\"1755\" y=\"-602.8\" font-family=\"Helvetica,sans-Serif\" font-size=\"14.00\" fill=\"#000000\">value = [116, 59]</text>\n<text text-anchor=\"start\" x=\"1736.5\" y=\"-587.8\" font-family=\"Helvetica,sans-Serif\" font-size=\"14.00\" fill=\"#000000\">class = nem fejezte be</text>\n</g>\n<!-- 36&#45;&gt;37 -->\n<g id=\"edge37\" class=\"edge\">\n<title>36&#45;&gt;37</title>\n<path fill=\"none\" stroke=\"#000000\" d=\"M1809,-698.8796C1809,-690.6838 1809,-681.9891 1809,-673.5013\"/>\n<polygon fill=\"#000000\" stroke=\"#000000\" points=\"1812.5001,-673.298 1809,-663.2981 1805.5001,-673.2981 1812.5001,-673.298\"/>\n</g>\n<!-- 44 -->\n<g id=\"node45\" class=\"node\">\n<title>44</title>\n<path fill=\"#eeab7b\" stroke=\"#000000\" d=\"M2056.5,-655.5C2056.5,-655.5 1919.5,-655.5 1919.5,-655.5 1913.5,-655.5 1907.5,-649.5 1907.5,-643.5 1907.5,-643.5 1907.5,-599.5 1907.5,-599.5 1907.5,-593.5 1913.5,-587.5 1919.5,-587.5 1919.5,-587.5 2056.5,-587.5 2056.5,-587.5 2062.5,-587.5 2068.5,-593.5 2068.5,-599.5 2068.5,-599.5 2068.5,-643.5 2068.5,-643.5 2068.5,-649.5 2062.5,-655.5 2056.5,-655.5\"/>\n<text text-anchor=\"start\" x=\"1937\" y=\"-640.3\" font-family=\"Helvetica,sans-Serif\" font-size=\"14.00\" fill=\"#000000\">entropy = 0.811</text>\n<text text-anchor=\"start\" x=\"1944\" y=\"-625.3\" font-family=\"Helvetica,sans-Serif\" font-size=\"14.00\" fill=\"#000000\">samples = 48</text>\n<text text-anchor=\"start\" x=\"1938\" y=\"-610.3\" font-family=\"Helvetica,sans-Serif\" font-size=\"14.00\" fill=\"#000000\">value = [36, 12]</text>\n<text text-anchor=\"start\" x=\"1915.5\" y=\"-595.3\" font-family=\"Helvetica,sans-Serif\" font-size=\"14.00\" fill=\"#000000\">class = nem fejezte be</text>\n</g>\n<!-- 36&#45;&gt;44 -->\n<g id=\"edge44\" class=\"edge\">\n<title>36&#45;&gt;44</title>\n<path fill=\"none\" stroke=\"#000000\" d=\"M1871.6055,-698.8796C1889.8865,-686.7263 1909.8178,-673.4759 1927.9376,-661.4297\"/>\n<polygon fill=\"#000000\" stroke=\"#000000\" points=\"1930.2821,-664.074 1936.6721,-655.623 1926.4067,-658.2447 1930.2821,-664.074\"/>\n</g>\n<!-- 38 -->\n<g id=\"node39\" class=\"node\">\n<title>38</title>\n<path fill=\"#f3c5a3\" stroke=\"#000000\" d=\"M1878,-544C1878,-544 1740,-544 1740,-544 1734,-544 1728,-538 1728,-532 1728,-532 1728,-473 1728,-473 1728,-467 1734,-461 1740,-461 1740,-461 1878,-461 1878,-461 1884,-461 1890,-467 1890,-473 1890,-473 1890,-532 1890,-532 1890,-538 1884,-544 1878,-544\"/>\n<text text-anchor=\"start\" x=\"1736\" y=\"-528.8\" font-family=\"Helvetica,sans-Serif\" font-size=\"14.00\" fill=\"#000000\">közepesen lassú ≤ 0.5</text>\n<text text-anchor=\"start\" x=\"1758\" y=\"-513.8\" font-family=\"Helvetica,sans-Serif\" font-size=\"14.00\" fill=\"#000000\">entropy = 0.934</text>\n<text text-anchor=\"start\" x=\"1761\" y=\"-498.8\" font-family=\"Helvetica,sans-Serif\" font-size=\"14.00\" fill=\"#000000\">samples = 143</text>\n<text text-anchor=\"start\" x=\"1759\" y=\"-483.8\" font-family=\"Helvetica,sans-Serif\" font-size=\"14.00\" fill=\"#000000\">value = [93, 50]</text>\n<text text-anchor=\"start\" x=\"1736.5\" y=\"-468.8\" font-family=\"Helvetica,sans-Serif\" font-size=\"14.00\" fill=\"#000000\">class = nem fejezte be</text>\n</g>\n<!-- 37&#45;&gt;38 -->\n<g id=\"edge38\" class=\"edge\">\n<title>37&#45;&gt;38</title>\n<path fill=\"none\" stroke=\"#000000\" d=\"M1809,-579.8796C1809,-571.6838 1809,-562.9891 1809,-554.5013\"/>\n<polygon fill=\"#000000\" stroke=\"#000000\" points=\"1812.5001,-554.298 1809,-544.2981 1805.5001,-554.2981 1812.5001,-554.298\"/>\n</g>\n<!-- 43 -->\n<g id=\"node44\" class=\"node\">\n<title>43</title>\n<path fill=\"#efb286\" stroke=\"#000000\" d=\"M2057.5,-536.5C2057.5,-536.5 1920.5,-536.5 1920.5,-536.5 1914.5,-536.5 1908.5,-530.5 1908.5,-524.5 1908.5,-524.5 1908.5,-480.5 1908.5,-480.5 1908.5,-474.5 1914.5,-468.5 1920.5,-468.5 1920.5,-468.5 2057.5,-468.5 2057.5,-468.5 2063.5,-468.5 2069.5,-474.5 2069.5,-480.5 2069.5,-480.5 2069.5,-524.5 2069.5,-524.5 2069.5,-530.5 2063.5,-536.5 2057.5,-536.5\"/>\n<text text-anchor=\"start\" x=\"1938\" y=\"-521.3\" font-family=\"Helvetica,sans-Serif\" font-size=\"14.00\" fill=\"#000000\">entropy = 0.857</text>\n<text text-anchor=\"start\" x=\"1945\" y=\"-506.3\" font-family=\"Helvetica,sans-Serif\" font-size=\"14.00\" fill=\"#000000\">samples = 32</text>\n<text text-anchor=\"start\" x=\"1943.5\" y=\"-491.3\" font-family=\"Helvetica,sans-Serif\" font-size=\"14.00\" fill=\"#000000\">value = [23, 9]</text>\n<text text-anchor=\"start\" x=\"1916.5\" y=\"-476.3\" font-family=\"Helvetica,sans-Serif\" font-size=\"14.00\" fill=\"#000000\">class = nem fejezte be</text>\n</g>\n<!-- 37&#45;&gt;43 -->\n<g id=\"edge43\" class=\"edge\">\n<title>37&#45;&gt;43</title>\n<path fill=\"none\" stroke=\"#000000\" d=\"M1871.9553,-579.8796C1890.3384,-567.7263 1910.3811,-554.4759 1928.6021,-542.4297\"/>\n<polygon fill=\"#000000\" stroke=\"#000000\" points=\"1930.9737,-545.0576 1937.3853,-536.623 1927.1133,-539.2183 1930.9737,-545.0576\"/>\n</g>\n<!-- 39 -->\n<g id=\"node40\" class=\"node\">\n<title>39</title>\n<path fill=\"#f2c29f\" stroke=\"#000000\" d=\"M1879,-425C1879,-425 1739,-425 1739,-425 1733,-425 1727,-419 1727,-413 1727,-413 1727,-354 1727,-354 1727,-348 1733,-342 1739,-342 1739,-342 1879,-342 1879,-342 1885,-342 1891,-348 1891,-354 1891,-354 1891,-413 1891,-413 1891,-419 1885,-425 1879,-425\"/>\n<text text-anchor=\"start\" x=\"1735\" y=\"-409.8\" font-family=\"Helvetica,sans-Serif\" font-size=\"14.00\" fill=\"#000000\">közepesen gyors ≤ 0.5</text>\n<text text-anchor=\"start\" x=\"1758\" y=\"-394.8\" font-family=\"Helvetica,sans-Serif\" font-size=\"14.00\" fill=\"#000000\">entropy = 0.925</text>\n<text text-anchor=\"start\" x=\"1761\" y=\"-379.8\" font-family=\"Helvetica,sans-Serif\" font-size=\"14.00\" fill=\"#000000\">samples = 103</text>\n<text text-anchor=\"start\" x=\"1759\" y=\"-364.8\" font-family=\"Helvetica,sans-Serif\" font-size=\"14.00\" fill=\"#000000\">value = [68, 35]</text>\n<text text-anchor=\"start\" x=\"1736.5\" y=\"-349.8\" font-family=\"Helvetica,sans-Serif\" font-size=\"14.00\" fill=\"#000000\">class = nem fejezte be</text>\n</g>\n<!-- 38&#45;&gt;39 -->\n<g id=\"edge39\" class=\"edge\">\n<title>38&#45;&gt;39</title>\n<path fill=\"none\" stroke=\"#000000\" d=\"M1809,-460.8796C1809,-452.6838 1809,-443.9891 1809,-435.5013\"/>\n<polygon fill=\"#000000\" stroke=\"#000000\" points=\"1812.5001,-435.298 1809,-425.2981 1805.5001,-435.2981 1812.5001,-435.298\"/>\n</g>\n<!-- 42 -->\n<g id=\"node43\" class=\"node\">\n<title>42</title>\n<path fill=\"#f5cdb0\" stroke=\"#000000\" d=\"M2058.5,-417.5C2058.5,-417.5 1921.5,-417.5 1921.5,-417.5 1915.5,-417.5 1909.5,-411.5 1909.5,-405.5 1909.5,-405.5 1909.5,-361.5 1909.5,-361.5 1909.5,-355.5 1915.5,-349.5 1921.5,-349.5 1921.5,-349.5 2058.5,-349.5 2058.5,-349.5 2064.5,-349.5 2070.5,-355.5 2070.5,-361.5 2070.5,-361.5 2070.5,-405.5 2070.5,-405.5 2070.5,-411.5 2064.5,-417.5 2058.5,-417.5\"/>\n<text text-anchor=\"start\" x=\"1939\" y=\"-402.3\" font-family=\"Helvetica,sans-Serif\" font-size=\"14.00\" fill=\"#000000\">entropy = 0.954</text>\n<text text-anchor=\"start\" x=\"1946\" y=\"-387.3\" font-family=\"Helvetica,sans-Serif\" font-size=\"14.00\" fill=\"#000000\">samples = 40</text>\n<text text-anchor=\"start\" x=\"1940\" y=\"-372.3\" font-family=\"Helvetica,sans-Serif\" font-size=\"14.00\" fill=\"#000000\">value = [25, 15]</text>\n<text text-anchor=\"start\" x=\"1917.5\" y=\"-357.3\" font-family=\"Helvetica,sans-Serif\" font-size=\"14.00\" fill=\"#000000\">class = nem fejezte be</text>\n</g>\n<!-- 38&#45;&gt;42 -->\n<g id=\"edge42\" class=\"edge\">\n<title>38&#45;&gt;42</title>\n<path fill=\"none\" stroke=\"#000000\" d=\"M1872.305,-460.8796C1890.7903,-448.7263 1910.9443,-435.4759 1929.2665,-423.4297\"/>\n<polygon fill=\"#000000\" stroke=\"#000000\" points=\"1931.6655,-426.0412 1938.0986,-417.623 1927.8199,-420.1921 1931.6655,-426.0412\"/>\n</g>\n<!-- 40 -->\n<g id=\"node41\" class=\"node\">\n<title>40</title>\n<path fill=\"#f2c29e\" stroke=\"#000000\" d=\"M1851.5,-298.5C1851.5,-298.5 1714.5,-298.5 1714.5,-298.5 1708.5,-298.5 1702.5,-292.5 1702.5,-286.5 1702.5,-286.5 1702.5,-242.5 1702.5,-242.5 1702.5,-236.5 1708.5,-230.5 1714.5,-230.5 1714.5,-230.5 1851.5,-230.5 1851.5,-230.5 1857.5,-230.5 1863.5,-236.5 1863.5,-242.5 1863.5,-242.5 1863.5,-286.5 1863.5,-286.5 1863.5,-292.5 1857.5,-298.5 1851.5,-298.5\"/>\n<text text-anchor=\"start\" x=\"1732\" y=\"-283.3\" font-family=\"Helvetica,sans-Serif\" font-size=\"14.00\" fill=\"#000000\">entropy = 0.924</text>\n<text text-anchor=\"start\" x=\"1739\" y=\"-268.3\" font-family=\"Helvetica,sans-Serif\" font-size=\"14.00\" fill=\"#000000\">samples = 62</text>\n<text text-anchor=\"start\" x=\"1733\" y=\"-253.3\" font-family=\"Helvetica,sans-Serif\" font-size=\"14.00\" fill=\"#000000\">value = [41, 21]</text>\n<text text-anchor=\"start\" x=\"1710.5\" y=\"-238.3\" font-family=\"Helvetica,sans-Serif\" font-size=\"14.00\" fill=\"#000000\">class = nem fejezte be</text>\n</g>\n<!-- 39&#45;&gt;40 -->\n<g id=\"edge40\" class=\"edge\">\n<title>39&#45;&gt;40</title>\n<path fill=\"none\" stroke=\"#000000\" d=\"M1799.9065,-341.8796C1797.576,-331.2134 1795.061,-319.7021 1792.7012,-308.9015\"/>\n<polygon fill=\"#000000\" stroke=\"#000000\" points=\"1796.0513,-307.8374 1790.4974,-298.8149 1789.2126,-309.3316 1796.0513,-307.8374\"/>\n</g>\n<!-- 41 -->\n<g id=\"node42\" class=\"node\">\n<title>41</title>\n<path fill=\"#f2c2a0\" stroke=\"#000000\" d=\"M2030.5,-298.5C2030.5,-298.5 1893.5,-298.5 1893.5,-298.5 1887.5,-298.5 1881.5,-292.5 1881.5,-286.5 1881.5,-286.5 1881.5,-242.5 1881.5,-242.5 1881.5,-236.5 1887.5,-230.5 1893.5,-230.5 1893.5,-230.5 2030.5,-230.5 2030.5,-230.5 2036.5,-230.5 2042.5,-236.5 2042.5,-242.5 2042.5,-242.5 2042.5,-286.5 2042.5,-286.5 2042.5,-292.5 2036.5,-298.5 2030.5,-298.5\"/>\n<text text-anchor=\"start\" x=\"1911\" y=\"-283.3\" font-family=\"Helvetica,sans-Serif\" font-size=\"14.00\" fill=\"#000000\">entropy = 0.926</text>\n<text text-anchor=\"start\" x=\"1918\" y=\"-268.3\" font-family=\"Helvetica,sans-Serif\" font-size=\"14.00\" fill=\"#000000\">samples = 41</text>\n<text text-anchor=\"start\" x=\"1912\" y=\"-253.3\" font-family=\"Helvetica,sans-Serif\" font-size=\"14.00\" fill=\"#000000\">value = [27, 14]</text>\n<text text-anchor=\"start\" x=\"1889.5\" y=\"-238.3\" font-family=\"Helvetica,sans-Serif\" font-size=\"14.00\" fill=\"#000000\">class = nem fejezte be</text>\n</g>\n<!-- 39&#45;&gt;41 -->\n<g id=\"edge41\" class=\"edge\">\n<title>39&#45;&gt;41</title>\n<path fill=\"none\" stroke=\"#000000\" d=\"M1862.512,-341.8796C1877.7808,-330.0038 1894.3966,-317.0804 1909.5984,-305.2568\"/>\n<polygon fill=\"#000000\" stroke=\"#000000\" points=\"1912.1361,-307.7171 1917.8808,-298.8149 1907.8384,-302.1916 1912.1361,-307.7171\"/>\n</g>\n</g>\n</svg>\n",
            "text/plain": [
              "<graphviz.files.Source at 0x7f5f66860750>"
            ]
          },
          "execution_count": 47,
          "metadata": {},
          "output_type": "execute_result"
        }
      ],
      "source": [
        "dot_data = export_graphviz(clf_dtree2, out_file=None, \n",
        "                      feature_names=features,\n",
        "                      class_names=[\"nem fejezte be\", \"befejezte\"],\n",
        "                      filled=True, rounded=True,  \n",
        "                      special_characters=True)  \n",
        "graph = graphviz.Source(dot_data)  \n",
        "graph"
      ]
    },
    {
      "cell_type": "markdown",
      "metadata": {
        "id": "r40XB0bRvmYL"
      },
      "source": [
        "### Érdekességként"
      ]
    },
    {
      "cell_type": "markdown",
      "metadata": {
        "id": "yTf-j40zvmYM"
      },
      "source": [
        "Kiváncsiságból kipróbáltam más osztályozással is. Az SVC és a Random Forest tudott hasonló modell pontosságot produkálni."
      ]
    },
    {
      "cell_type": "markdown",
      "metadata": {
        "id": "F7AqUPM0vmYM"
      },
      "source": [
        "#### Support Vector osztályozó"
      ]
    },
    {
      "cell_type": "code",
      "execution_count": null,
      "metadata": {
        "colab": {
          "base_uri": "https://localhost:8080/"
        },
        "id": "gh7__RJuvmYM",
        "outputId": "e8a3ccbf-8338-4043-ca41-9b383a1ff15f"
      },
      "outputs": [
        {
          "data": {
            "text/plain": [
              "SVC()"
            ]
          },
          "execution_count": 48,
          "metadata": {},
          "output_type": "execute_result"
        }
      ],
      "source": [
        "clf_svm = SVC()\n",
        "clf_svm.fit(X_train, y_train.ravel())"
      ]
    },
    {
      "cell_type": "code",
      "execution_count": null,
      "metadata": {
        "colab": {
          "base_uri": "https://localhost:8080/"
        },
        "id": "o68vqFZyvmYM",
        "outputId": "3099f785-7931-4ef5-8128-da0a2b811d54"
      },
      "outputs": [
        {
          "name": "stdout",
          "output_type": "stream",
          "text": [
            "[0 1 0 1 1 1 1 1 0 0 1 1 0 0 1 1 1 1 1 1 1 0 0 1 1 1 0 0 1 0 1 1 0 1 1 1 0\n",
            " 1 0 1 1 1 0 0 0 1 0 0 0 1 0 1 1 1 1 1 0 1 1 1 1 0 1 1 0 1 1 1 1 1 1 1 1 1\n",
            " 1 0 0 1 0 1 0 1 0 1 1 1 0 0 0 0 1 1 1 1 1 0 0 1 1 1 0 0 1 0 1 1 0 1 0 0 0\n",
            " 0 0 0 0 1 0 1 1 0 0 0 0 1 1 1 0 1 0 1 0 1 1 1 1 1 1 0 1 0 1 1 0 0 0 0 1 1\n",
            " 0 0 0 1 1 1 1 1 1 1 0 0 1 1 0 0 1 1 0 0 0 0 0 1 0 1 0 0 1 1 1 1 1 1 1 0 0\n",
            " 0 1 1 0 0 0 1 1 1 0 1 0 0 0 1 1 1 1 1 1 1 1 1 1 1 1 0 1 0 0 1 0 0 1 0 0 1\n",
            " 0 1 1 1 1 1 0 1 1 1 1 0 1 1 1 1 0 1 1 1 1 1 1 0 0 0 0 0 1 0 1 0 1 1 0 0 0\n",
            " 1 1 0 0 1 0 1 0 0 1 0 1 1 1 1 1 0 1 0 1 0 1 0 1 1 1 1 1 1 1 0 1 1 0 1 1 1\n",
            " 1 1 0 1 0 0 0 1 0 0 1 1 1 0 1 1 1 0 0 1 1 0 0 1 0 0 0 1 1 0 1 0 1 0 1 1 0\n",
            " 0 1 0 0 0 0 1 1 0 1 1 1 0 1 1 1 0 0 1 0 1 1 0 1 1 0 1 1 1 1 1 0 0 0 0 0 0\n",
            " 1 1 1 1 1 1 0 1 1 0 1 1 1 0 1 0 0 0 0 1 1 0 1 0 1 1 1 0 1 1 0 1 0 1 1 1 0\n",
            " 1 1 0 1 0 1 0 1 0 1 0 1 1 1 0 0 1 0 1 1 1 1 1 0 1 1 0 0 1 1 0 1 1 0 1 1 0\n",
            " 1 1 1 0 0 1 1 0 1 0 1 1 1 0 1 1 1 0 0 1 0 1 0 0 1 0 1 0 0 1 1 1 0 1 0 1 0\n",
            " 0 1 1 0 0 1 1 1 1 0 1 0 1 0 0 1 0 1 0 1 1 0 0 1 0 0]\n"
          ]
        }
      ],
      "source": [
        "y_pred_svm = clf_svm.predict(X_test)\n",
        "print(y_pred_svm)"
      ]
    },
    {
      "cell_type": "code",
      "execution_count": null,
      "metadata": {
        "colab": {
          "base_uri": "https://localhost:8080/"
        },
        "id": "CLNpA1WBvmYM",
        "outputId": "1b625cbb-eebe-4d73-c1fa-b254bb48400a"
      },
      "outputs": [
        {
          "name": "stdout",
          "output_type": "stream",
          "text": [
            "A modell pontossága: 0.591715976331361\n"
          ]
        }
      ],
      "source": [
        "# Modell kiértékelése\n",
        "print(\"A modell pontossága:\", clf_svm.score(X_test,y_test))"
      ]
    },
    {
      "cell_type": "code",
      "execution_count": null,
      "metadata": {
        "colab": {
          "base_uri": "https://localhost:8080/",
          "height": 279
        },
        "id": "RXUdso3JvmYN",
        "outputId": "c8353368-e4a9-4664-fd3b-a3862c589438"
      },
      "outputs": [
        {
          "data": {
            "image/png": "[encoded data removed]",
            "text/plain": [
              "<Figure size 432x288 with 2 Axes>"
            ]
          },
          "metadata": {
            "needs_background": "light"
          },
          "output_type": "display_data"
        }
      ],
      "source": [
        "plot_confusion_matrix(clf_svm, X_test, y_test, cmap=plt.cm.Blues)\n",
        "plt.show()"
      ]
    },
    {
      "cell_type": "markdown",
      "metadata": {
        "id": "t067tJLdvmYN"
      },
      "source": [
        "#### Random forest osztályozó"
      ]
    },
    {
      "cell_type": "code",
      "execution_count": null,
      "metadata": {
        "id": "_xcGfDrCvmYN"
      },
      "outputs": [],
      "source": [
        "clf_rfc = RandomForestClassifier()\n",
        "clf_rfc = clf_rfc.fit(X_train, y_train.ravel())"
      ]
    },
    {
      "cell_type": "code",
      "execution_count": null,
      "metadata": {
        "colab": {
          "base_uri": "https://localhost:8080/"
        },
        "id": "gsl9R_-BvmYN",
        "outputId": "13b6ff85-3547-46c9-846b-28ea67636a90"
      },
      "outputs": [
        {
          "name": "stdout",
          "output_type": "stream",
          "text": [
            "[0 1 0 1 1 1 1 1 0 0 1 1 0 1 1 1 1 1 1 1 1 0 1 1 1 1 0 1 1 0 1 1 0 1 1 1 0\n",
            " 1 0 1 1 1 0 0 0 1 0 0 0 1 0 1 1 1 1 1 0 1 1 1 1 1 1 1 0 1 1 1 1 1 1 1 1 1\n",
            " 1 0 0 1 0 1 0 1 0 1 1 1 0 0 0 0 1 1 1 1 1 0 0 1 1 1 0 0 1 0 1 1 0 1 0 0 0\n",
            " 0 0 0 0 1 0 1 1 0 0 1 0 1 1 1 0 1 0 1 1 1 1 1 1 1 1 0 1 0 1 1 0 0 0 0 1 1\n",
            " 0 0 0 1 1 1 1 1 1 1 0 0 1 1 0 0 1 1 0 0 0 0 0 1 0 1 0 0 1 1 1 1 1 1 1 0 0\n",
            " 0 1 1 0 0 0 1 1 1 0 1 0 0 0 1 1 1 1 1 1 1 1 1 1 1 1 0 1 0 0 1 0 0 1 0 0 1\n",
            " 0 1 1 1 1 1 0 1 1 1 1 0 1 1 1 1 0 1 1 1 1 1 1 0 0 0 0 0 1 0 1 0 1 1 0 0 0\n",
            " 1 1 0 0 1 0 1 0 0 1 0 1 1 1 1 1 0 1 0 1 0 1 0 1 1 1 1 1 1 1 0 1 1 0 1 1 1\n",
            " 1 1 0 1 0 0 0 1 0 0 1 1 1 0 1 1 1 0 0 1 1 0 0 1 0 0 0 1 1 0 1 0 1 0 1 1 0\n",
            " 0 1 0 0 0 0 1 1 0 1 1 1 0 1 1 1 0 0 1 0 1 1 0 1 1 0 1 1 1 1 1 0 1 0 0 0 0\n",
            " 1 1 1 1 1 1 0 1 1 0 1 1 1 0 1 0 0 0 0 1 1 0 1 0 1 1 1 0 1 1 0 1 0 1 1 1 0\n",
            " 1 1 0 1 0 1 1 1 0 1 0 1 1 1 0 0 1 0 1 1 1 1 1 0 1 1 0 0 1 1 0 1 1 0 1 1 0\n",
            " 1 1 1 0 0 1 1 0 1 0 1 1 1 0 1 1 1 0 0 1 0 1 0 0 1 0 1 0 0 1 1 1 0 1 0 1 0\n",
            " 0 1 1 0 0 1 1 1 1 0 1 0 1 0 0 1 0 1 0 1 1 0 0 1 0 0]\n"
          ]
        }
      ],
      "source": [
        "# Osztálycímke \"jóslása\"\n",
        "y_pred_rfc = clf_rfc.predict(X_test)\n",
        "print(y_pred_rfc)"
      ]
    },
    {
      "cell_type": "code",
      "execution_count": null,
      "metadata": {
        "colab": {
          "base_uri": "https://localhost:8080/"
        },
        "id": "gRwezl70vmYO",
        "outputId": "670dead5-ab13-40a7-86c6-83f6824eb215"
      },
      "outputs": [
        {
          "name": "stdout",
          "output_type": "stream",
          "text": [
            "A modell pontossága: 0.591715976331361\n"
          ]
        }
      ],
      "source": [
        "# Modell kiértékelése\n",
        "print(\"A modell pontossága:\", clf_rfc.score(X_test,y_test))"
      ]
    },
    {
      "cell_type": "markdown",
      "metadata": {
        "id": "ac9kATGIvmYO"
      },
      "source": [
        "# Összegzés"
      ]
    },
    {
      "cell_type": "markdown",
      "metadata": {
        "id": "hrbIQtWFvmYO"
      },
      "source": [
        "A beadandó során alkalmam volt gyakorolni az adattisztítási adatranszformálási feladatokat, így nagyobb rálátást tudtam szerezni az adatbányászat műveleteire. Grafikonok segítségével lehetőség volt érdekes mintázatokat is feltárni, majd az osztályozás segítségével létrehoztam modelleket, amiknek a pontosságai különböznek.\n",
        "\n",
        "Konklúzióként azt tudom levonni, hogy valószínüleg azokból az attrimútumokból amelyekkel én próbáltam modellt tanítani, nem fogunk tudni pontosan kimenetelt megjósolni, mivel a pontossága nem a legmagasabb."
      ]
    }
  ],
  "metadata": {
    "colab": {
      "collapsed_sections": [],
      "name": "Copy of bszm.ipynb",
      "provenance": []
    },
    "kernelspec": {
      "display_name": "Python 3",
      "language": "python",
      "name": "python3"
    },
    "language_info": {
      "codemirror_mode": {
        "name": "ipython",
        "version": 3
      },
      "file_extension": ".py",
      "mimetype": "text/x-python",
      "name": "python",
      "nbconvert_exporter": "python",
      "pygments_lexer": "ipython3",
      "version": "3.8.4"
    }
  },
  "nbformat": 4,
  "nbformat_minor": 0
}
