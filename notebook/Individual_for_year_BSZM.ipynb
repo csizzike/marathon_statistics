{
 "cells": [
  {
   "cell_type": "markdown",
   "metadata": {},
   "source": [
    "# Éves kiértékelés és tisztítás"
   ]
  },
  {
   "cell_type": "code",
   "execution_count": 1,
   "metadata": {},
   "outputs": [],
   "source": [
    "import pandas as pd\n",
    "import numpy as np\n",
    "from datetime import timedelta\n",
    "from numpy.core.numeric import Inf, NaN\n",
    "from datetime import date\n",
    "local_path = '/Users/csizi/Development/marathon_statistics/dataset/csv/'\n",
    "df = pd.read_csv(local_path + 'BSZM_2020.csv', encoding = \"ISO-8859-1\", \n",
    "                    sep=';', header=0)\n",
    "df['sz.év.'] = df['sz.év.'].replace(NaN, 9999)\n",
    "df['sz.év.'] = df['sz.év.'].astype(int)\n",
    "df['curryear'] = date.today().year\n",
    "df['kor'] = df['curryear'] - df['sz.év.']\n",
    "df.drop(['rajtszám', 'kat.h.', 'curryear'], axis = 1, inplace=True)    \n",
    "df.drop(['1.nap/1.idõ', '1.nap/2.idõ', '1.nap/3.idõ', '2.nap/1.idõ', '2.nap/2.idõ', '2.nap/3.idõ', '3.nap /1.idõ', '3.nap/2.idõ', '3.nap/3.idõ', '4.nap/1.idõ', '4.nap/2.idõ', '4.nap/3.idõ'], axis = 1, inplace=True)\n",
    "df[\"befejezte\"] = np.where(df['Megtett táv (km)'] < df['Megtett táv (km)'].max(), False, True)\n",
    "df = df.replace('99:59:59', np.nan)\n",
    "df['eredmény'] = pd.to_timedelta(df['eredmény'])\n",
    "df['1.nap összidõ'] = pd.to_timedelta(df['1.nap összidõ'])\n",
    "df['2.nap összidõ'] = pd.to_timedelta(df['2.nap összidõ'])\n",
    "df['3.nap összidõ'] = pd.to_timedelta(df['3.nap összidõ'])\n",
    "df['4.nap összidõ'] = pd.to_timedelta(df['4.nap összidõ'])\n",
    "eredmény = ['1.nap összidõ', '2.nap összidõ', '3.nap összidõ', '4.nap összidõ']\n",
    "df['eredmény'] = df[eredmény].sum(axis=1, skipna=True)\n",
    "df['eredmény'] = df['eredmény'] - pd.to_timedelta(df['eredmény'].dt.days, unit='h')\n",
    "df[\"eredmény(perc)\"] = df['eredmény'].astype('timedelta64[m]')\n",
    "df[\"átlagos tempó (perc/km)\"] = df['eredmény'].astype('timedelta64[m]')/df['Megtett táv (km)']\n",
    "df['sebesség kategória'] = pd.qcut(df['átlagos tempó (perc/km)'], 5, labels=['gyors', 'közepesen gyors', 'közepes', 'közepesen lassú', 'lassú'])\n",
    "df.loc[df['eredmény(perc)'] == 0.0] = np.nan\n",
    "df.drop_duplicates(inplace=True)\n",
    "df.loc[df['átlagos tempó (perc/km)'] < 3] = np.nan\n",
    "df.loc[df['átlagos tempó (perc/km)'] == np.inf] = np.nan\n",
    "df.dropna(axis=0, how='all', inplace=True)"
   ]
  },
  {
   "cell_type": "code",
   "execution_count": 21,
   "metadata": {},
   "outputs": [
    {
     "data": {
      "text/plain": [
       "Hely.                       0\n",
       "Név/Csapatnév              34\n",
       "sz.év.                     34\n",
       "Kategória                  34\n",
       "Ország                     34\n",
       "Csapat                     13\n",
       "Város                      34\n",
       "nem                        34\n",
       "1.nap összidõ              33\n",
       "2.nap összidõ              15\n",
       "3.nap összidõ              16\n",
       "4.nap összidõ               7\n",
       "eredmény                   34\n",
       "Megtett táv (km)           34\n",
       "kor                        34\n",
       "befejezte                  34\n",
       "eredmény(perc)             34\n",
       "átlagos tempó (perc/km)    34\n",
       "sebesség kategória         34\n",
       "dtype: int64"
      ]
     },
     "execution_count": 21,
     "metadata": {},
     "output_type": "execute_result"
    }
   ],
   "source": [
    "df[df[\"befejezte\"]==0.0].count()"
   ]
  }
 ],
 "metadata": {
  "interpreter": {
   "hash": "082e9a3bcad0a290d0001e938aa60b99250c6c2ef33a923c00b70f9826caf4b7"
  },
  "kernelspec": {
   "display_name": "Python 3.8.4 64-bit",
   "language": "python",
   "name": "python3"
  },
  "language_info": {
   "codemirror_mode": {
    "name": "ipython",
    "version": 3
   },
   "file_extension": ".py",
   "mimetype": "text/x-python",
   "name": "python",
   "nbconvert_exporter": "python",
   "pygments_lexer": "ipython3",
   "version": "3.8.4"
  },
  "orig_nbformat": 4
 },
 "nbformat": 4,
 "nbformat_minor": 2
}
