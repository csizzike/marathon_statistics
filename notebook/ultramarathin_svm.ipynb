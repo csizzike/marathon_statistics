{
 "cells": [
  {
   "cell_type": "code",
   "execution_count": 366,
   "metadata": {},
   "outputs": [],
   "source": [
    "import pandas as pd\n",
    "import numpy as np\n",
    "import matplotlib.pyplot as plt\n",
    "import sklearn\n",
    "\n",
    "local_path = '/Users/csizi/Development/marathon_statistics/dataset/csv/bszm_2008_2020/'\n",
    "\n",
    "bszm = pd.read_csv(local_path + 'bszm_cleaned.csv', encoding = \"utf8\", \n",
    "                    sep=';', header=0)\n",
    "\n",
    "bszm[bszm['event_year'] < 2011] = np.nan\n",
    "bszm = bszm.dropna()"
   ]
  },
  {
   "cell_type": "markdown",
   "metadata": {},
   "source": [
    "### Undersampling"
   ]
  },
  {
   "cell_type": "code",
   "execution_count": 367,
   "metadata": {},
   "outputs": [],
   "source": [
    "#df = bszm[bszm['finished'] == True].sample(80)\n",
    "#df2 = bszm[bszm['finished'] == False]\n",
    "#bszm = pd.concat([df, df2])"
   ]
  },
  {
   "cell_type": "code",
   "execution_count": 368,
   "metadata": {},
   "outputs": [],
   "source": [
    "bszm.drop(['Category/Placement', 'event_year', '1.day/1.length', '1.day/2.length', '1.day/3.length', '1.day/length', '2.day/1.length', '2.day/2.length', '2.day/3.length', '2.day/length',\n",
    "           '3.day/1.length', '3.day/2.length', '3.day/3.length', '3.day/length', '4.day/1.length', '4.day/2.length', '4.day/3.length', '4.day/length', 'event_length'], axis = 1, inplace=True)"
   ]
  },
  {
   "cell_type": "code",
   "execution_count": 369,
   "metadata": {},
   "outputs": [],
   "source": [
    "bszm.drop(['Name', 'Born', 'Team', 'City', '1.day/1.time', '1.day/2.time', '1.day/3.time', '1.day/sum', '2.day/1.time'\n",
    "           , '2.day/2.time', '2.day/3.time', '2.day/sum', '3.day/1.time', '3.day/2.time', '3.day/3.time', '3.day/sum', '4.day/1.time', '4.day/2.time'\n",
    "           , '4.day/3.time', '4.day/sum'], axis = 1, inplace=True)"
   ]
  },
  {
   "cell_type": "code",
   "execution_count": 370,
   "metadata": {},
   "outputs": [],
   "source": [
    "bszm.drop(['1/1_tempo', '1/2_tempo', '1/3_tempo', '1_tempo', '2/1_tempo', '2/2_tempo', '2/3_tempo', '2_tempo'\n",
    "           ,'3/1_tempo', '3/2_tempo', '3/3_tempo', '3_tempo'\n",
    "           , '4/1_tempo', '4/2_tempo', '4/3_tempo', '4_tempo', 'finisher_result', 'Gender', 'Placement'], axis = 1, inplace=True)"
   ]
  },
  {
   "cell_type": "code",
   "execution_count": 371,
   "metadata": {},
   "outputs": [],
   "source": [
    "bszm = bszm.sample(frac = 1)"
   ]
  },
  {
   "cell_type": "code",
   "execution_count": 372,
   "metadata": {},
   "outputs": [],
   "source": [
    "bszm[bszm['average_tempo(minutes/km)'].astype(str) == 'nan'] = np.nan\n",
    "bszm = bszm.dropna()"
   ]
  },
  {
   "cell_type": "code",
   "execution_count": 373,
   "metadata": {},
   "outputs": [
    {
     "data": {
      "text/plain": [
       "array([['M3', 'HUN', 47.0, 5.779, 'mid fast'],\n",
       "       ['M3', 'FIN', 50.0, 5.862, 'mid fast'],\n",
       "       ['M3', 'HUN', 44.0, 7.02, 'slow'],\n",
       "       ...,\n",
       "       ['F2', 'HUN', 36.0, 5.973, 'mid fast'],\n",
       "       ['M4', 'AUT', 55.0, 6.899, 'mid slow'],\n",
       "       ['M5', 'HUN', 60.0, 5.868, 'mid fast']], dtype=object)"
      ]
     },
     "execution_count": 373,
     "metadata": {},
     "output_type": "execute_result"
    }
   ],
   "source": [
    "X = bszm.iloc[:, [0, 1, 6, 7, 8]].values\n",
    "y = bszm.iloc[:, [5]].values\n",
    "X"
   ]
  },
  {
   "cell_type": "code",
   "execution_count": 374,
   "metadata": {},
   "outputs": [
    {
     "name": "stderr",
     "output_type": "stream",
     "text": [
      "/Library/Frameworks/Python.framework/Versions/3.8/lib/python3.8/site-packages/sklearn/utils/validation.py:63: DataConversionWarning: A column-vector y was passed when a 1d array was expected. Please change the shape of y to (n_samples, ), for example using ravel().\n",
      "  return f(*args, **kwargs)\n"
     ]
    },
    {
     "data": {
      "text/plain": [
       "array([[6, 15, 47.0, 475, 2],\n",
       "       [6, 9, 50.0, 522, 2],\n",
       "       [6, 15, 44.0, 1180, 4],\n",
       "       ...,\n",
       "       [1, 15, 36.0, 590, 2],\n",
       "       [7, 0, 55.0, 1111, 3],\n",
       "       [8, 15, 60.0, 525, 2]], dtype=object)"
      ]
     },
     "execution_count": 374,
     "metadata": {},
     "output_type": "execute_result"
    }
   ],
   "source": [
    "from sklearn.preprocessing import LabelEncoder\n",
    "le = LabelEncoder()\n",
    "X[:,0] = le.fit_transform(X[:,0])\n",
    "X[:,1] = le.fit_transform(X[:,1])\n",
    "X[:,3] = le.fit_transform(X[:,3])\n",
    "X[:,4] = le.fit_transform(X[:,4])\n",
    "y = le.fit_transform(y)\n",
    "X"
   ]
  },
  {
   "cell_type": "code",
   "execution_count": null,
   "metadata": {},
   "outputs": [],
   "source": []
  },
  {
   "cell_type": "code",
   "execution_count": 375,
   "metadata": {},
   "outputs": [],
   "source": [
    "from sklearn.model_selection import train_test_split\n",
    "X_train, X_test, y_train, y_test = train_test_split(X, y, test_size = 0.40, random_state = 109)"
   ]
  },
  {
   "cell_type": "code",
   "execution_count": 376,
   "metadata": {},
   "outputs": [],
   "source": [
    "from sklearn import svm\n",
    "\n",
    "clf = svm.SVC(kernel='linear')\n",
    "\n",
    "clf.fit(X_train, y_train)\n",
    "\n",
    "y_pred=clf.predict(X_test)"
   ]
  },
  {
   "cell_type": "code",
   "execution_count": 377,
   "metadata": {},
   "outputs": [
    {
     "name": "stdout",
     "output_type": "stream",
     "text": [
      "Accuracy:  0.9740740740740741\n"
     ]
    }
   ],
   "source": [
    "from sklearn import metrics\n",
    "\n",
    "print('Accuracy: ', metrics.accuracy_score(y_test, y_pred))"
   ]
  }
 ],
 "metadata": {
  "interpreter": {
   "hash": "082e9a3bcad0a290d0001e938aa60b99250c6c2ef33a923c00b70f9826caf4b7"
  },
  "kernelspec": {
   "display_name": "Python 3.8.4 64-bit",
   "language": "python",
   "name": "python3"
  },
  "language_info": {
   "codemirror_mode": {
    "name": "ipython",
    "version": 3
   },
   "file_extension": ".py",
   "mimetype": "text/x-python",
   "name": "python",
   "nbconvert_exporter": "python",
   "pygments_lexer": "ipython3",
   "version": "3.8.4"
  },
  "orig_nbformat": 4
 },
 "nbformat": 4,
 "nbformat_minor": 2
}
